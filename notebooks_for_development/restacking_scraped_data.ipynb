{
 "cells": [
  {
   "cell_type": "code",
   "execution_count": null,
   "id": "agricultural-somerset",
   "metadata": {},
   "outputs": [],
   "source": [
    "# This restacks data after having been scraped from Robospect, such that the \n",
    "# final table has rows of spectra, and cols of absorption lines (among other things)\n",
    "\n",
    "# Created 2021 Feb. 10 by E.S."
   ]
  },
  {
   "cell_type": "code",
   "execution_count": 1,
   "id": "together-tribe",
   "metadata": {},
   "outputs": [],
   "source": [
    "import pandas as pd\n",
    "#from astropy.io import fits\n",
    "from astropy.io.fits import getdata\n",
    "import matplotlib.pyplot as plt\n",
    "import numpy as np\n",
    "\n",
    "%matplotlib qt"
   ]
  },
  {
   "cell_type": "code",
   "execution_count": 5,
   "id": "engaged-hawaiian",
   "metadata": {},
   "outputs": [],
   "source": [
    "# name of csv file with EWs as produced by pipeline\n",
    "ew_data_file_name = \"/Users/bandari/Documents/git.repos/rrlyrae_metallicity/rrlyrae_metallicity/ew_products/20210225_restacked_ew_info_good_only.csv\"\n",
    "\n",
    "# read in\n",
    "df_prestack = pd.read_csv(ew_data_file_name)"
   ]
  },
  {
   "cell_type": "code",
   "execution_count": 6,
   "id": "outer-baltimore",
   "metadata": {},
   "outputs": [],
   "source": [
    "# stem of names of FITS files with needed data in header \n",
    "fits_stem = \"/Users/bandari/Documents/git.repos/rrlyrae_metallicity/rrlyrae_metallicity/realizations_output/\""
   ]
  },
  {
   "cell_type": "code",
   "execution_count": 7,
   "id": "figured-spectacular",
   "metadata": {},
   "outputs": [
    {
     "ename": "KeyError",
     "evalue": "'EQW'",
     "output_type": "error",
     "traceback": [
      "\u001b[0;31m---------------------------------------------------------------------------\u001b[0m",
      "\u001b[0;31mKeyError\u001b[0m                                  Traceback (most recent call last)",
      "\u001b[0;32m~/anaconda3/envs/rrl_env/lib/python3.6/site-packages/pandas/core/indexes/base.py\u001b[0m in \u001b[0;36mget_loc\u001b[0;34m(self, key, method, tolerance)\u001b[0m\n\u001b[1;32m   2656\u001b[0m             \u001b[0;32mtry\u001b[0m\u001b[0;34m:\u001b[0m\u001b[0;34m\u001b[0m\u001b[0m\n\u001b[0;32m-> 2657\u001b[0;31m                 \u001b[0;32mreturn\u001b[0m \u001b[0mself\u001b[0m\u001b[0;34m.\u001b[0m\u001b[0m_engine\u001b[0m\u001b[0;34m.\u001b[0m\u001b[0mget_loc\u001b[0m\u001b[0;34m(\u001b[0m\u001b[0mkey\u001b[0m\u001b[0;34m)\u001b[0m\u001b[0;34m\u001b[0m\u001b[0m\n\u001b[0m\u001b[1;32m   2658\u001b[0m             \u001b[0;32mexcept\u001b[0m \u001b[0mKeyError\u001b[0m\u001b[0;34m:\u001b[0m\u001b[0;34m\u001b[0m\u001b[0m\n",
      "\u001b[0;32mpandas/_libs/index.pyx\u001b[0m in \u001b[0;36mpandas._libs.index.IndexEngine.get_loc\u001b[0;34m()\u001b[0m\n",
      "\u001b[0;32mpandas/_libs/index.pyx\u001b[0m in \u001b[0;36mpandas._libs.index.IndexEngine.get_loc\u001b[0;34m()\u001b[0m\n",
      "\u001b[0;32mpandas/_libs/hashtable_class_helper.pxi\u001b[0m in \u001b[0;36mpandas._libs.hashtable.PyObjectHashTable.get_item\u001b[0;34m()\u001b[0m\n",
      "\u001b[0;32mpandas/_libs/hashtable_class_helper.pxi\u001b[0m in \u001b[0;36mpandas._libs.hashtable.PyObjectHashTable.get_item\u001b[0;34m()\u001b[0m\n",
      "\u001b[0;31mKeyError\u001b[0m: 'EQW'",
      "\nDuring handling of the above exception, another exception occurred:\n",
      "\u001b[0;31mKeyError\u001b[0m                                  Traceback (most recent call last)",
      "\u001b[0;32m<ipython-input-7-92864532e798>\u001b[0m in \u001b[0;36m<module>\u001b[0;34m\u001b[0m\n\u001b[1;32m     37\u001b[0m \u001b[0;34m\u001b[0m\u001b[0m\n\u001b[1;32m     38\u001b[0m     \u001b[0;31m# extract Balmer lines from the table of data from all the spectra\u001b[0m\u001b[0;34m\u001b[0m\u001b[0;34m\u001b[0m\u001b[0m\n\u001b[0;32m---> 39\u001b[0;31m     \u001b[0mHbeta\u001b[0m \u001b[0;34m=\u001b[0m \u001b[0mdata_this_spectrum\u001b[0m\u001b[0;34m[\u001b[0m\u001b[0;34m\"EQW\"\u001b[0m\u001b[0;34m]\u001b[0m\u001b[0;34m.\u001b[0m\u001b[0mwhere\u001b[0m\u001b[0;34m(\u001b[0m\u001b[0mdata_this_spectrum\u001b[0m\u001b[0;34m[\u001b[0m\u001b[0;34m\"line_name\"\u001b[0m\u001b[0;34m]\u001b[0m \u001b[0;34m==\u001b[0m \u001b[0;34m\"Hbet\"\u001b[0m\u001b[0;34m)\u001b[0m\u001b[0;34m.\u001b[0m\u001b[0mdropna\u001b[0m\u001b[0;34m(\u001b[0m\u001b[0;34m)\u001b[0m\u001b[0;34m.\u001b[0m\u001b[0mvalues\u001b[0m\u001b[0;34m[\u001b[0m\u001b[0;36m0\u001b[0m\u001b[0;34m]\u001b[0m\u001b[0;34m\u001b[0m\u001b[0m\n\u001b[0m\u001b[1;32m     40\u001b[0m     \u001b[0merr_Hbeta\u001b[0m \u001b[0;34m=\u001b[0m \u001b[0mdata_this_spectrum\u001b[0m\u001b[0;34m[\u001b[0m\u001b[0;34m\"uncertaintyEQW\"\u001b[0m\u001b[0;34m]\u001b[0m\u001b[0;34m.\u001b[0m\u001b[0mwhere\u001b[0m\u001b[0;34m(\u001b[0m\u001b[0mdata_this_spectrum\u001b[0m\u001b[0;34m[\u001b[0m\u001b[0;34m\"line_name\"\u001b[0m\u001b[0;34m]\u001b[0m \u001b[0;34m==\u001b[0m \u001b[0;34m\"Hbet\"\u001b[0m\u001b[0;34m)\u001b[0m\u001b[0;34m.\u001b[0m\u001b[0mdropna\u001b[0m\u001b[0;34m(\u001b[0m\u001b[0;34m)\u001b[0m\u001b[0;34m.\u001b[0m\u001b[0mvalues\u001b[0m\u001b[0;34m[\u001b[0m\u001b[0;36m0\u001b[0m\u001b[0;34m]\u001b[0m\u001b[0;34m\u001b[0m\u001b[0m\n\u001b[1;32m     41\u001b[0m \u001b[0;34m\u001b[0m\u001b[0m\n",
      "\u001b[0;32m~/anaconda3/envs/rrl_env/lib/python3.6/site-packages/pandas/core/frame.py\u001b[0m in \u001b[0;36m__getitem__\u001b[0;34m(self, key)\u001b[0m\n\u001b[1;32m   2925\u001b[0m             \u001b[0;32mif\u001b[0m \u001b[0mself\u001b[0m\u001b[0;34m.\u001b[0m\u001b[0mcolumns\u001b[0m\u001b[0;34m.\u001b[0m\u001b[0mnlevels\u001b[0m \u001b[0;34m>\u001b[0m \u001b[0;36m1\u001b[0m\u001b[0;34m:\u001b[0m\u001b[0;34m\u001b[0m\u001b[0m\n\u001b[1;32m   2926\u001b[0m                 \u001b[0;32mreturn\u001b[0m \u001b[0mself\u001b[0m\u001b[0;34m.\u001b[0m\u001b[0m_getitem_multilevel\u001b[0m\u001b[0;34m(\u001b[0m\u001b[0mkey\u001b[0m\u001b[0;34m)\u001b[0m\u001b[0;34m\u001b[0m\u001b[0m\n\u001b[0;32m-> 2927\u001b[0;31m             \u001b[0mindexer\u001b[0m \u001b[0;34m=\u001b[0m \u001b[0mself\u001b[0m\u001b[0;34m.\u001b[0m\u001b[0mcolumns\u001b[0m\u001b[0;34m.\u001b[0m\u001b[0mget_loc\u001b[0m\u001b[0;34m(\u001b[0m\u001b[0mkey\u001b[0m\u001b[0;34m)\u001b[0m\u001b[0;34m\u001b[0m\u001b[0m\n\u001b[0m\u001b[1;32m   2928\u001b[0m             \u001b[0;32mif\u001b[0m \u001b[0mis_integer\u001b[0m\u001b[0;34m(\u001b[0m\u001b[0mindexer\u001b[0m\u001b[0;34m)\u001b[0m\u001b[0;34m:\u001b[0m\u001b[0;34m\u001b[0m\u001b[0m\n\u001b[1;32m   2929\u001b[0m                 \u001b[0mindexer\u001b[0m \u001b[0;34m=\u001b[0m \u001b[0;34m[\u001b[0m\u001b[0mindexer\u001b[0m\u001b[0;34m]\u001b[0m\u001b[0;34m\u001b[0m\u001b[0m\n",
      "\u001b[0;32m~/anaconda3/envs/rrl_env/lib/python3.6/site-packages/pandas/core/indexes/base.py\u001b[0m in \u001b[0;36mget_loc\u001b[0;34m(self, key, method, tolerance)\u001b[0m\n\u001b[1;32m   2657\u001b[0m                 \u001b[0;32mreturn\u001b[0m \u001b[0mself\u001b[0m\u001b[0;34m.\u001b[0m\u001b[0m_engine\u001b[0m\u001b[0;34m.\u001b[0m\u001b[0mget_loc\u001b[0m\u001b[0;34m(\u001b[0m\u001b[0mkey\u001b[0m\u001b[0;34m)\u001b[0m\u001b[0;34m\u001b[0m\u001b[0m\n\u001b[1;32m   2658\u001b[0m             \u001b[0;32mexcept\u001b[0m \u001b[0mKeyError\u001b[0m\u001b[0;34m:\u001b[0m\u001b[0;34m\u001b[0m\u001b[0m\n\u001b[0;32m-> 2659\u001b[0;31m                 \u001b[0;32mreturn\u001b[0m \u001b[0mself\u001b[0m\u001b[0;34m.\u001b[0m\u001b[0m_engine\u001b[0m\u001b[0;34m.\u001b[0m\u001b[0mget_loc\u001b[0m\u001b[0;34m(\u001b[0m\u001b[0mself\u001b[0m\u001b[0;34m.\u001b[0m\u001b[0m_maybe_cast_indexer\u001b[0m\u001b[0;34m(\u001b[0m\u001b[0mkey\u001b[0m\u001b[0;34m)\u001b[0m\u001b[0;34m)\u001b[0m\u001b[0;34m\u001b[0m\u001b[0m\n\u001b[0m\u001b[1;32m   2660\u001b[0m         \u001b[0mindexer\u001b[0m \u001b[0;34m=\u001b[0m \u001b[0mself\u001b[0m\u001b[0;34m.\u001b[0m\u001b[0mget_indexer\u001b[0m\u001b[0;34m(\u001b[0m\u001b[0;34m[\u001b[0m\u001b[0mkey\u001b[0m\u001b[0;34m]\u001b[0m\u001b[0;34m,\u001b[0m \u001b[0mmethod\u001b[0m\u001b[0;34m=\u001b[0m\u001b[0mmethod\u001b[0m\u001b[0;34m,\u001b[0m \u001b[0mtolerance\u001b[0m\u001b[0;34m=\u001b[0m\u001b[0mtolerance\u001b[0m\u001b[0;34m)\u001b[0m\u001b[0;34m\u001b[0m\u001b[0m\n\u001b[1;32m   2661\u001b[0m         \u001b[0;32mif\u001b[0m \u001b[0mindexer\u001b[0m\u001b[0;34m.\u001b[0m\u001b[0mndim\u001b[0m \u001b[0;34m>\u001b[0m \u001b[0;36m1\u001b[0m \u001b[0;32mor\u001b[0m \u001b[0mindexer\u001b[0m\u001b[0;34m.\u001b[0m\u001b[0msize\u001b[0m \u001b[0;34m>\u001b[0m \u001b[0;36m1\u001b[0m\u001b[0;34m:\u001b[0m\u001b[0;34m\u001b[0m\u001b[0m\n",
      "\u001b[0;32mpandas/_libs/index.pyx\u001b[0m in \u001b[0;36mpandas._libs.index.IndexEngine.get_loc\u001b[0;34m()\u001b[0m\n",
      "\u001b[0;32mpandas/_libs/index.pyx\u001b[0m in \u001b[0;36mpandas._libs.index.IndexEngine.get_loc\u001b[0;34m()\u001b[0m\n",
      "\u001b[0;32mpandas/_libs/hashtable_class_helper.pxi\u001b[0m in \u001b[0;36mpandas._libs.hashtable.PyObjectHashTable.get_item\u001b[0;34m()\u001b[0m\n",
      "\u001b[0;32mpandas/_libs/hashtable_class_helper.pxi\u001b[0m in \u001b[0;36mpandas._libs.hashtable.PyObjectHashTable.get_item\u001b[0;34m()\u001b[0m\n",
      "\u001b[0;31mKeyError\u001b[0m: 'EQW'"
     ]
    }
   ],
   "source": [
    "# make list of individual spectra for which we have EW data, and\n",
    "# initialize DataFrame to hold the re-cast data\n",
    "\n",
    "list_indiv_spectra = list(df_prestack[\"realization_spec_file_name\"].drop_duplicates())\n",
    "\n",
    "num_indiv_spectra = len(list_indiv_spectra)\n",
    "\n",
    "df_poststack = pd.DataFrame(columns=[\"realization_spec_file_name\", \n",
    "                                     \"original_spec_file_name\", \n",
    "                                     \"FeH\", \"err_FeH\", \n",
    "                                     \"logg\", \"alpha\",\"Teff\",\n",
    "                                     \"EW_Hbeta\", \"err_EW_Hbeta\", \n",
    "                                     \"EW_Hdelta\", \"err_EW_Hdelta\", \n",
    "                                     \"EW_Hgamma\", \"err_EW_Hgamma\",\n",
    "                                     \"EW_Heps\", \"err_EW_Heps\",\n",
    "                                     \"EW_CaIIK\", \"err_EW_CaIIK\"], index=range(num_indiv_spectra)) # initialize\n",
    "\n",
    "for t in range(0,num_indiv_spectra):\n",
    "    # loop over all spectra realizations we have measured EWs from to populate the dataframe\n",
    "    \n",
    "    this_spectrum = list_indiv_spectra[t]\n",
    "    \n",
    "    # read in intermediary FITS file to extract values from header\n",
    "    image, hdr = getdata(fits_stem + this_spectrum.split(\".\")[0] + \".fits\", header=True, ignore_missing_end=True)\n",
    "    \n",
    "    logg = hdr[\"LOGG\"]\n",
    "    teff = hdr[\"TEFF\"]\n",
    "    alpha = hdr[\"ALPHA\"]\n",
    "    feh = hdr[\"FEH\"]\n",
    "    err_feh = 0.15\n",
    "    \n",
    "    # select data from table relevant to this spectrum\n",
    "    data_this_spectrum = df_prestack.where(df_prestack[\"realization_spec_file_name\"] == this_spectrum).dropna().reset_index()\n",
    "    \n",
    "    # extract original file name (the one from which realizations are made)\n",
    "    orig_name = data_this_spectrum[\"original_spec_file_name\"].drop_duplicates().values[0]\n",
    "    \n",
    "    # extract Balmer lines from the table of data from all the spectra\n",
    "    Hbeta = data_this_spectrum[\"EQW\"].where(data_this_spectrum[\"line_name\"] == \"Hbet\").dropna().values[0]\n",
    "    err_Hbeta = data_this_spectrum[\"uncertaintyEQW\"].where(data_this_spectrum[\"line_name\"] == \"Hbet\").dropna().values[0]\n",
    "\n",
    "    Hgamma = data_this_spectrum[\"EQW\"].where(data_this_spectrum[\"line_name\"] == \"Hgam\").dropna().values[0]\n",
    "    err_Hgamma = data_this_spectrum[\"uncertaintyEQW\"].where(data_this_spectrum[\"line_name\"] == \"Hgam\").dropna().values[0]\n",
    "\n",
    "    Hdelta = data_this_spectrum[\"EQW\"].where(data_this_spectrum[\"line_name\"] == \"Hdel\").dropna().values[0]\n",
    "    err_Hdelta = data_this_spectrum[\"uncertaintyEQW\"].where(data_this_spectrum[\"line_name\"] == \"Hdel\").dropna().values[0]\n",
    "\n",
    "    Heps = data_this_spectrum[\"EQW\"].where(data_this_spectrum[\"line_name\"] == \"Heps\").dropna().values[0]\n",
    "    err_Heps = data_this_spectrum[\"uncertaintyEQW\"].where(data_this_spectrum[\"line_name\"] == \"Heps\").dropna().values[0]\n",
    "\n",
    "    CaIIK = data_this_spectrum[\"EQW\"].where(data_this_spectrum[\"line_name\"] == \"CaIIK\").dropna().values[0]\n",
    "    err_CaIIK = data_this_spectrum[\"uncertaintyEQW\"].where(data_this_spectrum[\"line_name\"] == \"CaIIK\").dropna().values[0]\n",
    "    \n",
    "    # fill in that row in the dataframe\n",
    "    df_poststack.iloc[t][\"realization_spec_file_name\"] = this_spectrum\n",
    "    df_poststack.iloc[t][\"original_spec_file_name\"] = orig_name\n",
    "    df_poststack.iloc[t][\"logg\"] = logg\n",
    "    df_poststack.iloc[t][\"Teff\"] = teff\n",
    "    df_poststack.iloc[t][\"alpha\"] = alpha\n",
    "    df_poststack.iloc[t][\"FeH\"] = feh\n",
    "    df_poststack.iloc[t][\"err_FeH\"] = err_feh\n",
    "    df_poststack.iloc[t][\"EW_Hbeta\"] = Hbeta\n",
    "    df_poststack.iloc[t][\"err_EW_Hbeta\"] = err_Hbeta\n",
    "    df_poststack.iloc[t][\"EW_Hdelta\"] = Hdelta\n",
    "    df_poststack.iloc[t][\"err_EW_Hdelta\"] = err_Hdelta\n",
    "    df_poststack.iloc[t][\"EW_Hgamma\"] = Hgamma\n",
    "    df_poststack.iloc[t][\"err_EW_Hgamma\"] = err_Hgamma\n",
    "    df_poststack.iloc[t][\"EW_Heps\"] = Heps\n",
    "    df_poststack.iloc[t][\"err_EW_Heps\"] = err_Heps\n",
    "    df_poststack.iloc[t][\"EW_CaIIK\"] = CaIIK\n",
    "    df_poststack.iloc[t][\"err_EW_CaIIK\"] = err_CaIIK"
   ]
  },
  {
   "cell_type": "code",
   "execution_count": 38,
   "id": "agricultural-sculpture",
   "metadata": {},
   "outputs": [
    {
     "name": "stdout",
     "output_type": "stream",
     "text": [
      "m:\n",
      "1.0028161410761656\n",
      "b:\n",
      "0.405811749477898\n"
     ]
    }
   ],
   "source": [
    "# to generate a net Balmer line, make a rescaling of Hgamma\n",
    "# based on Hdelta\n",
    "\n",
    "# fit a straight line to Hgam vs Hdel\n",
    "x_data = df_poststack[\"EW_Hdelta\"].values.astype(float) # Hdel\n",
    "y_data = df_poststack[\"EW_Hgamma\"].values.astype(float) # Hgam\n",
    "Hgam = np.copy(y_data)\n",
    "\n",
    "coeff, cov = np.polyfit(x_data, y_data, 1, full=False, cov=True)\n",
    "m = coeff[0]\n",
    "b = coeff[1]\n",
    "err_m = np.sqrt(np.diag(cov))[0]\n",
    "err_b = np.sqrt(np.diag(cov))[1]\n",
    "\n",
    "print(\"m:\")\n",
    "print(m)\n",
    "print(\"b:\")\n",
    "print(b)\n",
    "\n",
    "# generate a rescaled Hgam, call it rHgam\n",
    "rHgam = np.divide(np.subtract(Hgam, b), m)"
   ]
  },
  {
   "cell_type": "code",
   "execution_count": 39,
   "id": "presidential-showcase",
   "metadata": {},
   "outputs": [
    {
     "name": "stdout",
     "output_type": "stream",
     "text": [
      "m:\n",
      "1.0\n",
      "b:\n",
      "-8.207835965261171e-16\n"
     ]
    }
   ],
   "source": [
    "## BEGIN TEST TO SEE IF RESCALING IS RIGHT\n",
    "'''\n",
    "x_data = df_poststack[\"EW_Hdelta\"].values.astype(float) # Hdel\n",
    "y_data = rHgam # Hgam\n",
    "Hgam = np.copy(y_data)\n",
    "\n",
    "coeff, cov = np.polyfit(x_data, y_data, 1, full=False, cov=True)\n",
    "m = coeff[0]\n",
    "b = coeff[1]\n",
    "err_m = np.sqrt(np.diag(cov))[0]\n",
    "err_b = np.sqrt(np.diag(cov))[1]\n",
    "\n",
    "print(\"m:\")\n",
    "print(m)\n",
    "print(\"b:\")\n",
    "print(b)\n",
    "'''\n",
    "## END TEST TO SEE IF RESCALING IS RIGHT"
   ]
  },
  {
   "cell_type": "code",
   "execution_count": 40,
   "id": "heated-submission",
   "metadata": {},
   "outputs": [],
   "source": [
    "# add column of rescaled Hgamma to DataFrame\n",
    "\n",
    "df_poststack[\"EW_resc_Hgamma\"] = rHgam"
   ]
  },
  {
   "cell_type": "code",
   "execution_count": 8,
   "id": "green-bosnia",
   "metadata": {},
   "outputs": [],
   "source": [
    "# ... or read in text file of ready-made restacked EW data\n",
    "\n",
    "df_poststack = pd.read_csv(ew_data_file_name)"
   ]
  },
  {
   "cell_type": "code",
   "execution_count": 9,
   "id": "racial-primary",
   "metadata": {},
   "outputs": [],
   "source": [
    "# plot: how do Balmer lines scale with each other?\n",
    "\n",
    "plt.clf()\n",
    "plt.title(\"Scaling of lines with Hdelta\")\n",
    "plt.scatter(df_poststack[\"EW_Hdelta\"],df_poststack[\"EW_Hbeta\"], s=3, label=\"Hbeta\")\n",
    "plt.scatter(df_poststack[\"EW_Hdelta\"],np.add(df_poststack[\"EW_Hgamma\"],4), s=3, label=\"Hgamma+4\")\n",
    "plt.scatter(df_poststack[\"EW_Hdelta\"],np.add(df_poststack[\"EW_Heps\"],8), s=3, label=\"Heps+8\")\n",
    "#plt.ylim([0,15])\n",
    "plt.xlabel(\"EW, Hdelta (Angstr)\")\n",
    "plt.ylabel(\"EW, non-Hdelta (Angstr)\")\n",
    "plt.legend()\n",
    "plt.show()\n",
    "#plt.savefig(\"junk_balmer_rescalings.pdf\")"
   ]
  },
  {
   "cell_type": "code",
   "execution_count": 11,
   "id": "horizontal-craft",
   "metadata": {},
   "outputs": [],
   "source": [
    "# plot: how do Balmer lines scale with Teff?\n",
    "\n",
    "plt.clf()\n",
    "plt.title(\"Scaling of lines with Hdelta\")\n",
    "plt.scatter(df_poststack[\"Teff\"],df_poststack[\"EW_Hbeta\"], s=3, label=\"Hbeta\")\n",
    "plt.scatter(df_poststack[\"Teff\"],np.add(df_poststack[\"EW_Hgamma\"],6), s=3, label=\"Hgamma+6\")\n",
    "plt.scatter(df_poststack[\"Teff\"],np.add(df_poststack[\"EW_Hdelta\"],12), s=3, label=\"Hdel+12\")\n",
    "plt.scatter(df_poststack[\"Teff\"],np.add(df_poststack[\"EW_Balmer\"],18), s=3, label=\"Net Balmer+18\")\n",
    "plt.scatter(df_poststack[\"Teff\"],np.add(df_poststack[\"EW_Heps\"],24), s=3, label=\"Heps+24\")\n",
    "#plt.ylim([0,70])\n",
    "plt.xlabel(\"Teff (K)\")\n",
    "plt.ylabel(\"EW (Angstr)\")\n",
    "plt.title(\"Balmer EW trend with Teff\")\n",
    "plt.legend(ncol=5)\n",
    "plt.show()\n",
    "#plt.savefig(\"junk_balmer_rescalings.pdf\")"
   ]
  },
  {
   "cell_type": "code",
   "execution_count": 21,
   "id": "based-bristol",
   "metadata": {},
   "outputs": [
    {
     "name": "stdout",
     "output_type": "stream",
     "text": [
      "m:\n",
      "187.74599028059743\n",
      "err_m:\n",
      "3.1053468408029112\n",
      "b:\n",
      "5519.840496008796\n",
      "err_b:\n",
      "23.64573240449903\n"
     ]
    }
   ],
   "source": [
    "# find linear trend of net Balmer EW with Teff\n",
    "\n",
    "# fit a straight line to Hgam vs Hdel\n",
    "y_data = df_poststack[\"Teff\"].values.astype(float) # Hdel\n",
    "x_data = df_poststack[\"EW_Balmer\"].values.astype(float) # Hgam\n",
    "\n",
    "coeff, cov = np.polyfit(x_data, y_data, 1, full=False, cov=True)\n",
    "m = coeff[0]\n",
    "b = coeff[1]\n",
    "err_m = np.sqrt(np.diag(cov))[0]\n",
    "err_b = np.sqrt(np.diag(cov))[1]\n",
    "\n",
    "print(\"m:\")\n",
    "print(m)\n",
    "print(\"err_m:\")\n",
    "print(err_m)\n",
    "print(\"b:\")\n",
    "print(b)\n",
    "print(\"err_b:\")\n",
    "print(err_b)"
   ]
  },
  {
   "cell_type": "code",
   "execution_count": null,
   "id": "stainless-strike",
   "metadata": {},
   "outputs": [],
   "source": [
    "def pred_teff(EW_pass):\n",
    "    \n",
    "    teff_pass = np.add(np.multiply(EW_pass,m),b)\n",
    "    \n",
    "    return teff_pass\n",
    "\n",
    "Teff_model = pred_teff(df_poststack[\"EW_Balmer\"])"
   ]
  },
  {
   "cell_type": "code",
   "execution_count": 27,
   "id": "rational-happening",
   "metadata": {},
   "outputs": [],
   "source": [
    "# make plot of predicted and retrieved Teff\n",
    "\n",
    "plt.clf()\n",
    "#plt.scatter(df_poststack[\"Teff\"],np.subtract(Teff_model,df_poststack[\"Teff\"]))\n",
    "plt.scatter(df_poststack[\"Teff\"],Teff_model)\n",
    "plt.plot(df_poststack[\"Teff\"],df_poststack[\"Teff\"],\"--\",color=\"k\")\n",
    "plt.title(\"Teff based on Balmer EW\")\n",
    "plt.xlabel(\"Injected Teff\")\n",
    "plt.ylabel(\"Retrieved Teff\")\n",
    "plt.show()"
   ]
  },
  {
   "cell_type": "code",
   "execution_count": 33,
   "id": "rough-fundamental",
   "metadata": {},
   "outputs": [],
   "source": [
    "# make plot of predicted Teff residuals given Balmer EW\n",
    "\n",
    "plt.clf()\n",
    "#plt.scatter(df_poststack[\"Teff\"],np.subtract(Teff_model,df_poststack[\"Teff\"]))\n",
    "plt.scatter(df_poststack[\"EW_Balmer\"],np.subtract(Teff_model,df_poststack[\"Teff\"]))\n",
    "#plt.plot(df_poststack[\"Teff\"],np.zeros(len(df_poststack[\"Teff\"])),\"--\",color=\"k\")\n",
    "plt.plot(df_poststack[\"EW_Balmer\"],np.zeros(len(df_poststack[\"Teff\"])),\"--\",color=\"k\")\n",
    "#plt.title(\"Teff based on Balmer EW\")\n",
    "plt.title(\"Teff residuals\")\n",
    "#plt.xlabel(\"Injected Teff\")\n",
    "plt.xlabel(\"Balmer EW\")\n",
    "#plt.ylabel(\"Retrieved Teff\")\n",
    "plt.ylabel(\"Retrieved Teff\")\n",
    "plt.show()"
   ]
  },
  {
   "cell_type": "code",
   "execution_count": 77,
   "id": "authentic-consumer",
   "metadata": {},
   "outputs": [
    {
     "data": {
      "image/png": "[encoded data removed]",
      "text/plain": [
       "<Figure size 432x288 with 1 Axes>"
      ]
     },
     "metadata": {
      "needs_background": "light"
     },
     "output_type": "display_data"
    }
   ],
   "source": [
    "# plot: KH plot\n",
    "\n",
    "plt.clf()\n",
    "plt.title(\"KH plot\")\n",
    "plt.errorbar(df_poststack[\"EW_resc_Hgamma\"],df_poststack[\"EW_CaIIK\"],\n",
    "             yerr=df_poststack[\"err_EW_CaIIK\"],\n",
    "             marker=\"o\", markersize=2, mfc=\"k\", mec=\"k\", ecolor=\"gray\", linestyle=\"\")\n",
    "plt.ylim([0,30])\n",
    "plt.xlabel(\"EW, net Balmer (Angstr)\")\n",
    "plt.ylabel(\"EW, CaIIK (Angstr)\")\n",
    "plt.savefig(\"junk_KH_plot.pdf\")"
   ]
  },
  {
   "cell_type": "code",
   "execution_count": 42,
   "id": "handy-meditation",
   "metadata": {},
   "outputs": [],
   "source": [
    "# write out data\n",
    "\n",
    "#df_poststack.to_csv(\"junk_ew_data_20200216.csv\")"
   ]
  }
 ],
 "metadata": {
  "kernelspec": {
   "display_name": "Python 3",
   "language": "python",
   "name": "python3"
  },
  "language_info": {
   "codemirror_mode": {
    "name": "ipython",
    "version": 3
   },
   "file_extension": ".py",
   "mimetype": "text/x-python",
   "name": "python",
   "nbconvert_exporter": "python",
   "pygments_lexer": "ipython3",
   "version": "3.6.6"
  }
 },
 "nbformat": 4,
 "nbformat_minor": 5
}
