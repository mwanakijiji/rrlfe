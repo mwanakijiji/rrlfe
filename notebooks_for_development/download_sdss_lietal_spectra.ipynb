{
 "cells": [
  {
   "cell_type": "code",
   "execution_count": 1,
   "id": "defa4155",
   "metadata": {},
   "outputs": [],
   "source": [
    "import pandas as pd\n",
    "import numpy as np\n",
    "from astroquery.sdss import SDSS\n",
    "from astropy import coordinates as coords\n",
    "import astropy.units as u\n",
    "from astropy.io import fits"
   ]
  },
  {
   "cell_type": "code",
   "execution_count": 2,
   "id": "dd844737",
   "metadata": {},
   "outputs": [],
   "source": [
    "stem = '/Users/bandari/Documents/git.repos/rrlfe/notebooks_for_development/'"
   ]
  },
  {
   "cell_type": "code",
   "execution_count": 3,
   "id": "8af26401",
   "metadata": {},
   "outputs": [],
   "source": [
    "df = pd.read_csv(stem + 'li_catalog_ra_dec.csv', names=['ra','dec'])"
   ]
  },
  {
   "cell_type": "code",
   "execution_count": 18,
   "id": "a6d4a84a",
   "metadata": {},
   "outputs": [
    {
     "name": "stdout",
     "output_type": "stream",
     "text": [
      "Wrote obj_id_2874559429062191104.fits\n",
      "Wrote obj_id_2874553381748238336.fits\n",
      "Wrote obj_id_2874428037422671872.fits\n"
     ]
    }
   ],
   "source": [
    "for idx in range(0,len(df)):\n",
    "        \n",
    "    ra = np.round(df.loc[idx]['ra'],4)\n",
    "    dec = np.round(df.loc[idx]['dec'],4)\n",
    "    \n",
    "    co = coords.SkyCoord(ra=ra*u.deg, dec=dec*u.deg, frame='icrs')\n",
    "    result = SDSS.query_region(co, radius=2*u.arcsec, spectro=True)\n",
    "    \n",
    "    if result:\n",
    "        try: \n",
    "            spec = SDSS.get_spectra(matches=result)\n",
    "            \n",
    "\n",
    "            file_name_write = 'obj_id_' + str(int(spec[0][0].header['spec_id'])) + '.fits'\n",
    "            spec[0].writeto(file_name_write, overwrite=True)\n",
    "            print('Wrote',file_name_write)\n",
    "            \n",
    "        except:\n",
    "            print('Match but no spec for ',co)"
   ]
  },
  {
   "cell_type": "code",
   "execution_count": 21,
   "id": "8b770d69",
   "metadata": {},
   "outputs": [
    {
     "name": "stdout",
     "output_type": "stream",
     "text": [
      "Filename: obj_id_2874559429062191104.fits\n",
      "No.    Name      Ver    Type      Cards   Dimensions   Format\n",
      "  0  PRIMARY       1 PrimaryHDU     140   ()      \n",
      "  1  COADD         1 BinTableHDU     26   3841R x 8C   [E, E, E, J, J, E, E, E]   \n",
      "  2  SPECOBJ       1 BinTableHDU    262   1R x 126C   [6A, 4A, 16A, 23A, 16A, 8A, E, E, E, J, E, E, J, B, B, B, B, B, B, J, 22A, 19A, 19A, 22A, 19A, I, 3A, 3A, 1A, J, D, D, D, E, E, 19A, 8A, J, J, J, J, K, K, J, J, J, J, J, J, K, K, K, K, I, J, J, J, J, 5J, D, D, 6A, 21A, E, E, E, J, E, 24A, 10J, J, 10E, E, E, E, E, E, E, J, E, E, E, J, E, 5E, E, 10E, 10E, 10E, 5E, 5E, 5E, 5E, 5E, J, J, E, E, E, E, E, E, 25A, 21A, 10A, E, E, E, E, E, E, E, E, J, E, E, J, 1A, 1A, E, E, J, J, 1A, 5E, 5E]   \n",
      "  3  SPZLINE       1 BinTableHDU     48   29R x 19C   [J, J, J, 13A, D, E, E, E, E, E, E, E, E, E, E, J, J, E, E]   \n",
      "  4  B2-00053601-00053604-00053605    1 BinTableHDU    162   2047R x 7C   [E, E, E, J, E, E, E]   \n",
      "  5  B2-00053602-00053604-00053605    1 BinTableHDU    162   2047R x 7C   [E, E, E, J, E, E, E]   \n",
      "  6  B2-00053603-00053604-00053605    1 BinTableHDU    162   2047R x 7C   [E, E, E, J, E, E, E]   \n",
      "  7  B2-00053606-00053604-00053605    1 BinTableHDU    162   2047R x 7C   [E, E, E, J, E, E, E]   \n",
      "  8  B2-00053607-00053604-00053605    1 BinTableHDU    162   2038R x 7C   [E, E, E, J, E, E, E]   \n",
      "  9  R2-00053601-00053604-00053605    1 BinTableHDU    162   2044R x 7C   [E, E, E, J, E, E, E]   \n",
      " 10  R2-00053602-00053604-00053605    1 BinTableHDU    162   2044R x 7C   [E, E, E, J, E, E, E]   \n",
      " 11  R2-00053603-00053604-00053605    1 BinTableHDU    162   2032R x 7C   [E, E, E, J, E, E, E]   \n",
      " 12  R2-00053606-00053604-00053605    1 BinTableHDU    162   2039R x 7C   [E, E, E, J, E, E, E]   \n",
      " 13  R2-00053607-00053604-00053605    1 BinTableHDU    162   2034R x 7C   [E, E, E, J, E, E, E]   \n",
      "None\n"
     ]
    }
   ],
   "source": [
    "# check that it worked\n",
    "\n",
    "hdul = fits.open('obj_id_2874559429062191104.fits')\n",
    "\n",
    "print(hdul.info())"
   ]
  },
  {
   "cell_type": "code",
   "execution_count": null,
   "id": "c2d7e46d",
   "metadata": {},
   "outputs": [],
   "source": []
  }
 ],
 "metadata": {
  "kernelspec": {
   "display_name": "Python 3 (ipykernel)",
   "language": "python",
   "name": "python3"
  },
  "language_info": {
   "codemirror_mode": {
    "name": "ipython",
    "version": 3
   },
   "file_extension": ".py",
   "mimetype": "text/x-python",
   "name": "python",
   "nbconvert_exporter": "python",
   "pygments_lexer": "ipython3",
   "version": "3.8.16"
  }
 },
 "nbformat": 4,
 "nbformat_minor": 5
}
