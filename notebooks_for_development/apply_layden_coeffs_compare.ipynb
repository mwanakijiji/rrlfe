{
 "cells": [
  {
   "cell_type": "code",
   "execution_count": null,
   "metadata": {},
   "outputs": [],
   "source": [
    "# This applies a given set of Layden coefficients to a table of EW data \n",
    "# to calculate Fe/H, and plots results to the injected Fe/H\n",
    "\n",
    "# Created 2020 Feb. 10 by E.S."
   ]
  },
  {
   "cell_type": "code",
   "execution_count": 12,
   "metadata": {},
   "outputs": [],
   "source": [
    "import matplotlib.pyplot as plt\n",
    "import pandas as pd\n",
    "import numpy as np\n",
    "\n",
    "%matplotlib qt"
   ]
  },
  {
   "cell_type": "code",
   "execution_count": 2,
   "metadata": {},
   "outputs": [],
   "source": [
    "# read in EW and injected Fe/H data\n",
    "\n",
    "df = pd.read_csv(\"data/test_hk_data_winnowed_20200210_comparison.csv\")"
   ]
  },
  {
   "cell_type": "code",
   "execution_count": 3,
   "metadata": {},
   "outputs": [
    {
     "data": {
      "image/png": "[encoded data removed]",
      "text/plain": [
       "<Figure size 432x288 with 1 Axes>"
      ]
     },
     "metadata": {
      "needs_background": "light"
     },
     "output_type": "display_data"
    }
   ],
   "source": [
    "plt.scatter(df[\"Teff\"],df[\"K\"])\n",
    "plt.xlabel(\"Teff\")\n",
    "plt.ylabel(\"CaIIK EW\")\n",
    "plt.show()"
   ]
  },
  {
   "cell_type": "code",
   "execution_count": 4,
   "metadata": {},
   "outputs": [
    {
     "data": {
      "text/plain": [
       "Index(['Unnamed: 0', 'Unnamed: 0.1', 'level_0', 'index', 'Unnamed: 0.1.1',\n",
       "       'original_spec_file_name', 'star_name', 'Hbet', 'err_Hbet', 'Hgam',\n",
       "       'err_Hgam', 'Hdel', 'err_Hdel', 'Heps', 'err_Heps', 'rHgam',\n",
       "       'err_rHgam', 'balmer', 'err_balmer', 'K', 'err_K', 'phase',\n",
       "       'final_feh_center', 'final_feh_lower', 'final_feh_upper', 'Teff',\n",
       "       'logg'],\n",
       "      dtype='object')"
      ]
     },
     "execution_count": 4,
     "metadata": {},
     "output_type": "execute_result"
    }
   ],
   "source": [
    "df.keys()"
   ]
  },
  {
   "cell_type": "code",
   "execution_count": 6,
   "metadata": {},
   "outputs": [],
   "source": [
    "coeffs_es_1 = [12.51368498, -0.78716519, 3.87785116, -0.24297523]\n",
    "coeffs_ndl_1 = [12.513685, -0.78716521, 3.8778512, -0.24297523]\n",
    "coeffs_ndl_2 = [12.5096, -0.786677, 3.87640, -0.242800]\n",
    "coeffs_es_modified_1 = [16.92437966, -0.98640101, 5.2261726, 0.53344007, -0.06341921, 0.27027538, -0.02034332]\n",
    "\n",
    "coeffs_es_1_exclude_p02 = [12.06978607, -0.7700207,   3.72564696, -0.23753314]\n",
    "coeffs_es_1_up_to_m05 = [11.99918483, -0.75954517, 3.70118957, -0.2338468]\n",
    "#coeffs_es_1_up_to_m10 = "
   ]
  },
  {
   "cell_type": "code",
   "execution_count": 25,
   "metadata": {},
   "outputs": [],
   "source": [
    "# define function\n",
    "\n",
    "def feh(coeffs,K,H):\n",
    "    \n",
    "    a = coeffs[0]\n",
    "    b = coeffs[1]\n",
    "    c = coeffs[2]\n",
    "    d = coeffs[3]\n",
    "    \n",
    "    F = np.divide(K-a-b*H,c+d*H) # the full fraction\n",
    "    \n",
    "    numer = K-a-b*H # just the numerator\n",
    "    denom = c+d*H # just the denominator\n",
    "    \n",
    "    return F, numer, denom"
   ]
  },
  {
   "cell_type": "code",
   "execution_count": 42,
   "metadata": {},
   "outputs": [],
   "source": [
    "# define function\n",
    "\n",
    "def feh_modified_1(coeffs,K,H):\n",
    "    \n",
    "    a = coeffs[0]\n",
    "    b = coeffs[1]\n",
    "    c = coeffs[2]\n",
    "    d = coeffs[3]\n",
    "    f = coeffs[4]\n",
    "    g = coeffs[5]\n",
    "    h = coeffs[6]\n",
    "    \n",
    "    gamma = a + b*H - K\n",
    "    beta = c + d*H + f*np.power(H,2.)\n",
    "    alpha = g*H + h*np.power(H,2.)\n",
    "    \n",
    "    print(\"gamma:\")\n",
    "    print(gamma)\n",
    "    print(\"beta:\")\n",
    "    print(beta)\n",
    "    print(\"alpha:\")\n",
    "    print(alpha)\n",
    "    \n",
    "    F_plus = np.divide(-beta+np.sqrt(np.power(gamma,2.) - 4*alpha*gamma),2*alpha)\n",
    "    F_minus = np.divide(-beta-np.sqrt(np.power(gamma,2.) - 4*alpha*gamma),2*alpha)\n",
    "    \n",
    "    return F_plus, F_minus, gamma, beta, alpha"
   ]
  },
  {
   "cell_type": "code",
   "execution_count": 26,
   "metadata": {},
   "outputs": [],
   "source": [
    "# calculate retrievals: original Layden equation\n",
    "\n",
    "df[\"retrieved_feh_es_1\"], df[\"numer_es_1\"], df[\"denom_es_1\"] = feh(coeffs_es_1_up_to_m05,df[\"K\"],df[\"balmer\"])\n",
    "#df[\"retrieved_feh_ndl_1\"] = feh(coeffs_ndl_1,df[\"K\"],df[\"balmer\"])\n",
    "#df[\"retrieved_feh_ndl_2\"] = feh(coeffs_ndl_2,df[\"K\"],df[\"balmer\"])"
   ]
  },
  {
   "cell_type": "code",
   "execution_count": 43,
   "metadata": {},
   "outputs": [
    {
     "name": "stdout",
     "output_type": "stream",
     "text": [
      "gamma:\n",
      "0       0.029445\n",
      "1       3.889699\n",
      "2       7.810286\n",
      "3      10.283313\n",
      "4      11.813901\n",
      "         ...    \n",
      "106     4.929239\n",
      "107     5.401395\n",
      "108     5.752733\n",
      "109     0.154595\n",
      "110    -1.104419\n",
      "Length: 111, dtype: float64\n",
      "beta:\n",
      "0      6.252447\n",
      "1      6.250092\n",
      "2      6.262438\n",
      "3      6.240934\n",
      "4      6.236925\n",
      "         ...   \n",
      "106    3.408068\n",
      "107    3.414438\n",
      "108    3.472819\n",
      "109    3.186341\n",
      "110    3.015279\n",
      "Name: balmer, Length: 111, dtype: float64\n",
      "alpha:\n",
      "0      0.624583\n",
      "1      0.622336\n",
      "2      0.634329\n",
      "3      0.613762\n",
      "4      0.610085\n",
      "         ...   \n",
      "106    0.508972\n",
      "107    0.510284\n",
      "108    0.522266\n",
      "109    0.462845\n",
      "110    0.426664\n",
      "Name: balmer, Length: 111, dtype: float64\n"
     ]
    },
    {
     "name": "stderr",
     "output_type": "stream",
     "text": [
      "/Users/nyumbani/anaconda3/envs/py366/lib/python3.6/site-packages/pandas/core/series.py:679: RuntimeWarning: invalid value encountered in sqrt\n",
      "  result = getattr(ufunc, method)(*inputs, **kwargs)\n"
     ]
    }
   ],
   "source": [
    "# calculate retrievals: modified Layden equation\n",
    "\n",
    "df[\"retrieved_feh_es_modified_1_plus\"], df[\"retrieved_feh_es_modified_1_minus\"], gamma, beta, alpha = feh_modified_1(coeffs_es_modified_1,\n",
    "                                                                                                                     df[\"K\"],df[\"balmer\"])"
   ]
  },
  {
   "cell_type": "code",
   "execution_count": 45,
   "metadata": {},
   "outputs": [
    {
     "name": "stdout",
     "output_type": "stream",
     "text": [
      "gamma:\n",
      "20.0\n",
      "beta:\n",
      "5251.0\n",
      "alpha:\n",
      "7360.0\n"
     ]
    },
    {
     "name": "stderr",
     "output_type": "stream",
     "text": [
      "/Users/nyumbani/anaconda3/envs/py366/lib/python3.6/site-packages/ipykernel_launcher.py:24: RuntimeWarning: invalid value encountered in sqrt\n",
      "/Users/nyumbani/anaconda3/envs/py366/lib/python3.6/site-packages/ipykernel_launcher.py:25: RuntimeWarning: invalid value encountered in sqrt\n"
     ]
    }
   ],
   "source": [
    "## TEST  \n",
    "\n",
    "# calculate retrievals: modified Layden equation\n",
    "\n",
    "soln_plus, soln_minus, gamma, beta, alpha = feh_modified_1([1.,2.,3.,4.,5.,6.,7.],45,32)"
   ]
  },
  {
   "cell_type": "code",
   "execution_count": 41,
   "metadata": {},
   "outputs": [],
   "source": [
    "plt.clf()\n",
    "plt.scatter(df[\"final_feh_center\"],gamma,label=\"gamma\")\n",
    "plt.scatter(df[\"final_feh_center\"],beta,label=\"beta\")\n",
    "plt.scatter(df[\"final_feh_center\"],alpha,label=\"alpha\")\n",
    "plt.legend()\n",
    "plt.show()"
   ]
  },
  {
   "cell_type": "code",
   "execution_count": 40,
   "metadata": {},
   "outputs": [
    {
     "ename": "KeyError",
     "evalue": "'numer_es_1'",
     "output_type": "error",
     "traceback": [
      "\u001b[0;31m---------------------------------------------------------------------------\u001b[0m",
      "\u001b[0;31mKeyError\u001b[0m                                  Traceback (most recent call last)",
      "\u001b[0;32m~/anaconda3/envs/py366/lib/python3.6/site-packages/pandas/core/indexes/base.py\u001b[0m in \u001b[0;36mget_loc\u001b[0;34m(self, key, method, tolerance)\u001b[0m\n\u001b[1;32m   2645\u001b[0m             \u001b[0;32mtry\u001b[0m\u001b[0;34m:\u001b[0m\u001b[0;34m\u001b[0m\u001b[0m\n\u001b[0;32m-> 2646\u001b[0;31m                 \u001b[0;32mreturn\u001b[0m \u001b[0mself\u001b[0m\u001b[0;34m.\u001b[0m\u001b[0m_engine\u001b[0m\u001b[0;34m.\u001b[0m\u001b[0mget_loc\u001b[0m\u001b[0;34m(\u001b[0m\u001b[0mkey\u001b[0m\u001b[0;34m)\u001b[0m\u001b[0;34m\u001b[0m\u001b[0m\n\u001b[0m\u001b[1;32m   2647\u001b[0m             \u001b[0;32mexcept\u001b[0m \u001b[0mKeyError\u001b[0m\u001b[0;34m:\u001b[0m\u001b[0;34m\u001b[0m\u001b[0m\n",
      "\u001b[0;32mpandas/_libs/index.pyx\u001b[0m in \u001b[0;36mpandas._libs.index.IndexEngine.get_loc\u001b[0;34m()\u001b[0m\n",
      "\u001b[0;32mpandas/_libs/index.pyx\u001b[0m in \u001b[0;36mpandas._libs.index.IndexEngine.get_loc\u001b[0;34m()\u001b[0m\n",
      "\u001b[0;32mpandas/_libs/hashtable_class_helper.pxi\u001b[0m in \u001b[0;36mpandas._libs.hashtable.PyObjectHashTable.get_item\u001b[0;34m()\u001b[0m\n",
      "\u001b[0;32mpandas/_libs/hashtable_class_helper.pxi\u001b[0m in \u001b[0;36mpandas._libs.hashtable.PyObjectHashTable.get_item\u001b[0;34m()\u001b[0m\n",
      "\u001b[0;31mKeyError\u001b[0m: 'numer_es_1'",
      "\nDuring handling of the above exception, another exception occurred:\n",
      "\u001b[0;31mKeyError\u001b[0m                                  Traceback (most recent call last)",
      "\u001b[0;32m<ipython-input-40-7d8d3fae9dbb>\u001b[0m in \u001b[0;36m<module>\u001b[0;34m()\u001b[0m\n\u001b[1;32m      2\u001b[0m \u001b[0;34m\u001b[0m\u001b[0m\n\u001b[1;32m      3\u001b[0m \u001b[0mplt\u001b[0m\u001b[0;34m.\u001b[0m\u001b[0mclf\u001b[0m\u001b[0;34m(\u001b[0m\u001b[0;34m)\u001b[0m\u001b[0;34m\u001b[0m\u001b[0m\n\u001b[0;32m----> 4\u001b[0;31m \u001b[0mplt\u001b[0m\u001b[0;34m.\u001b[0m\u001b[0mscatter\u001b[0m\u001b[0;34m(\u001b[0m\u001b[0mdf\u001b[0m\u001b[0;34m[\u001b[0m\u001b[0;34m\"final_feh_center\"\u001b[0m\u001b[0;34m]\u001b[0m\u001b[0;34m,\u001b[0m \u001b[0mdf\u001b[0m\u001b[0;34m[\u001b[0m\u001b[0;34m\"numer_es_1\"\u001b[0m\u001b[0;34m]\u001b[0m\u001b[0;34m,\u001b[0m \u001b[0mlabel\u001b[0m\u001b[0;34m=\u001b[0m\u001b[0;34m\"numerator (K-a-b*H)\"\u001b[0m\u001b[0;34m,\u001b[0m \u001b[0ms\u001b[0m\u001b[0;34m=\u001b[0m\u001b[0;36m4\u001b[0m\u001b[0;34m)\u001b[0m\u001b[0;34m\u001b[0m\u001b[0m\n\u001b[0m\u001b[1;32m      5\u001b[0m \u001b[0mplt\u001b[0m\u001b[0;34m.\u001b[0m\u001b[0mscatter\u001b[0m\u001b[0;34m(\u001b[0m\u001b[0mdf\u001b[0m\u001b[0;34m[\u001b[0m\u001b[0;34m\"final_feh_center\"\u001b[0m\u001b[0;34m]\u001b[0m\u001b[0;34m,\u001b[0m \u001b[0mdf\u001b[0m\u001b[0;34m[\u001b[0m\u001b[0;34m\"denom_es_1\"\u001b[0m\u001b[0;34m]\u001b[0m\u001b[0;34m,\u001b[0m \u001b[0mlabel\u001b[0m\u001b[0;34m=\u001b[0m\u001b[0;34m\"denominator (c+d*H)\"\u001b[0m\u001b[0;34m,\u001b[0m \u001b[0ms\u001b[0m\u001b[0;34m=\u001b[0m\u001b[0;36m4\u001b[0m\u001b[0;34m)\u001b[0m\u001b[0;34m\u001b[0m\u001b[0m\n\u001b[1;32m      6\u001b[0m \u001b[0mplt\u001b[0m\u001b[0;34m.\u001b[0m\u001b[0mxlabel\u001b[0m\u001b[0;34m(\u001b[0m\u001b[0;34m\"Injected Fe/H\"\u001b[0m\u001b[0;34m)\u001b[0m\u001b[0;34m\u001b[0m\u001b[0m\n",
      "\u001b[0;32m~/anaconda3/envs/py366/lib/python3.6/site-packages/pandas/core/frame.py\u001b[0m in \u001b[0;36m__getitem__\u001b[0;34m(self, key)\u001b[0m\n\u001b[1;32m   2798\u001b[0m             \u001b[0;32mif\u001b[0m \u001b[0mself\u001b[0m\u001b[0;34m.\u001b[0m\u001b[0mcolumns\u001b[0m\u001b[0;34m.\u001b[0m\u001b[0mnlevels\u001b[0m \u001b[0;34m>\u001b[0m \u001b[0;36m1\u001b[0m\u001b[0;34m:\u001b[0m\u001b[0;34m\u001b[0m\u001b[0m\n\u001b[1;32m   2799\u001b[0m                 \u001b[0;32mreturn\u001b[0m \u001b[0mself\u001b[0m\u001b[0;34m.\u001b[0m\u001b[0m_getitem_multilevel\u001b[0m\u001b[0;34m(\u001b[0m\u001b[0mkey\u001b[0m\u001b[0;34m)\u001b[0m\u001b[0;34m\u001b[0m\u001b[0m\n\u001b[0;32m-> 2800\u001b[0;31m             \u001b[0mindexer\u001b[0m \u001b[0;34m=\u001b[0m \u001b[0mself\u001b[0m\u001b[0;34m.\u001b[0m\u001b[0mcolumns\u001b[0m\u001b[0;34m.\u001b[0m\u001b[0mget_loc\u001b[0m\u001b[0;34m(\u001b[0m\u001b[0mkey\u001b[0m\u001b[0;34m)\u001b[0m\u001b[0;34m\u001b[0m\u001b[0m\n\u001b[0m\u001b[1;32m   2801\u001b[0m             \u001b[0;32mif\u001b[0m \u001b[0mis_integer\u001b[0m\u001b[0;34m(\u001b[0m\u001b[0mindexer\u001b[0m\u001b[0;34m)\u001b[0m\u001b[0;34m:\u001b[0m\u001b[0;34m\u001b[0m\u001b[0m\n\u001b[1;32m   2802\u001b[0m                 \u001b[0mindexer\u001b[0m \u001b[0;34m=\u001b[0m \u001b[0;34m[\u001b[0m\u001b[0mindexer\u001b[0m\u001b[0;34m]\u001b[0m\u001b[0;34m\u001b[0m\u001b[0m\n",
      "\u001b[0;32m~/anaconda3/envs/py366/lib/python3.6/site-packages/pandas/core/indexes/base.py\u001b[0m in \u001b[0;36mget_loc\u001b[0;34m(self, key, method, tolerance)\u001b[0m\n\u001b[1;32m   2646\u001b[0m                 \u001b[0;32mreturn\u001b[0m \u001b[0mself\u001b[0m\u001b[0;34m.\u001b[0m\u001b[0m_engine\u001b[0m\u001b[0;34m.\u001b[0m\u001b[0mget_loc\u001b[0m\u001b[0;34m(\u001b[0m\u001b[0mkey\u001b[0m\u001b[0;34m)\u001b[0m\u001b[0;34m\u001b[0m\u001b[0m\n\u001b[1;32m   2647\u001b[0m             \u001b[0;32mexcept\u001b[0m \u001b[0mKeyError\u001b[0m\u001b[0;34m:\u001b[0m\u001b[0;34m\u001b[0m\u001b[0m\n\u001b[0;32m-> 2648\u001b[0;31m                 \u001b[0;32mreturn\u001b[0m \u001b[0mself\u001b[0m\u001b[0;34m.\u001b[0m\u001b[0m_engine\u001b[0m\u001b[0;34m.\u001b[0m\u001b[0mget_loc\u001b[0m\u001b[0;34m(\u001b[0m\u001b[0mself\u001b[0m\u001b[0;34m.\u001b[0m\u001b[0m_maybe_cast_indexer\u001b[0m\u001b[0;34m(\u001b[0m\u001b[0mkey\u001b[0m\u001b[0;34m)\u001b[0m\u001b[0;34m)\u001b[0m\u001b[0;34m\u001b[0m\u001b[0m\n\u001b[0m\u001b[1;32m   2649\u001b[0m         \u001b[0mindexer\u001b[0m \u001b[0;34m=\u001b[0m \u001b[0mself\u001b[0m\u001b[0;34m.\u001b[0m\u001b[0mget_indexer\u001b[0m\u001b[0;34m(\u001b[0m\u001b[0;34m[\u001b[0m\u001b[0mkey\u001b[0m\u001b[0;34m]\u001b[0m\u001b[0;34m,\u001b[0m \u001b[0mmethod\u001b[0m\u001b[0;34m=\u001b[0m\u001b[0mmethod\u001b[0m\u001b[0;34m,\u001b[0m \u001b[0mtolerance\u001b[0m\u001b[0;34m=\u001b[0m\u001b[0mtolerance\u001b[0m\u001b[0;34m)\u001b[0m\u001b[0;34m\u001b[0m\u001b[0m\n\u001b[1;32m   2650\u001b[0m         \u001b[0;32mif\u001b[0m \u001b[0mindexer\u001b[0m\u001b[0;34m.\u001b[0m\u001b[0mndim\u001b[0m \u001b[0;34m>\u001b[0m \u001b[0;36m1\u001b[0m \u001b[0;32mor\u001b[0m \u001b[0mindexer\u001b[0m\u001b[0;34m.\u001b[0m\u001b[0msize\u001b[0m \u001b[0;34m>\u001b[0m \u001b[0;36m1\u001b[0m\u001b[0;34m:\u001b[0m\u001b[0;34m\u001b[0m\u001b[0m\n",
      "\u001b[0;32mpandas/_libs/index.pyx\u001b[0m in \u001b[0;36mpandas._libs.index.IndexEngine.get_loc\u001b[0;34m()\u001b[0m\n",
      "\u001b[0;32mpandas/_libs/index.pyx\u001b[0m in \u001b[0;36mpandas._libs.index.IndexEngine.get_loc\u001b[0;34m()\u001b[0m\n",
      "\u001b[0;32mpandas/_libs/hashtable_class_helper.pxi\u001b[0m in \u001b[0;36mpandas._libs.hashtable.PyObjectHashTable.get_item\u001b[0;34m()\u001b[0m\n",
      "\u001b[0;32mpandas/_libs/hashtable_class_helper.pxi\u001b[0m in \u001b[0;36mpandas._libs.hashtable.PyObjectHashTable.get_item\u001b[0;34m()\u001b[0m\n",
      "\u001b[0;31mKeyError\u001b[0m: 'numer_es_1'"
     ]
    }
   ],
   "source": [
    "# calculate numerator and denominators of expression\n",
    "\n",
    "plt.clf()\n",
    "plt.scatter(df[\"final_feh_center\"], df[\"numer_es_1\"], label=\"numerator (K-a-b*H)\", s=4)\n",
    "plt.scatter(df[\"final_feh_center\"], df[\"denom_es_1\"], label=\"denominator (c+d*H)\", s=4)\n",
    "plt.xlabel(\"Injected Fe/H\")\n",
    "plt.ylabel(\"Pieces of\\nFe/H = np.divide(K-a-b*H,c+d*H)\")\n",
    "plt.title(\"Which part of the Layden expression\\ncauses Fe/H to diverge at the metal-rich end?\")\n",
    "plt.legend()\n",
    "plt.axhline(y=0, linestyle=\":\")\n",
    "plt.show()"
   ]
  },
  {
   "cell_type": "code",
   "execution_count": 11,
   "metadata": {},
   "outputs": [],
   "source": [
    "# plot parts of numerator\n",
    "\n",
    "for i in range(0,len(df)):\n",
    "    plt.scatter(df[\"final_feh_center\"].iloc[i], -coeffs_es_1[1]*df[\"balmer\"].iloc[i], s=4, color=\"blue\")\n",
    "    plt.scatter(df[\"final_feh_center\"].iloc[i], df[\"K\"].iloc[i], s=4, color=\"orange\")\n",
    "    plt.annotate(df[\"original_spec_file_name\"].iloc[i], \n",
    "                 xy=(df[\"final_feh_center\"].iloc[i],df[\"K\"].iloc[i]), \n",
    "                 xytext=(df[\"final_feh_center\"].iloc[i],df[\"K\"].iloc[i]))\n",
    "plt.scatter(df[\"final_feh_center\"], -coeffs_es_1[1]*df[\"balmer\"], label = \"-b*H\", s=4, color=\"blue\")\n",
    "plt.scatter(df[\"final_feh_center\"], df[\"K\"], label=\"K\", s=4, color=\"orange\")\n",
    "plt.xlabel(\"Injected Fe/H\")\n",
    "plt.ylabel(\"Pieces of\\nnumerator\")\n",
    "plt.title(\"Which part of the numerator\\ncauses Fe/H to diverge at the metal-rich end?\")\n",
    "plt.legend()\n",
    "plt.axhline(y=0, linestyle=\":\")\n",
    "plt.show()"
   ]
  },
  {
   "cell_type": "code",
   "execution_count": 23,
   "metadata": {},
   "outputs": [],
   "source": [
    "plt.clf()\n",
    "plt.scatter(df[\"final_feh_center\"], df[\"retrieved_feh_es_1\"], label=\"ES least-squares coeffs:\\n[11.99918483, -0.75954517, 3.70118957, -0.2338468]\")\n",
    "#plt.scatter(df[\"final_feh_center\"], df[\"retrieved_feh_ndl_1\"], label=\"NDL least-squares coeffs:\\n[12.513685, -0.78716521, 3.8778512, -0.24297523]\")\n",
    "#plt.scatter(df[\"final_feh_center\"], df[\"retrieved_feh_ndl_2\"], label=\"NDL LM coeffs\\n[12.5096, -0.786677, 3.87640, -0.242800]\")\n",
    "plt.plot([-3,2],[-3,2],linestyle=\":\")\n",
    "plt.title(\"Fe/H from synthetic spectra\")\n",
    "plt.ylabel(\"Retrieved Fe/H values\")\n",
    "plt.xlabel(\"Injected Fe/H values\")\n",
    "plt.ylim([-3,5])\n",
    "plt.legend()\n",
    "plt.show()"
   ]
  },
  {
   "cell_type": "code",
   "execution_count": 38,
   "metadata": {},
   "outputs": [],
   "source": [
    "# Retrievals from modified Fe/H expression\n",
    "\n",
    "plt.clf()\n",
    "plt.scatter(df[\"final_feh_center\"], df[\"retrieved_feh_es_modified_1_plus\"], label=\"Plus value\")\n",
    "plt.scatter(df[\"final_feh_center\"], df[\"retrieved_feh_es_modified_1_minus\"], label=\"Minus value\")\n",
    "#plt.scatter(df[\"final_feh_center\"], df[\"retrieved_feh_ndl_1\"], label=\"NDL least-squares coeffs:\\n[12.513685, -0.78716521, 3.8778512, -0.24297523]\")\n",
    "#plt.scatter(df[\"final_feh_center\"], df[\"retrieved_feh_ndl_2\"], label=\"NDL LM coeffs\\n[12.5096, -0.786677, 3.87640, -0.242800]\")\n",
    "plt.plot([-3,2],[-3,2],linestyle=\":\")\n",
    "plt.title(\"Fe/H from synthetic spectra\")\n",
    "plt.ylabel(\"Retrieved Fe/H values\")\n",
    "plt.xlabel(\"Injected Fe/H values\")\n",
    "#plt.ylim([-3,5])\n",
    "plt.legend()\n",
    "plt.show()"
   ]
  },
  {
   "cell_type": "code",
   "execution_count": 9,
   "metadata": {},
   "outputs": [
    {
     "data": {
      "text/plain": [
       "0      600025m05.smo\n",
       "1      600025m10.smo\n",
       "2      600025m15.smo\n",
       "3      600025m20.smo\n",
       "4      600025m25.smo\n",
       "           ...      \n",
       "106    750030m20.smo\n",
       "107    750030m25.smo\n",
       "108    750030m30.smo\n",
       "109    750030p00.smo\n",
       "110    750030p02.smo\n",
       "Name: original_spec_file_name, Length: 111, dtype: object"
      ]
     },
     "execution_count": 9,
     "metadata": {},
     "output_type": "execute_result"
    }
   ],
   "source": [
    "df[\"original_spec_file_name\"].drop_duplicates()"
   ]
  },
  {
   "cell_type": "code",
   "execution_count": null,
   "metadata": {},
   "outputs": [],
   "source": []
  }
 ],
 "metadata": {
  "kernelspec": {
   "display_name": "Python 3",
   "language": "python",
   "name": "python3"
  },
  "language_info": {
   "codemirror_mode": {
    "name": "ipython",
    "version": 3
   },
   "file_extension": ".py",
   "mimetype": "text/x-python",
   "name": "python",
   "nbconvert_exporter": "python",
   "pygments_lexer": "ipython3",
   "version": "3.6.6"
  }
 },
 "nbformat": 4,
 "nbformat_minor": 2
}
