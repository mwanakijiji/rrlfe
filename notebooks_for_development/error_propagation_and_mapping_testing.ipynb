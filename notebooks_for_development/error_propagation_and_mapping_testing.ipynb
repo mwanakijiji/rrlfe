{
 "cells": [
  {
   "cell_type": "code",
   "execution_count": null,
   "metadata": {
    "collapsed": true
   },
   "outputs": [],
   "source": [
    "# This tests how we find errors for our calibration program star metallicities, and how we\n",
    "# find final error bars on our calibration solution coefficients\n",
    "\n",
    "# created 2018 Jan 14 by E.S."
   ]
  },
  {
   "cell_type": "code",
   "execution_count": 1,
   "metadata": {
    "collapsed": true
   },
   "outputs": [],
   "source": [
    "import pickle\n",
    "import pandas as pd\n",
    "import matplotlib.pyplot as plt\n",
    "import numpy as np\n",
    "import time\n",
    "import multiprocessing\n",
    "import scipy\n",
    "import scipy.stats as stats\n",
    "from scipy import interpolate\n",
    "from astropy.modeling.functional_models import Gaussian2D\n",
    "from astropy.stats import bootstrap\n",
    "from astropy.utils import NumpyRNGContext\n",
    "from multiprocessing import Pool"
   ]
  },
  {
   "cell_type": "code",
   "execution_count": 2,
   "metadata": {
    "collapsed": false
   },
   "outputs": [
    {
     "data": {
      "text/plain": [
       "'\\nfake_data_1 = {\"star_name\": [\"AA Aql\",\"AO Peg\",\"BR Aqr\",\"CI And\",\"DM Cyg\",\"DO Vir\",\"DX Del\",\"X Ari\"],\\n                \"feh_lit\": [-1.1,-0.6,-1.29,-1.22,-0.69,-0.43,-0.04,-2.51],\\n                \"feh_layden\": [-1.05,-0.9,-1.15,-1.2,-0.45,-0.7,0.0,-2.1],\\n                \"err_feh_lit\": [0.3,0.3,0.3,0.4,0.2,0.35,0.3,0.4],\\n                \"err_feh_layden\": [0.06,0.06,0.07,0.06,0.07,0.06,0.06,0.07]}\\n\\nfake_dataset_1 = pd.DataFrame(data=fake_data_1)\\n'"
      ]
     },
     "execution_count": 2,
     "metadata": {},
     "output_type": "execute_result"
    }
   ],
   "source": [
    "# make some fake data representing the metallicities and errors of stars from the literature\n",
    "\n",
    "'''\n",
    "fake_data_1 = {\"star_name\": [\"AA Aql\",\"AO Peg\",\"BR Aqr\",\"CI And\",\"DM Cyg\",\"DO Vir\",\"DX Del\",\"X Ari\"],\n",
    "                \"feh_lit\": [-1.1,-0.6,-1.29,-1.22,-0.69,-0.43,-0.04,-2.51],\n",
    "                \"feh_layden\": [-1.05,-0.9,-1.15,-1.2,-0.45,-0.7,0.0,-2.1],\n",
    "                \"err_feh_lit\": [0.3,0.3,0.3,0.4,0.2,0.35,0.3,0.4],\n",
    "                \"err_feh_layden\": [0.06,0.06,0.07,0.06,0.07,0.06,0.06,0.07]}\n",
    "\n",
    "fake_dataset_1 = pd.DataFrame(data=fake_data_1)\n",
    "'''"
   ]
  },
  {
   "cell_type": "code",
   "execution_count": 3,
   "metadata": {
    "collapsed": true
   },
   "outputs": [],
   "source": [
    "# read in actual data\n",
    "\n",
    "real_data_1 = pickle.load( open( \"info.pkl\", \"rb\" ) )"
   ]
  },
  {
   "cell_type": "code",
   "execution_count": 4,
   "metadata": {
    "collapsed": false
   },
   "outputs": [],
   "source": [
    "# arrange the data in a way we can use\n",
    "# N.b. This is NOT fake data; I'm just appropriating the old variable name\n",
    "\n",
    "fake_data_1 = { \"star_name\": real_data_1[0][\"name_star\"],\n",
    "                \"feh_lit\": real_data_1[0][\"FeH_highres\"],\n",
    "                \"feh_layden\": real_data_1[0][\"FeH_basis\"],\n",
    "                \"err_feh_lit\": np.zeros(len(real_data_1[0][\"FeH_basis\"])),\n",
    "                \"err_feh_layden\": 0.07*np.ones(len(real_data_1[0][\"FeH_basis\"]))}\n",
    "\n",
    "fake_dataset_1 = pd.DataFrame(data=fake_data_1)"
   ]
  },
  {
   "cell_type": "code",
   "execution_count": 5,
   "metadata": {
    "collapsed": false
   },
   "outputs": [
    {
     "data": {
      "text/plain": [
       "'\\nplt.errorbar(fake_data_1[\"feh_layden\"], fake_data_1[\"feh_lit\"], \\n             yerr=fake_data_1[\"err_feh_lit\"], xerr=fake_data_1[\"err_feh_layden\"], marker=\"s\", linestyle=\\'\\')\\nplt.xlabel(\"Fake Layden 94 Fe/H\")\\nplt.ylabel(\"Fake Literature Fe/H\")\\nplt.savefig(\"fake_data.png\")\\n#plt.show()\\n'"
      ]
     },
     "execution_count": 5,
     "metadata": {},
     "output_type": "execute_result"
    }
   ],
   "source": [
    "# show the points we are working with\n",
    "\n",
    "'''\n",
    "plt.errorbar(fake_data_1[\"feh_layden\"], fake_data_1[\"feh_lit\"], \n",
    "             yerr=fake_data_1[\"err_feh_lit\"], xerr=fake_data_1[\"err_feh_layden\"], marker=\"s\", linestyle='')\n",
    "plt.xlabel(\"Fake Layden 94 Fe/H\")\n",
    "plt.ylabel(\"Fake Literature Fe/H\")\n",
    "plt.savefig(\"fake_data.png\")\n",
    "#plt.show()\n",
    "'''"
   ]
  },
  {
   "cell_type": "markdown",
   "metadata": {},
   "source": [
    "# Step 1: Find the linear regression line to high_res vs. basis Fe/H values"
   ]
  },
  {
   "cell_type": "code",
   "execution_count": 6,
   "metadata": {
    "collapsed": false
   },
   "outputs": [],
   "source": [
    "# Put Fe/H values into a useable form\n",
    "\n",
    "feh_sample = np.transpose([fake_data_1[\"feh_layden\"],fake_data_1[\"feh_lit\"]])"
   ]
  },
  {
   "cell_type": "code",
   "execution_count": 7,
   "metadata": {
    "collapsed": false
   },
   "outputs": [],
   "source": [
    "# Bootstrap\n",
    "\n",
    "N_samples = int(1e4)\n",
    "\n",
    "# set RNG for reproducibility\n",
    "with NumpyRNGContext(1):\n",
    "    bootresult = bootstrap(feh_sample, N_samples)"
   ]
  },
  {
   "cell_type": "code",
   "execution_count": 8,
   "metadata": {
    "collapsed": true
   },
   "outputs": [],
   "source": [
    "# for testing results with different seeds\n",
    "#bootresult = bootstrap(feh_sample, N_samples)"
   ]
  },
  {
   "cell_type": "code",
   "execution_count": 49,
   "metadata": {
    "collapsed": true
   },
   "outputs": [],
   "source": [
    "def cdf_fcn(array_input):\n",
    "    '''\n",
    "    Return CDF of an unsorted input array of values\n",
    "    '''\n",
    "    \n",
    "    number_cum_norm = np.divide(np.arange(len(array_input)),len(array_input))\n",
    "    array_input_sort = np.sort(array_input)\n",
    "    number_cum_norm = np.divide(np.arange(len(array_input)),len(array_input))\n",
    "    #array_cdf = np.divide(np.cumsum(array_input_sort),np.cumsum(array_input_sort)[-1])\n",
    "    \n",
    "    return array_input_sort, number_cum_norm"
   ]
  },
  {
   "cell_type": "code",
   "execution_count": 43,
   "metadata": {
    "collapsed": false
   },
   "outputs": [
    {
     "data": {
      "text/plain": [
       "array([-3.672165  , -3.46492644, -3.41546586, ...,  4.49487394,\n",
       "        4.56756541,  4.79368453])"
      ]
     },
     "execution_count": 43,
     "metadata": {},
     "output_type": "execute_result"
    }
   ],
   "source": [
    "test_x"
   ]
  },
  {
   "cell_type": "code",
   "execution_count": 44,
   "metadata": {
    "collapsed": false,
    "scrolled": true
   },
   "outputs": [
    {
     "name": "stdout",
     "output_type": "stream",
     "text": [
      "0.1956254756272534\n"
     ]
    },
    {
     "data": {
      "image/png": "[encoded data removed]",
      "text/plain": [
       "<Figure size 432x288 with 1 Axes>"
      ]
     },
     "metadata": {
      "needs_background": "light"
     },
     "output_type": "display_data"
    }
   ],
   "source": [
    "N = int(1e5)\n",
    "test_array = np.add(np.random.randn(N),np.random.uniform(size=N))\n",
    "test_x, test_y = cdf_fcn(test_array)\n",
    "\n",
    "print(np.max(np.abs(np.subtract(test_y,np.sort(norm.cdf(test_array))))))\n",
    "\n",
    "plt.plot(test_x, test_y)\n",
    "plt.scatter(test_array,norm.cdf(test_array))\n",
    "plt.show()"
   ]
  },
  {
   "cell_type": "code",
   "execution_count": 53,
   "metadata": {
    "collapsed": false
   },
   "outputs": [
    {
     "name": "stdout",
     "output_type": "stream",
     "text": [
      "[0.5 0.5 0.5 0.5 0.5 0.5 0.5 0.5 0.5 0.5 0.5 0.5 0.5 0.5 0.5 0.5 0.5 0.5\n",
      " 0.5 0.5 0.5 0.5 0.5 0.5 0.5 0.5 0.5 0.5 0.5 0.5 0.5 0.5 0.5 0.5 0.5 0.5\n",
      " 0.5 0.5 0.5 0.5 0.5 0.5 0.5 0.5 0.5 0.5 0.5 0.5 0.5 0.5 0.5 0.5 0.5 0.5\n",
      " 0.5 0.5 0.5 0.5 0.5 0.5 0.5 0.5 0.5 0.5 0.5 0.5 0.5 0.5 0.5 0.5 0.5 0.5\n",
      " 0.5 0.5 0.5 0.5 0.5 0.5 0.5 0.5 0.5 0.5 0.5 0.5 0.5 0.5 0.5 0.5 0.5 0.5\n",
      " 0.5 0.5 0.5 0.5 0.5 1.  1.  1.  1.  1. ]\n"
     ]
    }
   ],
   "source": [
    "test_array = np.zeros(100)\n",
    "test_array[-5:] = 33\n",
    "test_array[-1:] = 100\n",
    "print(norm.cdf(test_array))\n",
    "test_x, test_y = cdf_fcn(test_array)"
   ]
  },
  {
   "cell_type": "code",
   "execution_count": 66,
   "metadata": {
    "collapsed": false
   },
   "outputs": [
    {
     "name": "stdout",
     "output_type": "stream",
     "text": [
      "0.2\n",
      "0.6\n",
      "0.61\n",
      "0.99\n",
      "0.94\n",
      "0.98\n",
      "0.99\n"
     ]
    }
   ],
   "source": [
    "print(test_y[20])\n",
    "print(test_y[60])\n",
    "print(test_y[61])\n",
    "print(test_y[99])\n",
    "\n",
    "np.max(test_y[np.where(test_x == 0)]) \n",
    "np.max(test_y[np.where(test_x == 33)])\n",
    "test_y[np.where(test_x == 100)][0]\n",
    "\n",
    "#np.max(test_y[np.where(test_x == 0)]) == 0.94\n",
    "#np.max(test_y[np.where(test_x == 33)]) == 0.98\n",
    "#test_y[np.where(test_x == 100)] == 0.99"
   ]
  },
  {
   "cell_type": "code",
   "execution_count": 61,
   "metadata": {
    "collapsed": false
   },
   "outputs": [
    {
     "data": {
      "text/plain": [
       "array([  0.,   0.,   0.,   0.,   0.,   0.,   0.,   0.,   0.,   0.,   0.,\n",
       "         0.,   0.,   0.,   0.,   0.,   0.,   0.,   0.,   0.,   0.,   0.,\n",
       "         0.,   0.,   0.,   0.,   0.,   0.,   0.,   0.,   0.,   0.,   0.,\n",
       "         0.,   0.,   0.,   0.,   0.,   0.,   0.,   0.,   0.,   0.,   0.,\n",
       "         0.,   0.,   0.,   0.,   0.,   0.,   0.,   0.,   0.,   0.,   0.,\n",
       "         0.,   0.,   0.,   0.,   0.,   0.,   0.,   0.,   0.,   0.,   0.,\n",
       "         0.,   0.,   0.,   0.,   0.,   0.,   0.,   0.,   0.,   0.,   0.,\n",
       "         0.,   0.,   0.,   0.,   0.,   0.,   0.,   0.,   0.,   0.,   0.,\n",
       "         0.,   0.,   0.,   0.,   0.,   0.,   0.,  33.,  33.,  33.,  33.,\n",
       "       100.])"
      ]
     },
     "execution_count": 61,
     "metadata": {},
     "output_type": "execute_result"
    }
   ],
   "source": [
    "test_x"
   ]
  },
  {
   "cell_type": "code",
   "execution_count": 62,
   "metadata": {
    "collapsed": false
   },
   "outputs": [
    {
     "data": {
      "image/png": "[encoded data removed]",
      "text/plain": [
       "<Figure size 432x288 with 1 Axes>"
      ]
     },
     "metadata": {
      "needs_background": "light"
     },
     "output_type": "display_data"
    }
   ],
   "source": [
    "plt.scatter(test_array,norm.cdf(test_array))\n",
    "plt.scatter(test_x,test_y)\n",
    "plt.show()"
   ]
  },
  {
   "cell_type": "code",
   "execution_count": 10,
   "metadata": {
    "collapsed": false
   },
   "outputs": [],
   "source": [
    "def cdf_gauss(x_range, mu, sig):\n",
    "    '''\n",
    "    Returns the CDF of a general Gaussian function for any mu and sig\n",
    "    '''\n",
    "    \n",
    "    x_range_adjust = np.divide(np.subtract(x_range, mu), sig) # rescale x -> x* = (x-mu)/sig\n",
    "    erf_return = scipy.special.erf(np.divide(x_range_adjust,np.sqrt(2))) # erf(x*/sqrt(2))\n",
    "    \n",
    "    return np.multiply(0.5,np.add(1., erf_return)) # (1/2)*(1 + erf(x*/sqrt(2)))"
   ]
  },
  {
   "cell_type": "code",
   "execution_count": 11,
   "metadata": {
    "collapsed": false
   },
   "outputs": [
    {
     "data": {
      "text/plain": [
       "\"\\nx_range = np.arange(-5,5,0.01)\\nmu = -2.\\nsig = 2\\n\\n# sample from a gaussian distribution\\ngaussian_samples = np.random.normal(loc=mu, scale=sig, size=len(x_range))\\n\\n# test my cdf_fcn\\nx_range1, y_range1 = cdf_fcn(gaussian_samples)\\n\\n# test my cdf_gauss fcn\\ny_range = cdf_gauss(x_range, mu, sig)\\n\\nplt.plot(x_range, y_range, color='blue')\\nplt.plot(x_range1, y_range1, color='red')\\nplt.show()\\n\""
      ]
     },
     "execution_count": 11,
     "metadata": {},
     "output_type": "execute_result"
    }
   ],
   "source": [
    "# test of cdf_fcn and cdf_gauss\n",
    "\n",
    "'''\n",
    "x_range = np.arange(-5,5,0.01)\n",
    "mu = -2.\n",
    "sig = 2\n",
    "\n",
    "# sample from a gaussian distribution\n",
    "gaussian_samples = np.random.normal(loc=mu, scale=sig, size=len(x_range))\n",
    "\n",
    "# test my cdf_fcn\n",
    "x_range1, y_range1 = cdf_fcn(gaussian_samples)\n",
    "\n",
    "# test my cdf_gauss fcn\n",
    "y_range = cdf_gauss(x_range, mu, sig)\n",
    "\n",
    "plt.plot(x_range, y_range, color='blue')\n",
    "plt.plot(x_range1, y_range1, color='red')\n",
    "plt.show()\n",
    "'''"
   ]
  },
  {
   "cell_type": "code",
   "execution_count": 12,
   "metadata": {
    "collapsed": false
   },
   "outputs": [],
   "source": [
    "# populate the arrays with bootstrap results\n",
    "\n",
    "m_array = np.nan*np.ones(len(bootresult))\n",
    "b_array = np.nan*np.ones(len(bootresult))\n",
    "for boot_n in range(0,len(bootresult)):\n",
    "    test_fit = np.polyfit(bootresult[boot_n,:,0], bootresult[boot_n,:,1], 1)\n",
    "    m_array[boot_n] = test_fit[0]\n",
    "    b_array[boot_n] = test_fit[1]"
   ]
  },
  {
   "cell_type": "code",
   "execution_count": 13,
   "metadata": {
    "collapsed": false
   },
   "outputs": [
    {
     "data": {
      "text/plain": [
       "'\\nplt.scatter(m_array,b_array,s=1)\\nplt.xlabel(\"slope m\")\\nplt.ylabel(\"y-int b\")\\nplt.savefig(\"line_params.png\")\\nplt.show()\\n'"
      ]
     },
     "execution_count": 13,
     "metadata": {},
     "output_type": "execute_result"
    }
   ],
   "source": [
    "# show m-b space\n",
    "'''\n",
    "plt.scatter(m_array,b_array,s=1)\n",
    "plt.xlabel(\"slope m\")\n",
    "plt.ylabel(\"y-int b\")\n",
    "plt.savefig(\"line_params.png\")\n",
    "plt.show()\n",
    "'''"
   ]
  },
  {
   "cell_type": "code",
   "execution_count": 14,
   "metadata": {
    "collapsed": false
   },
   "outputs": [
    {
     "data": {
      "text/plain": [
       "'\\nx_vals, y_vals = cdf_fcn(m_array)\\n\\n# fit a Gaussian\\npopt, pcov = scipy.optimize.curve_fit(cdf_gauss, x_vals, y_vals)\\nprint(popt)\\n\\nplt.plot(x_vals, y_vals)\\nplt.plot(x_vals, cdf_gauss(x_vals, *popt))\\nplt.title(\"CDF of slopes m\")\\nplt.savefig(\"line_param_cdf_m.png\")\\nplt.show()\\n'"
      ]
     },
     "execution_count": 14,
     "metadata": {},
     "output_type": "execute_result"
    }
   ],
   "source": [
    "# make empirical CDF of m\n",
    "\n",
    "'''\n",
    "x_vals, y_vals = cdf_fcn(m_array)\n",
    "\n",
    "# fit a Gaussian\n",
    "popt, pcov = scipy.optimize.curve_fit(cdf_gauss, x_vals, y_vals)\n",
    "print(popt)\n",
    "\n",
    "plt.plot(x_vals, y_vals)\n",
    "plt.plot(x_vals, cdf_gauss(x_vals, *popt))\n",
    "plt.title(\"CDF of slopes m\")\n",
    "plt.savefig(\"line_param_cdf_m.png\")\n",
    "plt.show()\n",
    "'''"
   ]
  },
  {
   "cell_type": "code",
   "execution_count": 15,
   "metadata": {
    "collapsed": false
   },
   "outputs": [
    {
     "data": {
      "text/plain": [
       "'\\nx_vals, y_vals = cdf_fcn(b_array)\\n\\n# fit a Gaussian\\npopt, pcov = scipy.optimize.curve_fit(cdf_gauss, x_vals, y_vals)\\nprint(popt)\\n\\nplt.plot(x_vals, y_vals)\\nplt.plot(x_vals, cdf_gauss(x_vals, *popt))\\n\\nplt.plot(x_vals, y_vals)\\nplt.title(\"CDF of y-int b\")\\nplt.savefig(\"line_param_cdf_b.png\")\\nplt.show()\\n'"
      ]
     },
     "execution_count": 15,
     "metadata": {},
     "output_type": "execute_result"
    }
   ],
   "source": [
    "# make empirical CDF of b\n",
    "\n",
    "'''\n",
    "x_vals, y_vals = cdf_fcn(b_array)\n",
    "\n",
    "# fit a Gaussian\n",
    "popt, pcov = scipy.optimize.curve_fit(cdf_gauss, x_vals, y_vals)\n",
    "print(popt)\n",
    "\n",
    "plt.plot(x_vals, y_vals)\n",
    "plt.plot(x_vals, cdf_gauss(x_vals, *popt))\n",
    "\n",
    "plt.plot(x_vals, y_vals)\n",
    "plt.title(\"CDF of y-int b\")\n",
    "plt.savefig(\"line_param_cdf_b.png\")\n",
    "plt.show()\n",
    "'''"
   ]
  },
  {
   "cell_type": "code",
   "execution_count": 16,
   "metadata": {
    "collapsed": true
   },
   "outputs": [],
   "source": [
    "def make_hist_plot(name_star,feh_mapped_array):\n",
    "\n",
    "    plt.clf()\n",
    "    plt.hist(np.ravel(feh_mapped_array), bins = 100)\n",
    "    plt.title(name_star + \"\\n\" + \"std = \"+str(np.std(np.ravel(feh_mapped_array))))\n",
    "    plt.xlabel(\"Fe/H\")\n",
    "    plt.tight_layout()\n",
    "    plt.savefig(\"junk_images/\" + name_star + \"_hist.pdf\")\n",
    "    plt.close()"
   ]
  },
  {
   "cell_type": "code",
   "execution_count": 17,
   "metadata": {
    "collapsed": false
   },
   "outputs": [],
   "source": [
    "def make_cdf_plot(name_star,feh_mapped_array):\n",
    "\n",
    "    x_vals, y_vals = cdf_fcn(np.ravel(feh_mapped_array))\n",
    "\n",
    "    # fit a Gaussian\n",
    "    popt, pcov = scipy.optimize.curve_fit(cdf_gauss, x_vals, y_vals)\n",
    "\n",
    "    print(\"Line parameters\")\n",
    "    print(popt)\n",
    "\n",
    "    xvals_interp = np.arange(x_vals[0], x_vals[-1], 0.001)\n",
    "    yvals_interp = np.interp(xvals_interp, x_vals, y_vals)\n",
    "\n",
    "    # find element of value closest to 0.5\n",
    "    percent_bar = 0.5\n",
    "    idx = np.abs(yvals_interp - percent_bar).argmin()\n",
    "\n",
    "\n",
    "    # ---------------------------------------------------------------------------\n",
    "\n",
    "    # SIGMA DEFINITION 1: FIND MEDIAN AND SIGMA BRACKETS AROUND IT\n",
    "    # find element of value closest to 1-sigma limit (on low side)\n",
    "    percent_bar_1sig_low = 0.5 - 0.5*0.682689492\n",
    "    idx_1sig_low = np.abs(yvals_interp - percent_bar_1sig_low).argmin()\n",
    "    # find element of value closest to 1-sigma limit (on high side)\n",
    "    percent_bar_1sig_high = 0.5 + 0.5*0.682689492\n",
    "    idx_1sig_high = np.abs(yvals_interp - percent_bar_1sig_high).argmin()\n",
    "\n",
    "    # SIGMA DEFINITION 2: FIND NARROWEST REGION CONTAINING 1-SIGMA WORTH OF POINTS\n",
    "    shortest_xrange = xvals_interp[-1] - xvals_interp[0]\n",
    "    shortest_xrange_lower = xvals_interp[0]\n",
    "\n",
    "    for t in range(0,len(xvals_interp)):\n",
    "    \n",
    "        lower_bar_y = yvals_interp[t]\n",
    "        upper_bar_y = yvals_interp[t] + 0.682689492\n",
    "    \n",
    "        # break if the range will go beyond data points\n",
    "        if (upper_bar_y > 0.99):\n",
    "            break\n",
    "    \n",
    "        idx_1sig_here = t\n",
    "        idx_1sig_above = np.abs(yvals_interp - upper_bar_y).argmin()\n",
    "    \n",
    "        if (np.subtract(xvals_interp[idx_1sig_above],\n",
    "                        xvals_interp[idx_1sig_here]) < shortest_xrange):\n",
    "        \n",
    "            shortest_xrange = xvals_interp[idx_1sig_above] - xvals_interp[idx_1sig_here]\n",
    "            shortest_xrange_lower = xvals_interp[idx_1sig_here]\n",
    "            shortest_xrange_upper = xvals_interp[idx_1sig_above]\n",
    "            shortest_xrange_halfway = 0.5*np.subtract(shortest_xrange_upper,shortest_xrange_lower)+shortest_xrange_lower\n",
    "\n",
    "    # ---------------------------------------------------------------------------\n",
    "\n",
    "    # test how gaussian the data is, based on earlier fit\n",
    "    print(\"K-S test\")\n",
    "    print(stats.kstest(y_vals, 'norm', args=popt)[0])\n",
    "    print(stats.kstest(y_vals, 'norm', args=popt)[1])\n",
    "    \n",
    "    print(\"Fe/H at 50 percentile\")\n",
    "    print(xvals_interp[idx])\n",
    "\n",
    "    print(\"1-sigma interval\")\n",
    "    print(xvals_interp[idx_1sig_low])\n",
    "    print(xvals_interp[idx_1sig_high])\n",
    "\n",
    "    plt.clf()\n",
    "    plt.plot(x_vals, y_vals)\n",
    "    plt.plot(x_vals, cdf_gauss(x_vals, *popt), linestyle=\":\", color=\"k\")\n",
    "    plt.axvline(xvals_interp[idx], color='blue')\n",
    "    plt.axvline(xvals_interp[idx_1sig_low], color='blue')\n",
    "    plt.axvline(xvals_interp[idx_1sig_high], color='blue')\n",
    "    plt.axvline(shortest_xrange_lower, color='orange')\n",
    "    plt.axvline(shortest_xrange_upper, color='orange')\n",
    "    plt.axvline(shortest_xrange_halfway, color='orange')\n",
    "    plt.xlabel(\"Fe/H\")\n",
    "    plt.ylabel(\"CDF\")\n",
    "    plt.title(name_star + \"\\n\"+\\\n",
    "          \"Fe/H based on median (blue): \"\n",
    "          + \"{:.{}f}\".format( xvals_interp[idx], 3) + \", +\" + \"{:.{}f}\".format( np.subtract(xvals_interp[idx_1sig_high],xvals_interp[idx]), 3) \n",
    "          + \", -\" + \"{:.{}f}\".format( np.subtract(xvals_interp[idx],xvals_interp[idx_1sig_low]), 3) +\"\\n\"+\\\n",
    "          \"Fe/H based on shortest range (orange): \"\n",
    "          + \"{:.{}f}\".format( shortest_xrange_halfway, 3) + \", +\" + \"{:.{}f}\".format( np.subtract(shortest_xrange_upper,shortest_xrange_halfway), 3) \n",
    "          + \", -\" + \"{:.{}f}\".format( np.subtract(shortest_xrange_halfway,shortest_xrange_lower), 3))\n",
    "    plt.tight_layout()\n",
    "    plt.savefig(\"junk_images/\" + name_star + \"_cdf.pdf\")\n",
    "    plt.close()"
   ]
  },
  {
   "cell_type": "code",
   "execution_count": 18,
   "metadata": {
    "collapsed": true
   },
   "outputs": [],
   "source": [
    "# consolidate info, remove extra dimension\n",
    "name_star = fake_data_1[\"star_name\"][:].values\n",
    "feh_test = fake_data_1[\"feh_layden\"][:].values\n",
    "params_array = np.squeeze([[name_star],[feh_test]])"
   ]
  },
  {
   "cell_type": "code",
   "execution_count": 20,
   "metadata": {
    "collapsed": false
   },
   "outputs": [],
   "source": [
    "# fyi\n",
    "\n",
    "#params_array[:,1]"
   ]
  },
  {
   "cell_type": "code",
   "execution_count": 21,
   "metadata": {
    "collapsed": false
   },
   "outputs": [],
   "source": [
    "# arrange into a list \n",
    "\n",
    "params_list_star_feh = list(np.transpose(params_array))"
   ]
  },
  {
   "cell_type": "code",
   "execution_count": 22,
   "metadata": {
    "collapsed": false
   },
   "outputs": [],
   "source": [
    "# fyi\n",
    "\n",
    "#params_list_star_feh[4][0]"
   ]
  },
  {
   "cell_type": "code",
   "execution_count": 23,
   "metadata": {
    "collapsed": false
   },
   "outputs": [],
   "source": [
    "## ## single function for parallel processing\n",
    "\n",
    "def map_feh_one_star(params_element):\n",
    "    time_start = time.time()\n",
    "    feh_mapped_array = np.nan*np.ones(len(m_array)) # initialize array\n",
    "    \n",
    "    # get name and Layden Fe/H of star\n",
    "    name_star = params_element[:][0]\n",
    "    feh_test = params_element[:][1]\n",
    "    print(\"Star:\")\n",
    "    print(name_star)\n",
    "    print(\"Layden Fe/H:\")\n",
    "    print(feh_test)\n",
    "    \n",
    "    for sample_num in range(0,len(m_array)):\n",
    "    \n",
    "        feh_mapped_1sample = m_array[sample_num]*feh_test + b_array[sample_num]\n",
    "        feh_mapped_array[sample_num] = feh_mapped_1sample\n",
    "        \n",
    "    # take one basis set Fe/H (integral over a Gaussian) and find what the mapped value should be \n",
    "    N = 100 # number of samples to take within the Gaussian error around Layden's Fe/H value\n",
    "    gaussian_spread = 0.07\n",
    "    layden_feh = feh_test # this is the discrete value\n",
    "    feh_mapped_array = np.nan*np.ones((len(m_array),N)) # N_m_samples x N_Layden_samples\n",
    "\n",
    "    # loop over each sample within the Gaussian around Layden's Fe/H\n",
    "    for integal_piece in range(0,N):\n",
    "    \n",
    "        # set the offset (note mu=0; this is a relative offset)\n",
    "        offset = np.random.normal(loc = 0.0, scale = gaussian_spread)\n",
    "    \n",
    "        # loop over all (m,b) combinations found further above\n",
    "        for sample_num in range(0,len(m_array)):\n",
    "    \n",
    "            feh_mapped_1sample = m_array[sample_num]*layden_feh*(1. + offset) + b_array[sample_num]\n",
    "            feh_mapped_array[sample_num][integal_piece] = feh_mapped_1sample\n",
    "    \n",
    "    # make plots\n",
    "    make_hist_plot(name_star,feh_mapped_array)\n",
    "    make_cdf_plot(name_star,feh_mapped_array)\n",
    "\n",
    "    print(\"Elapsed time:\")\n",
    "    print(str(time.time() - time_start))\n",
    "    print(\"--------------------------\")"
   ]
  },
  {
   "cell_type": "code",
   "execution_count": 28,
   "metadata": {
    "collapsed": false
   },
   "outputs": [
    {
     "name": "stdout",
     "output_type": "stream",
     "text": [
      "Star:\n",
      "Star:\n",
      "Star:\n",
      "AV Peg\n",
      "Star:\n",
      "SW And\n",
      "Layden Fe/H:\n",
      "CN Lyr\n",
      "Layden Fe/H:\n",
      "VY Ser\n",
      "Layden Fe/H:\n",
      "-0.26\n",
      "Layden Fe/H:\n",
      "-0.14\n",
      "-0.38\n",
      "-1.82\n",
      "Line parameters\n",
      "[-0.04551422  0.04848954]\n",
      "K-S test\n",
      "0.925928903240767\n",
      "Line parameters\n",
      "[-0.16432131  0.04626067]\n",
      "K-S test\n",
      "0.0\n",
      "Fe/H at 50 percentile\n",
      "-0.045252289846144156\n",
      "1-sigma interval\n",
      "-0.0952522898461442\n",
      "0.001747710153855886\n",
      "0.9998088961352931\n",
      "Line parameters\n",
      "[-0.28316542  0.04613216]\n",
      "K-S test\n",
      "0.0\n",
      "0.9999999995825217\n",
      "Fe/H at 50 percentile\n",
      "-0.16375809458245372\n",
      "1-sigma interval\n",
      "-0.21175809458245376\n",
      "-0.11875809458245368\n",
      "0.0\n",
      "Fe/H at 50 percentile\n",
      "-0.2835050441225995\n",
      "1-sigma interval\n",
      "-0.32950504412259957\n",
      "-0.23750504412259948\n",
      "Line parameters\n",
      "[-1.70339791  0.1344584 ]\n",
      "K-S test\n",
      "1.0\n",
      "Elapsed time:\n",
      "8.760661125183105\n",
      "--------------------------\n",
      "Star:\n",
      "AR Per\n",
      "Layden Fe/H:\n",
      "0.0\n",
      "-0.43\n",
      "Fe/H at 50 percentile\n",
      "-1.7033008349412864\n",
      "1-sigma interval\n",
      "-1.8413008349412712\n",
      "-1.5683008349413012\n",
      "Elapsed time:\n",
      "9.098933935165405\n",
      "--------------------------\n",
      "Star:\n",
      "DM Cyg\n",
      "Layden Fe/H:\n",
      "-0.14\n",
      "Elapsed time:\n",
      "9.253849983215332\n",
      "--------------------------\n",
      "Star:\n",
      "X Ari\n",
      "Layden Fe/H:\n",
      "-2.4\n",
      "Elapsed time:\n",
      "9.928972005844116\n",
      "--------------------------\n",
      "Star:\n",
      "ST Boo\n",
      "Layden Fe/H:\n",
      "-1.86\n",
      "Line parameters\n",
      "[-0.04484166  0.0484361 ]\n",
      "K-S test\n",
      "0.9253660731001028\n",
      "Line parameters\n",
      "[-0.33087317  0.04562416]\n",
      "K-S test\n",
      "0.0\n",
      "Fe/H at 50 percentile\n",
      "-0.044423540190850264\n",
      "1-sigma interval\n",
      "-0.09542354019085031\n",
      "0.002576459809149778\n",
      "0.9999999999997949\n",
      "Line parameters\n",
      "[-2.2700085  0.1664399]\n",
      "0.0\n",
      "K-S test\n",
      "Fe/H at 50 percentile\n",
      "-0.3305082431883887\n",
      "1-sigma interval\n",
      "-0.3765082431883887\n",
      "-0.28550824318838863\n",
      "1.0\n",
      "0.0\n",
      "Fe/H at 50 percentile\n",
      "-2.274067704106907\n",
      "1-sigma interval\n",
      "-2.42906770410689\n",
      "-2.0950677041069268\n",
      "Elapsed time:\n",
      "8.704429864883423\n",
      "--------------------------\n",
      "Star:\n",
      "DO Vir\n",
      "Layden Fe/H:\n",
      "-0.8\n",
      "Elapsed time:\n",
      "9.797209978103638\n",
      "--------------------------\n",
      "Star:\n",
      "VY Ser\n",
      "Layden Fe/H:\n",
      "-1.82\n",
      "Elapsed time:\n",
      "9.629337072372437\n",
      "--------------------------\n",
      "Star:\n",
      "RS Boo\n",
      "Layden Fe/H:\n",
      "-0.32\n",
      "Line parameters\n",
      "[-1.73903846  0.12632573]\n",
      "K-S test\n",
      "1.0\n",
      "0.0\n",
      "Fe/H at 50 percentile\n",
      "-1.7420743387639943\n",
      "1-sigma interval\n",
      "-1.8590743387639814\n",
      "-1.6050743387640094\n",
      "Elapsed time:\n",
      "11.115961074829102\n",
      "--------------------------\n",
      "Star:\n",
      "RR Lyr\n",
      "Layden Fe/H:\n",
      "-1.37\n",
      "Line parameters\n",
      "[-0.70446042  0.05642281]\n",
      "K-S test\n",
      "1.0\n",
      "0.0\n",
      "Fe/H at 50 percentile\n",
      "-0.7041489320329034\n",
      "1-sigma interval\n",
      "-0.7621489320329035\n",
      "-0.6491489320329034\n",
      "Line parameters\n",
      "[-0.22656841  0.04525741]\n",
      "K-S test\n",
      "0.9999997224488527\n",
      "0.0\n",
      "Fe/H at 50 percentile\n",
      "-0.22640127338251398\n",
      "1-sigma interval\n",
      "-0.272401273382514\n",
      "-0.18240127338251394\n",
      "Line parameters\n",
      "[-1.71797646  0.12072613]\n",
      "K-S test\n",
      "1.0\n",
      "0.0\n",
      "Fe/H at 50 percentile\n",
      "-1.7153979168132256\n",
      "1-sigma interval\n",
      "-1.8433979168132115\n",
      "-1.5993979168132384\n",
      "Elapsed time:\n",
      "12.420593023300171\n",
      "--------------------------\n",
      "Star:\n",
      "DX Del\n",
      "Layden Fe/H:\n"
     ]
    },
    {
     "name": "stderr",
     "output_type": "stream",
     "text": [
      "Process ForkPoolWorker-8:\n"
     ]
    },
    {
     "ename": "KeyboardInterrupt",
     "evalue": "",
     "output_type": "error",
     "traceback": [
      "\u001b[0;31m---------------------------------------------------------------------------\u001b[0m",
      "\u001b[0;31mKeyboardInterrupt\u001b[0m                         Traceback (most recent call last)",
      "\u001b[0;32m<ipython-input-28-b5b7cc758e8d>\u001b[0m in \u001b[0;36m<module>\u001b[0;34m()\u001b[0m\n\u001b[1;32m      4\u001b[0m \u001b[0mncpu\u001b[0m \u001b[0;34m=\u001b[0m \u001b[0mmultiprocessing\u001b[0m\u001b[0;34m.\u001b[0m\u001b[0mcpu_count\u001b[0m\u001b[0;34m(\u001b[0m\u001b[0;34m)\u001b[0m\u001b[0;34m\u001b[0m\u001b[0m\n\u001b[1;32m      5\u001b[0m \u001b[0mpool\u001b[0m \u001b[0;34m=\u001b[0m \u001b[0mPool\u001b[0m\u001b[0;34m(\u001b[0m\u001b[0mncpu\u001b[0m\u001b[0;34m)\u001b[0m\u001b[0;34m\u001b[0m\u001b[0m\n\u001b[0;32m----> 6\u001b[0;31m \u001b[0moutdat\u001b[0m \u001b[0;34m=\u001b[0m \u001b[0mpool\u001b[0m\u001b[0;34m.\u001b[0m\u001b[0mmap\u001b[0m\u001b[0;34m(\u001b[0m\u001b[0mmap_feh_one_star\u001b[0m\u001b[0;34m,\u001b[0m\u001b[0mparams_list_star_feh\u001b[0m\u001b[0;34m)\u001b[0m\u001b[0;34m\u001b[0m\u001b[0m\n\u001b[0m\u001b[1;32m      7\u001b[0m \u001b[0mpool\u001b[0m\u001b[0;34m.\u001b[0m\u001b[0mclose\u001b[0m\u001b[0;34m(\u001b[0m\u001b[0;34m)\u001b[0m\u001b[0;34m\u001b[0m\u001b[0m\n",
      "\u001b[0;32m/Users/nyumbani/anaconda3/lib/python3.5/multiprocessing/pool.py\u001b[0m in \u001b[0;36mmap\u001b[0;34m(self, func, iterable, chunksize)\u001b[0m\n\u001b[1;32m    264\u001b[0m         \u001b[0;32min\u001b[0m \u001b[0ma\u001b[0m \u001b[0mlist\u001b[0m \u001b[0mthat\u001b[0m \u001b[0;32mis\u001b[0m \u001b[0mreturned\u001b[0m\u001b[0;34m.\u001b[0m\u001b[0;34m\u001b[0m\u001b[0m\n\u001b[1;32m    265\u001b[0m         '''\n\u001b[0;32m--> 266\u001b[0;31m         \u001b[0;32mreturn\u001b[0m \u001b[0mself\u001b[0m\u001b[0;34m.\u001b[0m\u001b[0m_map_async\u001b[0m\u001b[0;34m(\u001b[0m\u001b[0mfunc\u001b[0m\u001b[0;34m,\u001b[0m \u001b[0miterable\u001b[0m\u001b[0;34m,\u001b[0m \u001b[0mmapstar\u001b[0m\u001b[0;34m,\u001b[0m \u001b[0mchunksize\u001b[0m\u001b[0;34m)\u001b[0m\u001b[0;34m.\u001b[0m\u001b[0mget\u001b[0m\u001b[0;34m(\u001b[0m\u001b[0;34m)\u001b[0m\u001b[0;34m\u001b[0m\u001b[0m\n\u001b[0m\u001b[1;32m    267\u001b[0m \u001b[0;34m\u001b[0m\u001b[0m\n\u001b[1;32m    268\u001b[0m     \u001b[0;32mdef\u001b[0m \u001b[0mstarmap\u001b[0m\u001b[0;34m(\u001b[0m\u001b[0mself\u001b[0m\u001b[0;34m,\u001b[0m \u001b[0mfunc\u001b[0m\u001b[0;34m,\u001b[0m \u001b[0miterable\u001b[0m\u001b[0;34m,\u001b[0m \u001b[0mchunksize\u001b[0m\u001b[0;34m=\u001b[0m\u001b[0;32mNone\u001b[0m\u001b[0;34m)\u001b[0m\u001b[0;34m:\u001b[0m\u001b[0;34m\u001b[0m\u001b[0m\n",
      "\u001b[0;32m/Users/nyumbani/anaconda3/lib/python3.5/multiprocessing/pool.py\u001b[0m in \u001b[0;36mget\u001b[0;34m(self, timeout)\u001b[0m\n\u001b[1;32m    636\u001b[0m \u001b[0;34m\u001b[0m\u001b[0m\n\u001b[1;32m    637\u001b[0m     \u001b[0;32mdef\u001b[0m \u001b[0mget\u001b[0m\u001b[0;34m(\u001b[0m\u001b[0mself\u001b[0m\u001b[0;34m,\u001b[0m \u001b[0mtimeout\u001b[0m\u001b[0;34m=\u001b[0m\u001b[0;32mNone\u001b[0m\u001b[0;34m)\u001b[0m\u001b[0;34m:\u001b[0m\u001b[0;34m\u001b[0m\u001b[0m\n\u001b[0;32m--> 638\u001b[0;31m         \u001b[0mself\u001b[0m\u001b[0;34m.\u001b[0m\u001b[0mwait\u001b[0m\u001b[0;34m(\u001b[0m\u001b[0mtimeout\u001b[0m\u001b[0;34m)\u001b[0m\u001b[0;34m\u001b[0m\u001b[0m\n\u001b[0m\u001b[1;32m    639\u001b[0m         \u001b[0;32mif\u001b[0m \u001b[0;32mnot\u001b[0m \u001b[0mself\u001b[0m\u001b[0;34m.\u001b[0m\u001b[0mready\u001b[0m\u001b[0;34m(\u001b[0m\u001b[0;34m)\u001b[0m\u001b[0;34m:\u001b[0m\u001b[0;34m\u001b[0m\u001b[0m\n\u001b[1;32m    640\u001b[0m             \u001b[0;32mraise\u001b[0m \u001b[0mTimeoutError\u001b[0m\u001b[0;34m\u001b[0m\u001b[0m\n",
      "\u001b[0;32m/Users/nyumbani/anaconda3/lib/python3.5/multiprocessing/pool.py\u001b[0m in \u001b[0;36mwait\u001b[0;34m(self, timeout)\u001b[0m\n\u001b[1;32m    633\u001b[0m \u001b[0;34m\u001b[0m\u001b[0m\n\u001b[1;32m    634\u001b[0m     \u001b[0;32mdef\u001b[0m \u001b[0mwait\u001b[0m\u001b[0;34m(\u001b[0m\u001b[0mself\u001b[0m\u001b[0;34m,\u001b[0m \u001b[0mtimeout\u001b[0m\u001b[0;34m=\u001b[0m\u001b[0;32mNone\u001b[0m\u001b[0;34m)\u001b[0m\u001b[0;34m:\u001b[0m\u001b[0;34m\u001b[0m\u001b[0m\n\u001b[0;32m--> 635\u001b[0;31m         \u001b[0mself\u001b[0m\u001b[0;34m.\u001b[0m\u001b[0m_event\u001b[0m\u001b[0;34m.\u001b[0m\u001b[0mwait\u001b[0m\u001b[0;34m(\u001b[0m\u001b[0mtimeout\u001b[0m\u001b[0;34m)\u001b[0m\u001b[0;34m\u001b[0m\u001b[0m\n\u001b[0m\u001b[1;32m    636\u001b[0m \u001b[0;34m\u001b[0m\u001b[0m\n\u001b[1;32m    637\u001b[0m     \u001b[0;32mdef\u001b[0m \u001b[0mget\u001b[0m\u001b[0;34m(\u001b[0m\u001b[0mself\u001b[0m\u001b[0;34m,\u001b[0m \u001b[0mtimeout\u001b[0m\u001b[0;34m=\u001b[0m\u001b[0;32mNone\u001b[0m\u001b[0;34m)\u001b[0m\u001b[0;34m:\u001b[0m\u001b[0;34m\u001b[0m\u001b[0m\n",
      "\u001b[0;32m/Users/nyumbani/anaconda3/lib/python3.5/threading.py\u001b[0m in \u001b[0;36mwait\u001b[0;34m(self, timeout)\u001b[0m\n\u001b[1;32m    547\u001b[0m             \u001b[0msignaled\u001b[0m \u001b[0;34m=\u001b[0m \u001b[0mself\u001b[0m\u001b[0;34m.\u001b[0m\u001b[0m_flag\u001b[0m\u001b[0;34m\u001b[0m\u001b[0m\n\u001b[1;32m    548\u001b[0m             \u001b[0;32mif\u001b[0m \u001b[0;32mnot\u001b[0m \u001b[0msignaled\u001b[0m\u001b[0;34m:\u001b[0m\u001b[0;34m\u001b[0m\u001b[0m\n\u001b[0;32m--> 549\u001b[0;31m                 \u001b[0msignaled\u001b[0m \u001b[0;34m=\u001b[0m \u001b[0mself\u001b[0m\u001b[0;34m.\u001b[0m\u001b[0m_cond\u001b[0m\u001b[0;34m.\u001b[0m\u001b[0mwait\u001b[0m\u001b[0;34m(\u001b[0m\u001b[0mtimeout\u001b[0m\u001b[0;34m)\u001b[0m\u001b[0;34m\u001b[0m\u001b[0m\n\u001b[0m\u001b[1;32m    550\u001b[0m             \u001b[0;32mreturn\u001b[0m \u001b[0msignaled\u001b[0m\u001b[0;34m\u001b[0m\u001b[0m\n\u001b[1;32m    551\u001b[0m \u001b[0;34m\u001b[0m\u001b[0m\n",
      "\u001b[0;32m/Users/nyumbani/anaconda3/lib/python3.5/threading.py\u001b[0m in \u001b[0;36mwait\u001b[0;34m(self, timeout)\u001b[0m\n\u001b[1;32m    291\u001b[0m         \u001b[0;32mtry\u001b[0m\u001b[0;34m:\u001b[0m    \u001b[0;31m# restore state no matter what (e.g., KeyboardInterrupt)\u001b[0m\u001b[0;34m\u001b[0m\u001b[0m\n\u001b[1;32m    292\u001b[0m             \u001b[0;32mif\u001b[0m \u001b[0mtimeout\u001b[0m \u001b[0;32mis\u001b[0m \u001b[0;32mNone\u001b[0m\u001b[0;34m:\u001b[0m\u001b[0;34m\u001b[0m\u001b[0m\n\u001b[0;32m--> 293\u001b[0;31m                 \u001b[0mwaiter\u001b[0m\u001b[0;34m.\u001b[0m\u001b[0macquire\u001b[0m\u001b[0;34m(\u001b[0m\u001b[0;34m)\u001b[0m\u001b[0;34m\u001b[0m\u001b[0m\n\u001b[0m\u001b[1;32m    294\u001b[0m                 \u001b[0mgotit\u001b[0m \u001b[0;34m=\u001b[0m \u001b[0;32mTrue\u001b[0m\u001b[0;34m\u001b[0m\u001b[0m\n\u001b[1;32m    295\u001b[0m             \u001b[0;32melse\u001b[0m\u001b[0;34m:\u001b[0m\u001b[0;34m\u001b[0m\u001b[0m\n",
      "\u001b[0;31mKeyboardInterrupt\u001b[0m: "
     ]
    },
    {
     "name": "stderr",
     "output_type": "stream",
     "text": [
      "Traceback (most recent call last):\n",
      "  File \"/Users/nyumbani/anaconda3/lib/python3.5/multiprocessing/process.py\", line 252, in _bootstrap\n",
      "    self.run()\n",
      "  File \"/Users/nyumbani/anaconda3/lib/python3.5/multiprocessing/process.py\", line 93, in run\n",
      "    self._target(*self._args, **self._kwargs)\n",
      "  File \"/Users/nyumbani/anaconda3/lib/python3.5/multiprocessing/pool.py\", line 119, in worker\n",
      "    result = (True, func(*args, **kwds))\n"
     ]
    }
   ],
   "source": [
    "# parallel process\n",
    "\n",
    "#map_feh = map_feh_one_star()\n",
    "ncpu = multiprocessing.cpu_count()\n",
    "pool = Pool(ncpu)\n",
    "outdat = pool.map(map_feh_one_star,params_list_star_feh)\n",
    "pool.close()"
   ]
  },
  {
   "cell_type": "markdown",
   "metadata": {},
   "source": [
    "# Step 2: Find the remapping of literature metallicities, with errors"
   ]
  },
  {
   "cell_type": "markdown",
   "metadata": {},
   "source": [
    "# Step 3: Find the calibration coefficients (a,b,c,d) with errors"
   ]
  },
  {
   "cell_type": "code",
   "execution_count": null,
   "metadata": {
    "collapsed": true
   },
   "outputs": [],
   "source": []
  }
 ],
 "metadata": {
  "kernelspec": {
   "display_name": "Python 3",
   "language": "python",
   "name": "python3"
  },
  "language_info": {
   "codemirror_mode": {
    "name": "ipython",
    "version": 3
   },
   "file_extension": ".py",
   "mimetype": "text/x-python",
   "name": "python",
   "nbconvert_exporter": "python",
   "pygments_lexer": "ipython3",
   "version": "3.5.4"
  }
 },
 "nbformat": 4,
 "nbformat_minor": 0
}
