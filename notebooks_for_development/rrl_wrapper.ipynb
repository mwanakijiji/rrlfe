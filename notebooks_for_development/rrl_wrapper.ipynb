{
 "cells": [
  {
   "cell_type": "code",
   "execution_count": null,
   "metadata": {
    "collapsed": true
   },
   "outputs": [],
   "source": [
    "# This is a wrapper for a command line operation using Robospect and Ken Carrell's \n",
    "# normalization script to\n",
    "\n",
    "# A. REPRODUCE our steps for finding a, b, c, d\n",
    "# B. APPLY our solution to any other spectra to find [Fe/H]\n",
    "\n",
    "# written by E.S."
   ]
  },
  {
   "cell_type": "code",
   "execution_count": 1,
   "metadata": {
    "collapsed": true
   },
   "outputs": [],
   "source": [
    "import subprocess\n",
    "import shlex\n",
    "from subprocess import call\n",
    "from subprocess import Popen\n",
    "import pandas as pd\n",
    "import matplotlib\n",
    "import matplotlib.pyplot as plt\n",
    "import numpy as np\n",
    "import os, os.path\n",
    "import pandas as pd\n",
    "import sys\n",
    "from pylab import * "
   ]
  },
  {
   "cell_type": "code",
   "execution_count": 2,
   "metadata": {
    "collapsed": true
   },
   "outputs": [],
   "source": [
    "##############################################################################\n",
    "# STEP 1: NORMALIZE SPECTRA (general fcn for A and B)\n",
    "##############################################################################"
   ]
  },
  {
   "cell_type": "code",
   "execution_count": 2,
   "metadata": {},
   "outputs": [],
   "source": [
    "# compile Carrell's normalization code\n",
    "# (see carrell_readme.txt)\n",
    "normzn_compile1 = shlex.split(\"g++ -o bkgrnd bkgrnd.cc\")\n",
    "normzn_compile2 = subprocess.Popen(normzn_compile1) # run"
   ]
  },
  {
   "cell_type": "code",
   "execution_count": 3,
   "metadata": {
    "collapsed": true
   },
   "outputs": [],
   "source": [
    "# run the normalization routine on the data\n",
    "\n",
    "normzn_run1 = shlex.split(\"./bkgrnd --smooth 22 input_file\")\n",
    "normzn_run2 = subprocess.Popen(normzn_run1, stdout=subprocess.PIPE, stderr=subprocess.PIPE) # run and capture output"
   ]
  },
  {
   "cell_type": "code",
   "execution_count": 4,
   "metadata": {
    "collapsed": true
   },
   "outputs": [],
   "source": [
    "# make list of all output files\n",
    "\n",
    "dir_name = 'test_output/'\n",
    "list_output_files = [name for name in os.listdir(dir_name) if os.path.isfile(os.path.join(dir_name, name))]"
   ]
  },
  {
   "cell_type": "code",
   "execution_count": 6,
   "metadata": {
    "collapsed": true
   },
   "outputs": [],
   "source": [
    "# divide the second column of the output files (empirical) with the third (normalization) \n",
    "\n",
    "header = ['WAVELENGTH', 'FLUX'] # headers of output file that Robospect will use (see Robospect user manual)\n",
    "for filenum in range(0,len(list_output_files)):\n",
    "    df = pd.read_csv('test_output/'+str(list_output_files[filenum]), delim_whitespace=True, header=None)\n",
    "    df['WAVELENGTH'] = df[0]\n",
    "    df['FLUX'] = np.divide(df[1],df[2]) # normalize\n",
    "    df.to_csv('test_normzed_output/output.csv', columns = header, index = False, sep = ' ') # write out file \n",
    "    del df"
   ]
  },
  {
   "cell_type": "code",
   "execution_count": null,
   "metadata": {
    "collapsed": true
   },
   "outputs": [],
   "source": [
    "##############################################################################\n",
    "# STEP 2: MAKE A BUNCH OF SYNTHETIC SPECTRA WITH DIFFERENT NOISE VALUES (general fcn for A and B)\n",
    "##############################################################################"
   ]
  },
  {
   "cell_type": "code",
   "execution_count": null,
   "metadata": {
    "collapsed": true
   },
   "outputs": [],
   "source": [
    "##############################################################################\n",
    "# STEP 3: RUN ROBOSPECT ON THE NORMALIZED SYNTHETIC SPECTRA AND WRITE OUT VALUES (general fcn for A and B)\n",
    "##############################################################################"
   ]
  },
  {
   "cell_type": "code",
   "execution_count": 23,
   "metadata": {},
   "outputs": [
    {
     "data": {
      "text/plain": [
       "2"
      ]
     },
     "execution_count": 23,
     "metadata": {},
     "output_type": "execute_result"
    }
   ],
   "source": [
    "# RECALL: it must be run in our way of making realistic errors"
   ]
  },
  {
   "cell_type": "code",
   "execution_count": null,
   "metadata": {
    "collapsed": true
   },
   "outputs": [],
   "source": [
    "Nathan says to use Popen in the subprocess: just give it a full string, then comma-shell=True"
   ]
  },
  {
   "cell_type": "code",
   "execution_count": null,
   "metadata": {
    "collapsed": true
   },
   "outputs": [],
   "source": [
    "lstool = Popen([\"vartools -i ../temp_lc.cur -ascii -redirectstats ../ls.stat -header -LS 0.1 10. 0.1 2 1 ../ whiten clip 5. 1\"],shell=True) lstool.wait()"
   ]
  },
  {
   "cell_type": "code",
   "execution_count": null,
   "metadata": {
    "collapsed": true
   },
   "outputs": [],
   "source": [
    "make wrapper catch anything that robospect tries to print to terminal (3 pipes in any process: StdIn, StdOut, and StdError)"
   ]
  },
  {
   "cell_type": "code",
   "execution_count": null,
   "metadata": {
    "collapsed": true
   },
   "outputs": [],
   "source": [
    "another version:\n",
    "    \n",
    "another version, less risk in the sense that you have access to the pipe, so that you can actually print StdError\n",
    "\n",
    "from subprocess import Popen, PIPE\n",
    "#Run LCmain with form data \n",
    "\n",
    "prog = Popen(['./LCmain.py','{}'.format(templatefile),'-o','{}'.format(obsfile), '-a','{}'.format(a),'-e','{}'.format(e),'-p','{}'.format(p), '--phase','{}'.format(phase), '-s','{}'.format(s), '--max','{}'.format(max), '--min','{}'.format(min), '-f','{}'.format(f), '-i','{}'.format(i), '--poisson','{}'.format(poisson),'-z','{}'.format(z), '-d','{}'.format(d),'--name','{}'.format(name), '-n','{}'.format(n),'--flux','{}'.format(flux)], stdout=PIPE) prog.wait() #Output files and leave them available to download print prog.communicate()[0]"
   ]
  },
  {
   "cell_type": "code",
   "execution_count": 4,
   "metadata": {},
   "outputs": [],
   "source": [
    "#subprocess.check_output(['ls','-l']) #all that is technically needed...\n",
    "#print(subprocess.check_output(['ls','-l']))\n",
    "#command1 = 'export LD_LIBRARY_PATH=/home/robospect/es/libs/lib'\n",
    "command2 = 'for filename in *_*.dat; do ./src/robospect -F \"$filename\"; done'\n",
    "command2b = 'for filename in *_*.dat; do print; done'\n",
    "#command2 = './src/robospect -F TV_Lyn_05.dat'\n",
    "#test1 = shlex.quote(command1)\n",
    "#test2 = shlex.quote(command2b)\n",
    "#print(test2)\n",
    "#call(test2, shell=True) "
   ]
  },
  {
   "cell_type": "code",
   "execution_count": 5,
   "metadata": {},
   "outputs": [],
   "source": [
    "args = shlex.split(command2)"
   ]
  },
  {
   "cell_type": "code",
   "execution_count": 6,
   "metadata": {},
   "outputs": [
    {
     "name": "stdout",
     "output_type": "stream",
     "text": [
      "['for', 'filename', 'in', '*_*.dat;', 'do', './src/robospect', '-F', '$filename;', 'done']\n"
     ]
    }
   ],
   "source": [
    "print(args)"
   ]
  },
  {
   "cell_type": "code",
   "execution_count": 8,
   "metadata": {},
   "outputs": [],
   "source": [
    "p = subprocess.Popen(args, shell=True)"
   ]
  },
  {
   "cell_type": "code",
   "execution_count": 14,
   "metadata": {},
   "outputs": [
    {
     "ename": "TypeError",
     "evalue": "bufsize must be an integer",
     "output_type": "error",
     "traceback": [
      "\u001b[1;31m---------------------------------------------------------------------------\u001b[0m",
      "\u001b[1;31mTypeError\u001b[0m                                 Traceback (most recent call last)",
      "\u001b[1;32m<ipython-input-14-9bd2cbbad043>\u001b[0m in \u001b[0;36m<module>\u001b[1;34m()\u001b[0m\n\u001b[0;32m      2\u001b[0m \u001b[1;31m#print(subprocess.check_output(['ls','-l']))\u001b[0m\u001b[1;33m\u001b[0m\u001b[1;33m\u001b[0m\u001b[0m\n\u001b[0;32m      3\u001b[0m \u001b[1;33m\u001b[0m\u001b[0m\n\u001b[1;32m----> 4\u001b[1;33m \u001b[0mcall\u001b[0m\u001b[1;33m(\u001b[0m\u001b[1;34m'./src/robospect'\u001b[0m\u001b[1;33m,\u001b[0m\u001b[1;34m'-F'\u001b[0m\u001b[1;33m,\u001b[0m\u001b[1;34m'TV_Lyn_05.dat'\u001b[0m\u001b[1;33m)\u001b[0m\u001b[1;33m\u001b[0m\u001b[0m\n\u001b[0m",
      "\u001b[1;32m/home/unasemaje/anaconda3/lib/python3.5/subprocess.py\u001b[0m in \u001b[0;36mcall\u001b[1;34m(timeout, *popenargs, **kwargs)\u001b[0m\n\u001b[0;32m    245\u001b[0m     \u001b[0mretcode\u001b[0m \u001b[1;33m=\u001b[0m \u001b[0mcall\u001b[0m\u001b[1;33m(\u001b[0m\u001b[1;33m[\u001b[0m\u001b[1;34m\"ls\"\u001b[0m\u001b[1;33m,\u001b[0m \u001b[1;34m\"-l\"\u001b[0m\u001b[1;33m]\u001b[0m\u001b[1;33m)\u001b[0m\u001b[1;33m\u001b[0m\u001b[0m\n\u001b[0;32m    246\u001b[0m     \"\"\"\n\u001b[1;32m--> 247\u001b[1;33m     \u001b[1;32mwith\u001b[0m \u001b[0mPopen\u001b[0m\u001b[1;33m(\u001b[0m\u001b[1;33m*\u001b[0m\u001b[0mpopenargs\u001b[0m\u001b[1;33m,\u001b[0m \u001b[1;33m**\u001b[0m\u001b[0mkwargs\u001b[0m\u001b[1;33m)\u001b[0m \u001b[1;32mas\u001b[0m \u001b[0mp\u001b[0m\u001b[1;33m:\u001b[0m\u001b[1;33m\u001b[0m\u001b[0m\n\u001b[0m\u001b[0;32m    248\u001b[0m         \u001b[1;32mtry\u001b[0m\u001b[1;33m:\u001b[0m\u001b[1;33m\u001b[0m\u001b[0m\n\u001b[0;32m    249\u001b[0m             \u001b[1;32mreturn\u001b[0m \u001b[0mp\u001b[0m\u001b[1;33m.\u001b[0m\u001b[0mwait\u001b[0m\u001b[1;33m(\u001b[0m\u001b[0mtimeout\u001b[0m\u001b[1;33m=\u001b[0m\u001b[0mtimeout\u001b[0m\u001b[1;33m)\u001b[0m\u001b[1;33m\u001b[0m\u001b[0m\n",
      "\u001b[1;32m/home/unasemaje/anaconda3/lib/python3.5/subprocess.py\u001b[0m in \u001b[0;36m__init__\u001b[1;34m(self, args, bufsize, executable, stdin, stdout, stderr, preexec_fn, close_fds, shell, cwd, env, universal_newlines, startupinfo, creationflags, restore_signals, start_new_session, pass_fds)\u001b[0m\n\u001b[0;32m    582\u001b[0m             \u001b[0mbufsize\u001b[0m \u001b[1;33m=\u001b[0m \u001b[1;33m-\u001b[0m\u001b[1;36m1\u001b[0m  \u001b[1;31m# Restore default\u001b[0m\u001b[1;33m\u001b[0m\u001b[0m\n\u001b[0;32m    583\u001b[0m         \u001b[1;32mif\u001b[0m \u001b[1;32mnot\u001b[0m \u001b[0misinstance\u001b[0m\u001b[1;33m(\u001b[0m\u001b[0mbufsize\u001b[0m\u001b[1;33m,\u001b[0m \u001b[0mint\u001b[0m\u001b[1;33m)\u001b[0m\u001b[1;33m:\u001b[0m\u001b[1;33m\u001b[0m\u001b[0m\n\u001b[1;32m--> 584\u001b[1;33m             \u001b[1;32mraise\u001b[0m \u001b[0mTypeError\u001b[0m\u001b[1;33m(\u001b[0m\u001b[1;34m\"bufsize must be an integer\"\u001b[0m\u001b[1;33m)\u001b[0m\u001b[1;33m\u001b[0m\u001b[0m\n\u001b[0m\u001b[0;32m    585\u001b[0m \u001b[1;33m\u001b[0m\u001b[0m\n\u001b[0;32m    586\u001b[0m         \u001b[1;32mif\u001b[0m \u001b[0m_mswindows\u001b[0m\u001b[1;33m:\u001b[0m\u001b[1;33m\u001b[0m\u001b[0m\n",
      "\u001b[1;31mTypeError\u001b[0m: bufsize must be an integer"
     ]
    }
   ],
   "source": [
    "#subprocess.check_output(['ls','-l']) #all that is technically needed...\n",
    "#print(subprocess.check_output(['ls','-l']))\n",
    "\n",
    "call('./src/robospect','-F','TV_Lyn_05.dat')"
   ]
  },
  {
   "cell_type": "code",
   "execution_count": 8,
   "metadata": {},
   "outputs": [
    {
     "ename": "FileNotFoundError",
     "evalue": "[Errno 2] No such file or directory: 'for'",
     "output_type": "error",
     "traceback": [
      "\u001b[1;31m---------------------------------------------------------------------------\u001b[0m",
      "\u001b[1;31mFileNotFoundError\u001b[0m                         Traceback (most recent call last)",
      "\u001b[1;32m<ipython-input-8-f21412d5ce8a>\u001b[0m in \u001b[0;36m<module>\u001b[1;34m()\u001b[0m\n\u001b[0;32m      3\u001b[0m \u001b[1;33m\u001b[0m\u001b[0m\n\u001b[0;32m      4\u001b[0m subprocess.call(['for','filename','in','*_*.dat;','do','./src/robospect','-F','\"$filename\";',\n\u001b[1;32m----> 5\u001b[1;33m                  'done'])\n\u001b[0m",
      "\u001b[1;32m/home/unasemaje/anaconda3/lib/python3.5/subprocess.py\u001b[0m in \u001b[0;36mcall\u001b[1;34m(timeout, *popenargs, **kwargs)\u001b[0m\n\u001b[0;32m    245\u001b[0m     \u001b[0mretcode\u001b[0m \u001b[1;33m=\u001b[0m \u001b[0mcall\u001b[0m\u001b[1;33m(\u001b[0m\u001b[1;33m[\u001b[0m\u001b[1;34m\"ls\"\u001b[0m\u001b[1;33m,\u001b[0m \u001b[1;34m\"-l\"\u001b[0m\u001b[1;33m]\u001b[0m\u001b[1;33m)\u001b[0m\u001b[1;33m\u001b[0m\u001b[0m\n\u001b[0;32m    246\u001b[0m     \"\"\"\n\u001b[1;32m--> 247\u001b[1;33m     \u001b[1;32mwith\u001b[0m \u001b[0mPopen\u001b[0m\u001b[1;33m(\u001b[0m\u001b[1;33m*\u001b[0m\u001b[0mpopenargs\u001b[0m\u001b[1;33m,\u001b[0m \u001b[1;33m**\u001b[0m\u001b[0mkwargs\u001b[0m\u001b[1;33m)\u001b[0m \u001b[1;32mas\u001b[0m \u001b[0mp\u001b[0m\u001b[1;33m:\u001b[0m\u001b[1;33m\u001b[0m\u001b[0m\n\u001b[0m\u001b[0;32m    248\u001b[0m         \u001b[1;32mtry\u001b[0m\u001b[1;33m:\u001b[0m\u001b[1;33m\u001b[0m\u001b[0m\n\u001b[0;32m    249\u001b[0m             \u001b[1;32mreturn\u001b[0m \u001b[0mp\u001b[0m\u001b[1;33m.\u001b[0m\u001b[0mwait\u001b[0m\u001b[1;33m(\u001b[0m\u001b[0mtimeout\u001b[0m\u001b[1;33m=\u001b[0m\u001b[0mtimeout\u001b[0m\u001b[1;33m)\u001b[0m\u001b[1;33m\u001b[0m\u001b[0m\n",
      "\u001b[1;32m/home/unasemaje/anaconda3/lib/python3.5/subprocess.py\u001b[0m in \u001b[0;36m__init__\u001b[1;34m(self, args, bufsize, executable, stdin, stdout, stderr, preexec_fn, close_fds, shell, cwd, env, universal_newlines, startupinfo, creationflags, restore_signals, start_new_session, pass_fds)\u001b[0m\n\u001b[0;32m    674\u001b[0m                                 \u001b[0mc2pread\u001b[0m\u001b[1;33m,\u001b[0m \u001b[0mc2pwrite\u001b[0m\u001b[1;33m,\u001b[0m\u001b[1;33m\u001b[0m\u001b[0m\n\u001b[0;32m    675\u001b[0m                                 \u001b[0merrread\u001b[0m\u001b[1;33m,\u001b[0m \u001b[0merrwrite\u001b[0m\u001b[1;33m,\u001b[0m\u001b[1;33m\u001b[0m\u001b[0m\n\u001b[1;32m--> 676\u001b[1;33m                                 restore_signals, start_new_session)\n\u001b[0m\u001b[0;32m    677\u001b[0m         \u001b[1;32mexcept\u001b[0m\u001b[1;33m:\u001b[0m\u001b[1;33m\u001b[0m\u001b[0m\n\u001b[0;32m    678\u001b[0m             \u001b[1;31m# Cleanup if the child failed starting.\u001b[0m\u001b[1;33m\u001b[0m\u001b[1;33m\u001b[0m\u001b[0m\n",
      "\u001b[1;32m/home/unasemaje/anaconda3/lib/python3.5/subprocess.py\u001b[0m in \u001b[0;36m_execute_child\u001b[1;34m(self, args, executable, preexec_fn, close_fds, pass_fds, cwd, env, startupinfo, creationflags, shell, p2cread, p2cwrite, c2pread, c2pwrite, errread, errwrite, restore_signals, start_new_session)\u001b[0m\n\u001b[0;32m   1287\u001b[0m                             \u001b[1;32melse\u001b[0m\u001b[1;33m:\u001b[0m\u001b[1;33m\u001b[0m\u001b[0m\n\u001b[0;32m   1288\u001b[0m                                 \u001b[0merr_msg\u001b[0m \u001b[1;33m+=\u001b[0m \u001b[1;34m': '\u001b[0m \u001b[1;33m+\u001b[0m \u001b[0mrepr\u001b[0m\u001b[1;33m(\u001b[0m\u001b[0morig_executable\u001b[0m\u001b[1;33m)\u001b[0m\u001b[1;33m\u001b[0m\u001b[0m\n\u001b[1;32m-> 1289\u001b[1;33m                     \u001b[1;32mraise\u001b[0m \u001b[0mchild_exception_type\u001b[0m\u001b[1;33m(\u001b[0m\u001b[0merrno_num\u001b[0m\u001b[1;33m,\u001b[0m \u001b[0merr_msg\u001b[0m\u001b[1;33m)\u001b[0m\u001b[1;33m\u001b[0m\u001b[0m\n\u001b[0m\u001b[0;32m   1290\u001b[0m                 \u001b[1;32mraise\u001b[0m \u001b[0mchild_exception_type\u001b[0m\u001b[1;33m(\u001b[0m\u001b[0merr_msg\u001b[0m\u001b[1;33m)\u001b[0m\u001b[1;33m\u001b[0m\u001b[0m\n\u001b[0;32m   1291\u001b[0m \u001b[1;33m\u001b[0m\u001b[0m\n",
      "\u001b[1;31mFileNotFoundError\u001b[0m: [Errno 2] No such file or directory: 'for'"
     ]
    }
   ],
   "source": [
    "#subprocess.check_output(['ls','-l']) #all that is technically needed...\n",
    "#print(subprocess.check_output(['ls','-l']))\n",
    "\n",
    "subprocess.call(['for','filename','in','*_*.dat;','do','./src/robospect','-F','\"$filename\";',\n",
    "                 'done'])"
   ]
  },
  {
   "cell_type": "code",
   "execution_count": 16,
   "metadata": {},
   "outputs": [
    {
     "data": {
      "text/plain": [
       "512"
      ]
     },
     "execution_count": 16,
     "metadata": {},
     "output_type": "execute_result"
    }
   ],
   "source": [
    "import os\n",
    "os.system(\"for filename in *_*.dat; do ./src/robospect -F \"$filename\"; done\")"
   ]
  },
  {
   "cell_type": "code",
   "execution_count": 32,
   "metadata": {},
   "outputs": [
    {
     "data": {
      "text/plain": [
       "32512"
      ]
     },
     "execution_count": 32,
     "metadata": {},
     "output_type": "execute_result"
    }
   ],
   "source": [
    "import os\n",
    "os.system(command2)"
   ]
  },
  {
   "cell_type": "code",
   "execution_count": null,
   "metadata": {
    "collapsed": true
   },
   "outputs": [],
   "source": [
    "##############################################################################\n",
    "# STEP 4: READ IN EWS, RESCALE THEM, AVERAGE THEM, PLOT H-K SPACE\n",
    "##############################################################################"
   ]
  },
  {
   "cell_type": "code",
   "execution_count": null,
   "metadata": {
    "collapsed": true
   },
   "outputs": [],
   "source": [
    "# read in line data\n",
    "\n",
    "line_data = pd.read_csv('McDrealiz_largeTable_2017jan21_bad_spectra_removed.csv', delim_whitespace=False)"
   ]
  },
  {
   "cell_type": "code",
   "execution_count": null,
   "metadata": {
    "collapsed": true
   },
   "outputs": [],
   "source": [
    "# make a list of all UNIQUE, EMPIRICAL spectrum names\n",
    "uniqueSpecNames = line_data.drop_duplicates(subset='empir_spec_name')['empir_spec_name']"
   ]
  },
  {
   "cell_type": "code",
   "execution_count": null,
   "metadata": {
    "collapsed": true
   },
   "outputs": [],
   "source": [
    "# fit a straight line to Hgam vs Hdel\n",
    "\n",
    "x_data = line_data['EQW'].where(line_data['line_name'] == 'Hdel').dropna() # Hdel\n",
    "y_data = line_data['EQW'].where(line_data['line_name'] == 'Hgam').dropna() # Hgam\n",
    "Hgam = np.copy(y_data)\n",
    "m,b = polyfit(x_data, y_data, 1) # might want errors later, too "
   ]
  },
  {
   "cell_type": "code",
   "execution_count": null,
   "metadata": {
    "collapsed": true
   },
   "outputs": [],
   "source": [
    "# generate a rescaled Hgam, call it rHgam\n",
    "\n",
    "rHgam_all = np.divide(np.subtract(Hgam,b),m)"
   ]
  },
  {
   "cell_type": "code",
   "execution_count": null,
   "metadata": {
    "collapsed": true
   },
   "outputs": [],
   "source": [
    "# prepare data for a plot\n",
    "\n",
    "# initialize arrays: essential info\n",
    "empir_spec_name_array = []\n",
    "star_name_array = []\n",
    "H_data_array = []\n",
    "K_data_array = []\n",
    "err_H_data_array = [] \n",
    "err_K_data_array = []\n",
    "\n",
    "# initialize arrays: other info\n",
    "Hbet_data_array = []\n",
    "err_Hbet_data_array = []\n",
    "Hgam_data_array = []\n",
    "err_Hgam_data_array = []\n",
    "rHgam_data_array = [] # rescaled Hgamma\n",
    "err_rHgam_data_array = []\n",
    "Hdel_data_array = []\n",
    "err_Hdel_data_array = []\n",
    "Heps_data_array = []\n",
    "err_Heps_data_array = []\n",
    "\n",
    "# loop over every EMPIRICAL spectrum and assemble SYNTHETIC data into arrays\n",
    "for p in range(0,len(uniqueSpecNames)):\n",
    "    \n",
    "    # the name of the empirical spectrum being used here\n",
    "    print(np.array(uniqueSpecNames)[p])\n",
    "    \n",
    "    # extract all synthetic data corresponding to this empirical spectrum\n",
    "    data_for_this_empir_spectrum = line_data.where(line_data['empir_spec_name'][0:-4] == np.array(uniqueSpecNames)[p])\n",
    "    \n",
    "    # scrape data\n",
    "    raw_Hbet_data = data_for_this_empir_spectrum['EQW'].where(line_data['line_name'] == 'Hbet')\n",
    "    raw_Hgam_data = data_for_this_empir_spectrum['EQW'].where(line_data['line_name'] == 'Hgam')\n",
    "    raw_Hdel_data = data_for_this_empir_spectrum['EQW'].where(line_data['line_name'] == 'Hdel')\n",
    "    raw_Heps_data = data_for_this_empir_spectrum['EQW'].where(line_data['line_name'] == 'Heps')\n",
    "    raw_K_data = data_for_this_empir_spectrum['EQW'].where(line_data['line_name'] == 'CaIIK')\n",
    "    \n",
    "    # rescale and remove nans\n",
    "    Hbet_data_wnans = np.array(np.copy(raw_Hbet_data))\n",
    "    Hgam_data_wnans = np.array(np.copy(raw_Hgam_data))\n",
    "    Hdel_data_wnans = np.array(np.copy(raw_Hdel_data))\n",
    "    Heps_data_wnans = np.array(np.copy(raw_Heps_data))    \n",
    "    K_data_wnans = np.array(np.copy(raw_K_data))\n",
    "    rHgam_data_wnans = np.array(np.divide(np.subtract(raw_Hgam_data,b),m)) # rescale Hgam EWs\n",
    "    \n",
    "    Hbet_data = Hbet_data_wnans[np.isfinite(Hbet_data_wnans)] # remove nans\n",
    "    Hgam_data = Hgam_data_wnans[np.isfinite(Hgam_data_wnans)]\n",
    "    Hdel_data = Hdel_data_wnans[np.isfinite(Hdel_data_wnans)]\n",
    "    Heps_data = Heps_data_wnans[np.isfinite(Heps_data_wnans)]\n",
    "    rHgam_data = rHgam_data_wnans[np.isfinite(rHgam_data_wnans)]\n",
    "    K_data = K_data_wnans[np.isfinite(K_data_wnans)]\n",
    "    \n",
    "    # get the H-K synthetic data together\n",
    "    balmer_data_allsynthetic_spec = np.mean([Hdel_data,rHgam_data], axis=0) # Balmer EW = 0.5*(Hdel + rHgam)\n",
    "    K_data_allsynthetic_spec = np.copy(K_data)\n",
    "    \n",
    "    # the actual points to plot (or record in a table)\n",
    "    Hbet_data_pt = np.nanmedian(Hbet_data)\n",
    "    Hgam_data_pt = np.nanmedian(Hgam_data)\n",
    "    rHgam_data_pt = np.nanmedian(rHgam_data)\n",
    "    Hdel_data_pt = np.nanmedian(Hdel_data)\n",
    "    Heps_data_pt = np.nanmedian(Heps_data)\n",
    "    balmer_data_pt = np.nanmedian(balmer_data_allsynthetic_spec)\n",
    "    K_data_pt = np.nanmedian(K_data_allsynthetic_spec)\n",
    "    \n",
    "    # the error bars\n",
    "    err_Hbet_data = np.nanstd(Hbet_data)\n",
    "    err_Hgam_data = np.nanstd(Hgam_data)\n",
    "    err_rHgam_data = np.nanstd(rHgam_data)\n",
    "    err_Hdel_data = np.nanstd(Hdel_data)\n",
    "    err_Heps_data = np.nanstd(Heps_data)\n",
    "    err_balmer_data = np.nanstd(balmer_data_allsynthetic_spec)\n",
    "    err_K_data = np.nanstd(K_data_allsynthetic_spec)\n",
    "    \n",
    "    #plt.plot(balmer_data_pt,K_data_pt)\n",
    "    #plt.errorbar(balmer_data_pt, K_data_pt, yerr=err_K_data, xerr=err_balmer_data)\n",
    "\n",
    "    # append data to arrays: essential info\n",
    "    empir_spec_name_array = np.append(empir_spec_name_array,np.array(uniqueSpecNames)[p])\n",
    "    star_name_array = np.append(star_name_array,str(np.array(uniqueSpecNames)[p])[0:-3])\n",
    "    H_data_array = np.append(H_data_array,balmer_data_pt)\n",
    "    err_H_data_array = np.append(err_H_data_array,err_balmer_data)\n",
    "    K_data_array = np.append(K_data_array,K_data_pt)\n",
    "    err_K_data_array = np.append(err_K_data_array,err_K_data)\n",
    "    \n",
    "    # append data to arrays: other info\n",
    "    Hbet_data_array = np.append(Hbet_data_array,Hbet_data_pt)\n",
    "    err_Hbet_data_array = np.append(err_Hbet_data_array,err_Hbet_data)\n",
    "    Hgam_data_array = np.append(Hgam_data_array,Hgam_data_pt)\n",
    "    err_Hgam_data_array = np.append(err_Hgam_data_array,err_Hgam_data)\n",
    "    rHgam_data_array = np.append(rHgam_data_array,err_rHgam_data) # rescaled Hgamma\n",
    "    err_rHgam_data_array = np.append(err_rHgam_data_array,err_rHgam_data)\n",
    "    Hdel_data_array = np.append(Hdel_data_array,Hdel_data_pt)\n",
    "    err_Hdel_data_array = np.append(err_Hdel_data_array,err_Hdel_data)\n",
    "    Heps_data_array = np.append(Heps_data_array,Heps_data_pt)\n",
    "    err_Heps_data_array = np.append(err_Heps_data_array,err_Heps_data)\n",
    "    \n",
    "    # clear some variables\n",
    "    balmer_data_allsynthetic_spec=None \n",
    "    K_data_allsynthetic_spec=None\n",
    "    balmer_data_allsynthetic_spec=None \n",
    "    K_data_allsynthetic_spec=None\n",
    "    \n",
    "#plt.title('K-H plot with error bars from std of synthetic spectra (spectra w bad fits removed)')\n",
    "#plt.xlabel('Balmer EW (mang)')\n",
    "#plt.ylabel('CaIIK EW (mang)')\n",
    "#plt.xlim([2500,22500])\n",
    "#plt.ylim([-2000,12000])\n",
    "#plt.show()\n",
    "\n",
    "    #np.append(K_data,np.median())"
   ]
  },
  {
   "cell_type": "code",
   "execution_count": null,
   "metadata": {
    "collapsed": true
   },
   "outputs": [],
   "source": [
    "# put everything into a dataframe\n",
    "\n",
    "d = {'empir_spec_name': empir_spec_name_array, \n",
    "     'star_name': star_name_array,\n",
    "     'Hbet': Hbet_data_array,\n",
    "     'err_Hbet': err_Hbet_data_array,\n",
    "     'Hgam': Hgam_data_array,\n",
    "     'err_Hgam': err_Hgam_data_array,\n",
    "     'Hdel': Hdel_data_array,\n",
    "     'err_Hdel': err_Hdel_data_array,\n",
    "     'Heps': Heps_data_array,\n",
    "     'err_Heps': err_Heps_data_array, \n",
    "     'rHgam': rHgam_data_array,\n",
    "     'err_rHgam': err_rHgam_data_array,  \n",
    "     'balmer': H_data_array,\n",
    "     'err_balmer': err_H_data_array,\n",
    "     'K': K_data_array,\n",
    "     'err_K': err_K_data_array\n",
    "    }     \n",
    "df_collation = pd.DataFrame(data=d)"
   ]
  },
  {
   "cell_type": "code",
   "execution_count": null,
   "metadata": {
    "collapsed": true
   },
   "outputs": [],
   "source": [
    "# read in a text file containing phase information\n",
    "\n",
    "phase_info = pd.read_csv(\"~/Documents/PythonPrograms/all_Python_code/2016_08_27_rrlyrae_metal_fit_emcee_wrapper/eckhart_2ndPass_allSNR_noVXHer_lowAmpPrior.csv\")"
   ]
  },
  {
   "cell_type": "code",
   "execution_count": null,
   "metadata": {
    "collapsed": true
   },
   "outputs": [],
   "source": [
    "# paste phase info into the table of EWs\n",
    "\n",
    "phase_array = []\n",
    "feh_array = []\n",
    "err_feh_array = []\n",
    "name_array = []\n",
    "\n",
    "for q in range(0,len(df_collation)):\n",
    "    name_this_one = phase_info['Spectrum'].where(phase_info['Spectrum'] == df_collation['empir_spec_name'][q]).dropna()\n",
    "    phase_this_one = phase_info['phase'].where(phase_info['Spectrum'] == df_collation['empir_spec_name'][q]).dropna()\n",
    "    feh_this_one = phase_info['FeH'].where(phase_info['Spectrum'] == df_collation['empir_spec_name'][q]).dropna()\n",
    "    err_feh_this_one = phase_info['eFeH'].where(phase_info['Spectrum'] == df_collation['empir_spec_name'][q]).dropna()\n",
    "    name_array = np.append(name_array,name_this_one)\n",
    "    phase_array = np.append(phase_array,phase_this_one)\n",
    "    feh_array = np.append(feh_array,feh_this_one)\n",
    "    err_feh_array = np.append(err_feh_array,err_feh_this_one)\n",
    "df_collation_real = df_collation.dropna().copy(deep=True) # drop row of nans\n",
    "df_collation_real['phase'] = phase_array\n",
    "df_collation_real['FeH'] = feh_array\n",
    "df_collation_real['eFeH'] = err_feh_array"
   ]
  },
  {
   "cell_type": "code",
   "execution_count": null,
   "metadata": {
    "collapsed": true
   },
   "outputs": [],
   "source": [
    "# write to csv\n",
    "\n",
    "df_collation_real.to_csv('more_realistic_EWs_w_phase_test.csv')"
   ]
  },
  {
   "cell_type": "code",
   "execution_count": null,
   "metadata": {
    "collapsed": true
   },
   "outputs": [],
   "source": [
    "# make plot: each color is a different star, open circles are bad phase region\n",
    "\n",
    "data_to_plot = pd.read_csv('more_realistic_EWs_w_phase.csv') # read data back in"
   ]
  },
  {
   "cell_type": "code",
   "execution_count": null,
   "metadata": {
    "collapsed": true
   },
   "outputs": [],
   "source": [
    "# make list of unique star names \n",
    "\n",
    "unique_star_names = data_to_plot.drop_duplicates(subset=['star_name'])['star_name'].values"
   ]
  },
  {
   "cell_type": "code",
   "execution_count": null,
   "metadata": {
    "collapsed": true
   },
   "outputs": [],
   "source": [
    "# plot data points\n",
    "\n",
    "cmap = plt.get_cmap(name='jet')\n",
    "fig = plt.figure()\n",
    "ax = fig.add_subplot(111)\n",
    "\n",
    "for y in range(0,len(unique_star_names)):\n",
    "    \n",
    "    x_data = data_to_plot['balmer'].where(data_to_plot['star_name'] == unique_star_names[y])\n",
    "    y_data = data_to_plot['K'].where(data_to_plot['star_name'] == unique_star_names[y])\n",
    "    \n",
    "    err_x_data = data_to_plot['err_balmer'].where(data_to_plot['star_name'] == unique_star_names[y])\n",
    "    err_y_data = data_to_plot['err_K'].where(data_to_plot['star_name'] == unique_star_names[y])\n",
    "    \n",
    "    # plot, and keep the same color for each star\n",
    "    color_this_star = cmap(float(y)/len(unique_star_names))\n",
    "    ax.errorbar(x_data,y_data,yerr=err_y_data,xerr=err_x_data,linestyle='',fmt='o',markerfacecolor=color_this_star,color = color_this_star)\n",
    "    \n",
    "    x_data_badPhase = x_data.where(np.logical_or(data_to_plot['phase'] > 0.8, data_to_plot['phase'] < 0.05))\n",
    "    y_data_badPhase = y_data.where(np.logical_or(data_to_plot['phase'] > 0.8, data_to_plot['phase'] < 0.05))\n",
    "    \n",
    "    # overplot unfilled markers to denote bad phase region\n",
    "    ax.errorbar(x_data_badPhase,y_data_badPhase,linestyle='',fmt='o',markerfacecolor='white',color = color_this_star)\n",
    "    \n",
    "    # add star name\n",
    "    ax.annotate(unique_star_names[y], xy=(np.array(x_data.dropna())[0], \n",
    "                                          np.array(y_data.dropna())[0]), \n",
    "                xytext=(np.array(x_data.dropna())[0], np.array(y_data.dropna())[0]))\n",
    "    \n",
    "plt.title('KH plot, using synthetic spectra')\n",
    "plt.ylabel('CaIIK EW (milliangstrom)')\n",
    "plt.xlabel('Balmer EW (milliangstrom)')\n",
    "plt.show()"
   ]
  },
  {
   "cell_type": "code",
   "execution_count": null,
   "metadata": {
    "collapsed": true
   },
   "outputs": [],
   "source": [
    "##############################################################################\n",
    "# STEP 5: RUN EMCEE ON THE SPACE, GET VALUES FOR a, b, c, d\n",
    "##############################################################################"
   ]
  }
 ],
 "metadata": {
  "kernelspec": {
   "display_name": "Python 3",
   "language": "python",
   "name": "python3"
  },
  "language_info": {
   "codemirror_mode": {
    "name": "ipython",
    "version": 3
   },
   "file_extension": ".py",
   "mimetype": "text/x-python",
   "name": "python",
   "nbconvert_exporter": "python",
   "pygments_lexer": "ipython3",
   "version": "3.6.6"
  }
 },
 "nbformat": 4,
 "nbformat_minor": 1
}
