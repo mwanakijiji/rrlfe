{
 "cells": [
  {
   "cell_type": "code",
   "execution_count": null,
   "id": "7cfea28a",
   "metadata": {},
   "outputs": [],
   "source": [
    "# 1. Reads in specObj-dr17.fits \n",
    "# 2. Cross-checks spectra with list of RA,DEC of RR Lyrae stars in Li+ 2023\n",
    "# 3. Writes out file of FITS file name strings for an rsync download\n",
    "# (See instructions from SDSS help desk further below)"
   ]
  },
  {
   "cell_type": "code",
   "execution_count": 1,
   "id": "401a0bb1",
   "metadata": {},
   "outputs": [],
   "source": [
    "from astropy.io import fits\n",
    "import pandas as pd"
   ]
  },
  {
   "cell_type": "code",
   "execution_count": null,
   "id": "13851b77",
   "metadata": {},
   "outputs": [],
   "source": [
    "stem = \"/Users/bandari/Documents/git.repos/rrlfe/\""
   ]
  },
  {
   "cell_type": "code",
   "execution_count": null,
   "id": "52d184aa",
   "metadata": {},
   "outputs": [],
   "source": [
    "hdul = fits.open(stem + 'notebooks_for_development/data/specObj-dr17.fits')"
   ]
  },
  {
   "cell_type": "code",
   "execution_count": null,
   "id": "920cd270",
   "metadata": {},
   "outputs": [],
   "source": [
    "hdul.info()\n",
    "import ipdb; ipdb.set_trace()"
   ]
  },
  {
   "cell_type": "code",
   "execution_count": null,
   "id": "45174888",
   "metadata": {},
   "outputs": [],
   "source": [
    "# read in Li+ 2023 text file\n",
    "\n",
    "df_lietal2023_results = pd.read_csv(stem + \"notebooks_for_development/data/RRLyraes_final_lietal_beers_2023apr.csv\",\n",
    "                              usecols=[\"source_id\", \"R.A.\", \"Decl.\",\"[Fe/H]_PHOT\"])"
   ]
  },
  {
   "cell_type": "code",
   "execution_count": null,
   "id": "c8f2aea1",
   "metadata": {},
   "outputs": [],
   "source": [
    "# give some cols same name and round, so we can merge on them\n",
    "\n",
    "df_lietal2023_results[\"ra_round\"] = np.round(df_lietal2023_stars[\"R.A.\"],3)\n",
    "df_lietal2023_results[\"dec_round\"] = np.round(df_lietal2023_stars[\"Decl.\"],3)"
   ]
  },
  {
   "cell_type": "code",
   "execution_count": null,
   "id": "d9f6cbdd",
   "metadata": {},
   "outputs": [],
   "source": [
    "# round the RA,DEC in the specObj-dr17 file\n",
    "''' TBD '''    #df_specobj_dr17"
   ]
  },
  {
   "cell_type": "code",
   "execution_count": null,
   "id": "3b9ec12c",
   "metadata": {},
   "outputs": [],
   "source": [
    "# merge on RA, DEC\n",
    "\n",
    "merged_df = pd.merge(\n",
    "                    df_specobj_dr17, \n",
    "                    df_lietal2023_stars, \n",
    "                    how=\"inner\", on=[\"ra_round\",\"dec_round\"]\n",
    "                    )"
   ]
  },
  {
   "cell_type": "code",
   "execution_count": null,
   "id": "0d6c29db",
   "metadata": {},
   "outputs": [],
   "source": [
    "# extract the (plate, mjd, fiberid, run2d) for all matches\n",
    "\n",
    "'''\n",
    "pmfr_of_interest = merged_df[['plate','mjd','fiberid','run2d']]\n",
    "\n",
    "'''"
   ]
  },
  {
   "cell_type": "code",
   "execution_count": 15,
   "id": "f2e13eee",
   "metadata": {},
   "outputs": [],
   "source": [
    "# write combinations of interest to file\n",
    "\n",
    "with open(\"junk.txt\", \"a\") as myfile:\n",
    "\n",
    "    # loop over all matches\n",
    "    for combo_interest in range(0,2): #len(pmfr_of_interest)):\n",
    "\n",
    "        plate = 3851\n",
    "        mjd = 55302\n",
    "        fiberid = 1\n",
    "        run2d = 42\n",
    "\n",
    "        # write the combos into strings:\n",
    "        file_this_string = '/sdss/spectro/redux/'+str(run2d)+'/spectra/full/'+ \\\n",
    "                            str(plate)+'/spec-'+str(plate)+'-'+str(mjd)+'-'+f'{fiberid:04}' + '.fits' + '\\n'\n",
    "\n",
    "        # append to file\n",
    "        myfile.write(file_this_string)"
   ]
  },
  {
   "cell_type": "code",
   "execution_count": null,
   "id": "d4771799",
   "metadata": {},
   "outputs": [],
   "source": [
    "'''\n",
    "--Email from SDSS help desk, June 6, 2023:--\n",
    "\n",
    "Since you already have a list of objects with RA and Dec, one way to do this would be for you first \n",
    "download the (latest, for e.g.) specObj-dr17.fits file from the SPECTRO_REDUX folder on the SAS to \n",
    "crossmatch the coordinates yourself to collect the corresponding plate, mjd, fiberid and run2d values.  \n",
    "Once you have those values, you can then turn it into a download_bulk.txt file with the values substituted \n",
    "into the pattern for the file’s location as follows:\n",
    "\n",
    "/sdss/spectro/redux/{run2d}/spectra/lite/{plate}/spec-{plate}-{mjd}-{fiberid:0>4}.fits\n",
    "\n",
    "for spec lite files, or replate lite -> full if you plan to use the individual exposures.\n",
    "\n",
    "Once you have a download_bulk.txt file containing the strings of the locations as above, then you can run \n",
    "the following rsync command to download the file locations from the data release you’re using (e.g. dr17):\n",
    "\n",
    "rsync -avzL --files-from=download_bulk.txt rsync://dtn.sdss.org/dr17  dr17\n",
    "'''"
   ]
  }
 ],
 "metadata": {
  "kernelspec": {
   "display_name": "Python 3 (ipykernel)",
   "language": "python",
   "name": "python3"
  },
  "language_info": {
   "codemirror_mode": {
    "name": "ipython",
    "version": 3
   },
   "file_extension": ".py",
   "mimetype": "text/x-python",
   "name": "python",
   "nbconvert_exporter": "python",
   "pygments_lexer": "ipython3",
   "version": "3.8.16"
  }
 },
 "nbformat": 4,
 "nbformat_minor": 5
}
