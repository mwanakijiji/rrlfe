{
 "cells": [
  {
   "cell_type": "code",
   "execution_count": 1,
   "metadata": {
    "collapsed": true
   },
   "outputs": [],
   "source": [
    "# This plots the epochs at which RR Lyrae spectra were taken\n",
    "\n",
    "# created 2017 Dec 19 by E.S."
   ]
  },
  {
   "cell_type": "code",
   "execution_count": 1,
   "metadata": {},
   "outputs": [],
   "source": [
    "import astropy\n",
    "from astropy.io import fits\n",
    "import matplotlib.pyplot as plt\n",
    "import numpy as np\n",
    "import pandas as pd\n",
    "from os import listdir\n",
    "from os.path import isfile, join\n",
    "from datetime import datetime\n",
    "from astropy import time, coordinates as coord, units as u\n",
    "from astropy.time import Time\n",
    "from dateutil.parser import parse"
   ]
  },
  {
   "cell_type": "code",
   "execution_count": 2,
   "metadata": {},
   "outputs": [],
   "source": [
    "stem = \"/Users/bandari/Documents/git.repos/rrlfe/\" + \\\n",
    "\"src/mcdonald_spectra/original_fits_files/\""
   ]
  },
  {
   "cell_type": "code",
   "execution_count": 3,
   "metadata": {},
   "outputs": [],
   "source": [
    "import os\n",
    "arr_files = os.listdir(stem) # list files"
   ]
  },
  {
   "cell_type": "code",
   "execution_count": 4,
   "metadata": {},
   "outputs": [],
   "source": [
    "# read in each FITS file in the directory and obtain epoch, coords from header\n",
    "\n",
    "fileList = []\n",
    "dateList = []\n",
    "epochList = []\n",
    "raList = []\n",
    "decList = []\n",
    "\n",
    "for f in range(0,len(arr_files)): # loop over filenames\n",
    "    \n",
    "    # retrieve header\n",
    "    image, header = fits.getdata(stem+arr_files[f],\n",
    "                                     0,\n",
    "                                     header=True)\n",
    "    \n",
    "    # observation epoch\n",
    "    epoch = header['DATE-OBS']+' '+header['UT']\n",
    "    obj = header['OBJECT']\n",
    "    ra = header['RA']\n",
    "    dec = header['DEC']\n",
    "    \n",
    "    # parse\n",
    "    epoch_dateTime = datetime.strptime(epoch, '%Y-%m-%d %H:%M:%S.%f')\n",
    "    fileList.append(arr_files[f])\n",
    "    dateList.append(epoch_dateTime)\n",
    "    epochList.append(epoch)\n",
    "    raList.append(ra)\n",
    "    decList.append(dec)"
   ]
  },
  {
   "cell_type": "code",
   "execution_count": 5,
   "metadata": {},
   "outputs": [],
   "source": [
    "ut_list = {'file':fileList,'ut_epoch':epochList,'ra':raList,'dec':decList, }\n",
    "\n",
    "df_ut = pd.DataFrame(ut_list)"
   ]
  },
  {
   "cell_type": "code",
   "execution_count": 6,
   "metadata": {},
   "outputs": [],
   "source": [
    "# set observatory coordinates \n",
    "\n",
    "loc_mcdonald = coord.EarthLocation.from_geodetic(lon=-104.0215753,lat=30.6715396,height=2076,ellipsoid='WGS84')"
   ]
  },
  {
   "cell_type": "code",
   "execution_count": 7,
   "metadata": {},
   "outputs": [],
   "source": [
    "# convert UTC times to isot format, then compile into list of astropy Time object\n",
    "\n",
    "t_spectra_iso = [Time(dateList[i].isoformat(), format='isot', scale='utc') for i in range(len(dateList))]"
   ]
  },
  {
   "cell_type": "code",
   "execution_count": 8,
   "metadata": {},
   "outputs": [],
   "source": [
    "# convert isot-format times to JD\n",
    "\n",
    "t_spectra_jd = [t_spectra_iso[i].jd for i in range(len(t_spectra_iso))]"
   ]
  },
  {
   "cell_type": "code",
   "execution_count": 9,
   "metadata": {},
   "outputs": [],
   "source": [
    "# put JDs into dataframe\n",
    "\n",
    "df_ut[\"jd\"] = t_spectra_jd"
   ]
  },
  {
   "cell_type": "code",
   "execution_count": 11,
   "metadata": {},
   "outputs": [],
   "source": [
    "# combine all data for across-the-board comparison\n",
    "\n",
    "allFileList = np.hstack((fileList,fileList))\n",
    "allSpecEpochList_utc = np.hstack((dateList,dateList))\n",
    "allSpecEpochList_jd = np.hstack((t_spectra_jd,t_spectra_jd))\n",
    "#allSpecEpochList_bjd = np.hstack((t_spectra_2012_bjd,t_spectra_2013_bjd))"
   ]
  },
  {
   "cell_type": "code",
   "execution_count": 10,
   "metadata": {},
   "outputs": [],
   "source": [
    "# convert JD to BJD\n",
    "def convert_jd_to_bjd(jdTimes,observatoryLoc,skyCoordObj):\n",
    "\n",
    "    timesObj = time.Time(jdTimes, format='jd', scale='utc', location=observatoryLoc)\n",
    "    ltt_bary = timesObj.light_travel_time(skyCoordObj)\n",
    "\n",
    "    time_barycentre = timesObj.tdb + ltt_bary\n",
    "\n",
    "    return time_barycentre"
   ]
  },
  {
   "cell_type": "code",
   "execution_count": 14,
   "metadata": {},
   "outputs": [],
   "source": [
    "# star names as they appear in the filenames\n",
    "'''\n",
    "star_names_files = ['RW_Ari','X_Ari','UY_Cam','RR_Cet','SV_Eri',\n",
    "              'VX_Her','RR_Leo','TT_Lyn','TV_Lyn','TW_Lyn',\n",
    "              'RR_Lyr','V_535','V445','AV_Peg','BH_Peg',\n",
    "              'AR_Per','RU_Psc','T_Sex','TU_UMa']\n",
    "\n",
    "# star names for SIMBAD lookup\n",
    "star_names_simbad = ['RW Ari','X Ari','UY Cam','RR Cet','SV Eri',\n",
    "              'VX Her','RR Leo','TT Lyn','TV Lyn','TW Lyn',\n",
    "              'RR Lyr','V535 Mon','V445 Oph','AV Peg','BH Peg',\n",
    "              'AR Per','RU Psc','T Sex','TU UMa']\n",
    "'''"
   ]
  },
  {
   "cell_type": "code",
   "execution_count": 13,
   "metadata": {},
   "outputs": [],
   "source": [
    "# initialize\n",
    "\n",
    "df_ut[\"bjd\"] = np.nan"
   ]
  },
  {
   "cell_type": "code",
   "execution_count": 14,
   "metadata": {},
   "outputs": [
    {
     "name": "stderr",
     "output_type": "stream",
     "text": [
      "/Users/bandari/anaconda3/envs/rrl_env/lib/python3.6/site-packages/pandas/core/indexing.py:190: SettingWithCopyWarning: \n",
      "A value is trying to be set on a copy of a slice from a DataFrame\n",
      "\n",
      "See the caveats in the documentation: http://pandas.pydata.org/pandas-docs/stable/indexing.html#indexing-view-versus-copy\n",
      "  self._setitem_with_indexer(indexer, value)\n"
     ]
    },
    {
     "data": {
      "text/plain": [
       "'\\nfor star in range(0,len(star_names_files)):\\n    df_thisStar = return_star_bjds(allFileList,allSpecEpochList_jd,star_names_files[star],star_names_simbad[star],loc_mcdonald)\\n    dfAll = pd.concat([dfAll,df_thisStar])\\n'"
      ]
     },
     "execution_count": 14,
     "metadata": {},
     "output_type": "execute_result"
    }
   ],
   "source": [
    "# find BJDs and concatenate everything into one dataframe\n",
    "\n",
    "dfAll = pd.DataFrame()\n",
    "\n",
    "for spec_num in range(0,len(df_ut)):\n",
    "    jd_this_spec = df_ut[\"jd\"].loc[spec_num]\n",
    "    ra_this_spect = df_ut[\"ra\"].loc[spec_num]\n",
    "    dec_this_spect = df_ut[\"dec\"].loc[spec_num]\n",
    "    coords_this_spect = str(ra_this_spect + \" \" +dec_this_spect)\n",
    "\n",
    "    coord_thisStar = coord.SkyCoord(coords_this_spect, frame='icrs', unit=(u.hourangle, u.deg))\n",
    "    \n",
    "    bjd_this_spec = convert_jd_to_bjd(jdTimes=jd_this_spec,\n",
    "                      observatoryLoc=loc_mcdonald,\n",
    "                      skyCoordObj=coord_thisStar)\n",
    "    \n",
    "    df_ut[\"bjd\"].loc[spec_num] = bjd_this_spec\n",
    "\n",
    "    '''\n",
    "    df_this_spec = return_star_bjds(fileNames=dfAll[\"filenames\"].loc[spec_num],\n",
    "                                    allSpecEpochList_jd=dfAll[\"\"].loc[spec_num],\n",
    "                                    star_names_files[star],\n",
    "                                    star_names_simbad[star],\n",
    "                                    loc_mcdonald)\n",
    "    '''\n",
    "    '''\n",
    "    dfAll = pd.concat([dfAll,df_thisStar])\n",
    "    '''\n",
    "# fileNames,jdTimes,starNameFile,starNameGeneric,observatoryLoc\n",
    "    \n",
    "'''\n",
    "for star in range(0,len(star_names_files)):\n",
    "    df_thisStar = return_star_bjds(allFileList,allSpecEpochList_jd,star_names_files[star],star_names_simbad[star],loc_mcdonald)\n",
    "    dfAll = pd.concat([dfAll,df_thisStar])\n",
    "'''"
   ]
  },
  {
   "cell_type": "code",
   "execution_count": 30,
   "metadata": {},
   "outputs": [],
   "source": [
    "# write filenames, spectra epochs out csv\n",
    "\n",
    "df_ut.to_csv('junk.csv')"
   ]
  },
  {
   "cell_type": "code",
   "execution_count": null,
   "metadata": {},
   "outputs": [],
   "source": []
  }
 ],
 "metadata": {
  "kernelspec": {
   "display_name": "Python 3",
   "language": "python",
   "name": "python3"
  },
  "language_info": {
   "codemirror_mode": {
    "name": "ipython",
    "version": 3
   },
   "file_extension": ".py",
   "mimetype": "text/x-python",
   "name": "python",
   "nbconvert_exporter": "python",
   "pygments_lexer": "ipython3",
   "version": "3.6.6"
  }
 },
 "nbformat": 4,
 "nbformat_minor": 1
}
