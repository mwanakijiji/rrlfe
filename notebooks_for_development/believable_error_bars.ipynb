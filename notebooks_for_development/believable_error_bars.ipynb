{
 "cells": [
  {
   "cell_type": "code",
   "execution_count": 1,
   "id": "197af302",
   "metadata": {},
   "outputs": [],
   "source": [
    "# Calculates error bars of EW based on scatter in measured EWs from same star\n",
    "# in narrow range of phases"
   ]
  },
  {
   "cell_type": "code",
   "execution_count": 10,
   "id": "987ed311",
   "metadata": {},
   "outputs": [],
   "source": [
    "import pandas as pd\n",
    "import math\n",
    "import numpy as np\n",
    "import matplotlib.pyplot as plt"
   ]
  },
  {
   "cell_type": "code",
   "execution_count": 11,
   "id": "9ed4cada",
   "metadata": {},
   "outputs": [],
   "source": [
    "stem = '/Users/bandari/Documents/git.repos/rrlfe/'"
   ]
  },
  {
   "cell_type": "code",
   "execution_count": 12,
   "id": "5da44bc0",
   "metadata": {},
   "outputs": [],
   "source": [
    "# the phases\n",
    "file_name_phases = stem + 'notebooks_for_development/data/phases_all_master_no_repeat_fits.csv'\n",
    "\n",
    "# the EWs as measured by Robospect\n",
    "file_name_robo = stem + 'rrlfe_io_20220803_01_mcd/ew_products/restacked_ew_info_good_only_w_net_balmer_errors.csv'"
   ]
  },
  {
   "cell_type": "code",
   "execution_count": 13,
   "id": "7962869a",
   "metadata": {},
   "outputs": [],
   "source": [
    "df_phases = pd.read_csv(file_name_phases)\n",
    "df_robo = pd.read_csv(file_name_robo)"
   ]
  },
  {
   "cell_type": "code",
   "execution_count": 14,
   "id": "a3275355",
   "metadata": {},
   "outputs": [],
   "source": [
    "# make new identifier to match the right files\n",
    "\n",
    "df_phases['string_identifier'] = df_phases['spec_file'].str.split('.', expand=True)[0]\n",
    "df_robo['string_identifier'] = df_robo['orig_spec_file_name'].str.split('.', expand=True)[0]"
   ]
  },
  {
   "cell_type": "code",
   "execution_count": 16,
   "id": "5fa985db",
   "metadata": {},
   "outputs": [],
   "source": [
    "# merge\n",
    "\n",
    "df_merged = df_robo.merge(df_phases, on = 'string_identifier', how='left')"
   ]
  },
  {
   "cell_type": "code",
   "execution_count": 17,
   "id": "30ea86ea",
   "metadata": {},
   "outputs": [],
   "source": [
    "# restrict to VX Her\n",
    "rows_vx_her = df_merged.loc[df_merged['star_match'] == 'VX Her']"
   ]
  },
  {
   "cell_type": "code",
   "execution_count": 21,
   "id": "797c74d6",
   "metadata": {},
   "outputs": [
    {
     "name": "stdout",
     "output_type": "stream",
     "text": [
      "1.0303629402549719\n",
      "2.363121823009508\n",
      "0.8035195820441214\n",
      "0.502018625\n",
      "----\n",
      "0.7868695335227993\n",
      "2.4091047024521908\n",
      "0.458773501905399\n",
      "0.7328907777777778\n",
      "----\n",
      "0.4179233913760819\n",
      "2.3546283142018867\n",
      "0.21595067770475482\n",
      "1.1775334285714287\n",
      "----\n",
      "0.14467250000000043\n",
      "2.9160082728844996\n",
      "0.21671000000000007\n",
      "0.25924699999999995\n",
      "----\n"
     ]
    }
   ],
   "source": [
    "del_phase = 0.25 # fraction of phase by which to bin spectra\n",
    "\n",
    "balmer_ew_std_array = list()\n",
    "balmer_mean_err_robo_array = list()\n",
    "caiik_ew_std_array = list()\n",
    "caiik_mean_err_robo_array = list()\n",
    "\n",
    "for segment_phase in range(0,math.ceil(1./del_phase)):\n",
    "    \n",
    "    rows_these = rows_vx_her[np.logical_and(rows_vx_her['my_phase'] > segment_phase*del_phase, rows_vx_her['my_phase'] < (segment_phase + 1)*del_phase)]\n",
    "    \n",
    "    #print(segment_phase*del_phase)\n",
    "    #print((segment_phase + 1)*del_phase)\n",
    "    #print(len(rows_these))\n",
    "    print(np.std(rows_these['EW_Balmer']))\n",
    "    print(np.mean(rows_these['err_EW_Balmer_from_Robo']))\n",
    "    print(np.std(rows_these['EW_CaIIK']))\n",
    "    print(np.mean(rows_these['err_EW_CaIIK_from_robo']))\n",
    "    \n",
    "    balmer_ew_std_array.append(np.std(rows_these['EW_Balmer']))\n",
    "    balmer_mean_err_robo_array.append(np.mean(rows_these['err_EW_Balmer_from_Robo']))\n",
    "    caiik_ew_std_array.append(np.std(rows_these['EW_CaIIK']))\n",
    "    caiik_mean_err_robo_array.append(np.mean(rows_these['err_EW_CaIIK_from_robo']))\n",
    "    \n",
    "    print('----')\n",
    "    "
   ]
  },
  {
   "cell_type": "code",
   "execution_count": 24,
   "id": "b79ccfd3",
   "metadata": {},
   "outputs": [
    {
     "data": {
      "image/png": "[encoded data removed]",
      "text/plain": [
       "<Figure size 640x480 with 1 Axes>"
      ]
     },
     "metadata": {},
     "output_type": "display_data"
    }
   ],
   "source": [
    "plt.scatter(balmer_mean_err_robo_array,balmer_ew_std_array,label='balmer')\n",
    "plt.scatter(caiik_mean_err_robo_array,caiik_ew_std_array,label='caiik')\n",
    "plt.plot([0.2,3.0],[0.2,3.0],linestyle='--')\n",
    "plt.xlabel('mean Robo err')\n",
    "plt.ylabel('std of EW')\n",
    "plt.legend()\n",
    "plt.show()"
   ]
  },
  {
   "cell_type": "code",
   "execution_count": 28,
   "id": "3aeceec3",
   "metadata": {},
   "outputs": [],
   "source": [
    "soln = np.polyfit(x=np.concatenate((balmer_mean_err_robo_array,caiik_mean_err_robo_array)), \n",
    "                  y=np.concatenate((caiik_mean_err_robo_array,caiik_ew_std_array)), deg=1)"
   ]
  },
  {
   "cell_type": "code",
   "execution_count": 29,
   "id": "536b80ba",
   "metadata": {},
   "outputs": [
    {
     "data": {
      "text/plain": [
       "array([0.07905996, 0.42017894])"
      ]
     },
     "execution_count": 29,
     "metadata": {},
     "output_type": "execute_result"
    }
   ],
   "source": [
    "soln"
   ]
  },
  {
   "cell_type": "code",
   "execution_count": null,
   "id": "75c79d9e",
   "metadata": {},
   "outputs": [],
   "source": []
  }
 ],
 "metadata": {
  "kernelspec": {
   "display_name": "Python 3 (ipykernel)",
   "language": "python",
   "name": "python3"
  },
  "language_info": {
   "codemirror_mode": {
    "name": "ipython",
    "version": 3
   },
   "file_extension": ".py",
   "mimetype": "text/x-python",
   "name": "python",
   "nbconvert_exporter": "python",
   "pygments_lexer": "ipython3",
   "version": "3.8.16"
  }
 },
 "nbformat": 4,
 "nbformat_minor": 5
}
