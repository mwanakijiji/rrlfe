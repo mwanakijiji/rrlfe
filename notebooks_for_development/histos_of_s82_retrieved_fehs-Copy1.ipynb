{
 "cells": [
  {
   "cell_type": "code",
   "execution_count": 1,
   "id": "human-motel",
   "metadata": {},
   "outputs": [],
   "source": [
    "# Makes histograms of Strip 82 retrieved Fe/H"
   ]
  },
  {
   "cell_type": "code",
   "execution_count": 1,
   "id": "compressed-charm",
   "metadata": {},
   "outputs": [],
   "source": [
    "import matplotlib.pyplot as plt\n",
    "import pandas as pd\n",
    "from pandas.plotting import scatter_matrix\n",
    "\n",
    "%matplotlib qt"
   ]
  },
  {
   "cell_type": "code",
   "execution_count": 2,
   "id": "frequent-caution",
   "metadata": {},
   "outputs": [],
   "source": [
    "stem = \"/Users/bandari/Documents/git.repos/rrlfe/notebooks_for_development/data/\"\n",
    "file_name = \"retrieved_sdss_20221213_cosmic_rays_removed_automated_3911_to_4950_angstr_vals_corrected.csv\""
   ]
  },
  {
   "cell_type": "code",
   "execution_count": 3,
   "id": "noted-halloween",
   "metadata": {},
   "outputs": [],
   "source": [
    "df_retrievals = pd.read_csv(stem + file_name)"
   ]
  },
  {
   "cell_type": "code",
   "execution_count": 4,
   "id": "japanese-technician",
   "metadata": {},
   "outputs": [],
   "source": [
    "# read in data including RRL types\n",
    "\n",
    "col_names = [\"SDSSname\", \"hjd\", \"Sesar phase\", \"Sesar cycles\", \"period\", \"g ephemeris\", \n",
    "             \"g amplitude\", \"Sesar type\", \"Drake phase\", \"Drake cycles\", \"Drake period\", \n",
    "             \"Drake V ephemeris\", \"Drake V amp\", \"Drake type\", \"Drake2013b chart period\", \n",
    "             \"Drake2013b chart amp\", \"Drake2013b chart type\", \"Abbas2014 period\", \"Abbas2014 amp\", \n",
    "             \"Abbas2014 type\", \"Catalina DR2 chart period\", \n",
    "             \"Catalina DR2 chart amp\", \"Catalina DR2 chart type\", \"Drake MLS chart period\", \n",
    "             \"Drake MLS chart amp\", \"Drake MLS chart type\"]\n",
    "\n",
    "df_types = pd.read_csv(\"./data/phaseampgroupstype_modified.dat\", names=col_names, delim_whitespace=True)"
   ]
  },
  {
   "cell_type": "code",
   "execution_count": 5,
   "id": "downtown-shipping",
   "metadata": {},
   "outputs": [],
   "source": [
    "df_types[\"orig_spec_file_name\"] = df_types[\"SDSSname\"]"
   ]
  },
  {
   "cell_type": "code",
   "execution_count": 6,
   "id": "occasional-barrier",
   "metadata": {},
   "outputs": [
    {
     "data": {
      "text/plain": [
       "'\\ncols = [\"Sesar type\", \"Drake type\", \"Drake2013b chart type\", \\n        \"Abbas2014 type\", \"Catalina DR2 chart type\", \"Drake MLS chart type\"]\\n\\ndata_types_only = pd.DataFrame(data_ensemble, columns=cols)\\n'"
      ]
     },
     "execution_count": 6,
     "metadata": {},
     "output_type": "execute_result"
    }
   ],
   "source": [
    "# decide on a type\n",
    "'''\n",
    "cols = [\"Sesar type\", \"Drake type\", \"Drake2013b chart type\", \n",
    "        \"Abbas2014 type\", \"Catalina DR2 chart type\", \"Drake MLS chart type\"]\n",
    "\n",
    "data_types_only = pd.DataFrame(data_ensemble, columns=cols)\n",
    "'''"
   ]
  },
  {
   "cell_type": "code",
   "execution_count": 10,
   "id": "ddfa343a",
   "metadata": {},
   "outputs": [
    {
     "name": "stderr",
     "output_type": "stream",
     "text": [
      "/var/folders/8y/ztvmc5ys1pn64bjywt1qp4k40000gs/T/ipykernel_16486/970457778.py:2: FutureWarning: The default value of regex will change from True to False in a future version.\n",
      "  df_retrievals['name_match'] = df_retrievals['orig_spec_file_name'].str.replace('_', '').str.replace('net.csv', '')\n"
     ]
    }
   ],
   "source": [
    "# for matching, remove underscores and extension bits\n",
    "df_retrievals['name_match'] = df_retrievals['orig_spec_file_name'].str.replace('_', '').str.replace('net.csv', '')"
   ]
  },
  {
   "cell_type": "code",
   "execution_count": 12,
   "id": "8c935feb",
   "metadata": {},
   "outputs": [
    {
     "name": "stderr",
     "output_type": "stream",
     "text": [
      "/var/folders/8y/ztvmc5ys1pn64bjywt1qp4k40000gs/T/ipykernel_16486/1168406918.py:1: FutureWarning: The default value of regex will change from True to False in a future version.\n",
      "  df_types['name_match'] = df_types['orig_spec_file_name'].str.replace('.dat', '')\n"
     ]
    }
   ],
   "source": [
    "df_types['name_match'] = df_types['orig_spec_file_name'].str.replace('.dat', '')"
   ]
  },
  {
   "cell_type": "code",
   "execution_count": 15,
   "id": "violent-navigator",
   "metadata": {},
   "outputs": [],
   "source": [
    "data_ensemble = df_retrievals.merge(df_types,how=\"inner\",on=\"name_match\")"
   ]
  },
  {
   "cell_type": "code",
   "execution_count": 16,
   "id": "5ef12f3c",
   "metadata": {},
   "outputs": [
    {
     "data": {
      "text/plain": [
       "1649"
      ]
     },
     "execution_count": 16,
     "metadata": {},
     "output_type": "execute_result"
    }
   ],
   "source": [
    "len(data_ensemble)"
   ]
  },
  {
   "cell_type": "code",
   "execution_count": 17,
   "id": "5a0501cf",
   "metadata": {},
   "outputs": [],
   "source": [
    "# those that converged\n",
    "\n",
    "idx_sane = data_ensemble[\"feh_retrieved\"] > -900"
   ]
  },
  {
   "cell_type": "code",
   "execution_count": 80,
   "id": "informational-massage",
   "metadata": {},
   "outputs": [],
   "source": [
    "# hist separating the types\n",
    "\n",
    "'''\n",
    "plt.hist(data_ensemble[\"feh_retrieved\"].where(idx_ab), bins=100, label=\"RRabs\")\n",
    "plt.hist(data_ensemble[\"feh_retrieved\"].where(idx_c), bins=100, label=\"RRcs\", alpha=0.5)\n",
    "plt.title(\"SDSS stars\")\n",
    "plt.xlabel(\"Retrieved [Fe/H]\")\n",
    "plt.legend()\n",
    "plt.show()\n",
    "'''"
   ]
  },
  {
   "cell_type": "code",
   "execution_count": 21,
   "id": "listed-replication",
   "metadata": {},
   "outputs": [],
   "source": [
    "# simple hist\n",
    "\n",
    "plt.clf()\n",
    "plt.hist(data_ensemble[\"feh_retrieved\"].where(idx_sane), bins=500)\n",
    "plt.xlim([-3.5,1.])\n",
    "plt.xlabel(\"Retrieved [Fe/H]\")\n",
    "plt.savefig('junk.pdf')"
   ]
  },
  {
   "cell_type": "code",
   "execution_count": null,
   "id": "2f861c27",
   "metadata": {},
   "outputs": [],
   "source": []
  }
 ],
 "metadata": {
  "kernelspec": {
   "display_name": "Python 3 (ipykernel)",
   "language": "python",
   "name": "python3"
  },
  "language_info": {
   "codemirror_mode": {
    "name": "ipython",
    "version": 3
   },
   "file_extension": ".py",
   "mimetype": "text/x-python",
   "name": "python",
   "nbconvert_exporter": "python",
   "pygments_lexer": "ipython3",
   "version": "3.8.16"
  }
 },
 "nbformat": 4,
 "nbformat_minor": 5
}
