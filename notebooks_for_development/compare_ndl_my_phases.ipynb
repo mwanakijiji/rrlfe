{
 "cells": [
  {
   "cell_type": "code",
   "execution_count": null,
   "id": "advanced-diving",
   "metadata": {},
   "outputs": [],
   "source": [
    "# This reads in my and NDL's phase analysis outputs and compares them\n",
    "\n",
    "# Create 2022 May 28 by E.S."
   ]
  },
  {
   "cell_type": "code",
   "execution_count": 1,
   "id": "accepting-controversy",
   "metadata": {},
   "outputs": [],
   "source": [
    "import pandas as pd\n",
    "import numpy\n",
    "import matplotlib.pyplot as plt"
   ]
  },
  {
   "cell_type": "code",
   "execution_count": 4,
   "id": "regulated-yeast",
   "metadata": {},
   "outputs": [],
   "source": [
    "# read in NDL\n",
    "df_ndl = pd.read_csv(\"./data/spectra_epochs_lc.csv\")\n",
    "\n",
    "# read in mine\n"
   ]
  },
  {
   "cell_type": "code",
   "execution_count": 5,
   "id": "theoretical-legislature",
   "metadata": {},
   "outputs": [
    {
     "data": {
      "text/plain": [
       "0       2\n",
       "1       3\n",
       "2      18\n",
       "3      24\n",
       "4       4\n",
       "5      28\n",
       "6      29\n",
       "7      16\n",
       "8      10\n",
       "9      21\n",
       "10     25\n",
       "11      9\n",
       "12      8\n",
       "13     12\n",
       "14     30\n",
       "15     14\n",
       "16     11\n",
       "17     22\n",
       "18     20\n",
       "19      6\n",
       "20      5\n",
       "21     13\n",
       "22     15\n",
       "23     17\n",
       "24      1\n",
       "25     19\n",
       "26     23\n",
       "27     26\n",
       "28      7\n",
       "29     27\n",
       "       ..\n",
       "172     8\n",
       "173     3\n",
       "174     0\n",
       "175     9\n",
       "176     7\n",
       "177     6\n",
       "178     4\n",
       "179    12\n",
       "180    10\n",
       "181    11\n",
       "182     5\n",
       "183     2\n",
       "184    13\n",
       "185     1\n",
       "186     6\n",
       "187     0\n",
       "188     1\n",
       "189     9\n",
       "190     8\n",
       "191    11\n",
       "192     4\n",
       "193     5\n",
       "194    10\n",
       "195     7\n",
       "196     2\n",
       "197     3\n",
       "198     3\n",
       "199     0\n",
       "200     1\n",
       "201     2\n",
       "Name: #, Length: 202, dtype: int64"
      ]
     },
     "execution_count": 5,
     "metadata": {},
     "output_type": "execute_result"
    }
   ],
   "source": [
    "df_ndl[\"#\"]"
   ]
  },
  {
   "cell_type": "code",
   "execution_count": null,
   "id": "technological-relative",
   "metadata": {},
   "outputs": [],
   "source": []
  }
 ],
 "metadata": {
  "kernelspec": {
   "display_name": "Python 3",
   "language": "python",
   "name": "python3"
  },
  "language_info": {
   "codemirror_mode": {
    "name": "ipython",
    "version": 3
   },
   "file_extension": ".py",
   "mimetype": "text/x-python",
   "name": "python",
   "nbconvert_exporter": "python",
   "pygments_lexer": "ipython3",
   "version": "3.6.6"
  }
 },
 "nbformat": 4,
 "nbformat_minor": 5
}
