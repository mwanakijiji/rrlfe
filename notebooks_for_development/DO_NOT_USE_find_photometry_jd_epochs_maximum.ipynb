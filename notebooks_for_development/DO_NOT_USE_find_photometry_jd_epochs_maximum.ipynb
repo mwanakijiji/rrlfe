{
 "cells": [
  {
   "cell_type": "code",
   "execution_count": 1,
   "metadata": {
    "collapsed": true
   },
   "outputs": [],
   "source": [
    "# This calculates MJDs and BJDs of light curve maxima, as observed at MacAdam, U Louisville, and Mt. Kent in Australia\n",
    "\n",
    "# created 2018 Jan 02 by E.S."
   ]
  },
  {
   "cell_type": "code",
   "execution_count": 42,
   "metadata": {},
   "outputs": [],
   "source": [
    "import astropy\n",
    "import matplotlib.pyplot as plt\n",
    "import numpy as np\n",
    "import pandas as pd\n",
    "import os\n",
    "from os import listdir\n",
    "from os.path import isfile, join\n",
    "import glob"
   ]
  },
  {
   "cell_type": "code",
   "execution_count": null,
   "metadata": {},
   "outputs": [],
   "source": [
    "# read in original photometries, fit Nth order polynomial, interp to find max"
   ]
  },
  {
   "cell_type": "code",
   "execution_count": 4,
   "metadata": {},
   "outputs": [],
   "source": [
    "dir_photometries = \"/Users/bandari/Documents/git.repos/rrlfe/notebooks_for_development/data/original_macadam_photometries/\""
   ]
  },
  {
   "cell_type": "code",
   "execution_count": 6,
   "metadata": {},
   "outputs": [],
   "source": [
    "file_names = glob.glob(dir_photometries + \"*csv\")"
   ]
  },
  {
   "cell_type": "code",
   "execution_count": 71,
   "metadata": {},
   "outputs": [
    {
     "name": "stdout",
     "output_type": "stream",
     "text": [
      "-----------\n",
      "/Users/bandari/Documents/git.repos/rrlfe/notebooks_for_development/data/original_macadam_photometries/bhpeg_moore_standard.csv\n",
      "Max: 2456563.625609652\n",
      "bhpeg_moore_standard.pdf\n"
     ]
    },
    {
     "data": {
      "text/plain": [
       "<Figure size 432x288 with 0 Axes>"
      ]
     },
     "metadata": {},
     "output_type": "display_data"
    }
   ],
   "source": [
    "data_df = pd.read_csv(file_names[1])\n",
    "data_df[\"JD_trunc\"] = np.subtract(data_df[\"JD\"],np.floor(data_df[\"JD\"][0]))\n",
    "\n",
    "p = np.polyfit(data_df[\"JD_trunc\"], data_df[\"del_mag\"], deg=5)\n",
    "abcissa_fine = np.linspace(np.min(data_df[\"JD_trunc\"]),np.max(data_df[\"JD_trunc\"]),int(1e8))\n",
    "ordinate_fine = np.multiply(p[0],np.power(abcissa_fine,5)) + \\\n",
    "                np.multiply(p[1],np.power(abcissa_fine,4)) + \\\n",
    "                np.multiply(p[2],np.power(abcissa_fine,3)) + \\\n",
    "                np.multiply(p[3],np.power(abcissa_fine,2)) + \\\n",
    "                np.multiply(p[4],abcissa_fine) + \\\n",
    "                p[5]\n",
    "\n",
    "epoch_max = abcissa_fine[np.where(ordinate_fine == np.min(ordinate_fine))][0]\n",
    "\n",
    "plt.scatter(data_df[\"JD_trunc\"], data_df[\"del_mag\"], color=\"k\", s=4)\n",
    "plt.plot(abcissa_fine, ordinate_fine, linewidth=5, color=\"red\", alpha=0.5)\n",
    "         \n",
    "plt.gca().invert_yaxis()\n",
    "\n",
    "plt.annotate(\"Max at \" + str(epoch_max),(0.5,0.3),xycoords=\"figure fraction\")\n",
    "\n",
    "plt.title(os.path.basename(file_names[1]))\n",
    "\n",
    "plt.ylabel(\"mag\")\n",
    "plt.xlabel(\"JD - \" + str(np.floor(data_df[\"JD\"][0])))\n",
    "\n",
    "plt.savefig(os.path.basename(file_names[1]).split(\".\")[0] + \".pdf\")\n",
    "plt.clf()\n",
    "\n",
    "print(\"-----------\")\n",
    "print(file_names[1])\n",
    "print(\"Max: \" + str(np.floor(data_df[\"JD\"][0]) + epoch_max))\n",
    "print(os.path.basename(file_names[1]).split(\".\")[0] + \".pdf\")"
   ]
  }
 ],
 "metadata": {
  "kernelspec": {
   "display_name": "Python 3",
   "language": "python",
   "name": "python3"
  },
  "language_info": {
   "codemirror_mode": {
    "name": "ipython",
    "version": 3
   },
   "file_extension": ".py",
   "mimetype": "text/x-python",
   "name": "python",
   "nbconvert_exporter": "python",
   "pygments_lexer": "ipython3",
   "version": "3.6.6"
  }
 },
 "nbformat": 4,
 "nbformat_minor": 1
}
