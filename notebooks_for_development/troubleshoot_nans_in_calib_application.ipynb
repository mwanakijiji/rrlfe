{
 "cells": [
  {
   "cell_type": "code",
   "execution_count": null,
   "id": "published-graph",
   "metadata": {},
   "outputs": [],
   "source": [
    "# This troubleshoots NaNs and other issues when applying an MCMC posterior \n",
    "# of the RRL calibration to EW data"
   ]
  },
  {
   "cell_type": "code",
   "execution_count": 6,
   "id": "massive-nursing",
   "metadata": {},
   "outputs": [],
   "source": [
    "import numpy as np\n",
    "import matplotlib.pyplot as plt\n",
    "from astropy.io import fits\n",
    "from astropy.table import Table"
   ]
  },
  {
   "cell_type": "code",
   "execution_count": 44,
   "id": "democratic-indian",
   "metadata": {},
   "outputs": [],
   "source": [
    "def feh_layden(coeff_a,coeff_b,coeff_c,coeff_d,H,K):\n",
    "    '''\n",
    "    Finds Fe/H given equivalent widths (in angstroms), from\n",
    "    K = a + b*H + c*[Fe/H] + d*H*[Fe/H]  (Layden 1994 Eqn. 7)\n",
    "    '''\n",
    "\n",
    "    feh = np.divide(np.subtract(K,np.subtract(coeff_a,np.multiply(coeff_b,H))),\n",
    "                    np.add(coeff_c,np.multiply(coeff_d,H)))\n",
    "\n",
    "    return feh"
   ]
  },
  {
   "cell_type": "code",
   "execution_count": 45,
   "id": "functional-paraguay",
   "metadata": {},
   "outputs": [],
   "source": [
    "def feh_layden_vector(coeff_a,coeff_b,coeff_c,coeff_d,H,K):\n",
    "    '''\n",
    "    Finds Fe/H given equivalent widths (in angstroms), from\n",
    "    K = a + b*H + c*[Fe/H] + d*H*[Fe/H]  (Layden 1994 Eqn. 7)\n",
    "    '''\n",
    "\n",
    "    feh = np.divide(np.subtract(K,np.subtract(coeff_a,np.multiply(coeff_b,H))),\n",
    "                    np.add(coeff_c,np.multiply(coeff_d,H)))\n",
    "\n",
    "    return feh"
   ]
  },
  {
   "cell_type": "code",
   "execution_count": 14,
   "id": "popular-watson",
   "metadata": {},
   "outputs": [],
   "source": [
    "def feh_abcdfghk(coeff_a,coeff_b,coeff_c,coeff_d,coeff_f,coeff_g,coeff_h,coeff_k,H,K):\n",
    "    '''\n",
    "    Finds Fe/H given equivalent widths (in angstroms), from\n",
    "    K = a + b*H + c*[Fe/H] + d*H*[Fe/H] + f*(H^2) + g*([Fe/H]^2) + h*(H^2)*[Fe/H] + k*H*([Fe/H]^2)\n",
    "    '''\n",
    "    \n",
    "    \n",
    "\n",
    "    A_cap = coeff_g + coeff_k*H\n",
    "    B_cap = coeff_c + coeff_d*H + coeff_h*np.power(H,2)\n",
    "    C_cap = coeff_a + coeff_b*H + coeff_f*np.power(H,2) - K\n",
    "    # since this involves a quadratic, there are two roots\n",
    "    F_pos = np.divide(-np.add(\n",
    "                            B_cap,\n",
    "                              np.sqrt(\n",
    "                                            np.subtract(np.power(B_cap,2.),\n",
    "                                                        4*np.multiply(A_cap,C_cap))\n",
    "                                           )\n",
    "                             ),\n",
    "                      2*A_cap)\n",
    "    print(F_pos)\n",
    "    F_neg = np.divide(-np.subtract(\n",
    "                                B_cap,\n",
    "                                np.sqrt(\n",
    "                                            np.subtract(np.power(B_cap,2.),\n",
    "                                                             4*np.multiply(A_cap,C_cap))\n",
    "                                            )),\n",
    "                      2*A_cap)\n",
    "    print(F_neg)\n",
    "    \n",
    "    return F_pos, F_neg"
   ]
  },
  {
   "cell_type": "code",
   "execution_count": 15,
   "id": "sealed-dublin",
   "metadata": {},
   "outputs": [],
   "source": [
    "def feh_abcdfghk_vector(coeff_a,coeff_b,coeff_c,coeff_d,coeff_f,coeff_g,coeff_h,coeff_k,H,K):\n",
    "    '''\n",
    "    Finds Fe/H given equivalent widths (in angstroms), from\n",
    "    K = a + b*H + c*[Fe/H] + d*H*[Fe/H] + f*(H^2) + g*([Fe/H]^2) + h*(H^2)*[Fe/H] + k*H*([Fe/H]^2)\n",
    "    '''\n",
    "    \n",
    "    \n",
    "\n",
    "    A_cap = np.add(coeff_g,np.multiply(coeff_k,H))\n",
    "    B_cap = np.add(coeff_c,np.add(np.multiply(coeff_d,H),np.multiply(coeff_h,np.power(H,2))))\n",
    "    C_cap = np.add(coeff_a,np.add(np.multiply(coeff_b,H),np.subtract(np.multiply(coeff_f,np.power(H,2)),K)))\n",
    "    # since this involves a quadratic, there are two roots\n",
    "    F_pos = np.divide(-np.add(\n",
    "                            B_cap,\n",
    "                              np.sqrt(\n",
    "                                            np.subtract(np.power(B_cap,2.),\n",
    "                                                        4*np.multiply(A_cap,C_cap))\n",
    "                                           )\n",
    "                             ),\n",
    "                      np.multiply(2,A_cap))\n",
    "    print(F_pos)\n",
    "    F_neg = np.divide(-np.subtract(\n",
    "                                B_cap,\n",
    "                                np.sqrt(\n",
    "                                            np.subtract(np.power(B_cap,2.),\n",
    "                                                             4*np.multiply(A_cap,C_cap))\n",
    "                                            )),\n",
    "                      np.multiply(2,A_cap))\n",
    "    print(F_neg)\n",
    "    \n",
    "    return F_pos, F_neg"
   ]
  },
  {
   "cell_type": "code",
   "execution_count": 38,
   "id": "brown-antique",
   "metadata": {},
   "outputs": [],
   "source": [
    "def K_abcd(coeff_a,coeff_b,coeff_c,coeff_d,H,feh):\n",
    "    '''\n",
    "    Function to find K (using old Layden calib), for checking\n",
    "    '''\n",
    "    \n",
    "    K = coeff_a + coeff_b*H + coeff_c*feh + coeff_d*H*feh\n",
    "    \n",
    "    return K"
   ]
  },
  {
   "cell_type": "code",
   "execution_count": 16,
   "id": "greek-transcript",
   "metadata": {},
   "outputs": [],
   "source": [
    "def K_abcdfghk(coeff_a,coeff_b,coeff_c,coeff_d,coeff_f,coeff_g,coeff_h,coeff_k,H,feh):\n",
    "    '''\n",
    "    Function to find K, for checking\n",
    "    '''\n",
    "    \n",
    "    K = coeff_a + coeff_b*H + coeff_c*feh + coeff_d*H*feh + coeff_f*(H**2) + \\\n",
    "        coeff_g*(feh**2) + coeff_h*(H**2)*feh + coeff_k*H*(feh**2)\n",
    "    \n",
    "    return K"
   ]
  },
  {
   "cell_type": "code",
   "execution_count": 39,
   "id": "narrative-trance",
   "metadata": {},
   "outputs": [],
   "source": [
    "coeff_array = np.array([24.869157416385207,-2.582957004882373,12.597091229918172,\n",
    "                        -1.0902583910404404,0.07976261001151297,1.5780487338599027,\n",
    "                       0.025617935328091444,-0.08834693987583538])\n",
    "H_test = 12.35339436489356\n",
    "feh_test = -1.3\n",
    "K_test_1 = K_abcdfghk(coeff_array[0],coeff_array[1],coeff_array[2],coeff_array[3],\n",
    "                  coeff_array[4],coeff_array[5],coeff_array[6],coeff_array[7],H=H_test,feh=feh_test)\n",
    "K_Layden_test_1 = K_abcd(coeff_array[0],coeff_array[1],coeff_array[2],coeff_array[3],H=H_test,feh=feh_test)"
   ]
  },
  {
   "cell_type": "code",
   "execution_count": 58,
   "id": "mighty-messaging",
   "metadata": {},
   "outputs": [
    {
     "data": {
      "text/plain": [
       "2.0060075388152137"
      ]
     },
     "execution_count": 58,
     "metadata": {},
     "output_type": "execute_result"
    }
   ],
   "source": [
    "K_test_1"
   ]
  },
  {
   "cell_type": "code",
   "execution_count": 37,
   "id": "unlikely-communications",
   "metadata": {},
   "outputs": [],
   "source": [
    "a_array = [24.869157416385207,24.869157416385207]\n",
    "b_array = [-2.582957004882373,-2.582957004882373]\n",
    "c_array = [12.597091229918172,12.597091229918172]\n",
    "d_array = [-1.0902583910404404,-1.0902583910404404]\n",
    "f_array = [0.07976261001151297,0.07976261001151297]\n",
    "g_array = [1.5780487338599027,1.5780487338599027]\n",
    "h_array = [0.025617935328091444,0.025617935328091444]\n",
    "k_array = [-0.08834693987583538,-0.08834693987583538]"
   ]
  },
  {
   "cell_type": "code",
   "execution_count": 28,
   "id": "overall-justice",
   "metadata": {},
   "outputs": [
    {
     "name": "stdout",
     "output_type": "stream",
     "text": [
      "-4.942824880305222\n",
      "-1.3000000000000012\n"
     ]
    }
   ],
   "source": [
    "feh_test_1 = feh_abcdfghk(coeff_array[0],coeff_array[1],coeff_array[2],coeff_array[3],\n",
    "                  coeff_array[4],coeff_array[5],coeff_array[6],coeff_array[7],H=H_test,K=K_test_1)"
   ]
  },
  {
   "cell_type": "code",
   "execution_count": 46,
   "id": "constant-knitting",
   "metadata": {},
   "outputs": [],
   "source": [
    "feh_Layden_test_1 = feh_layden(coeff_array[0],coeff_array[1],coeff_array[2],coeff_array[3],H=H_test,K=K_test_1)"
   ]
  },
  {
   "cell_type": "code",
   "execution_count": 47,
   "id": "conservative-blink",
   "metadata": {},
   "outputs": [
    {
     "data": {
      "text/plain": [
       "62.86169690935826"
      ]
     },
     "execution_count": 47,
     "metadata": {},
     "output_type": "execute_result"
    }
   ],
   "source": [
    "feh_Layden_test_1"
   ]
  },
  {
   "cell_type": "code",
   "execution_count": 30,
   "id": "electoral-stock",
   "metadata": {},
   "outputs": [
    {
     "name": "stdout",
     "output_type": "stream",
     "text": [
      "         c         \n",
      "-------------------\n",
      " -4.806624548096502\n",
      " -5.272864962592088\n",
      " -4.951685603296217\n",
      " -4.923521626724345\n",
      " -4.925739742931166\n",
      "-4.8615298051629425\n",
      " -4.699960345367154\n",
      " -4.825051640342426\n",
      " -5.019905648372045\n",
      " -4.919927185703218\n",
      "                ...\n",
      " -5.142669314963889\n",
      " -4.856067473145262\n",
      " -4.781251973517741\n",
      " -4.896614041348023\n",
      " -5.558050357792706\n",
      " -4.851379570926765\n",
      " -4.649334576353057\n",
      " -4.773492074464888\n",
      " -4.881627891604153\n",
      "  -4.69642142774316\n",
      " -4.623426718023312\n",
      "Length = 4800000 rows\n",
      "         c         \n",
      "-------------------\n",
      "-1.3008884389600108\n",
      "-1.3155806205858174\n",
      "-1.3230907547812303\n",
      " -1.318305570857748\n",
      " -1.305372863906997\n",
      " -1.290003955903883\n",
      "-1.3062689949520767\n",
      "-1.3146114910589553\n",
      "-1.3161058947879276\n",
      "-1.3185421391727405\n",
      "                ...\n",
      "-1.3219503625858062\n",
      "-1.3103235828070432\n",
      " -1.252366446089165\n",
      "-1.3055494160364312\n",
      "-1.3239121986736495\n",
      "-1.3166939926136956\n",
      "-1.3013878685328215\n",
      "-1.3222207852860828\n",
      "-1.3203068060684973\n",
      "-1.2978953622990854\n",
      " -1.289887242504476\n",
      "Length = 4800000 rows\n"
     ]
    }
   ],
   "source": [
    "feh_test_array = feh_abcdfghk_vector(a_array,b_array,c_array,d_array,\n",
    "                  f_array,g_array,h_array,k_array,H=H_test,K=K_test_1)"
   ]
  },
  {
   "cell_type": "code",
   "execution_count": 48,
   "id": "entertaining-weekly",
   "metadata": {},
   "outputs": [],
   "source": [
    "feh_layden_test_array = feh_layden_vector(a_array,b_array,c_array,d_array,H=H_test,K=K_test_1)"
   ]
  },
  {
   "cell_type": "code",
   "execution_count": 49,
   "id": "planned-tomorrow",
   "metadata": {},
   "outputs": [
    {
     "data": {
      "text/html": [
       "&lt;Column name=&apos;a&apos; dtype=&apos;float64&apos; length=4800000&gt;\n",
       "<table>\n",
       "<tr><td>132.75979835595464</td></tr>\n",
       "<tr><td>53.52722483207651</td></tr>\n",
       "<tr><td>70.71782794328273</td></tr>\n",
       "<tr><td>42.266334568695484</td></tr>\n",
       "<tr><td>93.773208651365</td></tr>\n",
       "<tr><td>51.39870306642907</td></tr>\n",
       "<tr><td>60.191446759755344</td></tr>\n",
       "<tr><td>68.3767990072219</td></tr>\n",
       "<tr><td>74.90607803213183</td></tr>\n",
       "<tr><td>53.94354930203832</td></tr>\n",
       "<tr><td>35.79318364994522</td></tr>\n",
       "<tr><td>266.2171473581332</td></tr>\n",
       "<tr><td>...</td></tr>\n",
       "<tr><td>51.009491086818144</td></tr>\n",
       "<tr><td>56.216295603785355</td></tr>\n",
       "<tr><td>143.52472927868087</td></tr>\n",
       "<tr><td>66.03527915921103</td></tr>\n",
       "<tr><td>44.1316639927874</td></tr>\n",
       "<tr><td>38.18751024058748</td></tr>\n",
       "<tr><td>64.35525933861922</td></tr>\n",
       "<tr><td>68.5157496536851</td></tr>\n",
       "<tr><td>71.00434409668422</td></tr>\n",
       "<tr><td>51.0265320249577</td></tr>\n",
       "<tr><td>-725.6492178648219</td></tr>\n",
       "<tr><td>138.16849414851484</td></tr>\n",
       "</table>"
      ],
      "text/plain": [
       "<Column name='a' dtype='float64' length=4800000>\n",
       "132.75979835595464\n",
       " 53.52722483207651\n",
       " 70.71782794328273\n",
       "42.266334568695484\n",
       "   93.773208651365\n",
       " 51.39870306642907\n",
       "60.191446759755344\n",
       "  68.3767990072219\n",
       " 74.90607803213183\n",
       " 53.94354930203832\n",
       " 35.79318364994522\n",
       " 266.2171473581332\n",
       "               ...\n",
       "51.009491086818144\n",
       "56.216295603785355\n",
       "143.52472927868087\n",
       " 66.03527915921103\n",
       "  44.1316639927874\n",
       " 38.18751024058748\n",
       " 64.35525933861922\n",
       "  68.5157496536851\n",
       " 71.00434409668422\n",
       "  51.0265320249577\n",
       "-725.6492178648219\n",
       "138.16849414851484"
      ]
     },
     "execution_count": 49,
     "metadata": {},
     "output_type": "execute_result"
    }
   ],
   "source": [
    "feh_layden_test_array"
   ]
  },
  {
   "cell_type": "code",
   "execution_count": 50,
   "id": "unknown-bosnia",
   "metadata": {},
   "outputs": [],
   "source": [
    "# read in an actual solution and apply posteriors\n",
    "\n",
    "stem = \"/Users/bandari/Documents/git.repos/rrlyrae_metallicity\"\n",
    "file_name = stem + \"/src/calib_solution_abcdfghk_20211118.fits\"\n",
    "mcmc_chain = Table.read(file_name, hdu=1)"
   ]
  },
  {
   "cell_type": "code",
   "execution_count": 51,
   "id": "atmospheric-particular",
   "metadata": {},
   "outputs": [
    {
     "name": "stdout",
     "output_type": "stream",
     "text": [
      "         c         \n",
      "-------------------\n",
      " -4.806624548096502\n",
      " -5.272864962592088\n",
      " -4.951685603296217\n",
      " -4.923521626724345\n",
      " -4.925739742931166\n",
      "-4.8615298051629425\n",
      " -4.699960345367154\n",
      " -4.825051640342426\n",
      " -5.019905648372045\n",
      " -4.919927185703218\n",
      "                ...\n",
      " -5.142669314963889\n",
      " -4.856067473145262\n",
      " -4.781251973517741\n",
      " -4.896614041348023\n",
      " -5.558050357792706\n",
      " -4.851379570926765\n",
      " -4.649334576353057\n",
      " -4.773492074464888\n",
      " -4.881627891604153\n",
      "  -4.69642142774316\n",
      " -4.623426718023312\n",
      "Length = 4800000 rows\n",
      "         c         \n",
      "-------------------\n",
      "-1.3008884389600108\n",
      "-1.3155806205858174\n",
      "-1.3230907547812303\n",
      " -1.318305570857748\n",
      " -1.305372863906997\n",
      " -1.290003955903883\n",
      "-1.3062689949520767\n",
      "-1.3146114910589553\n",
      "-1.3161058947879276\n",
      "-1.3185421391727405\n",
      "                ...\n",
      "-1.3219503625858062\n",
      "-1.3103235828070432\n",
      " -1.252366446089165\n",
      "-1.3055494160364312\n",
      "-1.3239121986736495\n",
      "-1.3166939926136956\n",
      "-1.3013878685328215\n",
      "-1.3222207852860828\n",
      "-1.3203068060684973\n",
      "-1.2978953622990854\n",
      " -1.289887242504476\n",
      "Length = 4800000 rows\n"
     ]
    }
   ],
   "source": [
    "a_array = mcmc_chain[\"a\"]\n",
    "b_array = mcmc_chain[\"b\"]\n",
    "c_array = mcmc_chain[\"c\"]\n",
    "d_array = mcmc_chain[\"d\"]\n",
    "f_array = mcmc_chain[\"f\"]\n",
    "g_array = mcmc_chain[\"g\"]\n",
    "h_array = mcmc_chain[\"h\"]\n",
    "k_array = mcmc_chain[\"k\"]\n",
    "\n",
    "feh_test_array = feh_abcdfghk_vector(a_array,b_array,c_array,d_array,\n",
    "                  f_array,g_array,h_array,k_array,H=H_test,K=K_test_1)\n",
    "\n",
    "feh_layden_test_array = feh_layden_vector(a_array,b_array,c_array,d_array,H=H_test,K=K_test_1)"
   ]
  },
  {
   "cell_type": "code",
   "execution_count": 54,
   "id": "single-vacuum",
   "metadata": {},
   "outputs": [
    {
     "data": {
      "text/html": [
       "&lt;Column name=&apos;a&apos; dtype=&apos;float64&apos; length=4800000&gt;\n",
       "<table>\n",
       "<tr><td>132.75979835595464</td></tr>\n",
       "<tr><td>53.52722483207651</td></tr>\n",
       "<tr><td>70.71782794328273</td></tr>\n",
       "<tr><td>42.266334568695484</td></tr>\n",
       "<tr><td>93.773208651365</td></tr>\n",
       "<tr><td>51.39870306642907</td></tr>\n",
       "<tr><td>60.191446759755344</td></tr>\n",
       "<tr><td>68.3767990072219</td></tr>\n",
       "<tr><td>74.90607803213183</td></tr>\n",
       "<tr><td>53.94354930203832</td></tr>\n",
       "<tr><td>35.79318364994522</td></tr>\n",
       "<tr><td>266.2171473581332</td></tr>\n",
       "<tr><td>...</td></tr>\n",
       "<tr><td>51.009491086818144</td></tr>\n",
       "<tr><td>56.216295603785355</td></tr>\n",
       "<tr><td>143.52472927868087</td></tr>\n",
       "<tr><td>66.03527915921103</td></tr>\n",
       "<tr><td>44.1316639927874</td></tr>\n",
       "<tr><td>38.18751024058748</td></tr>\n",
       "<tr><td>64.35525933861922</td></tr>\n",
       "<tr><td>68.5157496536851</td></tr>\n",
       "<tr><td>71.00434409668422</td></tr>\n",
       "<tr><td>51.0265320249577</td></tr>\n",
       "<tr><td>-725.6492178648219</td></tr>\n",
       "<tr><td>138.16849414851484</td></tr>\n",
       "</table>"
      ],
      "text/plain": [
       "<Column name='a' dtype='float64' length=4800000>\n",
       "132.75979835595464\n",
       " 53.52722483207651\n",
       " 70.71782794328273\n",
       "42.266334568695484\n",
       "   93.773208651365\n",
       " 51.39870306642907\n",
       "60.191446759755344\n",
       "  68.3767990072219\n",
       " 74.90607803213183\n",
       " 53.94354930203832\n",
       " 35.79318364994522\n",
       " 266.2171473581332\n",
       "               ...\n",
       "51.009491086818144\n",
       "56.216295603785355\n",
       "143.52472927868087\n",
       " 66.03527915921103\n",
       "  44.1316639927874\n",
       " 38.18751024058748\n",
       " 64.35525933861922\n",
       "  68.5157496536851\n",
       " 71.00434409668422\n",
       "  51.0265320249577\n",
       "-725.6492178648219\n",
       "138.16849414851484"
      ]
     },
     "execution_count": 54,
     "metadata": {},
     "output_type": "execute_result"
    }
   ],
   "source": [
    "feh_layden_test_array"
   ]
  },
  {
   "cell_type": "code",
   "execution_count": 57,
   "id": "monthly-classics",
   "metadata": {},
   "outputs": [
    {
     "data": {
      "image/png": "[encoded data removed]",
      "text/plain": [
       "<Figure size 432x288 with 1 Axes>"
      ]
     },
     "metadata": {
      "needs_background": "light"
     },
     "output_type": "display_data"
    }
   ],
   "source": [
    "plt.hist(feh_test_array[1], bins=100)\n",
    "plt.title(\"Example retrieval of Fe/H=-1.3\")\n",
    "plt.xlabel(\"Retrieved [Fe/H]\")\n",
    "plt.ylabel(\"Histogram\")\n",
    "plt.tight_layout()\n",
    "plt.savefig(\"junk.pdf\")"
   ]
  },
  {
   "cell_type": "code",
   "execution_count": 55,
   "id": "recorded-abuse",
   "metadata": {},
   "outputs": [
    {
     "data": {
      "image/png": "[encoded data removed]",
      "text/plain": [
       "<Figure size 432x288 with 1 Axes>"
      ]
     },
     "metadata": {
      "needs_background": "light"
     },
     "output_type": "display_data"
    }
   ],
   "source": [
    "plt.clf()\n",
    "plt.hist(feh_layden_test_array, bins=100)\n",
    "plt.title(\"Example retrieval of Fe/H=-1.3\")\n",
    "plt.xlabel(\"Retrieved [Fe/H]\")\n",
    "plt.ylabel(\"Histogram\")\n",
    "plt.tight_layout()\n",
    "plt.savefig(\"junk.pdf\")"
   ]
  },
  {
   "cell_type": "code",
   "execution_count": null,
   "id": "quantitative-irish",
   "metadata": {},
   "outputs": [],
   "source": []
  }
 ],
 "metadata": {
  "kernelspec": {
   "display_name": "Python 3",
   "language": "python",
   "name": "python3"
  },
  "language_info": {
   "codemirror_mode": {
    "name": "ipython",
    "version": 3
   },
   "file_extension": ".py",
   "mimetype": "text/x-python",
   "name": "python",
   "nbconvert_exporter": "python",
   "pygments_lexer": "ipython3",
   "version": "3.6.6"
  }
 },
 "nbformat": 4,
 "nbformat_minor": 5
}
