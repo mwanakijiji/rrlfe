{
 "cells": [
  {
   "cell_type": "code",
   "execution_count": null,
   "metadata": {},
   "outputs": [],
   "source": [
    "# This plots BIC values for different permutations of coefficients\n",
    "\n",
    "# Created 2020 Mar 10 by E.S."
   ]
  },
  {
   "cell_type": "code",
   "execution_count": 1,
   "metadata": {},
   "outputs": [],
   "source": [
    "import pandas as pd\n",
    "import numpy as np\n",
    "import matplotlib\n",
    "import matplotlib.pyplot as plt\n",
    "import seaborn as sns\n",
    "import os\n",
    "from dataclasses import dataclass\n",
    "from typing import *\n",
    "\n",
    "%matplotlib qt"
   ]
  },
  {
   "cell_type": "code",
   "execution_count": 2,
   "metadata": {},
   "outputs": [],
   "source": [
    "df = pd.read_csv(\"junk.csv\",names=[\"coeffs_array\",\n",
    "                                                    \"bic\",\n",
    "                                                    \"n_params\",\n",
    "                                                    \"ssr\",\n",
    "                                                    \"n_samples\",\n",
    "                                                    \"a_coeff\",\n",
    "                                                    \"b_coeff\",\n",
    "                                                    \"c_coeff\",\n",
    "                                                    \"d_coeff\",\n",
    "                                                    \"f_coeff\",\n",
    "                                                    \"g_coeff\",\n",
    "                                                    \"h_coeff\",\n",
    "                                                    \"k_coeff\",\n",
    "                                                    \"m_coeff\",\n",
    "                                                    \"n_coeff\",\n",
    "                                                    \"res\"],delimiter=\";\")"
   ]
  },
  {
   "cell_type": "code",
   "execution_count": 3,
   "metadata": {},
   "outputs": [],
   "source": [
    "#BIC_baseline_logg2pt5only = 92.5231102439195\n",
    "#BIC_baseline_logg3pt0only = 85.5973111789901\n",
    "#BIC_baseline_logg2pt5and3pt0 = 168.61055978365414\n",
    "\n",
    "BIC_baseline = 251.2375827551901 # from rough coefficients {a,b,c,d} at end of Feb 2021\n",
    "\n",
    "# sort by BIC\n",
    "df_sorted = df.sort_values(\"bic\").reset_index()\n",
    "\n",
    "# add column of del_BIC = BIC_i - BIC_baseline\n",
    "## ## CHANGE LATER!\n",
    "df_sorted[\"del_bic\"] = np.subtract(df_sorted[\"bic\"],BIC_baseline)"
   ]
  },
  {
   "cell_type": "code",
   "execution_count": 4,
   "metadata": {},
   "outputs": [],
   "source": [
    "#plt.bar(np.arange(len(df_sorted[\"del_bic\"])),df_sorted[\"del_bic\"])\n",
    "#plt.title(\"del_BIC\")\n",
    "#plt.xlabel(\"permutation number, sorted by BIC\")\n",
    "#plt.ylabel(\"BIC\")\n",
    "#plt.show()\n",
    "\n",
    "ax = df_sorted[\"del_bic\"].plot(kind='barh') \n",
    "ax.set_title(\"$\\Delta$BIC\")\n",
    "ax.set_ylabel(\"permutation, sorted by $\\Delta$BIC\")\n",
    "ax.set_xlabel(\"BIC\")\n",
    "ax.set_yticklabels(list(zip(df_sorted[\"coeffs_array\"],df_sorted[\"res\"])), fontsize=3)\n",
    "#ax.get_yaxis().set_visible(False)\n",
    "\n",
    "\n",
    "#for p in ax.patches:\n",
    "#    ax.annotate(str(df_sorted[\"coeffs_array\"][p]), (p.get_x() * 1.0, p.get_height() * 1.005))\n",
    "\n",
    "plt.show()"
   ]
  }
 ],
 "metadata": {
  "kernelspec": {
   "display_name": "Python 3",
   "language": "python",
   "name": "python3"
  },
  "language_info": {
   "codemirror_mode": {
    "name": "ipython",
    "version": 3
   },
   "file_extension": ".py",
   "mimetype": "text/x-python",
   "name": "python",
   "nbconvert_exporter": "python",
   "pygments_lexer": "ipython3",
   "version": "3.6.6"
  }
 },
 "nbformat": 4,
 "nbformat_minor": 2
}
