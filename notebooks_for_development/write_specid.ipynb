{
 "cells": [
  {
   "cell_type": "code",
   "execution_count": null,
   "id": "38ef2921",
   "metadata": {},
   "outputs": [],
   "source": [
    "# Reads in a file and separates file names into plate, mjd, and fiber number\n",
    "# for Young Sun Lee to run through the SSPP pipeline\n",
    "\n",
    "# Created 2022 Nov. 14 by E.S."
   ]
  },
  {
   "cell_type": "code",
   "execution_count": 1,
   "id": "a889d172",
   "metadata": {},
   "outputs": [],
   "source": [
    "import pandas as pd"
   ]
  },
  {
   "cell_type": "code",
   "execution_count": 2,
   "id": "219cdeda",
   "metadata": {},
   "outputs": [],
   "source": [
    "stem = \"/Users/bandari/Documents/git.repos/rrlfe/notebooks_for_development/data/\"\n",
    "file_name = \"phaseampgroupstype_modified.dat\""
   ]
  },
  {
   "cell_type": "code",
   "execution_count": 17,
   "id": "876b20d1",
   "metadata": {},
   "outputs": [],
   "source": [
    "df = pd.read_csv(stem + file_name, delim_whitespace=True, usecols=[0], names=[\"spec_name\"])"
   ]
  },
  {
   "cell_type": "code",
   "execution_count": 23,
   "id": "57b1a7b7",
   "metadata": {},
   "outputs": [
    {
     "data": {
      "text/plain": [
       "['spec', '0380', '51792', '0237g001.dat']"
      ]
     },
     "execution_count": 23,
     "metadata": {},
     "output_type": "execute_result"
    }
   ],
   "source": [
    "df[\"spec_name\"].str.split(\"-\")"
   ]
  },
  {
   "cell_type": "code",
   "execution_count": 40,
   "id": "e50dfb50",
   "metadata": {},
   "outputs": [],
   "source": [
    "#df[['A', 'B']] = df['AB'].str.split(' ', 1, expand=True)\n",
    "df[[\"spec\", \"plate\", \"mjd\", \"test\"]] = df[\"spec_name\"].str.split(\"-\", expand=True)"
   ]
  },
  {
   "cell_type": "code",
   "execution_count": 45,
   "id": "739503bf",
   "metadata": {},
   "outputs": [],
   "source": [
    "df[[\"fiber\", \"test2\"]] = df[\"test\"].str.split(\"g\", expand=True)\n",
    "df[[\"spectrum\", \"test3\"]] = df[\"test2\"].str.split(\".\", expand=True)"
   ]
  },
  {
   "cell_type": "code",
   "execution_count": 49,
   "id": "76e68072",
   "metadata": {},
   "outputs": [],
   "source": [
    "df[[\"plate\",\"mjd\",\"fiber\",\"spectrum\"]].to_csv(\"spalding_sdss_spectra.csv\", index=False)"
   ]
  },
  {
   "cell_type": "code",
   "execution_count": null,
   "id": "9ceeb72e",
   "metadata": {},
   "outputs": [],
   "source": []
  }
 ],
 "metadata": {
  "kernelspec": {
   "display_name": "Python 3",
   "language": "python",
   "name": "python3"
  },
  "language_info": {
   "codemirror_mode": {
    "name": "ipython",
    "version": 3
   },
   "file_extension": ".py",
   "mimetype": "text/x-python",
   "name": "python",
   "nbconvert_exporter": "python",
   "pygments_lexer": "ipython3",
   "version": "3.6.6"
  }
 },
 "nbformat": 4,
 "nbformat_minor": 5
}
