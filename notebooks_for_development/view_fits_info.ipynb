{
 "cells": [
  {
   "cell_type": "code",
   "execution_count": 1,
   "id": "mature-player",
   "metadata": {},
   "outputs": [],
   "source": [
    "# This reads in FITS-format files to take a look\n",
    "\n",
    "# Created 2021 March 13 by E.S.\n",
    "\n",
    "# ref. https://learn.astropy.org/FITS-tables.html"
   ]
  },
  {
   "cell_type": "code",
   "execution_count": 41,
   "id": "mechanical-jacob",
   "metadata": {},
   "outputs": [],
   "source": [
    "from astropy.io import fits\n",
    "import matplotlib.pyplot as plt\n",
    "import numpy as np\n",
    "from astropy.table import Table\n",
    "import pandas as pd\n",
    "\n",
    "%matplotlib qt"
   ]
  },
  {
   "cell_type": "code",
   "execution_count": 4,
   "id": "elegant-staff",
   "metadata": {},
   "outputs": [],
   "source": [
    "stem = \"/Users/bandari/Downloads/dr12/sdss/spectro/redux/104/spectra/3467/\"\n",
    "#stem = \"/Users/bandari/Desktop/dst_data\""
   ]
  },
  {
   "cell_type": "code",
   "execution_count": 5,
   "id": "satellite-replication",
   "metadata": {},
   "outputs": [],
   "source": [
    "leaf = \"spec-3467-54999-0411.fits\""
   ]
  },
  {
   "cell_type": "code",
   "execution_count": 6,
   "id": "failing-collect",
   "metadata": {},
   "outputs": [],
   "source": [
    "def info_standalone(file_name_leaf):\n",
    "    '''\n",
    "    Reads in a FITS file and prints the HDU primary and extensions\n",
    "    \n",
    "    INPUTS:\n",
    "    file_name_leaf: leaf of file name beyond the 'stem' set above\n",
    "    '''\n",
    "    \n",
    "    hdul = fits.open(stem + file_name_leaf)\n",
    "    \n",
    "    # print some things\n",
    "    print(hdul.info())"
   ]
  },
  {
   "cell_type": "code",
   "execution_count": 7,
   "id": "engaging-behavior",
   "metadata": {},
   "outputs": [
    {
     "name": "stdout",
     "output_type": "stream",
     "text": [
      "Filename: /Users/bandari/Downloads/dr12/sdss/spectro/redux/104/spectra/3467/spec-3467-54999-0411.fits\n",
      "No.    Name      Ver    Type      Cards   Dimensions   Format\n",
      "  0  PRIMARY       1 PrimaryHDU     150   ()      \n",
      "  1  COADD         1 BinTableHDU     26   3838R x 8C   [E, E, E, J, J, E, E, E]   \n",
      "  2  SPECOBJ       1 BinTableHDU    262   1R x 126C   [6A, 4A, 16A, 23A, 16A, 8A, E, E, E, J, E, E, J, B, B, B, B, B, B, J, 22A, 19A, 19A, 22A, 19A, I, 3A, 3A, 1A, J, D, D, D, E, E, 19A, 8A, J, J, J, J, K, K, J, J, J, J, J, J, K, K, K, K, I, J, J, J, J, 5J, D, D, 6A, 21A, E, E, E, J, E, 24A, 10J, J, 10E, E, E, E, E, E, E, J, E, E, E, J, E, 5E, E, 10E, 10E, 10E, 5E, 5E, 5E, 5E, 5E, J, J, E, E, E, E, E, E, 25A, 21A, 10A, E, E, E, E, E, E, E, E, J, E, E, J, 1A, 1A, E, E, J, J, 1A, 5E, 5E]   \n",
      "  3  SPZLINE       1 BinTableHDU     48   29R x 19C   [J, J, J, 13A, D, E, E, E, E, E, E, E, E, E, E, J, J, E, E]   \n",
      "  4  B2-00061781-00061783-00061784    1 BinTableHDU    162   2047R x 7C   [E, E, E, J, E, E, E]   \n",
      "  5  B2-00061782-00061783-00061784    1 BinTableHDU    162   2047R x 7C   [E, E, E, J, E, E, E]   \n",
      "  6  B2-00061785-00061783-00061784    1 BinTableHDU    162   2047R x 7C   [E, E, E, J, E, E, E]   \n",
      "  7  B2-00061786-00061783-00061784    1 BinTableHDU    162   2044R x 7C   [E, E, E, J, E, E, E]   \n",
      "  8  R2-00061781-00061783-00061784    1 BinTableHDU    162   2042R x 7C   [E, E, E, J, E, E, E]   \n",
      "  9  R2-00061782-00061783-00061784    1 BinTableHDU    162   2042R x 7C   [E, E, E, J, E, E, E]   \n",
      " 10  R2-00061785-00061783-00061784    1 BinTableHDU    162   2042R x 7C   [E, E, E, J, E, E, E]   \n",
      " 11  R2-00061786-00061783-00061784    1 BinTableHDU    162   2042R x 7C   [E, E, E, J, E, E, E]   \n",
      "None\n"
     ]
    }
   ],
   "source": [
    "info_standalone(leaf)"
   ]
  },
  {
   "cell_type": "code",
   "execution_count": 8,
   "id": "fantastic-motivation",
   "metadata": {},
   "outputs": [],
   "source": [
    "hdul = fits.open(stem + leaf)"
   ]
  },
  {
   "cell_type": "code",
   "execution_count": 38,
   "id": "rapid-pilot",
   "metadata": {},
   "outputs": [
    {
     "data": {
      "text/plain": [
       "SIMPLE  =                    T / conforms to FITS standard                      \n",
       "BITPIX  =                    8 / array data type                                \n",
       "NAXIS   =                    0 / number of array dimensions                     \n",
       "EXTEND  =                    T                                                  \n",
       "TAI     =        4751939680.56 / 1st row Number of seconds since Nov 17 1858    \n",
       "RA      =            121.00000 / 1st row RA of telescope boresight (deg)        \n",
       "DEC     =            90.000000 / 1st row Dec of telescope boresight (degrees)   \n",
       "EQUINOX =              2000.00 /                                                \n",
       "RADECSYS= 'FK5     '           /                                                \n",
       "TAIHMS  = '06:31:05.64'        / 1st row TAI time HH:MM:SS.SS                   \n",
       "TIMESYS = 'tai     '           / TAI, not UTC                                   \n",
       "MJD     =                54999 / MJD of observation                             \n",
       "MJDLIST = '54999   '           /                                                \n",
       "VERSION = 'v4_39_0 '           / version of IOP                                 \n",
       "CAMVER  = 'SPEC1 v4_8'         / Camera code version                            \n",
       "OBSERVER= 'viktorm '                                                            \n",
       "OBSCOMM = 'science '                                                            \n",
       "TELESCOP= 'SDSS 2.5-M'         / Sloan Digital Sky Survey                       \n",
       "BESTEXP =                61782 /                                                \n",
       "NEXP_B1 =                    4 / b1 camera number of exposures                  \n",
       "NEXP_R1 =                    4 / r1 camera number of exposures                  \n",
       "EXPT_B1 =              5764.00 / b1 camera exposure time (seconds)              \n",
       "EXPT_R1 =              5764.00 / r1 camera exposure time (seconds)              \n",
       "EXPTIME =              5764.00 / Minimum of exposure times for all cameras      \n",
       "SPCOADD = 'Thu Apr 22 18:12:36 2010' / SPCOADD finished                         \n",
       "FLAVOR  = 'science '           / Flavor of this sequence (e.g., dome f          \n",
       "QUALITY = 'excellent'          / night/image quality                            \n",
       "RADEG   = 2.42020000000000E+02 / Right Ascension. (degrees)                     \n",
       "DECDEG  = 3.88312990000000E+01 / Declination. (degrees)                         \n",
       "PLATEID =                 3467 / Plate Id                                       \n",
       "TILEID  =                  655 / Tile Id                                        \n",
       "CARTID  =                    1 /Cartridge used in this plugging                 \n",
       "REDDEN  = '0.0609 0.0448 0.0325 0.0246 0.0175' / Median reddening vector for pla\n",
       "MAPID   =              5499901 / Map Id                                         \n",
       "NAME    = '3467-54999-01'      / Name of target; PlateId-MJD-Mapper Re          \n",
       "COLBIN  =                    1 / Binning factor perpendicular to the c          \n",
       "ROWBIN  =                    1 / Binning factor perpendicular to the r          \n",
       "PROGRAM = 'binning 1   1 '     / Identifying name for CCD program               \n",
       "SECFOCUS= -1.5000000000000E+02 / Secondary Mirror Position as reported          \n",
       "GUIDEIMG= '/data/spectro/guider/gimg0445.fits' / Last archived guider image     \n",
       "WTIME   =        1245222636.25 / weatherData(timeStamp)                         \n",
       "AIRTEMP =        16.2000000000 / weatherData(airtemp)                           \n",
       "DEWPOINT=       -4.37500000000 / weatherData(dewpoint)                          \n",
       "DEWDEP  =        20.5750000000 / weatherData(dewpointDep)                       \n",
       "DUSTA   =        20926.5000000 / weatherData(dusta)                             \n",
       "DUSTB   =        934.500000000 / weatherData(dustb)                             \n",
       "DUSTC   =       -9999.00000000 / weatherData(dustc)                             \n",
       "DUSTD   =       -9999.00000000 / weatherData(dustd)                             \n",
       "GUSTD   = 2.16600000000000E+02 / weatherData(gustd)                             \n",
       "GUSTS   =        12.3500000000 / weatherData(gusts)                             \n",
       "HUMIDITY=        24.0500000000 / weatherData(humidity)                          \n",
       "HUMIDOUT=        24.0000000000 / weatherData(humidout)                          \n",
       "PRESSURE=        21.5602500000 / weatherData(pressure)                          \n",
       "WINDD   =        270.200000000 / weatherData(windd)                             \n",
       "WINDS   =        9.22500000000 / weatherData(winds)                             \n",
       "MC2HUMHT= -2.5200000000000E+01 / sp2 mech hartmann humidity                     \n",
       "MC2HUMCO= 1.43000000000000E+01 / sp2 mech cen opt humidity                      \n",
       "MC2TEMDN= 1.47000000000000E+01 / sp2 mech median temp                           \n",
       "MC2THT  = 1.47000000000000E+01 / sp2 mech Temp_Hartmann_Top                     \n",
       "MC2TRCB = 1.49000000000000E+01 / sp2 mech Temp_Red_Cam_Bot                      \n",
       "MC2TRCT = 1.45000000000000E+01 / sp2 mech Temp_Red_Cam_Top                      \n",
       "MC2TBCB = 1.47000000000000E+01 / sp2 mech Temp_Blue_Cam_Bot                     \n",
       "MC2TBCT = 1.49000000000000E+01 / sp2 mech Temp_Blue_Cam_Top                     \n",
       "TEMP01  =       -93.3600000000 / CCD 01 Temperature                             \n",
       "TEMP02  =       -94.1400000000 / CCD 02 Temperature                             \n",
       "TEMP03  =       -93.2625000000 / CCD 03 Temperature                             \n",
       "TEMP04  =       -91.7025000000 / CCD 04 Temperature                             \n",
       "VERSIDL = '6.4     '           / Version of IDL                                 \n",
       "VERSUTIL= 'v5_3_0  '           / Version of idlutils                            \n",
       "VERSREAD= 'NOCVS:v5_3_23'      / Version of idlspec2d for pre-processing raw dat\n",
       "VERS2D  = 'NOCVS:v5_3_23'      / Version of idlspec2d for 2D reduction          \n",
       "VERSCOMB= 'NOCVS:v5_3_23'      / Version of idlspec2d for combining multiple spe\n",
       "VERSLOG = 'trunk 106949'       / Version of SPECLOG product                     \n",
       "VERSFLAT= 'v1_7    '           / Version of SPECFLAT product                    \n",
       "OPBC    = 'opBC-51813.par'     /                                                \n",
       "OPCONFIG= 'opConfig-50000.par' /                                                \n",
       "OPECALIB= 'opECalib-51577.par' /                                                \n",
       "PLUGFILE= 'plPlugMapM-3467-54999-01.par' /                                      \n",
       "HELIO_RV=        9.96233816497 / Heliocentric correction (added to velocities)  \n",
       "VACUUM  =                    T / Wavelengths are in vacuum                      \n",
       "SFLATTEN=                    T / Superflat has been applied                     \n",
       "PSFSKY  =                    3 / Order of PSF skysubtraction                    \n",
       "BADSKYTH=              4.00000 / threshold for declaring sky rel chi2 bad       \n",
       "SKYCHI2 =        1.18011460527 / Mean chi^2 of sky-subtraction                  \n",
       "SCHI2MIN=        1.07356553560 /                                                \n",
       "SCHI2MAX=        1.40162005336 /                                                \n",
       "PREJECT =             0.200000 / Profile area rejection threshold               \n",
       "SPEC1_G =              52.3685 /(S/N)^2 for spec  1 at mag 20.20                \n",
       "SPEC1_R =              52.2264 /(S/N)^2 for spec  1 at mag 20.25                \n",
       "SPEC1_I =              37.9041 /(S/N)^2 for spec  1 at mag 19.90                \n",
       "SPEC2_G =              73.0771 /(S/N)^2 for spec  2 at mag 20.20                \n",
       "SPEC2_R =              61.3182 /(S/N)^2 for spec  2 at mag 20.25                \n",
       "SPEC2_I =              50.9021 /(S/N)^2 for spec  2 at mag 19.90                \n",
       "NSTD    =                   13 / Number of (good) std stars                     \n",
       "GOFFSTD =           -0.0113926 / Spectrophoto offset for std stars in G-band    \n",
       "GRMSSTD =            0.0136100 / Spectrophoto RMS for std stars in G-band       \n",
       "ROFFSTD =          -0.00635147 / Spectrophoto offset for std stars in R-band    \n",
       "RRMSSTD =            0.0191740 / Spectrophoto RMS for std stars in R-band       \n",
       "IOFFSTD =           0.00400734 / Spectrophoto offset for std stars in I-band    \n",
       "IRMSSTD =            0.0323814 / Spectrophoto RMS for std stars in I-band       \n",
       "GROFFSTD=           0.00432968 / Spectrophoto offset for std stars in (GR)      \n",
       "GRRMSSTD=            0.0207751 / Spectrophoto RMS for std stars in (GR)         \n",
       "RIOFFSTD=           -0.0113564 / Spectrophoto offset for std stars in (RI)      \n",
       "RIRMSSTD=            0.0202976 / Spectrophoto RMS for std stars in (RI)         \n",
       "NGAL    =                   44 / Number of (good) main galaxies                 \n",
       "GOFFGAL =            0.0300064 / Spectrophoto offset for main galaxies in G-band\n",
       "GRMSGAL =             0.133246 / Spectrophoto RMS for main galaxies in G-band   \n",
       "ROFFGAL =            0.0368748 / Spectrophoto offset for main galaxies in R-band\n",
       "RRMSGAL =            0.0801200 / Spectrophoto RMS for main galaxies in R-band   \n",
       "IOFFGAL =            0.0344639 / Spectrophoto offset for main galaxies in I-band\n",
       "IRMSGAL =            0.0932913 / Spectrophoto RMS for main galaxies in I-band   \n",
       "GROFFGAL=           0.00687599 / Spectrophoto offset for main galaxies in (GR)  \n",
       "GRRMSGAL=            0.0514033 / Spectrophoto RMS for main galaxies in (GR)     \n",
       "RIOFFGAL=          -0.00577545 / Spectrophoto offset for main galaxies in (RI)  \n",
       "RIRMSGAL=            0.0431080 / Spectrophoto RMS for main galaxies in (RI)     \n",
       "LOWREJ  =                    5 / Extraction: low rejection                      \n",
       "HIGHREJ =                    8 / Extraction: high rejection                     \n",
       "SCATPOLY=                    0 / Extraction: Order of scattered light polynomial\n",
       "PROFTYPE=                    3 / Extraction profile: 1=Gaussian                 \n",
       "NFITPOLY=                    1 / Extraction: Number of parameters in each profil\n",
       "XCHI2   =              1.64140 / Extraction: Mean chi^2                         \n",
       "XCHI2MIN=              1.24345 /                                                \n",
       "XCHI2MAX=              2.39213 /                                                \n",
       "SHIFTGUE=   -0.000812781513105 /                                                \n",
       "SHIFT   =      -0.395075845483 /Angstroms, at 4000AA                            \n",
       "SHIFTERR=       0.565224861013 /                                                \n",
       "NWORDER =                    2 / Linear-log10 coefficients                      \n",
       "WFITTYPE= 'LOG-LINEAR'         / Linear-log10 dispersion                        \n",
       "COEFF0  =        3.58030000000 / Central wavelength (log10) of first pixel      \n",
       "COEFF1  =    0.000100000000000 / Log10 dispersion per pixel                     \n",
       "FBADPIX =            0.0345583 / Fraction of bad pixels                         \n",
       "FBADPIX1=            0.0200463 / Fraction of bad pixels on spectro-1            \n",
       "FBADPIX2=            0.0490704 / Fraction of bad pixels on spectro-2            \n",
       "WAT0_001= 'system=linear'      /                                                \n",
       "WAT1_001= 'wtype=linear label=Wavelength units=Angstroms' /                     \n",
       "DC-FLAG =                    1 / Log-linear flag                                \n",
       "BUNIT   = '1E-17 erg/cm^2/s/Ang' /                                              \n",
       "PLUG_RA =            241.32375 / RA of object [deg]                             \n",
       "PLUG_DEC=            39.162514 / dec of object [deg]                            \n",
       "SPEC_ID = '   3903608035712540672' / Unique object identifier                   \n",
       "FIBERID =                  411 / Fiber number (1-640)                           \n",
       "NEXP    =                    8 / Number of individual exposures                 \n",
       "EXPID01 = 'b2-00061781-00061783-00061784'                                       \n",
       "EXPID02 = 'b2-00061782-00061783-00061784'                                       \n",
       "EXPID03 = 'b2-00061785-00061783-00061784'                                       \n",
       "EXPID04 = 'b2-00061786-00061783-00061784'                                       \n",
       "EXPID05 = 'r2-00061781-00061783-00061784'                                       \n",
       "EXPID06 = 'r2-00061782-00061783-00061784'                                       \n",
       "EXPID07 = 'r2-00061785-00061783-00061784'                                       \n",
       "EXPID08 = 'r2-00061786-00061783-00061784'                                       "
      ]
     },
     "execution_count": 38,
     "metadata": {},
     "output_type": "execute_result"
    }
   ],
   "source": [
    "hdul[0].header"
   ]
  },
  {
   "cell_type": "code",
   "execution_count": 28,
   "id": "representative-marathon",
   "metadata": {},
   "outputs": [
    {
     "name": "stdout",
     "output_type": "stream",
     "text": [
      "ColDefs(\n",
      "    name = 'flux'; format = 'E'\n",
      "    name = 'loglam'; format = 'E'\n",
      "    name = 'ivar'; format = 'E'\n",
      "    name = 'mask'; format = 'J'\n",
      "    name = 'wdisp'; format = 'E'\n",
      "    name = 'sky'; format = 'E'\n",
      "    name = 'calib'; format = 'E'\n",
      ")\n"
     ]
    }
   ],
   "source": [
    "print(hdul[4].columns)"
   ]
  },
  {
   "cell_type": "code",
   "execution_count": null,
   "id": "informed-drill",
   "metadata": {},
   "outputs": [],
   "source": [
    "print(hdul[4])"
   ]
  },
  {
   "cell_type": "markdown",
   "id": "sexual-zoning",
   "metadata": {},
   "source": [
    "stuff = hdul[4].data\n",
    "print(hdul[4].columns)"
   ]
  },
  {
   "cell_type": "code",
   "execution_count": 31,
   "id": "manufactured-stick",
   "metadata": {},
   "outputs": [
    {
     "data": {
      "text/plain": [
       "XTENSION= 'BINTABLE'           / binary table extension                         \n",
       "BITPIX  =                    8 / array data type                                \n",
       "NAXIS   =                    2 / number of array dimensions                     \n",
       "NAXIS1  =                   28 / length of dimension 1                          \n",
       "NAXIS2  =                 2047 / length of dimension 2                          \n",
       "PCOUNT  =                    0 / number of group parameters                     \n",
       "GCOUNT  =                    1 / number of groups                               \n",
       "TFIELDS =                    7 / number of table fields                         \n",
       "TAI     =        4751937065.65 / 1st row Number of seconds since Nov 17 1858    \n",
       "RA      =            121.00000 / 1st row RA of telescope boresight (deg)        \n",
       "DEC     =            90.000000 / 1st row Dec of telescope boresight (degrees)   \n",
       "EQUINOX =              2000.00 /                                                \n",
       "RADECSYS= 'FK5     '           /                                                \n",
       "SPA     =               0.000  / 1st row Cam col position angle wrt N (deg)     \n",
       "IPA     =               0.000  / 1st row Inst rotator position angle (deg)      \n",
       "AZ      =            121.00000 / 1st row Azimuth (encoder) of tele (0=N?) (deg) \n",
       "ALT     =            90.000000 / 1st row Altitude (encoder) of tele (degrees)   \n",
       "AIRMASS =              1.02008 /                                                \n",
       "FOCUS   =           -125.00000 / 1st row - Focus piston (microns?)              \n",
       "DATE-OBS= '2009-06-17'         / 1st row - TAI date                             \n",
       "TAIHMS  = '06:31:05.64'        / 1st row TAI time HH:MM:SS.SS                   \n",
       "TIMESYS = 'tai     '           / TAI, not UTC                                   \n",
       "TAI-BEG =        4751935181.00 / Exposure Start Time                            \n",
       "TAI-END =        4751937010.00 / Exposure End Time                              \n",
       "MJD     =                54999 / MJD of observation                             \n",
       "VERSION = 'v4_39_0 '           / version of IOP                                 \n",
       "CAMVER  = 'SPEC1 v4_8'         / Camera code version                            \n",
       "OBSERVER= 'viktorm '                                                            \n",
       "OBSCOMM = 'science '                                                            \n",
       "TELESCOP= 'SDSS 2.5-M'         / Sloan Digital Sky Survey                       \n",
       "SEQID   =                61779 / Spectro sequence number, unique over           \n",
       "EXPOSURE=                61781 / Spectro exposure number, unique over           \n",
       "EXPTIME = 1.80000000000000E+03 / Exposure time. (seconds)                       \n",
       "DARKTIME= 1.82900000000000E+03 / Time between flush charge and read-ou          \n",
       "FLAVOR  = 'science '           / Flavor of this sequence (e.g., dome f          \n",
       "QUALITY = 'excellent'          / night/image quality                            \n",
       "RADEG   = 2.42020000000000E+02 / Right Ascension. (degrees)                     \n",
       "DECDEG  = 3.88312990000000E+01 / Declination. (degrees)                         \n",
       "PLATEID =                 3467 / Plate Id                                       \n",
       "TILEID  =                  655 / Tile Id                                        \n",
       "CARTID  =                    1 /Cartridge used in this plugging                 \n",
       "REDDEN  = '0.0609 0.0448 0.0325 0.0246 0.0175' / Median reddening vector for pla\n",
       "MAPID   =              5499901 / Map Id                                         \n",
       "NAME    = '3467-54999-01'      / Name of target; PlateId-MJD-Mapper Re          \n",
       "PLUGMAPO= '/data/spectro/plugMapM/plPlugMapM-3467-54999-01.par' / plPlugMap load\n",
       "CAMERAS = 'b2      '           / camera ID in this exposure                     \n",
       "NGUIDE  =                  104 / Number of guider frames during exposure        \n",
       "SEEING20=              1.15000 / 20% seeing during exposure (arcsec)            \n",
       "SEEING50=              1.21000 / 50% seeing during exposure (arcsec)            \n",
       "SEEING80=              1.28000 / 80% seeing during exposure (arcsec)            \n",
       "RMSOFF20=             0.170294 / 20% RMS offset of guide fibers (arcsec)        \n",
       "RMSOFF50=             0.376431 / 50% RMS offset of guide fibers (arcsec)        \n",
       "RMSOFF80=             0.525547 / 80% RMS offset of guide fibers (arcsec)        \n",
       "CAMCOL  =                    3 / CCD ID in this exposure                        \n",
       "COLBIN  =                    1 / Binning factor perpendicular to the c          \n",
       "ROWBIN  =                    1 / Binning factor perpendicular to the r          \n",
       "PROGRAM = 'binning 1   1 '     / Identifying name for CCD program               \n",
       "AMPLL   =                    0 / which amp 0,1,2,3 corresponds to low           \n",
       "AMPLR   =                    2 / which amp 0,1,2,3 corresponds to low           \n",
       "AMPUL   =                    1 / which amp 0,1,2,3 corresponds to high          \n",
       "AMPUR   =                    3 / which amp 0,1,2,3 corresponds to high          \n",
       "SECFOCUS= -1.5000000000000E+02 / Secondary Mirror Position as reported          \n",
       "GUIDEIMG= '/data/spectro/guider/gimg0445.fits' / Last archived guider image     \n",
       "WTIME   = 1.24522002800000E+09 / weatherData(timeStamp)                         \n",
       "AIRTEMP = 1.68000000000000E+01 / weatherData(airtemp)                           \n",
       "DEWPOINT= -4.3000000000000E+00 / weatherData(dewpoint)                          \n",
       "DEWDEP  = 2.11000000000000E+01 / weatherData(dewpointDep)                       \n",
       "DUSTA   = 2.12370000000000E+04 / weatherData(dusta)                             \n",
       "DUSTB   = 9.18000000000000E+02 / weatherData(dustb)                             \n",
       "DUSTC   = -9.9990000000000E+03 / weatherData(dustc)                             \n",
       "DUSTD   = -9.9990000000000E+03 / weatherData(dustd)                             \n",
       "GUSTD   = 2.16600000000000E+02 / weatherData(gustd)                             \n",
       "GUSTS   = 1.61000000000000E+01 / weatherData(gusts)                             \n",
       "HUMIDITY= 2.33000000000000E+01 / weatherData(humidity)                          \n",
       "HUMIDOUT= 2.30000000000000E+01 / weatherData(humidout)                          \n",
       "PRESSURE= 2.15700000000000E+01 / weatherData(pressure)                          \n",
       "WINDD   = 2.18100000000000E+02 / weatherData(windd)                             \n",
       "WINDS   = 1.07000000000000E+01 / weatherData(winds)                             \n",
       "MC1HUMHT= 1.47000000000000E+01 / sp1 mech hartmann humidity                     \n",
       "MC1HUMCO= 1.42000000000000E+01 / sp1 mech cen opt humidity                      \n",
       "MC1TEMDN= 1.56000000000000E+01 / sp1 mech median temp                           \n",
       "MC1THT  = 1.50000000000000E+01 / sp1 mech Temp_Hartmann_Top                     \n",
       "MC1TRCB = 1.53000000000000E+01 / sp1 mech Temp_Red_Cam_Bot                      \n",
       "MC1TRCT = 1.57000000000000E+01 / sp1 mech Temp_Red_Cam_Top                      \n",
       "MC1TBCB = 1.56000000000000E+01 / sp1 mech Temp_Blue_Cam_Bot                     \n",
       "MC1TBCT = 1.56000000000000E+01 / sp1 mech Temp_Blue_Cam_Top                     \n",
       "MC2HUMHT= -2.5200000000000E+01 / sp2 mech hartmann humidity                     \n",
       "MC2HUMCO= 1.43000000000000E+01 / sp2 mech cen opt humidity                      \n",
       "MC2TEMDN= 1.47000000000000E+01 / sp2 mech median temp                           \n",
       "MC2THT  = 1.47000000000000E+01 / sp2 mech Temp_Hartmann_Top                     \n",
       "MC2TRCB = 1.49000000000000E+01 / sp2 mech Temp_Red_Cam_Bot                      \n",
       "MC2TRCT = 1.45000000000000E+01 / sp2 mech Temp_Red_Cam_Top                      \n",
       "MC2TBCB = 1.47000000000000E+01 / sp2 mech Temp_Blue_Cam_Bot                     \n",
       "MC2TBCT = 1.49000000000000E+01 / sp2 mech Temp_Blue_Cam_Top                     \n",
       "FFS     = '0 0 0 0 0 0 0 0'    / FlatField Screen 1:closed 0:open               \n",
       "FF      = '0 0 0 0 '           / FlatField Lamps 1:on 0:off                     \n",
       "NE      = '0 0 0 0 '           / Ne Lamps 1:on 0:off                            \n",
       "HGCD    = '0 0 0 0 '           / Hgcd Lamps 1:on 0:off                          \n",
       "SPEC1   = '1 0 1 1 '           / Dr_opn Dr_cls Latch Slithead (1:inpla          \n",
       "SPEC2   = '1 0 1 1 '           / Dr_opn Dr_cls Latch Slithead (1:inpla          \n",
       "TEMP01  = -9.3360000000000E+01 / CCD 01 Temperature                             \n",
       "TEMP02  = -9.4530000000000E+01 / CCD 02 Temperature                             \n",
       "TEMP03  = -9.3360000000000E+01 / CCD 03 Temperature                             \n",
       "TEMP04  = -9.1410000000000E+01 / CCD 04 Temperature                             \n",
       "CAMROW  =                    0 /                                                \n",
       "AUTHOR  = 'Scott Burles & David Schlegel' /                                     \n",
       "VERSIDL = '6.4     '           / Version of IDL                                 \n",
       "VERSUTIL= 'v5_3_0  '           / Version of idlutils                            \n",
       "VERSREAD= 'NOCVS:v5_3_23'      / Version of idlspec2d for pre-processing raw dat\n",
       "VERS2D  = 'NOCVS:v5_3_23'      / Version of idlspec2d for 2D reduction          \n",
       "VERSLOG = 'trunk 106949'       / Version of SPECLOG product                     \n",
       "VERSFLAT= 'v1_7    '           / Version of SPECFLAT product                    \n",
       "GAIN2   =              1.23000 / Gain in electrons per ADU                      \n",
       "RDNOISE2=              4.64269 / Readout noise in electrons                     \n",
       "GAIN3   =              1.26000 / Gain in electrons per ADU                      \n",
       "RDNOISE3=              4.19172 / Readout noise in electrons                     \n",
       "NBLEAD  =                    2 / Number of columns with blead trails            \n",
       "PIXBIAS = 'pixbiasave-00001-b2.fits' /                                          \n",
       "PIXFLAT = 'pixflatave-53981-b2.fits' /                                          \n",
       "OPBC    = 'opBC-51813.par'     /                                                \n",
       "OPCONFIG= 'opConfig-50000.par' /                                                \n",
       "OPECALIB= 'opECalib-51577.par' /                                                \n",
       "FRAMESN2=        31.0047708959 /                                                \n",
       "XSIGMA  =             0.930927 /                                                \n",
       "WSIGMA  =             0.891599 /                                                \n",
       "PLUGFILE= 'plPlugMapM-3467-54999-01.par' /                                      \n",
       "FLATFILE= 'sdR-b2-00061783.fit' /                                               \n",
       "ARCFILE = 'sdR-b2-00061784.fit' /                                               \n",
       "OBJFILE = 'sdR-b2-00061781.fit' /                                               \n",
       "LAMPLIST= 'lamphgcdne.dat'     /                                                \n",
       "SKYLIST = 'skylines.dat'       /                                                \n",
       "HELIO_RV=        9.79885933869 / Heliocentric correction (added to velocities)  \n",
       "VACUUM  =                    T / Wavelengths are in vacuum                      \n",
       "SFLATTEN=                    T / Superflat has been applied                     \n",
       "PSFSKY  =                    3 / Order of PSF skysubtraction                    \n",
       "BADSKYTH=              4.00000 / threshold for declaring sky rel chi2 bad       \n",
       "SKYCHI2 =        1.09368196191 / Mean chi^2 of sky-subtraction                  \n",
       "PREJECT =             0.200000 / Profile area rejection threshold               \n",
       "LOWREJ  =                    5 / Extraction: low rejection                      \n",
       "HIGHREJ =                    8 / Extraction: high rejection                     \n",
       "SCATPOLY=                    0 / Extraction: Order of scattered light polynomial\n",
       "PROFTYPE=                    3 / Extraction profile: 1=Gaussian                 \n",
       "NFITPOLY=                    1 / Extraction: Number of parameters in each profil\n",
       "XCHI2   =              1.34192 / Extraction: Mean chi^2                         \n",
       "SHIFTGUE=              0.00000 /                                                \n",
       "SHIFT   =              0.00000 /                                                \n",
       "SHIFTERR=              0.00000 /                                                \n",
       "TTYPE1  = 'flux    '                                                            \n",
       "TFORM1  = 'E       '                                                            \n",
       "TTYPE2  = 'loglam  '                                                            \n",
       "TFORM2  = 'E       '                                                            \n",
       "TTYPE3  = 'ivar    '                                                            \n",
       "TFORM3  = 'E       '                                                            \n",
       "TTYPE4  = 'mask    '                                                            \n",
       "TFORM4  = 'J       '                                                            \n",
       "TTYPE5  = 'wdisp   '                                                            \n",
       "TFORM5  = 'E       '                                                            \n",
       "TTYPE6  = 'sky     '                                                            \n",
       "TFORM6  = 'E       '                                                            \n",
       "TTYPE7  = 'calib   '                                                            \n",
       "TFORM7  = 'E       '                                                            \n",
       "EXTNAME = 'B2-00061781-00061783-00061784'                                       "
      ]
     },
     "execution_count": 31,
     "metadata": {},
     "output_type": "execute_result"
    }
   ],
   "source": [
    "hdul[4].header"
   ]
  },
  {
   "cell_type": "code",
   "execution_count": 53,
   "id": "valuable-worthy",
   "metadata": {},
   "outputs": [
    {
     "name": "stdout",
     "output_type": "stream",
     "text": [
      "9.426513\n",
      "9.424489\n",
      "9.339518\n",
      "14.012903\n",
      "15.517313\n",
      "15.957525\n",
      "14.319868\n",
      "19.875286\n"
     ]
    },
    {
     "name": "stderr",
     "output_type": "stream",
     "text": [
      "/Users/bandari/anaconda3/envs/rrl_env/lib/python3.6/site-packages/ipykernel_launcher.py:10: RuntimeWarning: divide by zero encountered in true_divide\n",
      "  # Remove the CWD from sys.path while we load stuff.\n",
      "/Users/bandari/anaconda3/envs/rrl_env/lib/python3.6/site-packages/ipykernel_launcher.py:11: RuntimeWarning: divide by zero encountered in true_divide\n",
      "  # This is added back by InteractiveShellApp.init_path()\n",
      "/Users/bandari/anaconda3/envs/rrl_env/lib/python3.6/site-packages/ipykernel_launcher.py:10: RuntimeWarning: divide by zero encountered in true_divide\n",
      "  # Remove the CWD from sys.path while we load stuff.\n",
      "/Users/bandari/anaconda3/envs/rrl_env/lib/python3.6/site-packages/ipykernel_launcher.py:11: RuntimeWarning: divide by zero encountered in true_divide\n",
      "  # This is added back by InteractiveShellApp.init_path()\n",
      "/Users/bandari/anaconda3/envs/rrl_env/lib/python3.6/site-packages/ipykernel_launcher.py:10: RuntimeWarning: divide by zero encountered in true_divide\n",
      "  # Remove the CWD from sys.path while we load stuff.\n",
      "/Users/bandari/anaconda3/envs/rrl_env/lib/python3.6/site-packages/ipykernel_launcher.py:11: RuntimeWarning: divide by zero encountered in true_divide\n",
      "  # This is added back by InteractiveShellApp.init_path()\n",
      "/Users/bandari/anaconda3/envs/rrl_env/lib/python3.6/site-packages/ipykernel_launcher.py:10: RuntimeWarning: divide by zero encountered in true_divide\n",
      "  # Remove the CWD from sys.path while we load stuff.\n",
      "/Users/bandari/anaconda3/envs/rrl_env/lib/python3.6/site-packages/ipykernel_launcher.py:11: RuntimeWarning: divide by zero encountered in true_divide\n",
      "  # This is added back by InteractiveShellApp.init_path()\n"
     ]
    }
   ],
   "source": [
    "# read in Stacy's text files\n",
    "stem2 = \"/Users/bandari/Documents/git.repos/rrlyrae_metallicity/rrlyrae_metallicity/src/s82_spectra/\"\n",
    "df1 = pd.read_csv(stem2 + \"spec-3467-54999-0411g001.dat\", delim_whitespace=True, names=[\"wavel\",\"flux\",\"noise\"])\n",
    "df2 = pd.read_csv(stem2 + \"spec-3467-54999-0411g002.dat\", delim_whitespace=True, names=[\"wavel\",\"flux\",\"noise\"])\n",
    "df3 = pd.read_csv(stem2 + \"spec-3467-54999-0411g003.dat\", delim_whitespace=True, names=[\"wavel\",\"flux\",\"noise\"])\n",
    "\n",
    "for i in range(4,12):\n",
    "    stuff = hdul[i].data\n",
    "    plt.plot(np.power(10,stuff[\"loglam\"]),stuff[\"flux\"])\n",
    "    plt.plot(np.power(10,stuff[\"loglam\"]),np.sqrt(np.divide(1.,stuff[\"ivar\"])))\n",
    "    print(np.median(np.divide(stuff[\"flux\"],np.divide(1.,stuff[\"ivar\"]))))\n",
    "plt.plot(df1[\"wavel\"],df1[\"flux\"], color=\"k\", linestyle=\"--\",zorder=10)\n",
    "plt.plot(df2[\"wavel\"],df2[\"flux\"], color=\"k\", linestyle=\"--\",zorder=10)\n",
    "plt.plot(df3[\"wavel\"],df3[\"flux\"], color=\"k\", linestyle=\"--\",zorder=10)\n",
    "plt.plot(df1[\"wavel\"],df1[\"noise\"], color=\"k\", linestyle=\"--\",zorder=10)\n",
    "plt.plot(df2[\"wavel\"],df2[\"noise\"], color=\"k\", linestyle=\"--\",zorder=10)\n",
    "plt.plot(df3[\"wavel\"],df3[\"noise\"], color=\"k\", linestyle=\"--\",zorder=10)\n",
    "plt.show()"
   ]
  },
  {
   "cell_type": "code",
   "execution_count": 48,
   "id": "smart-exercise",
   "metadata": {},
   "outputs": [],
   "source": [
    "plt.plot(df1[\"wavel\"],df1[\"flux\"], color=\"k\", linestyle=\"--\",zorder=10)\n",
    "plt.show()"
   ]
  },
  {
   "cell_type": "code",
   "execution_count": 43,
   "id": "suspected-thousand",
   "metadata": {},
   "outputs": [
    {
     "data": {
      "text/plain": [
       "0      3900.0\n",
       "1      3901.4\n",
       "2      3902.8\n",
       "3      3904.2\n",
       "4      3905.6\n",
       "        ...  \n",
       "781    4993.4\n",
       "782    4994.8\n",
       "783    4996.2\n",
       "784    4997.6\n",
       "785    4999.0\n",
       "Name: wavel, Length: 786, dtype: float64"
      ]
     },
     "execution_count": 43,
     "metadata": {},
     "output_type": "execute_result"
    }
   ],
   "source": [
    "df1[\"wavel\"]"
   ]
  },
  {
   "cell_type": "code",
   "execution_count": 5,
   "id": "widespread-thomson",
   "metadata": {},
   "outputs": [],
   "source": [
    "def plot_transmission(file_name_leaf):\n",
    "    '''\n",
    "    Reads in FITS file filter transmission and plots it\n",
    "    \n",
    "    INPUTS:\n",
    "    file_name_leaf: leaf of file name beyond the 'stem' set above\n",
    "    '''\n",
    "    \n",
    "    hdul = fits.open(stem + file_name_leaf)\n",
    "    \n",
    "    # print some things\n",
    "    print(hdul.info())\n",
    "    print(hdul[1].columns)\n",
    "    \n",
    "    # convert to table\n",
    "    evt_data = Table(hdul[1].data, names=[\"wavel\", \"transm\"])\n",
    "    \n",
    "    print((len(np.squeeze(evt_data[\"wavel\"].data))))\n",
    "    \n",
    "    # plot\n",
    "    plt.plot(np.squeeze(evt_data[\"wavel\"].data),np.squeeze(evt_data[\"transm\"].data))\n",
    "    plt.show()"
   ]
  },
  {
   "cell_type": "code",
   "execution_count": 6,
   "id": "analyzed-semiconductor",
   "metadata": {},
   "outputs": [
    {
     "name": "stdout",
     "output_type": "stream",
     "text": [
      "Filename: /Users/bandari/Desktop/dst_data/simulated_dst_data/test03_20210414.fits\n",
      "No.    Name      Ver    Type      Cards   Dimensions   Format\n",
      "  0  PRIMARY       1 PrimaryHDU     193   ()      \n",
      "  1  SCI           1 ImageHDU        72   (2048, 2048)   float32   \n",
      "  2  DQ            3 ImageHDU        61   (2048, 2048)   uint8   \n",
      "None\n",
      "---\n",
      "Filename: /Users/bandari/Desktop/dst_data/empirical_dst_data/S20200201S0247.fits\n",
      "No.    Name      Ver    Type      Cards   Dimensions   Format\n",
      "  0  PRIMARY       1 PrimaryHDU     193   ()      \n",
      "  1  SCI           1 ImageHDU        74   (2048, 2048)   float32   \n",
      "  2  DQ            3 ImageHDU        63   (2048, 2048)   uint8   \n",
      "None\n"
     ]
    }
   ],
   "source": [
    "# simulated data\n",
    "info_standalone(\"/simulated_dst_data/test03_20210414.fits\")\n",
    "print(\"---\")\n",
    "# empirical data\n",
    "info_standalone(\"/empirical_dst_data/S20200201S0247.fits\")"
   ]
  },
  {
   "cell_type": "code",
   "execution_count": 14,
   "id": "legislative-theology",
   "metadata": {},
   "outputs": [],
   "source": [
    "hdul = fits.open(stem + \"/empirical_dst_data/S20200201S0247.fits\")"
   ]
  },
  {
   "cell_type": "code",
   "execution_count": 21,
   "id": "forbidden-sector",
   "metadata": {},
   "outputs": [
    {
     "name": "stdout",
     "output_type": "stream",
     "text": [
      "<bound method Header.keys of XTENSION= 'IMAGE   '           /  C# FITS: 2/1/2020 5:53:02 AM                  \n",
      "BITPIX  =                    8                                                  \n",
      "NAXIS   =                    2 / Dimensionality                                 \n",
      "NAXIS1  =                 2048                                                  \n",
      "NAXIS2  =                 2048                                                  \n",
      "PCOUNT  =                    0 / No extra parameters                            \n",
      "GCOUNT  =                    1 / One group                                      \n",
      "INHERIT =                    F / Inherit the primary header                     \n",
      "LONGSTRN= 'OGIP 1.0'           /  The OGIP Long String Convention may be used.  \n",
      "EXTVER  =                    3 / Number assigned to this FITS extension         \n",
      "EXTNAME = 'DQ      '           /  Extension Name                                \n",
      "BUNIT   = 'bitmap  '           /  Physical units of the array values            \n",
      "BSCALE  =                    1 / Linear factor in scaling equation              \n",
      "BZERO   =                    0 / Zero point in scaling equation                 \n",
      "COMMENT bit 0: bad pixel as marked by bad pixel map                             \n",
      "COMMENT bit 1: raw pixel exceeds saturation value                               \n",
      "COMMENT bit 2: pixel value delta from consecutive reads exceeds saturation value\n",
      "COMMENT bit 3: maximum delta for pixel removed during UTR calculation           \n",
      "COMMENT bit 4: minimum delta for pixel removed during UTR calculation           \n",
      "ITIME0  =             90000000 / Requested itime in microseconds per coadd      \n",
      "COADDS0 =                    1 / Requested number of coadditions                \n",
      "SAMPMODE=                    4 / Requested samp mode (1:Sing,2:CDS,3:MCDS,4:UTR)\n",
      "READS0  =                    1 / Requested sampling mode reads                  \n",
      "GROUPS0 =                   62 / Requested number of groups                     \n",
      "DETSTRTX=                    1 / Start Column for subarray (1-based)            \n",
      "DETENDX =                 2048 / End Column for subarray (1-based)              \n",
      "DETSTRTY=                    1 / Start Row for subarray (1-based)               \n",
      "DETENDY =                 2048 / End Row for subarray (1-based)                 \n",
      "DATASEC = '[1:2048,1:2048]'    /  Current datasection of the frame              \n",
      "ITIME   =             88.74219 / True integration time in seconds per coadd     \n",
      "READTIME=              1454790 / Read time for a frame in microseconds          \n",
      "RMPRESET=                    1 / Number of resets in ramp                       \n",
      "RMPREADS=                    1 / Number of reads in ramp                        \n",
      "RMPDROP =                    0 / Number of drop frames in ramp                  \n",
      "RMPGROUP=                   62 / Number of groups in ramp                       \n",
      "RDITIME =              1.45479 / Time between sampling groups in seconds        \n",
      "ABORTED =                    F / Exposure was stopped before completion         \n",
      "COADDS  =                    1 / Number of coadds actually completed            \n",
      "READS   =                   62 / Reads actually completed in this coadd         \n",
      "NGROUP  =                   62 / Groups actually completed in this coadd        \n",
      "IGNORDRD=                    0 / Number of discarded initial reads              \n",
      "VRPSTYPE= 'channel '           /  Vertical reference pixel subtraction type     \n",
      "HRPSTYPE= 'none    '           /  Horizontal reference pixel subtraction type   \n",
      "CLKSPEED=                  100 / Pixel clocking speed in kHz                    \n",
      "SATURATE=                65534 / Detector saturation level (DN) from config file\n",
      "DTGAINNM=                    7 / Detector gain setting [0-15]                   \n",
      "DTGAINDB= '12.04 db (low)'     /  Detector gain in dB                           \n",
      "DETGAIN =                    4 / Detector gain factor                           \n",
      "SYSGAIN =                 3.04 / System gain in e-/ADU                          \n",
      "VRESET  =               0.3011 / Reset voltage in V, obtained from ASIC         \n",
      "DSUB    =               0.6002 / Substrate voltage in V, obtained from ASIC     \n",
      "VBIASGAT=               2.0507 / Gate voltage of SCA in V, obtained from ASIC   \n",
      "VBIASPWR=                  3.3 / Source voltage of SCA in V, obtained from ASIC \n",
      "CELLDRAN=                    0 / Celldrain (pix src follower) in V (from ASIC)  \n",
      "DRAIN   =                    0 / Drain (output buffer) in V, obtained from ASIC \n",
      "VDDA    =               3.2453 / Analog SCA supply voltage in V (from ASIC)     \n",
      "VDD     =               3.2453 / Digital SCA power supply in V (from ASIC)      \n",
      "VREFMAIN=               1.1515 / Ref voltage from bias block in V (from ASIC)   \n",
      "VPREMDRF=               1.0362 / Mid ADC ref volt from bias blk in V (from ASIC)\n",
      "VPRAMRF1=               1.2512 / Ref volt 1 for internal preamp DAC in V (ASIC) \n",
      "HXRGCFG1= '0002 0020 0001 0000 0000 0000 0000 0000' /  ASIC Regs 0x4010:0x4017  \n",
      "HXRGCFG2= '0000 0001 0007 0000 0005 0000 0003 0001' /  ASIC Regs 0x4018:0x401F  \n",
      "HXRGVERS= '2.3     '           /  HxRG timing code version                      >\n"
     ]
    }
   ],
   "source": [
    "print(hdul[2].header.keys)"
   ]
  },
  {
   "cell_type": "code",
   "execution_count": 8,
   "id": "altered-catering",
   "metadata": {},
   "outputs": [
    {
     "name": "stdout",
     "output_type": "stream",
     "text": [
      "Filename: /Users/bandari/Documents/git.repos/gpi2_dst/detector_data/GPI-filter-H.fits\n",
      "No.    Name      Ver    Type      Cards   Dimensions   Format\n",
      "  0  PRIMARY       1 PrimaryHDU       9   ()      \n",
      "  1                1 BinTableHDU     21   1R x 2C   [2501E, 2501E]   \n",
      "None\n",
      "ColDefs(\n",
      "    name = 'WAVELENGTH'; format = '2501E'\n",
      "    name = 'TRANSMISSION'; format = '2501E'\n",
      ")\n",
      "2501\n"
     ]
    }
   ],
   "source": [
    "plot_transmission(leaf_H)"
   ]
  },
  {
   "cell_type": "code",
   "execution_count": 7,
   "id": "dressed-necklace",
   "metadata": {},
   "outputs": [
    {
     "name": "stdout",
     "output_type": "stream",
     "text": [
      "Filename: /Users/bandari/Documents/git.repos/gpi2_dst/detector_data/GPI-filter-J.fits\n",
      "No.    Name      Ver    Type      Cards   Dimensions   Format\n",
      "  0  PRIMARY       1 PrimaryHDU       9   ()      \n",
      "  1                1 BinTableHDU     21   1R x 2C   [2501E, 2501E]   \n",
      "None\n",
      "ColDefs(\n",
      "    name = 'WAVELENGTH'; format = '2501E'\n",
      "    name = 'TRANSMISSION'; format = '2501E'\n",
      ")\n"
     ]
    },
    {
     "data": {
      "image/png": "[encoded data removed]",
      "text/plain": [
       "<Figure size 432x288 with 1 Axes>"
      ]
     },
     "metadata": {
      "needs_background": "light"
     },
     "output_type": "display_data"
    }
   ],
   "source": [
    "plot_transmission(leaf_J)"
   ]
  },
  {
   "cell_type": "code",
   "execution_count": 8,
   "id": "impaired-variety",
   "metadata": {},
   "outputs": [
    {
     "name": "stdout",
     "output_type": "stream",
     "text": [
      "Filename: /Users/bandari/Documents/git.repos/gpi2_dst/detector_data/GPI-filter-K1.fits\n",
      "No.    Name      Ver    Type      Cards   Dimensions   Format\n",
      "  0  PRIMARY       1 PrimaryHDU       9   ()      \n",
      "  1                1 BinTableHDU     21   1R x 2C   [3501E, 3501E]   \n",
      "None\n",
      "ColDefs(\n",
      "    name = 'WAVELENGTH'; format = '3501E'\n",
      "    name = 'TRANSMISSION'; format = '3501E'\n",
      ")\n"
     ]
    },
    {
     "data": {
      "image/png": "[encoded data removed]",
      "text/plain": [
       "<Figure size 432x288 with 1 Axes>"
      ]
     },
     "metadata": {
      "needs_background": "light"
     },
     "output_type": "display_data"
    }
   ],
   "source": [
    "plot_transmission(leaf_K1)"
   ]
  },
  {
   "cell_type": "code",
   "execution_count": 9,
   "id": "smooth-judge",
   "metadata": {},
   "outputs": [
    {
     "name": "stdout",
     "output_type": "stream",
     "text": [
      "Filename: /Users/bandari/Documents/git.repos/gpi2_dst/detector_data/GPI-filter-K2.fits\n",
      "No.    Name      Ver    Type      Cards   Dimensions   Format\n",
      "  0  PRIMARY       1 PrimaryHDU       9   ()      \n",
      "  1                1 BinTableHDU     21   1R x 2C   [3501E, 3501E]   \n",
      "None\n",
      "ColDefs(\n",
      "    name = 'WAVELENGTH'; format = '3501E'\n",
      "    name = 'TRANSMISSION'; format = '3501E'\n",
      ")\n"
     ]
    },
    {
     "data": {
      "image/png": "[encoded data removed]",
      "text/plain": [
       "<Figure size 432x288 with 1 Axes>"
      ]
     },
     "metadata": {
      "needs_background": "light"
     },
     "output_type": "display_data"
    }
   ],
   "source": [
    "plot_transmission(leaf_K2)"
   ]
  },
  {
   "cell_type": "code",
   "execution_count": 10,
   "id": "brazilian-sucking",
   "metadata": {},
   "outputs": [
    {
     "name": "stdout",
     "output_type": "stream",
     "text": [
      "Filename: /Users/bandari/Documents/git.repos/gpi2_dst/detector_data/GPI-filter-Y.fits\n",
      "No.    Name      Ver    Type      Cards   Dimensions   Format\n",
      "  0  PRIMARY       1 PrimaryHDU       9   ()      \n",
      "  1                1 BinTableHDU     21   1R x 2C   [2001E, 2001E]   \n",
      "None\n",
      "ColDefs(\n",
      "    name = 'WAVELENGTH'; format = '2001E'\n",
      "    name = 'TRANSMISSION'; format = '2001E'\n",
      ")\n"
     ]
    },
    {
     "data": {
      "image/png": "[encoded data removed]",
      "text/plain": [
       "<Figure size 432x288 with 1 Axes>"
      ]
     },
     "metadata": {
      "needs_background": "light"
     },
     "output_type": "display_data"
    }
   ],
   "source": [
    "plot_transmission(leaf_Y)"
   ]
  },
  {
   "cell_type": "code",
   "execution_count": 14,
   "id": "formal-muscle",
   "metadata": {},
   "outputs": [
    {
     "name": "stdout",
     "output_type": "stream",
     "text": [
      "Filename: /Users/bandari/Documents/git.repos/gpi2_dst/Microlens/ifu_microlens_psfY.fits\n",
      "No.    Name      Ver    Type      Cards   Dimensions   Format\n",
      "  0  PRIMARY       1 PrimaryHDU      12   (55, 55, 925)   float64   \n",
      "None\n"
     ]
    },
    {
     "ename": "IndexError",
     "evalue": "list index out of range",
     "output_type": "error",
     "traceback": [
      "\u001b[0;31m---------------------------------------------------------------------------\u001b[0m",
      "\u001b[0;31mIndexError\u001b[0m                                Traceback (most recent call last)",
      "\u001b[0;32m<ipython-input-14-c2246a3abc97>\u001b[0m in \u001b[0;36m<module>\u001b[0;34m()\u001b[0m\n\u001b[1;32m      3\u001b[0m \u001b[0;31m# print some things\u001b[0m\u001b[0;34m\u001b[0m\u001b[0;34m\u001b[0m\u001b[0;34m\u001b[0m\u001b[0m\n\u001b[1;32m      4\u001b[0m \u001b[0mprint\u001b[0m\u001b[0;34m(\u001b[0m\u001b[0mhdul\u001b[0m\u001b[0;34m.\u001b[0m\u001b[0minfo\u001b[0m\u001b[0;34m(\u001b[0m\u001b[0;34m)\u001b[0m\u001b[0;34m)\u001b[0m\u001b[0;34m\u001b[0m\u001b[0;34m\u001b[0m\u001b[0m\n\u001b[0;32m----> 5\u001b[0;31m \u001b[0mprint\u001b[0m\u001b[0;34m(\u001b[0m\u001b[0mhdul\u001b[0m\u001b[0;34m[\u001b[0m\u001b[0;36m1\u001b[0m\u001b[0;34m]\u001b[0m\u001b[0;34m.\u001b[0m\u001b[0mcolumns\u001b[0m\u001b[0;34m)\u001b[0m\u001b[0;34m\u001b[0m\u001b[0;34m\u001b[0m\u001b[0m\n\u001b[0m",
      "\u001b[0;32m/Users/bandari/anaconda3/envs/dst2_env/lib/python3.7/site-packages/astropy/io/fits/hdu/hdulist.py\u001b[0m in \u001b[0;36m__getitem__\u001b[0;34m(self, key)\u001b[0m\n\u001b[1;32m    316\u001b[0m             \u001b[0;31m# Raise a more helpful IndexError if the file was not fully read.\u001b[0m\u001b[0;34m\u001b[0m\u001b[0;34m\u001b[0m\u001b[0;34m\u001b[0m\u001b[0m\n\u001b[1;32m    317\u001b[0m             \u001b[0;32mif\u001b[0m \u001b[0mself\u001b[0m\u001b[0;34m.\u001b[0m\u001b[0m_read_all\u001b[0m\u001b[0;34m:\u001b[0m\u001b[0;34m\u001b[0m\u001b[0;34m\u001b[0m\u001b[0m\n\u001b[0;32m--> 318\u001b[0;31m                 \u001b[0;32mraise\u001b[0m \u001b[0me\u001b[0m\u001b[0;34m\u001b[0m\u001b[0;34m\u001b[0m\u001b[0m\n\u001b[0m\u001b[1;32m    319\u001b[0m             \u001b[0;32melse\u001b[0m\u001b[0;34m:\u001b[0m\u001b[0;34m\u001b[0m\u001b[0;34m\u001b[0m\u001b[0m\n\u001b[1;32m    320\u001b[0m                 raise IndexError('HDU not found, possibly because the index '\n",
      "\u001b[0;32m/Users/bandari/anaconda3/envs/dst2_env/lib/python3.7/site-packages/astropy/io/fits/hdu/hdulist.py\u001b[0m in \u001b[0;36m__getitem__\u001b[0;34m(self, key)\u001b[0m\n\u001b[1;32m    312\u001b[0m         \u001b[0;32mtry\u001b[0m\u001b[0;34m:\u001b[0m\u001b[0;34m\u001b[0m\u001b[0;34m\u001b[0m\u001b[0m\n\u001b[1;32m    313\u001b[0m             return self._try_while_unread_hdus(super().__getitem__,\n\u001b[0;32m--> 314\u001b[0;31m                                                self._positive_index_of(key))\n\u001b[0m\u001b[1;32m    315\u001b[0m         \u001b[0;32mexcept\u001b[0m \u001b[0mIndexError\u001b[0m \u001b[0;32mas\u001b[0m \u001b[0me\u001b[0m\u001b[0;34m:\u001b[0m\u001b[0;34m\u001b[0m\u001b[0;34m\u001b[0m\u001b[0m\n\u001b[1;32m    316\u001b[0m             \u001b[0;31m# Raise a more helpful IndexError if the file was not fully read.\u001b[0m\u001b[0;34m\u001b[0m\u001b[0;34m\u001b[0m\u001b[0;34m\u001b[0m\u001b[0m\n",
      "\u001b[0;32m/Users/bandari/anaconda3/envs/dst2_env/lib/python3.7/site-packages/astropy/io/fits/hdu/hdulist.py\u001b[0m in \u001b[0;36m_try_while_unread_hdus\u001b[0;34m(self, func, *args, **kwargs)\u001b[0m\n\u001b[1;32m   1109\u001b[0m         \u001b[0;32mwhile\u001b[0m \u001b[0;32mTrue\u001b[0m\u001b[0;34m:\u001b[0m\u001b[0;34m\u001b[0m\u001b[0;34m\u001b[0m\u001b[0m\n\u001b[1;32m   1110\u001b[0m             \u001b[0;32mtry\u001b[0m\u001b[0;34m:\u001b[0m\u001b[0;34m\u001b[0m\u001b[0;34m\u001b[0m\u001b[0m\n\u001b[0;32m-> 1111\u001b[0;31m                 \u001b[0;32mreturn\u001b[0m \u001b[0mfunc\u001b[0m\u001b[0;34m(\u001b[0m\u001b[0;34m*\u001b[0m\u001b[0margs\u001b[0m\u001b[0;34m,\u001b[0m \u001b[0;34m**\u001b[0m\u001b[0mkwargs\u001b[0m\u001b[0;34m)\u001b[0m\u001b[0;34m\u001b[0m\u001b[0;34m\u001b[0m\u001b[0m\n\u001b[0m\u001b[1;32m   1112\u001b[0m             \u001b[0;32mexcept\u001b[0m \u001b[0mException\u001b[0m\u001b[0;34m:\u001b[0m\u001b[0;34m\u001b[0m\u001b[0;34m\u001b[0m\u001b[0m\n\u001b[1;32m   1113\u001b[0m                 \u001b[0;32mif\u001b[0m \u001b[0mself\u001b[0m\u001b[0;34m.\u001b[0m\u001b[0m_read_next_hdu\u001b[0m\u001b[0;34m(\u001b[0m\u001b[0;34m)\u001b[0m\u001b[0;34m:\u001b[0m\u001b[0;34m\u001b[0m\u001b[0;34m\u001b[0m\u001b[0m\n",
      "\u001b[0;31mIndexError\u001b[0m: list index out of range"
     ]
    }
   ],
   "source": [
    "hdul = fits.open(stem + test)\n",
    "\n",
    "# print some things\n",
    "print(hdul.info())\n",
    "print(hdul[1].columns)"
   ]
  },
  {
   "cell_type": "code",
   "execution_count": 29,
   "id": "purple-sunrise",
   "metadata": {},
   "outputs": [
    {
     "data": {
      "image/png": "[encoded data removed]",
      "text/plain": [
       "<Figure size 432x288 with 1 Axes>"
      ]
     },
     "metadata": {
      "needs_background": "light"
     },
     "output_type": "display_data"
    },
    {
     "data": {
      "image/png": "[encoded data removed]",
      "text/plain": [
       "<Figure size 432x288 with 1 Axes>"
      ]
     },
     "metadata": {
      "needs_background": "light"
     },
     "output_type": "display_data"
    }
   ],
   "source": [
    "# plot low-res spectra from simulated frames\n",
    "\n",
    "hdul = fits.open(stem + \"/zem/test_H.fits\")\n",
    "\n",
    "img = hdul[0].data[490:515,504:510]\n",
    "\n",
    "plt.imshow(img, origin=\"lower\")\n",
    "plt.show()\n",
    "\n",
    "plt.clf()\n",
    "plt.plot(np.max(img,axis=1))\n",
    "plt.title(\"H-band example IFS spectrum (simulated)\")\n",
    "plt.show()"
   ]
  },
  {
   "cell_type": "code",
   "execution_count": 37,
   "id": "super-commons",
   "metadata": {},
   "outputs": [
    {
     "data": {
      "image/png": "[encoded data removed]",
      "text/plain": [
       "<Figure size 432x288 with 1 Axes>"
      ]
     },
     "metadata": {
      "needs_background": "light"
     },
     "output_type": "display_data"
    },
    {
     "data": {
      "image/png": "[encoded data removed]",
      "text/plain": [
       "<Figure size 432x288 with 1 Axes>"
      ]
     },
     "metadata": {
      "needs_background": "light"
     },
     "output_type": "display_data"
    }
   ],
   "source": [
    "# plot low-res spectra from simulated frames\n",
    "\n",
    "hdul = fits.open(\"/Users/bandari/Desktop/gpi_dst_relevant_data/spectral_empirical_data/S20131210S0025.fits\")\n",
    "\n",
    "img = hdul[1].data[989:1012,975:980]\n",
    "\n",
    "plt.imshow(img, origin=\"lower\")\n",
    "plt.show()\n",
    "\n",
    "plt.clf()\n",
    "plt.plot(np.max(img,axis=1))\n",
    "plt.title(\"H-band example IFS spectrum, filter IFSFILT_H_G1213 (empirical)\")\n",
    "plt.show()"
   ]
  },
  {
   "cell_type": "code",
   "execution_count": 34,
   "id": "finnish-surgery",
   "metadata": {},
   "outputs": [
    {
     "data": {
      "text/plain": [
       "array([[-2.1762674 , -1.0364825 , -0.6754992 , ..., -8.127111  ,\n",
       "        -1.5940858 , -4.9919353 ],\n",
       "       [-3.6632104 ,  1.2999232 , -1.0994625 , ...,  1.3982334 ,\n",
       "        -2.9811826 , -0.15629798],\n",
       "       [-2.1255763 , -0.5357142 , -1.2914746 , ..., -2.0026882 ,\n",
       "        -3.0518432 , -2.266897  ],\n",
       "       ...,\n",
       "       [ 0.27380952,  3.393625  ,  1.1739631 , ...,  4.356759  ,\n",
       "        -0.02265746,  1.1109833 ],\n",
       "       [ 0.36751145, -1.8982335 ,  3.6363287 , ...,  3.5195854 ,\n",
       "         0.685484  , -1.4973117 ],\n",
       "       [ 5.56106   ,  2.87596   , -0.26075283, ..., -2.008833  ,\n",
       "         3.2108295 ,  1.9635177 ]], dtype=float32)"
      ]
     },
     "execution_count": 34,
     "metadata": {},
     "output_type": "execute_result"
    }
   ],
   "source": []
  },
  {
   "cell_type": "code",
   "execution_count": null,
   "id": "popular-reach",
   "metadata": {},
   "outputs": [],
   "source": []
  }
 ],
 "metadata": {
  "kernelspec": {
   "display_name": "Python 3",
   "language": "python",
   "name": "python3"
  },
  "language_info": {
   "codemirror_mode": {
    "name": "ipython",
    "version": 3
   },
   "file_extension": ".py",
   "mimetype": "text/x-python",
   "name": "python",
   "nbconvert_exporter": "python",
   "pygments_lexer": "ipython3",
   "version": "3.6.6"
  }
 },
 "nbformat": 4,
 "nbformat_minor": 5
}
