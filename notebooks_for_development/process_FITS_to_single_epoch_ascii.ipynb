{
 "cells": [
  {
   "cell_type": "code",
   "execution_count": 1,
   "id": "64d77081",
   "metadata": {},
   "outputs": [],
   "source": [
    "# This takes SDSS FITS spectra and separates out the single-epoch spectra and writes them out again as \n",
    "# individual ascii files\n",
    "\n",
    "# Created 2022 Dec. 1 by E.S."
   ]
  },
  {
   "cell_type": "code",
   "execution_count": 1,
   "id": "4d568cab",
   "metadata": {},
   "outputs": [],
   "source": [
    "from astropy.io import fits\n",
    "import pandas as pd\n",
    "import numpy as np\n",
    "import matplotlib.pyplot as plt\n",
    "from scipy.interpolate import interp1d\n",
    "import numpy as np\n",
    "import glob\n",
    "import os\n",
    "\n",
    "%matplotlib qt"
   ]
  },
  {
   "cell_type": "code",
   "execution_count": 2,
   "id": "8d970ca3",
   "metadata": {},
   "outputs": [],
   "source": [
    "stem = \"/Users/bandari/Documents/git.repos/rrlfe/src/sdss_original_single_epoch_fits/\"\n",
    "stem_notebooks = \"/Users/bandari/Documents/git.repos/rrlfe/notebooks_for_development/\""
   ]
  },
  {
   "cell_type": "code",
   "execution_count": 3,
   "id": "d936d328",
   "metadata": {},
   "outputs": [],
   "source": [
    "file_list = glob.glob(stem + \"*fits\")"
   ]
  },
  {
   "cell_type": "code",
   "execution_count": 4,
   "id": "712be7ea",
   "metadata": {},
   "outputs": [
    {
     "data": {
      "text/plain": [
       "'\\n# how many spectra total?\\ntotal_n = 0\\nfor file_name in file_list:\\n    print()\\n    hdul = fits.open(file_name)\\n    \\n    total_n += len(hdul)-4\\n'"
      ]
     },
     "execution_count": 4,
     "metadata": {},
     "output_type": "execute_result"
    }
   ],
   "source": [
    "'''\n",
    "# how many spectra total?\n",
    "total_n = 0\n",
    "for file_name in file_list:\n",
    "    print()\n",
    "    hdul = fits.open(file_name)\n",
    "    \n",
    "    total_n += len(hdul)-4\n",
    "'''"
   ]
  },
  {
   "cell_type": "code",
   "execution_count": 5,
   "id": "8854af1d",
   "metadata": {},
   "outputs": [
    {
     "data": {
      "text/plain": [
       "'\\nName      Type      Comment\\nflux      float32   coadded calibrated flux [10-17 ergs/s/cm2/Å]\\nloglam    float32   log10(wavelength [Å])\\nivar      float32   inverse variance of flux\\nand_mask  int32     AND mask\\nor_mask   int32     OR mask\\nwdisp     float32   wavelength dispersion in pixel=dloglam units\\nsky       float32   subtracted sky flux [10-17 ergs/s/cm2/Å]\\nmodel     float32   pipeline best model fit used for classification and redshift\\n'"
      ]
     },
     "execution_count": 5,
     "metadata": {},
     "output_type": "execute_result"
    }
   ],
   "source": [
    "'''\n",
    "Name      Type      Comment\n",
    "flux      float32   coadded calibrated flux [10-17 ergs/s/cm2/Å]\n",
    "loglam    float32   log10(wavelength [Å])\n",
    "ivar      float32   inverse variance of flux\n",
    "and_mask  int32     AND mask\n",
    "or_mask   int32     OR mask\n",
    "wdisp     float32   wavelength dispersion in pixel=dloglam units\n",
    "sky       float32   subtracted sky flux [10-17 ergs/s/cm2/Å]\n",
    "model     float32   pipeline best model fit used for classification and redshift\n",
    "'''"
   ]
  },
  {
   "cell_type": "code",
   "execution_count": 6,
   "id": "0a45343f",
   "metadata": {},
   "outputs": [
    {
     "data": {
      "text/plain": [
       "'\\nblue_0 = 3850.\\nblue_1 = 5970.\\nnum_steps_blue = int(np.floor((blue_1-blue_0)/1.4))\\nblue_abcissa_interp = np.add(blue_0,1.4*np.arange(0,num_steps_blue+1,1))\\n\\nred_0 = 6030.\\nred_1 = 9000.\\nnum_steps_red = int(np.floor((red_1-red_0)/1.4))\\nred_abcissa_interp = np.add(red_0,1.4*np.arange(0,num_steps_red+2,1))\\n\\n#test = np.linspace(blue_0,blue_1,num=num_steps,endpoint=False)\\n'"
      ]
     },
     "execution_count": 6,
     "metadata": {},
     "output_type": "execute_result"
    }
   ],
   "source": [
    "# make new abcissae for interpolating the plots\n",
    "'''\n",
    "blue_0 = 3850.\n",
    "blue_1 = 5970.\n",
    "num_steps_blue = int(np.floor((blue_1-blue_0)/1.4))\n",
    "blue_abcissa_interp = np.add(blue_0,1.4*np.arange(0,num_steps_blue+1,1))\n",
    "\n",
    "red_0 = 6030.\n",
    "red_1 = 9000.\n",
    "num_steps_red = int(np.floor((red_1-red_0)/1.4))\n",
    "red_abcissa_interp = np.add(red_0,1.4*np.arange(0,num_steps_red+2,1))\n",
    "\n",
    "#test = np.linspace(blue_0,blue_1,num=num_steps,endpoint=False)\n",
    "'''"
   ]
  },
  {
   "cell_type": "code",
   "execution_count": 7,
   "id": "6456de36",
   "metadata": {},
   "outputs": [
    {
     "name": "stdout",
     "output_type": "stream",
     "text": [
      "/Users/bandari/Documents/git.repos/rrlfe/src/sdss_original_single_epoch_fits/spec-2112-53534-0521.fits\n",
      "0\n",
      "-----\n",
      "Wrote /Users/bandari/Documents/git.repos/rrlfe/notebooks_for_development/spec-2112-53534-0521_g000_color_blue.csv\n",
      "Wrote /Users/bandari/Documents/git.repos/rrlfe/notebooks_for_development/spec-2112-53534-0521_g000_color_red.csv\n",
      "-----\n",
      "Wrote /Users/bandari/Documents/git.repos/rrlfe/notebooks_for_development/spec-2112-53534-0521_g001_color_blue.csv\n",
      "Wrote /Users/bandari/Documents/git.repos/rrlfe/notebooks_for_development/spec-2112-53534-0521_g001_color_red.csv\n",
      "-----\n",
      "Wrote /Users/bandari/Documents/git.repos/rrlfe/notebooks_for_development/spec-2112-53534-0521_g002_color_blue.csv\n",
      "Wrote /Users/bandari/Documents/git.repos/rrlfe/notebooks_for_development/spec-2112-53534-0521_g002_color_red.csv\n"
     ]
    },
    {
     "name": "stderr",
     "output_type": "stream",
     "text": [
      "/Users/bandari/anaconda3/envs/rrl_env/lib/python3.6/site-packages/ipykernel_launcher.py:35: RuntimeWarning: divide by zero encountered in true_divide\n"
     ]
    }
   ],
   "source": [
    "# check that ascii files are identical with these\n",
    "\n",
    "# blue end: interpolate between [3850,5970] at intervals of 1.4 angstroms such that 3900.00, 3901.40 [...] 4999.00\n",
    "# red end: interpolate between [6030:]\n",
    "\n",
    "#num_spec_array = np.zeros(len(file_list))\n",
    "\n",
    "#stem1 = \"/Users/bandari/Documents/git.repos/rrlfe/src/sdss_cosmic_rays_removed/\"\n",
    "#df = pd.read_csv(stem1 + \"spec-1681-53172-0551g001.dat\", names=[\"wavel\", \"flux\", \"error\"], delim_whitespace=True)\n",
    "\n",
    "for i in range(0,1):#len(file_list)):\n",
    "    \n",
    "    print(file_list[i])\n",
    "    print(i)\n",
    "\n",
    "    hdul = fits.open(file_list[i])\n",
    "    \n",
    "    num_spec_total = len(hdul)-4\n",
    "    \n",
    "    #num_spec_array[i] = num_spec_total\n",
    "    \n",
    "    #print(num_spec_total)\n",
    "    \n",
    "    # loop over blue-red pairs\n",
    "    for num_blue in range(int(0.5*num_spec_total)):\n",
    "        \n",
    "        print(\"-----\")\n",
    "        \n",
    "        # blue end\n",
    "        idx_blue = 4+num_blue\n",
    "        data_blue = hdul[idx_blue].data\n",
    "        flux_blue = np.flip(data_blue[\"flux\"]) # flip to make wavelength increasing\n",
    "        wavel_blue = np.flip(np.power(10.,data_blue[\"loglam\"]))\n",
    "        sigma_blue = np.flip(np.divide(1.,np.sqrt(data_blue[\"ivar\"])))\n",
    "        #print(\"idx_blue\",idx_blue)\n",
    "        #print(np.median(np.divide(flux_blue,sigma_blue)))\n",
    "                \n",
    "        # red end\n",
    "        idx_red = idx_blue+int(0.5*num_spec_total)\n",
    "        data_red = hdul[idx_red].data\n",
    "        flux_red = data_red[\"flux\"]\n",
    "        wavel_red = np.power(10.,data_red[\"loglam\"])\n",
    "        sigma_red = np.divide(1.,np.sqrt(data_red[\"ivar\"]))\n",
    "        #print(\"idx_red\",idx_red)\n",
    "        #print(np.median(np.divide(flux_red,sigma_red)))\n",
    "        \n",
    "        # make new abcissae for interpolating the plots\n",
    "        blue_0 = 3850. # bluest of blue end\n",
    "        red_1 = 9000. # reddest of red end\n",
    "        num_steps = int(np.floor((red_1-blue_0)/1.4))\n",
    "        abcissa_interp = np.add(blue_0-0.4,1.4*np.arange(0,num_steps+2,1)) # -0.4 to get the phase right\n",
    "        \n",
    "        # interpolate the spectra\n",
    "\n",
    "        # blue region I ultimately want: [3850:5970]\n",
    "        # red region I ultimately want: [6030:9000]\n",
    "        # overlap region that needs to be averaged: [5970:6030]\n",
    "\n",
    "        # indices of data points corresponding to abcissa [3850:6030] (note includes overlap region)\n",
    "        idx_blue = np.where( np.logical_and(abcissa_interp > 3849., abcissa_interp < 6031.) )\n",
    "        # indices of data points corresponding to abcissa [5970:9000] (note includes overlap region)\n",
    "        idx_red = np.where( np.logical_and(abcissa_interp > 5969., abcissa_interp < 9001.) )\n",
    "        # overlap region\n",
    "        #idx_overlap = \n",
    "\n",
    "        flux_blue_interp = np.interp(x = abcissa_interp[idx_blue], xp = wavel_blue, fp = flux_blue)\n",
    "        error_flux_blue_interp = np.interp(x = abcissa_interp[idx_blue], xp = wavel_blue, fp = sigma_blue)\n",
    "        flux_red_interp = np.interp(x = abcissa_interp[idx_red], xp = wavel_red, fp = flux_red)\n",
    "        error_flux_red_interp = np.interp(x = abcissa_interp[idx_red], xp = wavel_red, fp = sigma_red)\n",
    "        \n",
    "        # write out\n",
    "        # cols:\n",
    "        # [0] wavel_interp\n",
    "        # [1] flux_blue_interp\n",
    "        # [2] error_flux_blue_interp\n",
    "        # [3] wavel_red_interp\n",
    "        # [4] flux_red_interp\n",
    "        # [5] error_flux_red_interp\n",
    "        \n",
    "        df_blue_write = pd.DataFrame(abcissa_interp[idx_blue], columns=[\"wavel_blue\"])\n",
    "        df_blue_write[\"flux_blue\"] = flux_blue_interp\n",
    "        df_blue_write[\"error_flux_blue\"] = error_flux_blue_interp\n",
    "        \n",
    "        df_red_write = pd.DataFrame(abcissa_interp[idx_red], columns=[\"wavel_red\"])\n",
    "        df_red_write[\"flux_red\"] = flux_red_interp\n",
    "        df_red_write[\"error_flux_red\"] = error_flux_red_interp\n",
    "        \n",
    "        # write csvs\n",
    "        file_name_blue_this = stem_notebooks + os.path.basename(file_list[i]).split(\".\")[0] + '_g{:0>3}'.format(num_blue) + \"_color_blue.csv\"\n",
    "        df_blue_write.to_csv(file_name_blue_this, index=False)\n",
    "        print(\"Wrote\",file_name_blue_this)\n",
    "        \n",
    "        file_name_red_this = stem_notebooks + os.path.basename(file_list[i]).split(\".\")[0] + '_g{:0>3}'.format(num_blue) + \"_color_red.csv\"\n",
    "        df_red_write.to_csv(file_name_red_this, index=False)\n",
    "        print(\"Wrote\",file_name_red_this)\n",
    "        \n",
    "        # save\n",
    "        '''\n",
    "        plt.clf()\n",
    "        fig = plt.figure(figsize=(15,5))\n",
    "        plt.plot(wavel_blue,flux_blue)\n",
    "        plt.plot(wavel_blue,sigma_blue)\n",
    "        plt.plot(wavel_red,flux_red)\n",
    "        plt.plot(wavel_red,sigma_red)\n",
    "        plt.plot(df[\"wavel\"],df[\"flux\"])\n",
    "        plt.axvline(x=5970, linestyle=\"--\")\n",
    "        plt.axvline(x=6030, linestyle=\"--\")\n",
    "        plt.ylim([0,100])\n",
    "        plt.xlabel(\"wavel (angstrom)\")\n",
    "        plt.ylabel(\"flux\")\n",
    "        plt.xlim([4000,4150])\n",
    "        #plt.savefig(\"./junk_data/\" + os.path.basename(file_list[i]) + \".png\")\n",
    "        plt.show()\n",
    "        '''"
   ]
  },
  {
   "cell_type": "code",
   "execution_count": 13,
   "id": "b203f289",
   "metadata": {},
   "outputs": [
    {
     "name": "stdout",
     "output_type": "stream",
     "text": [
      "/Users/bandari/Documents/git.repos/rrlfe/src/sdss_original_single_epoch_fits/spec-0730-52466-0488.fits\n",
      "400\n",
      "Filename: /Users/bandari/Documents/git.repos/rrlfe/src/sdss_original_single_epoch_fits/spec-0730-52466-0488.fits\n",
      "No.    Name      Ver    Type      Cards   Dimensions   Format\n",
      "  0  PRIMARY       1 PrimaryHDU     141   ()      \n",
      "  1  COADD         1 BinTableHDU     26   3848R x 8C   [E, E, E, J, J, E, E, E]   \n",
      "  2  SPECOBJ       1 BinTableHDU    262   1R x 126C   [6A, 4A, 16A, 23A, 16A, 8A, E, E, E, J, E, E, J, B, B, B, B, B, B, J, 22A, 19A, 19A, 22A, 19A, I, 3A, 3A, 1A, J, D, D, D, E, E, 19A, 8A, J, J, J, J, K, K, J, J, J, J, J, J, K, K, K, K, I, J, J, J, J, 5J, D, D, 6A, 21A, E, E, E, J, E, 24A, 10J, J, 10E, E, E, E, E, E, E, J, E, E, E, J, E, 5E, E, 10E, 10E, 10E, 5E, 5E, 5E, 5E, 5E, J, J, E, E, E, E, E, E, 25A, 21A, 10A, E, E, E, E, E, E, E, E, J, E, E, J, 1A, 1A, E, E, J, J, 1A, 5E, 5E]   \n",
      "  3  SPZLINE       1 BinTableHDU     48   29R x 19C   [J, J, J, 13A, D, E, E, E, E, E, E, E, E, E, E, J, J, E, E]   \n",
      "  4  B2-00015908-00015906-00015907    1 BinTableHDU    146   2046R x 7C   [E, E, E, J, E, E, E]   \n",
      "  5  B2-00015909-00015906-00015907    1 BinTableHDU    146   2046R x 7C   [E, E, E, J, E, E, E]   \n",
      "  6  B2-00015910-00015906-00015907    1 BinTableHDU    146   2046R x 7C   [E, E, E, J, E, E, E]   \n",
      "  7  B2-00015912-00015906-00015907    1 BinTableHDU    146   2046R x 7C   [E, E, E, J, E, E, E]   \n",
      "  8  R2-00015908-00015906-00015907    1 BinTableHDU    146   2036R x 7C   [E, E, E, J, E, E, E]   \n",
      "  9  R2-00015909-00015906-00015907    1 BinTableHDU    146   2044R x 7C   [E, E, E, J, E, E, E]   \n",
      " 10  R2-00015910-00015906-00015907    1 BinTableHDU    146   2039R x 7C   [E, E, E, J, E, E, E]   \n",
      " 11  R2-00015912-00015906-00015907    1 BinTableHDU    146   2040R x 7C   [E, E, E, J, E, E, E]   \n",
      "None\n",
      "num_spec_total 8\n",
      "-----\n",
      "-----\n",
      "-----\n",
      "-----\n"
     ]
    },
    {
     "name": "stderr",
     "output_type": "stream",
     "text": [
      "/Users/bandari/anaconda3/envs/rrl_env/lib/python3.6/site-packages/ipykernel_launcher.py:37: RuntimeWarning: divide by zero encountered in true_divide\n",
      "/Users/bandari/anaconda3/envs/rrl_env/lib/python3.6/site-packages/ipykernel_launcher.py:37: RuntimeWarning: divide by zero encountered in true_divide\n",
      "/Users/bandari/anaconda3/envs/rrl_env/lib/python3.6/site-packages/ipykernel_launcher.py:37: RuntimeWarning: divide by zero encountered in true_divide\n",
      "/Users/bandari/anaconda3/envs/rrl_env/lib/python3.6/site-packages/ipykernel_launcher.py:37: RuntimeWarning: divide by zero encountered in true_divide\n"
     ]
    }
   ],
   "source": [
    "# check an individual spectrum\n",
    "\n",
    "i=400\n",
    "\n",
    "print(file_list[i])\n",
    "print(i)\n",
    "\n",
    "hdul = fits.open(file_list[i])\n",
    "\n",
    "print(hdul.info())\n",
    "\n",
    "num_spec_total = len(hdul)-4\n",
    "\n",
    "#num_spec_array[i] = num_spec_total\n",
    "plt.clf()\n",
    "print(\"num_spec_total\",num_spec_total)\n",
    "\n",
    "# loop over blue-red pairs\n",
    "for num_blue in range(0,int(0.5*num_spec_total)):\n",
    "\n",
    "    print(\"-----\")\n",
    "\n",
    "    # blue end\n",
    "    idx_blue = 4+num_blue\n",
    "    data_blue = hdul[idx_blue].data\n",
    "    flux_blue = np.flip(data_blue[\"flux\"]) # flip to make wavelength increasing\n",
    "    wavel_blue = np.flip(np.power(10.,data_blue[\"loglam\"]))\n",
    "    sigma_blue = np.flip(np.divide(1.,np.sqrt(data_blue[\"ivar\"])))\n",
    "    #print(\"idx_blue\",idx_blue)\n",
    "    #print(np.median(np.divide(flux_blue,sigma_blue)))\n",
    "\n",
    "    # red end\n",
    "    idx_red = idx_blue+int(0.5*num_spec_total)\n",
    "    data_red = hdul[idx_red].data\n",
    "    flux_red = data_red[\"flux\"]\n",
    "    wavel_red = np.power(10.,data_red[\"loglam\"])\n",
    "    sigma_red = np.divide(1.,np.sqrt(data_red[\"ivar\"]))\n",
    "    #print(\"idx_red\",idx_red)\n",
    "    #print(np.median(np.divide(flux_red,sigma_red)))\n",
    "\n",
    "    # make new abcissae for interpolating the plots\n",
    "    blue_0 = 3850. # bluest of blue end\n",
    "    red_1 = 9000. # reddest of red end\n",
    "    num_steps = int(np.floor((red_1-blue_0)/1.4))\n",
    "    abcissa_interp = np.add(blue_0-0.4,1.4*np.arange(0,num_steps+2,1)) # -0.4 to get the phase right\n",
    "\n",
    "    # interpolate the spectra\n",
    "\n",
    "    # blue region I ultimately want: [3850:5970]\n",
    "    # red region I ultimately want: [6030:9000]\n",
    "    # overlap region that needs to be averaged: [5970:6030]\n",
    "\n",
    "    # indices of data points corresponding to abcissa [3850:6030] (note includes overlap region)\n",
    "    idx_blue = np.where( np.logical_and(abcissa_interp > 3849., abcissa_interp < 6031.) )\n",
    "    # indices of data points corresponding to abcissa [5970:9000] (note includes overlap region)\n",
    "    idx_red = np.where( np.logical_and(abcissa_interp > 5969., abcissa_interp < 9001.) )\n",
    "    # overlap region\n",
    "    #idx_overlap = \n",
    "\n",
    "    flux_blue_interp = np.interp(x = abcissa_interp[idx_blue], xp = wavel_blue, fp = flux_blue)\n",
    "    error_flux_blue_interp = np.interp(x = abcissa_interp[idx_blue], xp = wavel_blue, fp = sigma_blue)\n",
    "    flux_red_interp = np.interp(x = abcissa_interp[idx_red], xp = wavel_red, fp = flux_red)\n",
    "    error_flux_red_interp = np.interp(x = abcissa_interp[idx_red], xp = wavel_red, fp = sigma_red)\n",
    "    \n",
    "    plt.plot(wavel_blue,np.add(num_blue*100,flux_blue),label=\"read in\")\n",
    "    plt.plot(wavel_red,np.add(num_blue*100,flux_red),label=\"read in\")\n",
    "    plt.plot(abcissa_interp[idx_blue],np.add(num_blue*100,flux_blue_interp),label=\"interp\")\n",
    "    plt.plot(abcissa_interp[idx_red],np.add(num_blue*100,flux_red_interp),label=\"interp\")\n",
    "\n",
    "plt.legend()\n",
    "plt.show()"
   ]
  },
  {
   "cell_type": "code",
   "execution_count": 9,
   "id": "c2bfc9b7",
   "metadata": {},
   "outputs": [],
   "source": [
    "plt.plot(wavel_blue,flux_blue,label=\"blue\")plt.show()"
   ]
  },
  {
   "cell_type": "code",
   "execution_count": null,
   "id": "6399aea7",
   "metadata": {},
   "outputs": [],
   "source": []
  }
 ],
 "metadata": {
  "kernelspec": {
   "display_name": "Python 3",
   "language": "python",
   "name": "python3"
  },
  "language_info": {
   "codemirror_mode": {
    "name": "ipython",
    "version": 3
   },
   "file_extension": ".py",
   "mimetype": "text/x-python",
   "name": "python",
   "nbconvert_exporter": "python",
   "pygments_lexer": "ipython3",
   "version": "3.6.6"
  }
 },
 "nbformat": 4,
 "nbformat_minor": 5
}
