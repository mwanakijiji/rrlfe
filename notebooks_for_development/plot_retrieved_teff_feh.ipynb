{
 "cells": [
  {
   "cell_type": "code",
   "execution_count": null,
   "id": "overhead-latvia",
   "metadata": {},
   "outputs": [],
   "source": [
    "# Makes plots of retrieved Teff and Fe/H of McDonald data\n",
    "\n",
    "# Created 2021 Nov. 3 by E.S"
   ]
  },
  {
   "cell_type": "code",
   "execution_count": 1,
   "id": "infrared-hamburg",
   "metadata": {},
   "outputs": [],
   "source": [
    "import pandas as pd\n",
    "import numpy as np\n",
    "import matplotlib.pyplot as plt\n",
    "\n",
    "%matplotlib inline"
   ]
  },
  {
   "cell_type": "code",
   "execution_count": 2,
   "id": "suited-mystery",
   "metadata": {},
   "outputs": [],
   "source": [
    "ew_file = \"~/Documents/git.repos/rrlyrae_metallicity/bin/retrieved_vals_McDonald_data_20211103.csv\""
   ]
  },
  {
   "cell_type": "code",
   "execution_count": 3,
   "id": "revised-basin",
   "metadata": {},
   "outputs": [],
   "source": [
    "df = pd.read_csv(ew_file)"
   ]
  },
  {
   "cell_type": "code",
   "execution_count": 4,
   "id": "accessible-illinois",
   "metadata": {},
   "outputs": [
    {
     "data": {
      "text/html": [
       "<div>\n",
       "<style scoped>\n",
       "    .dataframe tbody tr th:only-of-type {\n",
       "        vertical-align: middle;\n",
       "    }\n",
       "\n",
       "    .dataframe tbody tr th {\n",
       "        vertical-align: top;\n",
       "    }\n",
       "\n",
       "    .dataframe thead th {\n",
       "        text-align: right;\n",
       "    }\n",
       "</style>\n",
       "<table border=\"1\" class=\"dataframe\">\n",
       "  <thead>\n",
       "    <tr style=\"text-align: right;\">\n",
       "      <th></th>\n",
       "      <th>realization_spec_file_name</th>\n",
       "      <th>orig_spec_file_name</th>\n",
       "      <th>EW_Hbeta</th>\n",
       "      <th>err_EW_Hbeta_from_robo</th>\n",
       "      <th>EW_Hdelta</th>\n",
       "      <th>err_EW_Hdelta_from_robo</th>\n",
       "      <th>EW_Hgamma</th>\n",
       "      <th>err_EW_Hgamma_from_robo</th>\n",
       "      <th>EW_Heps</th>\n",
       "      <th>err_EW_Heps_from_robo</th>\n",
       "      <th>EW_CaIIK</th>\n",
       "      <th>err_EW_CaIIK_from_robo</th>\n",
       "      <th>EW_Balmer</th>\n",
       "      <th>err_EW_Balmer_based_Robo</th>\n",
       "      <th>err_EW_Balmer_based_noise_churning</th>\n",
       "      <th>feh_retrieved</th>\n",
       "      <th>err_feh_retrieved</th>\n",
       "      <th>teff_retrieved</th>\n",
       "    </tr>\n",
       "  </thead>\n",
       "  <tbody>\n",
       "    <tr>\n",
       "      <th>0</th>\n",
       "      <td>AR_Per_01_noise_ver_000.dat</td>\n",
       "      <td>AR_Per_01.dat</td>\n",
       "      <td>5.513239</td>\n",
       "      <td>1.479734</td>\n",
       "      <td>3.749249</td>\n",
       "      <td>1.237012</td>\n",
       "      <td>4.108165</td>\n",
       "      <td>0.942799</td>\n",
       "      <td>8.923473</td>\n",
       "      <td>2.437342</td>\n",
       "      <td>8.669427</td>\n",
       "      <td>1.919832</td>\n",
       "      <td>3.225460</td>\n",
       "      <td>1.278393</td>\n",
       "      <td>0.0</td>\n",
       "      <td>-1.100447</td>\n",
       "      <td>0.020949</td>\n",
       "      <td>6112.013823</td>\n",
       "    </tr>\n",
       "    <tr>\n",
       "      <th>1</th>\n",
       "      <td>AR_Per_02_noise_ver_000.dat</td>\n",
       "      <td>AR_Per_02.dat</td>\n",
       "      <td>6.621519</td>\n",
       "      <td>2.021362</td>\n",
       "      <td>3.667108</td>\n",
       "      <td>1.045790</td>\n",
       "      <td>4.229278</td>\n",
       "      <td>1.399172</td>\n",
       "      <td>8.458081</td>\n",
       "      <td>1.800801</td>\n",
       "      <td>8.557880</td>\n",
       "      <td>1.887103</td>\n",
       "      <td>3.352853</td>\n",
       "      <td>1.866804</td>\n",
       "      <td>0.0</td>\n",
       "      <td>-1.094920</td>\n",
       "      <td>0.020787</td>\n",
       "      <td>6135.909758</td>\n",
       "    </tr>\n",
       "    <tr>\n",
       "      <th>2</th>\n",
       "      <td>AR_Per_03_noise_ver_000.dat</td>\n",
       "      <td>AR_Per_03.dat</td>\n",
       "      <td>5.100430</td>\n",
       "      <td>1.700019</td>\n",
       "      <td>3.612964</td>\n",
       "      <td>1.289192</td>\n",
       "      <td>4.174086</td>\n",
       "      <td>1.609951</td>\n",
       "      <td>8.050307</td>\n",
       "      <td>1.841850</td>\n",
       "      <td>7.225012</td>\n",
       "      <td>1.539262</td>\n",
       "      <td>3.294799</td>\n",
       "      <td>2.154375</td>\n",
       "      <td>0.0</td>\n",
       "      <td>-1.321644</td>\n",
       "      <td>0.030430</td>\n",
       "      <td>6125.020222</td>\n",
       "    </tr>\n",
       "    <tr>\n",
       "      <th>3</th>\n",
       "      <td>AR_Per_05_noise_ver_000.dat</td>\n",
       "      <td>AR_Per_05.dat</td>\n",
       "      <td>11.653250</td>\n",
       "      <td>2.322511</td>\n",
       "      <td>10.784656</td>\n",
       "      <td>2.251324</td>\n",
       "      <td>11.701739</td>\n",
       "      <td>2.526311</td>\n",
       "      <td>12.191882</td>\n",
       "      <td>2.257033</td>\n",
       "      <td>3.662642</td>\n",
       "      <td>0.819297</td>\n",
       "      <td>11.212793</td>\n",
       "      <td>2.785606</td>\n",
       "      <td>0.0</td>\n",
       "      <td>-0.713514</td>\n",
       "      <td>0.036112</td>\n",
       "      <td>7610.247267</td>\n",
       "    </tr>\n",
       "    <tr>\n",
       "      <th>4</th>\n",
       "      <td>AR_Per_06_noise_ver_000.dat</td>\n",
       "      <td>AR_Per_06.dat</td>\n",
       "      <td>10.176606</td>\n",
       "      <td>2.086091</td>\n",
       "      <td>9.673037</td>\n",
       "      <td>1.911386</td>\n",
       "      <td>10.475344</td>\n",
       "      <td>2.458238</td>\n",
       "      <td>10.892135</td>\n",
       "      <td>2.077674</td>\n",
       "      <td>4.010492</td>\n",
       "      <td>0.875669</td>\n",
       "      <td>9.922804</td>\n",
       "      <td>2.740707</td>\n",
       "      <td>0.0</td>\n",
       "      <td>-0.827487</td>\n",
       "      <td>0.017193</td>\n",
       "      <td>7368.276095</td>\n",
       "    </tr>\n",
       "    <tr>\n",
       "      <th>...</th>\n",
       "      <td>...</td>\n",
       "      <td>...</td>\n",
       "      <td>...</td>\n",
       "      <td>...</td>\n",
       "      <td>...</td>\n",
       "      <td>...</td>\n",
       "      <td>...</td>\n",
       "      <td>...</td>\n",
       "      <td>...</td>\n",
       "      <td>...</td>\n",
       "      <td>...</td>\n",
       "      <td>...</td>\n",
       "      <td>...</td>\n",
       "      <td>...</td>\n",
       "      <td>...</td>\n",
       "      <td>...</td>\n",
       "      <td>...</td>\n",
       "      <td>...</td>\n",
       "    </tr>\n",
       "    <tr>\n",
       "      <th>155</th>\n",
       "      <td>X_Ari__05_noise_ver_000.dat</td>\n",
       "      <td>X_Ari__05.dat</td>\n",
       "      <td>3.809181</td>\n",
       "      <td>2.269934</td>\n",
       "      <td>4.487566</td>\n",
       "      <td>1.353637</td>\n",
       "      <td>4.281357</td>\n",
       "      <td>1.370123</td>\n",
       "      <td>4.984885</td>\n",
       "      <td>1.589008</td>\n",
       "      <td>1.999938</td>\n",
       "      <td>0.384847</td>\n",
       "      <td>3.407633</td>\n",
       "      <td>1.821295</td>\n",
       "      <td>0.0</td>\n",
       "      <td>-2.508599</td>\n",
       "      <td>0.018880</td>\n",
       "      <td>6146.185091</td>\n",
       "    </tr>\n",
       "    <tr>\n",
       "      <th>156</th>\n",
       "      <td>X_Ari__06_noise_ver_000.dat</td>\n",
       "      <td>X_Ari__06.dat</td>\n",
       "      <td>4.416311</td>\n",
       "      <td>1.817211</td>\n",
       "      <td>3.958759</td>\n",
       "      <td>1.458727</td>\n",
       "      <td>4.434431</td>\n",
       "      <td>1.400545</td>\n",
       "      <td>4.655098</td>\n",
       "      <td>1.254918</td>\n",
       "      <td>1.958632</td>\n",
       "      <td>0.371732</td>\n",
       "      <td>3.568644</td>\n",
       "      <td>1.840998</td>\n",
       "      <td>0.0</td>\n",
       "      <td>-2.506315</td>\n",
       "      <td>0.018461</td>\n",
       "      <td>6176.387020</td>\n",
       "    </tr>\n",
       "    <tr>\n",
       "      <th>157</th>\n",
       "      <td>X_Ari__08_noise_ver_000.dat</td>\n",
       "      <td>X_Ari__08.dat</td>\n",
       "      <td>9.771492</td>\n",
       "      <td>2.239847</td>\n",
       "      <td>11.470134</td>\n",
       "      <td>1.922272</td>\n",
       "      <td>12.284994</td>\n",
       "      <td>2.749878</td>\n",
       "      <td>11.874163</td>\n",
       "      <td>2.172955</td>\n",
       "      <td>0.895361</td>\n",
       "      <td>0.132050</td>\n",
       "      <td>11.826292</td>\n",
       "      <td>3.016885</td>\n",
       "      <td>0.0</td>\n",
       "      <td>-2.130022</td>\n",
       "      <td>0.102680</td>\n",
       "      <td>7725.325114</td>\n",
       "    </tr>\n",
       "    <tr>\n",
       "      <th>158</th>\n",
       "      <td>X_Ari__09_noise_ver_000.dat</td>\n",
       "      <td>X_Ari__09.dat</td>\n",
       "      <td>3.936452</td>\n",
       "      <td>2.457251</td>\n",
       "      <td>3.866325</td>\n",
       "      <td>0.949845</td>\n",
       "      <td>4.435529</td>\n",
       "      <td>1.697552</td>\n",
       "      <td>4.941678</td>\n",
       "      <td>1.534291</td>\n",
       "      <td>2.118065</td>\n",
       "      <td>0.436147</td>\n",
       "      <td>3.569799</td>\n",
       "      <td>2.227215</td>\n",
       "      <td>0.0</td>\n",
       "      <td>-2.449497</td>\n",
       "      <td>0.016033</td>\n",
       "      <td>6176.603659</td>\n",
       "    </tr>\n",
       "    <tr>\n",
       "      <th>159</th>\n",
       "      <td>X_Ari__10_noise_ver_000.dat</td>\n",
       "      <td>X_Ari__10.dat</td>\n",
       "      <td>3.116903</td>\n",
       "      <td>1.558528</td>\n",
       "      <td>4.039859</td>\n",
       "      <td>1.037833</td>\n",
       "      <td>4.461913</td>\n",
       "      <td>1.490853</td>\n",
       "      <td>4.857134</td>\n",
       "      <td>1.609877</td>\n",
       "      <td>2.006597</td>\n",
       "      <td>0.452249</td>\n",
       "      <td>3.597551</td>\n",
       "      <td>1.954738</td>\n",
       "      <td>0.0</td>\n",
       "      <td>-2.485822</td>\n",
       "      <td>0.017207</td>\n",
       "      <td>6181.809296</td>\n",
       "    </tr>\n",
       "  </tbody>\n",
       "</table>\n",
       "<p>160 rows × 18 columns</p>\n",
       "</div>"
      ],
      "text/plain": [
       "      realization_spec_file_name orig_spec_file_name   EW_Hbeta  \\\n",
       "0    AR_Per_01_noise_ver_000.dat       AR_Per_01.dat   5.513239   \n",
       "1    AR_Per_02_noise_ver_000.dat       AR_Per_02.dat   6.621519   \n",
       "2    AR_Per_03_noise_ver_000.dat       AR_Per_03.dat   5.100430   \n",
       "3    AR_Per_05_noise_ver_000.dat       AR_Per_05.dat  11.653250   \n",
       "4    AR_Per_06_noise_ver_000.dat       AR_Per_06.dat  10.176606   \n",
       "..                           ...                 ...        ...   \n",
       "155  X_Ari__05_noise_ver_000.dat       X_Ari__05.dat   3.809181   \n",
       "156  X_Ari__06_noise_ver_000.dat       X_Ari__06.dat   4.416311   \n",
       "157  X_Ari__08_noise_ver_000.dat       X_Ari__08.dat   9.771492   \n",
       "158  X_Ari__09_noise_ver_000.dat       X_Ari__09.dat   3.936452   \n",
       "159  X_Ari__10_noise_ver_000.dat       X_Ari__10.dat   3.116903   \n",
       "\n",
       "     err_EW_Hbeta_from_robo  EW_Hdelta  err_EW_Hdelta_from_robo  EW_Hgamma  \\\n",
       "0                  1.479734   3.749249                 1.237012   4.108165   \n",
       "1                  2.021362   3.667108                 1.045790   4.229278   \n",
       "2                  1.700019   3.612964                 1.289192   4.174086   \n",
       "3                  2.322511  10.784656                 2.251324  11.701739   \n",
       "4                  2.086091   9.673037                 1.911386  10.475344   \n",
       "..                      ...        ...                      ...        ...   \n",
       "155                2.269934   4.487566                 1.353637   4.281357   \n",
       "156                1.817211   3.958759                 1.458727   4.434431   \n",
       "157                2.239847  11.470134                 1.922272  12.284994   \n",
       "158                2.457251   3.866325                 0.949845   4.435529   \n",
       "159                1.558528   4.039859                 1.037833   4.461913   \n",
       "\n",
       "     err_EW_Hgamma_from_robo    EW_Heps  err_EW_Heps_from_robo  EW_CaIIK  \\\n",
       "0                   0.942799   8.923473               2.437342  8.669427   \n",
       "1                   1.399172   8.458081               1.800801  8.557880   \n",
       "2                   1.609951   8.050307               1.841850  7.225012   \n",
       "3                   2.526311  12.191882               2.257033  3.662642   \n",
       "4                   2.458238  10.892135               2.077674  4.010492   \n",
       "..                       ...        ...                    ...       ...   \n",
       "155                 1.370123   4.984885               1.589008  1.999938   \n",
       "156                 1.400545   4.655098               1.254918  1.958632   \n",
       "157                 2.749878  11.874163               2.172955  0.895361   \n",
       "158                 1.697552   4.941678               1.534291  2.118065   \n",
       "159                 1.490853   4.857134               1.609877  2.006597   \n",
       "\n",
       "     err_EW_CaIIK_from_robo  EW_Balmer  err_EW_Balmer_based_Robo  \\\n",
       "0                  1.919832   3.225460                  1.278393   \n",
       "1                  1.887103   3.352853                  1.866804   \n",
       "2                  1.539262   3.294799                  2.154375   \n",
       "3                  0.819297  11.212793                  2.785606   \n",
       "4                  0.875669   9.922804                  2.740707   \n",
       "..                      ...        ...                       ...   \n",
       "155                0.384847   3.407633                  1.821295   \n",
       "156                0.371732   3.568644                  1.840998   \n",
       "157                0.132050  11.826292                  3.016885   \n",
       "158                0.436147   3.569799                  2.227215   \n",
       "159                0.452249   3.597551                  1.954738   \n",
       "\n",
       "     err_EW_Balmer_based_noise_churning  feh_retrieved  err_feh_retrieved  \\\n",
       "0                                   0.0      -1.100447           0.020949   \n",
       "1                                   0.0      -1.094920           0.020787   \n",
       "2                                   0.0      -1.321644           0.030430   \n",
       "3                                   0.0      -0.713514           0.036112   \n",
       "4                                   0.0      -0.827487           0.017193   \n",
       "..                                  ...            ...                ...   \n",
       "155                                 0.0      -2.508599           0.018880   \n",
       "156                                 0.0      -2.506315           0.018461   \n",
       "157                                 0.0      -2.130022           0.102680   \n",
       "158                                 0.0      -2.449497           0.016033   \n",
       "159                                 0.0      -2.485822           0.017207   \n",
       "\n",
       "     teff_retrieved  \n",
       "0       6112.013823  \n",
       "1       6135.909758  \n",
       "2       6125.020222  \n",
       "3       7610.247267  \n",
       "4       7368.276095  \n",
       "..              ...  \n",
       "155     6146.185091  \n",
       "156     6176.387020  \n",
       "157     7725.325114  \n",
       "158     6176.603659  \n",
       "159     6181.809296  \n",
       "\n",
       "[160 rows x 18 columns]"
      ]
     },
     "execution_count": 4,
     "metadata": {},
     "output_type": "execute_result"
    }
   ],
   "source": [
    "df"
   ]
  },
  {
   "cell_type": "code",
   "execution_count": 5,
   "id": "former-vietnam",
   "metadata": {},
   "outputs": [],
   "source": [
    "# add new column to separate out stars\n",
    "\n",
    "df[\"star\"] = df['orig_spec_file_name'].str.replace('\\d+', '').str.split(\".\").str[0]"
   ]
  },
  {
   "cell_type": "code",
   "execution_count": 6,
   "id": "robust-detector",
   "metadata": {},
   "outputs": [
    {
     "data": {
      "text/plain": [
       "Index(['realization_spec_file_name', 'orig_spec_file_name', 'EW_Hbeta',\n",
       "       'err_EW_Hbeta_from_robo', 'EW_Hdelta', 'err_EW_Hdelta_from_robo',\n",
       "       'EW_Hgamma', 'err_EW_Hgamma_from_robo', 'EW_Heps',\n",
       "       'err_EW_Heps_from_robo', 'EW_CaIIK', 'err_EW_CaIIK_from_robo',\n",
       "       'EW_Balmer', 'err_EW_Balmer_based_Robo',\n",
       "       'err_EW_Balmer_based_noise_churning', 'feh_retrieved',\n",
       "       'err_feh_retrieved', 'teff_retrieved', 'star'],\n",
       "      dtype='object')"
      ]
     },
     "execution_count": 6,
     "metadata": {},
     "output_type": "execute_result"
    }
   ],
   "source": [
    "df.keys()"
   ]
  },
  {
   "cell_type": "code",
   "execution_count": 7,
   "id": "broadband-motorcycle",
   "metadata": {},
   "outputs": [],
   "source": [
    "unique_star_names = df[\"star\"].drop_duplicates().values"
   ]
  },
  {
   "cell_type": "code",
   "execution_count": 8,
   "id": "searching-routine",
   "metadata": {},
   "outputs": [
    {
     "data": {
      "text/plain": [
       "6112.013823483099"
      ]
     },
     "execution_count": 8,
     "metadata": {},
     "output_type": "execute_result"
    }
   ],
   "source": [
    "df[\"teff_retrieved\"].min()"
   ]
  },
  {
   "cell_type": "code",
   "execution_count": 9,
   "id": "static-stress",
   "metadata": {},
   "outputs": [
    {
     "data": {
      "text/plain": [
       "7828.1342782469765"
      ]
     },
     "execution_count": 9,
     "metadata": {},
     "output_type": "execute_result"
    }
   ],
   "source": [
    "df[\"teff_retrieved\"].max()"
   ]
  },
  {
   "cell_type": "code",
   "execution_count": 20,
   "id": "cognitive-present",
   "metadata": {},
   "outputs": [
    {
     "ename": "SyntaxError",
     "evalue": "EOF while scanning triple-quoted string literal (<ipython-input-20-3fb9dc8cf736>, line 24)",
     "output_type": "error",
     "traceback": [
      "\u001b[0;36m  File \u001b[0;32m\"<ipython-input-20-3fb9dc8cf736>\"\u001b[0;36m, line \u001b[0;32m24\u001b[0m\n\u001b[0;31m    plt.clf()\u001b[0m\n\u001b[0m             \n^\u001b[0m\n\u001b[0;31mSyntaxError\u001b[0m\u001b[0;31m:\u001b[0m EOF while scanning triple-quoted string literal\n"
     ]
    }
   ],
   "source": [
    "bin_widths = 250.*np.arange(0,21)+5000\n",
    "for star_name in range(0,len(unique_star_names)):\n",
    "    \n",
    "    print(\"------\")\n",
    "    print(unique_star_names[star_name])\n",
    "    print(len(df[\"teff_retrieved\"].where(df[\"star\"] == unique_star_names[star_name]).dropna()))\n",
    "\n",
    "\n",
    "    # individual stars\n",
    "    plt.hist(df[\"teff_retrieved\"].where(df[\"star\"] == unique_star_names[star_name]), \n",
    "             bins=bin_widths)\n",
    "\n",
    "    '''\n",
    "    # all together\n",
    "    plt.hist(df[\"teff_retrieved\"],bins=bin_widths)\n",
    "    '''\n",
    "    \n",
    "    plt.axvline(x=5900, linestyle=\"--\", color=\"gray\")\n",
    "    plt.axvline(x=7350, linestyle=\"--\", color=\"gray\")\n",
    "    \n",
    "    plt.xlim([5000,10000])\n",
    "    plt.xlabel(\"Teff retrieved (K)\")\n",
    "    plt.title(unique_star_names[star_name])\n",
    "    plt.savefig(\"junk_test_hist_\" + unique_star_names[star_name] + \".pdf\")\n",
    "    plt.clf()"
   ]
  },
  {
   "cell_type": "code",
   "execution_count": null,
   "id": "earned-handle",
   "metadata": {},
   "outputs": [],
   "source": [
    "plt.savefig(\"test_hist_all_together.pdf\")"
   ]
  },
  {
   "cell_type": "code",
   "execution_count": 21,
   "id": "vital-entrance",
   "metadata": {},
   "outputs": [
    {
     "data": {
      "text/plain": [
       "<Figure size 432x288 with 0 Axes>"
      ]
     },
     "metadata": {},
     "output_type": "display_data"
    }
   ],
   "source": [
    "bin_widths = 0.1*np.arange(0,36)-3.0\n",
    "plt.clf()\n",
    "for star_name in range(0,len(unique_star_names)):\n",
    "\n",
    "    plt.hist(df[\"feh_retrieved\"].where(df[\"star\"] == unique_star_names[star_name]), \n",
    "             bins=bin_widths)\n",
    "    \n",
    "    #plt.axvline(x=5900, linestyle=\"--\", color=\"gray\")\n",
    "    #plt.axvline(x=7350, linestyle=\"--\", color=\"gray\")\n",
    "    \n",
    "    #plt.xlim([5000,10000])\n",
    "    plt.xlabel(\"Fe/H retrieved (K)\")\n",
    "    plt.title(unique_star_names[star_name])\n",
    "    plt.savefig(\"test_hist_feh_\" + unique_star_names[star_name] + \".pdf\")\n",
    "    plt.clf()"
   ]
  },
  {
   "cell_type": "code",
   "execution_count": 11,
   "id": "hungry-butterfly",
   "metadata": {},
   "outputs": [
    {
     "data": {
      "image/png": "[encoded data removed]",
      "text/plain": [
       "<Figure size 432x288 with 1 Axes>"
      ]
     },
     "metadata": {
      "needs_background": "light"
     },
     "output_type": "display_data"
    },
    {
     "data": {
      "image/png": "[encoded data removed]",
      "text/plain": [
       "<Figure size 432x288 with 1 Axes>"
      ]
     },
     "metadata": {
      "needs_background": "light"
     },
     "output_type": "display_data"
    },
    {
     "data": {
      "image/png": "[encoded data removed]",
      "text/plain": [
       "<Figure size 432x288 with 1 Axes>"
      ]
     },
     "metadata": {
      "needs_background": "light"
     },
     "output_type": "display_data"
    },
    {
     "data": {
      "image/png": "[encoded data removed]",
      "text/plain": [
       "<Figure size 432x288 with 1 Axes>"
      ]
     },
     "metadata": {
      "needs_background": "light"
     },
     "output_type": "display_data"
    },
    {
     "data": {
      "image/png": "[encoded data removed]",
      "text/plain": [
       "<Figure size 432x288 with 1 Axes>"
      ]
     },
     "metadata": {
      "needs_background": "light"
     },
     "output_type": "display_data"
    },
    {
     "data": {
      "image/png": "[encoded data removed]",
      "text/plain": [
       "<Figure size 432x288 with 1 Axes>"
      ]
     },
     "metadata": {
      "needs_background": "light"
     },
     "output_type": "display_data"
    },
    {
     "data": {
      "image/png": "[encoded data removed]",
      "text/plain": [
       "<Figure size 432x288 with 1 Axes>"
      ]
     },
     "metadata": {
      "needs_background": "light"
     },
     "output_type": "display_data"
    },
    {
     "data": {
      "image/png": "[encoded data removed]",
      "text/plain": [
       "<Figure size 432x288 with 1 Axes>"
      ]
     },
     "metadata": {
      "needs_background": "light"
     },
     "output_type": "display_data"
    },
    {
     "data": {
      "image/png": "[encoded data removed]",
      "text/plain": [
       "<Figure size 432x288 with 1 Axes>"
      ]
     },
     "metadata": {
      "needs_background": "light"
     },
     "output_type": "display_data"
    },
    {
     "data": {
      "image/png": "[encoded data removed]",
      "text/plain": [
       "<Figure size 432x288 with 1 Axes>"
      ]
     },
     "metadata": {
      "needs_background": "light"
     },
     "output_type": "display_data"
    },
    {
     "data": {
      "image/png": "[encoded data removed]",
      "text/plain": [
       "<Figure size 432x288 with 1 Axes>"
      ]
     },
     "metadata": {
      "needs_background": "light"
     },
     "output_type": "display_data"
    },
    {
     "data": {
      "image/png": "[encoded data removed]",
      "text/plain": [
       "<Figure size 432x288 with 1 Axes>"
      ]
     },
     "metadata": {
      "needs_background": "light"
     },
     "output_type": "display_data"
    },
    {
     "data": {
      "image/png": "[encoded data removed]",
      "text/plain": [
       "<Figure size 432x288 with 1 Axes>"
      ]
     },
     "metadata": {
      "needs_background": "light"
     },
     "output_type": "display_data"
    },
    {
     "data": {
      "image/png": "[encoded data removed]",
      "text/plain": [
       "<Figure size 432x288 with 1 Axes>"
      ]
     },
     "metadata": {
      "needs_background": "light"
     },
     "output_type": "display_data"
    },
    {
     "data": {
      "image/png": "[encoded data removed]",
      "text/plain": [
       "<Figure size 432x288 with 1 Axes>"
      ]
     },
     "metadata": {
      "needs_background": "light"
     },
     "output_type": "display_data"
    },
    {
     "data": {
      "image/png": "[encoded data removed]",
      "text/plain": [
       "<Figure size 432x288 with 1 Axes>"
      ]
     },
     "metadata": {
      "needs_background": "light"
     },
     "output_type": "display_data"
    },
    {
     "data": {
      "image/png": "[encoded data removed]",
      "text/plain": [
       "<Figure size 432x288 with 1 Axes>"
      ]
     },
     "metadata": {
      "needs_background": "light"
     },
     "output_type": "display_data"
    },
    {
     "data": {
      "image/png": "[encoded data removed]",
      "text/plain": [
       "<Figure size 432x288 with 1 Axes>"
      ]
     },
     "metadata": {
      "needs_background": "light"
     },
     "output_type": "display_data"
    },
    {
     "data": {
      "image/png": "[encoded data removed]",
      "text/plain": [
       "<Figure size 432x288 with 1 Axes>"
      ]
     },
     "metadata": {
      "needs_background": "light"
     },
     "output_type": "display_data"
    }
   ],
   "source": [
    "bin_widths = 0.1*np.arange(0,36)-3.0\n",
    "plt.clf()\n",
    "for star_name in range(0,len(unique_star_names)):\n",
    "\n",
    "    plt.hist(df[\"feh_retrieved\"].where(df[\"star\"] == unique_star_names[star_name]), \n",
    "             bins=bin_widths)\n",
    "    \n",
    "    #plt.axvline(x=5900, linestyle=\"--\", color=\"gray\")\n",
    "    #plt.axvline(x=7350, linestyle=\"--\", color=\"gray\")\n",
    "    \n",
    "    #plt.xlim([5000,10000])\n",
    "    plt.xlabel(\"Fe/H retrieved (K)\")\n",
    "    plt.title(unique_star_names[star_name])\n",
    "    plt.show()"
   ]
  },
  {
   "cell_type": "code",
   "execution_count": 53,
   "id": "afraid-pointer",
   "metadata": {},
   "outputs": [
    {
     "data": {
      "text/plain": [
       "0.2711162669838131"
      ]
     },
     "execution_count": 53,
     "metadata": {},
     "output_type": "execute_result"
    }
   ],
   "source": [
    "df[\"feh_retrieved\"].max()"
   ]
  },
  {
   "cell_type": "code",
   "execution_count": null,
   "id": "altered-interstate",
   "metadata": {},
   "outputs": [],
   "source": []
  }
 ],
 "metadata": {
  "kernelspec": {
   "display_name": "Python 3",
   "language": "python",
   "name": "python3"
  },
  "language_info": {
   "codemirror_mode": {
    "name": "ipython",
    "version": 3
   },
   "file_extension": ".py",
   "mimetype": "text/x-python",
   "name": "python",
   "nbconvert_exporter": "python",
   "pygments_lexer": "ipython3",
   "version": "3.6.6"
  }
 },
 "nbformat": 4,
 "nbformat_minor": 5
}
