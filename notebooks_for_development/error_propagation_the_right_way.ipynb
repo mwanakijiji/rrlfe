{
 "cells": [
  {
   "cell_type": "code",
   "execution_count": 1,
   "id": "positive-omega",
   "metadata": {},
   "outputs": [],
   "source": [
    "import numpy as np\n",
    "import pandas as pd\n",
    "import matplotlib.pyplot as plt"
   ]
  },
  {
   "cell_type": "code",
   "execution_count": 2,
   "id": "resident-student",
   "metadata": {},
   "outputs": [],
   "source": [
    "stem = \"/Users/bandari/Documents/git.repos/rrlfe/\""
   ]
  },
  {
   "cell_type": "code",
   "execution_count": 3,
   "id": "central-garbage",
   "metadata": {},
   "outputs": [],
   "source": [
    "# read in a \n",
    "\n",
    "file_name = stem + \"ew_products/all_sdss_spectra_20211118_restacked_ew_info_good_only_w_net_balmer_errors.csv\""
   ]
  },
  {
   "cell_type": "code",
   "execution_count": 4,
   "id": "pointed-klein",
   "metadata": {},
   "outputs": [],
   "source": [
    "df = pd.read_csv(file_name)"
   ]
  },
  {
   "cell_type": "code",
   "execution_count": 5,
   "id": "joint-integer",
   "metadata": {},
   "outputs": [
    {
     "data": {
      "text/plain": [
       "Index(['realization_spec_file_name', 'orig_spec_file_name', 'EW_Hbeta',\n",
       "       'err_EW_Hbeta_from_robo', 'EW_Hdelta', 'err_EW_Hdelta_from_robo',\n",
       "       'EW_Hgamma', 'err_EW_Hgamma_from_robo', 'EW_Heps',\n",
       "       'err_EW_Heps_from_robo', 'EW_CaIIK', 'err_EW_CaIIK_from_robo',\n",
       "       'EW_Balmer', 'err_EW_Balmer_based_Robo',\n",
       "       'err_EW_Balmer_based_noise_churning'],\n",
       "      dtype='object')"
      ]
     },
     "execution_count": 5,
     "metadata": {},
     "output_type": "execute_result"
    }
   ],
   "source": [
    "df.keys()"
   ]
  },
  {
   "cell_type": "code",
   "execution_count": 6,
   "id": "fallen-strain",
   "metadata": {},
   "outputs": [
    {
     "data": {
      "image/png": "[encoded data removed]",
      "text/plain": [
       "<Figure size 432x288 with 1 Axes>"
      ]
     },
     "metadata": {
      "needs_background": "light"
     },
     "output_type": "display_data"
    }
   ],
   "source": [
    "plt.scatter(df[\"EW_Hdelta\"], df[\"EW_Hgamma\"], s=4)\n",
    "plt.xlim([0,20])\n",
    "plt.ylim([0,20])\n",
    "plt.show()"
   ]
  },
  {
   "cell_type": "code",
   "execution_count": 7,
   "id": "governing-power",
   "metadata": {},
   "outputs": [],
   "source": [
    "# np.logical_and(df[\"EW_Hdelta\"] > 0.5, df[\"EW_Hdelta\"] < 20.)\n",
    "# np.logical_and(df[\"EW_Hgamma\"] > 0.5, df[\"EW_Hgamma\"] < 20.)"
   ]
  },
  {
   "cell_type": "code",
   "execution_count": 8,
   "id": "productive-wyoming",
   "metadata": {},
   "outputs": [
    {
     "data": {
      "image/png": "[encoded data removed]",
      "text/plain": [
       "<Figure size 432x288 with 1 Axes>"
      ]
     },
     "metadata": {
      "needs_background": "light"
     },
     "output_type": "display_data"
    }
   ],
   "source": [
    "# get rid of really bad points\n",
    "\n",
    "idx_cond = np.logical_and(\n",
    "                        np.logical_and(df[\"EW_Hdelta\"] > 0.5, df[\"EW_Hdelta\"] < 20.),\n",
    "                        np.logical_and(df[\"EW_Hgamma\"] > 0.5, df[\"EW_Hgamma\"] < 20.)\n",
    "                        )"
   ]
  },
  {
   "cell_type": "code",
   "execution_count": null,
   "id": "hired-theater",
   "metadata": {},
   "outputs": [],
   "source": [
    "plt.scatter(df[\"EW_Hdelta\"].where(idx_cond), df[\"EW_Hgamma\"].where(idx_cond), s=4)\n",
    "plt.xlim([0,20])\n",
    "plt.ylim([0,20])\n",
    "plt.show()"
   ]
  },
  {
   "cell_type": "code",
   "execution_count": 9,
   "id": "lovely-raising",
   "metadata": {},
   "outputs": [
    {
     "data": {
      "text/plain": [
       "0       10.924209\n",
       "1        4.347744\n",
       "2       11.430905\n",
       "3        9.487499\n",
       "4        8.852915\n",
       "          ...    \n",
       "2674    10.297540\n",
       "2675    12.604587\n",
       "2676     9.908558\n",
       "2677     9.345149\n",
       "2678     8.120021\n",
       "Name: EW_Hdelta, Length: 2568, dtype: float64"
      ]
     },
     "execution_count": 9,
     "metadata": {},
     "output_type": "execute_result"
    }
   ],
   "source": [
    "df[\"EW_Hdelta\"].where(idx_cond).dropna()"
   ]
  },
  {
   "cell_type": "code",
   "execution_count": 35,
   "id": "characteristic-raising",
   "metadata": {},
   "outputs": [
    {
     "data": {
      "text/plain": [
       "Index(['realization_spec_file_name', 'orig_spec_file_name', 'EW_Hbeta',\n",
       "       'err_EW_Hbeta_from_robo', 'EW_Hdelta', 'err_EW_Hdelta_from_robo',\n",
       "       'EW_Hgamma', 'err_EW_Hgamma_from_robo', 'EW_Heps',\n",
       "       'err_EW_Heps_from_robo', 'EW_CaIIK', 'err_EW_CaIIK_from_robo',\n",
       "       'EW_Balmer', 'err_EW_Balmer_based_Robo',\n",
       "       'err_EW_Balmer_based_noise_churning'],\n",
       "      dtype='object')"
      ]
     },
     "execution_count": 35,
     "metadata": {},
     "output_type": "execute_result"
    }
   ],
   "source": [
    "df.keys()"
   ]
  },
  {
   "cell_type": "code",
   "execution_count": 36,
   "id": "mediterranean-possession",
   "metadata": {},
   "outputs": [],
   "source": [
    "W_gamma = df[\"EW_Hgamma\"].where(idx_cond).dropna()\n",
    "W_delta = df[\"EW_Hdelta\"].where(idx_cond).dropna()\n",
    "err_W_gamma = df[\"err_EW_Hgamma_from_robo\"].where(idx_cond).dropna()\n",
    "err_W_delta = df[\"err_EW_Hdelta_from_robo\"].where(idx_cond).dropna()"
   ]
  },
  {
   "cell_type": "code",
   "execution_count": 11,
   "id": "centered-nigeria",
   "metadata": {},
   "outputs": [],
   "source": [
    "coeff_initial, cov_initial = np.polyfit(W_delta, W_gamma, deg=1, full=False, cov=True)\n",
    "m = coeff_initial[0]\n",
    "b = coeff_initial[1]\n",
    "err_m = np.sqrt(np.diag(cov_initial))[0]\n",
    "err_b = np.sqrt(np.diag(cov_initial))[1]"
   ]
  },
  {
   "cell_type": "code",
   "execution_count": 15,
   "id": "transparent-heath",
   "metadata": {},
   "outputs": [],
   "source": [
    "# rescale "
   ]
  },
  {
   "cell_type": "code",
   "execution_count": 12,
   "id": "qualified-potential",
   "metadata": {},
   "outputs": [],
   "source": [
    "W_gamma_prime = np.divide(np.subtract(W_gamma,b),m)"
   ]
  },
  {
   "cell_type": "code",
   "execution_count": 13,
   "id": "thermal-morning",
   "metadata": {},
   "outputs": [
    {
     "data": {
      "image/png": "[encoded data removed]",
      "text/plain": [
       "<Figure size 432x288 with 1 Axes>"
      ]
     },
     "metadata": {
      "needs_background": "light"
     },
     "output_type": "display_data"
    }
   ],
   "source": [
    "plt.clf()\n",
    "plt.scatter(W_delta, W_gamma_prime, s=4)\n",
    "plt.plot([2,18],[2,18],linestyle=\"--\",color=\"k\")\n",
    "#plt.xlim([0,5])\n",
    "#plt.ylim([0,5])\n",
    "plt.show()"
   ]
  },
  {
   "cell_type": "code",
   "execution_count": 44,
   "id": "earlier-railway",
   "metadata": {},
   "outputs": [
    {
     "data": {
      "image/png": "[encoded data removed]",
      "text/plain": [
       "<Figure size 432x288 with 1 Axes>"
      ]
     },
     "metadata": {
      "needs_background": "light"
     },
     "output_type": "display_data"
    }
   ],
   "source": [
    "plt.clf()\n",
    "plt.scatter(W_delta, W_gamma, s=4)\n",
    "plt.plot([2,18],[2,18],linestyle=\"--\",color=\"k\")\n",
    "#plt.xlim([0,5])\n",
    "#plt.ylim([0,5])\n",
    "plt.show()"
   ]
  },
  {
   "cell_type": "code",
   "execution_count": 14,
   "id": "sitting-stewart",
   "metadata": {},
   "outputs": [],
   "source": [
    "# we can obtain the variance-covariance matrix by just fitting another line to this\n",
    "\n",
    "coeff_scaled, cov_scaled = np.polyfit(W_delta, W_gamma_prime, deg=1, full=False, cov=True)"
   ]
  },
  {
   "cell_type": "code",
   "execution_count": 38,
   "id": "ignored-multiple",
   "metadata": {},
   "outputs": [
    {
     "data": {
      "image/png": "[encoded data removed]",
      "text/plain": [
       "<Figure size 432x288 with 1 Axes>"
      ]
     },
     "metadata": {
      "needs_background": "light"
     },
     "output_type": "display_data"
    }
   ],
   "source": [
    "plt.hist(err_W_delta, bins=200)\n",
    "plt.show()"
   ]
  },
  {
   "cell_type": "code",
   "execution_count": 15,
   "id": "respiratory-preparation",
   "metadata": {},
   "outputs": [
    {
     "data": {
      "text/plain": [
       "array([[ 7.09219133e-05, -5.68674231e-04],\n",
       "       [-5.68674231e-04,  5.12806866e-03]])"
      ]
     },
     "execution_count": 15,
     "metadata": {},
     "output_type": "execute_result"
    }
   ],
   "source": [
    "cov_scaled"
   ]
  },
  {
   "cell_type": "code",
   "execution_count": 17,
   "id": "amazing-belarus",
   "metadata": {},
   "outputs": [
    {
     "data": {
      "text/plain": [
       "-0.0005686742306283903"
      ]
     },
     "execution_count": 17,
     "metadata": {},
     "output_type": "execute_result"
    }
   ],
   "source": [
    "cov_scaled[0,1]"
   ]
  },
  {
   "cell_type": "code",
   "execution_count": 18,
   "id": "olive-boundary",
   "metadata": {},
   "outputs": [],
   "source": [
    "# Propagate the error in the equation\n",
    "#\n",
    "# W_B = (1/2)*(W_delta + W_gamma_prime)\n",
    "#\n",
    "# as\n",
    "#\n",
    "# var_B = sigma_B^2 = F_matrix * C_matrix * (F_matrix^T)\n",
    "#\n",
    "# where F_matrix is the Jacobian matrix and C_matrix is the variance-covariance matrix"
   ]
  },
  {
   "cell_type": "code",
   "execution_count": 19,
   "id": "sublime-xerox",
   "metadata": {},
   "outputs": [],
   "source": [
    "# Jacobian\n",
    "\n",
    "F_matrix = 0.5*np.matrix([[1,1]])"
   ]
  },
  {
   "cell_type": "code",
   "execution_count": 20,
   "id": "conditional-corps",
   "metadata": {},
   "outputs": [],
   "source": [
    "# variance-covariance matrix\n",
    "\n",
    "C_matrix = np.copy(cov_scaled)"
   ]
  },
  {
   "cell_type": "code",
   "execution_count": 21,
   "id": "hollow-county",
   "metadata": {},
   "outputs": [],
   "source": [
    "# find variance of net balmer line\n",
    "\n",
    "var_B = np.matmul(F_matrix,np.matmul(C_matrix,F_matrix.T))"
   ]
  },
  {
   "cell_type": "code",
   "execution_count": 22,
   "id": "cleared-little",
   "metadata": {},
   "outputs": [
    {
     "data": {
      "text/plain": [
       "matrix([[0.00101541]])"
      ]
     },
     "execution_count": 22,
     "metadata": {},
     "output_type": "execute_result"
    }
   ],
   "source": [
    "var_B"
   ]
  },
  {
   "cell_type": "code",
   "execution_count": 26,
   "id": "amended-evening",
   "metadata": {},
   "outputs": [],
   "source": [
    "sigma_B = np.sqrt(var_B[0,0])"
   ]
  },
  {
   "cell_type": "code",
   "execution_count": 27,
   "id": "peaceful-pharmacy",
   "metadata": {},
   "outputs": [
    {
     "data": {
      "text/plain": [
       "0.03186550687604238"
      ]
     },
     "execution_count": 27,
     "metadata": {},
     "output_type": "execute_result"
    }
   ],
   "source": [
    "sigma_B"
   ]
  },
  {
   "cell_type": "code",
   "execution_count": 25,
   "id": "moved-teacher",
   "metadata": {},
   "outputs": [
    {
     "data": {
      "text/plain": [
       "(1, 1)"
      ]
     },
     "execution_count": 25,
     "metadata": {},
     "output_type": "execute_result"
    }
   ],
   "source": [
    "np.sqrt(var_B).shape"
   ]
  },
  {
   "cell_type": "code",
   "execution_count": 28,
   "id": "searching-profit",
   "metadata": {},
   "outputs": [
    {
     "data": {
      "text/plain": [
       "0.008421514907883813"
      ]
     },
     "execution_count": 28,
     "metadata": {},
     "output_type": "execute_result"
    }
   ],
   "source": [
    "np.sqrt(C_matrix[0,0])"
   ]
  },
  {
   "cell_type": "code",
   "execution_count": 29,
   "id": "dangerous-sunrise",
   "metadata": {},
   "outputs": [
    {
     "data": {
      "text/plain": [
       "0.0716105345726555"
      ]
     },
     "execution_count": 29,
     "metadata": {},
     "output_type": "execute_result"
    }
   ],
   "source": [
    "np.sqrt(C_matrix[1,1])"
   ]
  },
  {
   "cell_type": "code",
   "execution_count": 30,
   "id": "regulated-pipeline",
   "metadata": {},
   "outputs": [],
   "source": [
    "# check the answer manually\n",
    "\n",
    "var_B_manual = 0.25*(C_matrix[0,0] + C_matrix[1,1]) + 0.5*C_matrix[0,1]"
   ]
  },
  {
   "cell_type": "code",
   "execution_count": 31,
   "id": "played-guyana",
   "metadata": {},
   "outputs": [
    {
     "data": {
      "text/plain": [
       "0.001015410528467104"
      ]
     },
     "execution_count": 31,
     "metadata": {},
     "output_type": "execute_result"
    }
   ],
   "source": [
    "var_B_manual"
   ]
  },
  {
   "cell_type": "code",
   "execution_count": 32,
   "id": "stuffed-webcam",
   "metadata": {},
   "outputs": [
    {
     "data": {
      "text/plain": [
       "0.03186550687604238"
      ]
     },
     "execution_count": 32,
     "metadata": {},
     "output_type": "execute_result"
    }
   ],
   "source": [
    "np.sqrt(var_B_manual)"
   ]
  },
  {
   "cell_type": "code",
   "execution_count": null,
   "id": "resistant-budapest",
   "metadata": {},
   "outputs": [],
   "source": [
    "# ... but note that this just yields one net variance, var_B, for all the data points.\n",
    "# We want an error for *each* data point, so when we find the net variance of the \n",
    "# Balmer line, use error values from a single line for var_delta and var_gamma_prime\n",
    "\n",
    "\n",
    "for line_num in range(0,len(err_W_gamma)):\n",
    "    C_matrix_1 = np.copy(cov_scaled) # '_1' for 'one line'; here we just want to keep the covariance terms\n",
    "    C_matrix_1[0,0] = np.power(W_gamma_prime,2.)\n",
    "    C_matrix_1[0,0] = np.power(err_W_delta_prime,2.)\n",
    "    var_B_each_pt = np.matmul(F_matrix,np.matmul(C_matrix,F_matrix.T))\n"
   ]
  },
  {
   "cell_type": "code",
   "execution_count": 42,
   "id": "adequate-accounting",
   "metadata": {},
   "outputs": [
    {
     "data": {
      "image/png": "[encoded data removed]",
      "text/plain": [
       "<Figure size 432x288 with 1 Axes>"
      ]
     },
     "metadata": {
      "needs_background": "light"
     },
     "output_type": "display_data"
    }
   ],
   "source": [
    "plt.clf()\n",
    "plt.hist(df[\"EW_Hgamma\"], bins=200)\n",
    "plt.xlim([0,30])\n",
    "plt.show()"
   ]
  },
  {
   "cell_type": "code",
   "execution_count": 41,
   "id": "pregnant-windsor",
   "metadata": {},
   "outputs": [
    {
     "data": {
      "image/png": "[encoded data removed]",
      "text/plain": [
       "<Figure size 432x288 with 1 Axes>"
      ]
     },
     "metadata": {
      "needs_background": "light"
     },
     "output_type": "display_data"
    }
   ],
   "source": [
    "plt.clf()\n",
    "plt.hist(df[\"EW_Hdelta\"], bins=200)\n",
    "plt.xlim([0,30])\n",
    "plt.show()"
   ]
  },
  {
   "cell_type": "code",
   "execution_count": 43,
   "id": "laden-jordan",
   "metadata": {},
   "outputs": [
    {
     "data": {
      "text/plain": [
       "0.8563900293407558"
      ]
     },
     "execution_count": 43,
     "metadata": {},
     "output_type": "execute_result"
    }
   ],
   "source": [
    "m"
   ]
  },
  {
   "cell_type": "code",
   "execution_count": null,
   "id": "ready-budapest",
   "metadata": {},
   "outputs": [],
   "source": [
    "df[\"EW_Hgamma\"]"
   ]
  }
 ],
 "metadata": {
  "kernelspec": {
   "display_name": "Python 3",
   "language": "python",
   "name": "python3"
  },
  "language_info": {
   "codemirror_mode": {
    "name": "ipython",
    "version": 3
   },
   "file_extension": ".py",
   "mimetype": "text/x-python",
   "name": "python",
   "nbconvert_exporter": "python",
   "pygments_lexer": "ipython3",
   "version": "3.6.6"
  }
 },
 "nbformat": 4,
 "nbformat_minor": 5
}
