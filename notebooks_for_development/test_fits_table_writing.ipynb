{
 "cells": [
  {
   "cell_type": "code",
   "execution_count": null,
   "id": "varying-increase",
   "metadata": {},
   "outputs": [],
   "source": [
    "# This reads in a FITS file that contains tabular and header info,\n",
    "# to check everything is working.\n",
    "\n",
    "# Created 2021 Nov. 1 by E.S."
   ]
  },
  {
   "cell_type": "code",
   "execution_count": 17,
   "id": "intended-elements",
   "metadata": {},
   "outputs": [],
   "source": [
    "from astropy.io import fits\n",
    "from astropy.table import Table"
   ]
  },
  {
   "cell_type": "code",
   "execution_count": 19,
   "id": "alien-cycling",
   "metadata": {},
   "outputs": [],
   "source": [
    "file_name = \"/Users/bandari/Documents/git.repos/rrlyrae_metallicity/bin/calib_solution_20211103.fits\"\n",
    "hdul = fits.open(file_name)"
   ]
  },
  {
   "cell_type": "code",
   "execution_count": 20,
   "id": "given-vietnamese",
   "metadata": {},
   "outputs": [
    {
     "name": "stdout",
     "output_type": "stream",
     "text": [
      "Filename: /Users/bandari/Documents/git.repos/rrlyrae_metallicity/bin/calib_solution_20211103.fits\n",
      "No.    Name      Ver    Type      Cards   Dimensions   Format\n",
      "  0  PRIMARY       1 PrimaryHDU       4   ()      \n",
      "  1                1 BinTableHDU     26   24000R x 4C   [D, D, D, D]   \n"
     ]
    }
   ],
   "source": [
    "hdul.info()"
   ]
  },
  {
   "cell_type": "code",
   "execution_count": 30,
   "id": "printable-clerk",
   "metadata": {},
   "outputs": [],
   "source": [
    "events = Table.read(file_name)"
   ]
  },
  {
   "cell_type": "code",
   "execution_count": 37,
   "id": "corresponding-youth",
   "metadata": {},
   "outputs": [
    {
     "data": {
      "text/plain": [
       "SIMPLE  =                    T / conforms to FITS standard                      \n",
       "BITPIX  =                    8 / array data type                                \n",
       "NAXIS   =                    0 / number of array dimensions                     \n",
       "EXTEND  =                    T                                                  "
      ]
     },
     "execution_count": 37,
     "metadata": {},
     "output_type": "execute_result"
    }
   ],
   "source": [
    "hdul[0].header"
   ]
  },
  {
   "cell_type": "code",
   "execution_count": 26,
   "id": "relevant-mission",
   "metadata": {},
   "outputs": [
    {
     "data": {
      "text/plain": [
       "24000"
      ]
     },
     "execution_count": 26,
     "metadata": {},
     "output_type": "execute_result"
    }
   ],
   "source": [
    "len(events)"
   ]
  },
  {
   "cell_type": "code",
   "execution_count": 40,
   "id": "entire-senegal",
   "metadata": {},
   "outputs": [
    {
     "data": {
      "text/plain": [
       "XTENSION= 'BINTABLE'           / binary table extension                         \n",
       "BITPIX  =                    8 / array data type                                \n",
       "NAXIS   =                    2 / number of array dimensions                     \n",
       "NAXIS1  =                   32 / length of dimension 1                          \n",
       "NAXIS2  =                24000 / length of dimension 2                          \n",
       "PCOUNT  =                    0 / number of group parameters                     \n",
       "GCOUNT  =                    1 / number of groups                               \n",
       "TFIELDS =                    4 / number of table fields                         \n",
       "HASH    = '168421f61ce3e4c3818af8e555447451302616c6' / Hash of rrlfe pipeline   \n",
       "MODEL   = 'abcd    '           / Calibration type                               \n",
       "TEFF_MIN=               5900.0 / Minimum Teff for linear Teff vs. Balmer EW fit \n",
       "TEFF_MAX=               7350.0 / Maximum Teff for linear Teff vs. Balmer EW fit \n",
       "SLOPE_M =    187.5761888430101 / Slope of Teff vs. Balmer EW                    \n",
       "ESLOPE_M=    2.265715134704338 / Error in slope of Teff vs. Balmer EW           \n",
       "YINT_B  =               7350.0 / Y-intercept of Teff vs. Balmer EW              \n",
       "EYINT_B =    14.82584425913375 / Error in y-intercept of Teff vs. Balmer EW     \n",
       "TTYPE1  = 'a       '                                                            \n",
       "TFORM1  = 'D       '                                                            \n",
       "TTYPE2  = 'b       '                                                            \n",
       "TFORM2  = 'D       '                                                            \n",
       "TTYPE3  = 'c       '                                                            \n",
       "TFORM3  = 'D       '                                                            \n",
       "TTYPE4  = 'd       '                                                            \n",
       "TFORM4  = 'D       '                                                            \n",
       "COMMENT Coefficients are defined as                                             \n",
       "COMMENT K = a + bH + cF + dHF + f(H^2) + g(F^2) + h(H^2)F + kH(F^2)             "
      ]
     },
     "execution_count": 40,
     "metadata": {},
     "output_type": "execute_result"
    }
   ],
   "source": [
    "hdul[1].header"
   ]
  },
  {
   "cell_type": "code",
   "execution_count": null,
   "id": "afraid-shield",
   "metadata": {},
   "outputs": [],
   "source": []
  }
 ],
 "metadata": {
  "kernelspec": {
   "display_name": "Python 3",
   "language": "python",
   "name": "python3"
  },
  "language_info": {
   "codemirror_mode": {
    "name": "ipython",
    "version": 3
   },
   "file_extension": ".py",
   "mimetype": "text/x-python",
   "name": "python",
   "nbconvert_exporter": "python",
   "pygments_lexer": "ipython3",
   "version": "3.6.6"
  }
 },
 "nbformat": 4,
 "nbformat_minor": 5
}
