{
 "cells": [
  {
   "cell_type": "code",
   "execution_count": null,
   "id": "bae21df5",
   "metadata": {},
   "outputs": [],
   "source": [
    "# This is to check the catalog of Whitten+, as sent by T. Beers on Nov. 26\n",
    "\n",
    "# Created 2023 Jan. 3 by E.S."
   ]
  },
  {
   "cell_type": "code",
   "execution_count": 1,
   "id": "022d0413",
   "metadata": {},
   "outputs": [],
   "source": [
    "import pandas as pd\n",
    "import matplotlib.pyplot as plt\n",
    "import numpy as np\n",
    "\n",
    "%matplotlib qt"
   ]
  },
  {
   "cell_type": "code",
   "execution_count": 2,
   "id": "593da468",
   "metadata": {},
   "outputs": [],
   "source": [
    "stem = \"/Users/bandari/Documents/git.repos/rrlfe/\""
   ]
  },
  {
   "cell_type": "code",
   "execution_count": 3,
   "id": "1de580d3",
   "metadata": {},
   "outputs": [],
   "source": [
    "# read in Whitten+ retrievals\n",
    "\n",
    "df_whitten_stars = pd.read_csv(\"./data/SPLUS_STRIPE82_ebv_retrain.csv\")"
   ]
  },
  {
   "cell_type": "code",
   "execution_count": 4,
   "id": "4521dfef",
   "metadata": {},
   "outputs": [
    {
     "data": {
      "text/plain": [
       "'\\n# \\ndf_mine = pd.read_csv(stem + \"notebooks_for_development/data/spalding_sdss_spectra_for_xmatch_norepeats.csv\", delim_whitespace=True)\\ndf_mine_no_repeats = df_mine.drop_duplicates()\\ndf_mine_no_repeats.to_csv(stem + \"notebooks_for_development/data/spalding_sdss_spectra_for_xmatch_norepeats.csv\", sep=\" \", index=False)\\ndf_mine_no_repeats = pd.read_csv(stem + \"notebooks_for_development/data/spalding_sdss_spectra_for_xmatch_norepeats.csv\", delim_whitespace=True)\\n'"
      ]
     },
     "execution_count": 4,
     "metadata": {},
     "output_type": "execute_result"
    }
   ],
   "source": [
    "# functionality to read in our SDSS star IDs, remove repeats, and write back out \n",
    "# so that they can be fed into SDSS SkyServer \n",
    "\n",
    "'''\n",
    "# \n",
    "df_mine = pd.read_csv(stem + \"notebooks_for_development/data/spalding_sdss_spectra_for_xmatch_norepeats.csv\", delim_whitespace=True)\n",
    "df_mine_no_repeats = df_mine.drop_duplicates()\n",
    "df_mine_no_repeats.to_csv(stem + \"notebooks_for_development/data/spalding_sdss_spectra_for_xmatch_norepeats.csv\", sep=\" \", index=False)\n",
    "df_mine_no_repeats = pd.read_csv(stem + \"notebooks_for_development/data/spalding_sdss_spectra_for_xmatch_norepeats.csv\", delim_whitespace=True)\n",
    "'''"
   ]
  },
  {
   "cell_type": "code",
   "execution_count": 5,
   "id": "e8d17ba9",
   "metadata": {},
   "outputs": [],
   "source": [
    "# read in RA, DEC info for our stars, as returned by SDSS SkyServer\n",
    "\n",
    "df_our_sdss_stars = pd.read_csv(stem + \"notebooks_for_development/data/Skyserver_CrossID1_4_2023_5_21_47_AM.csv\")"
   ]
  },
  {
   "cell_type": "code",
   "execution_count": 6,
   "id": "0c758947",
   "metadata": {},
   "outputs": [],
   "source": [
    "# give some cols same name, so we can merge on them\n",
    "\n",
    "df_whitten_stars[\"ra\"] = df_whitten_stars[\"RA\"]\n",
    "df_whitten_stars[\"dec\"] = df_whitten_stars[\"Dec\"]\n",
    "\n",
    "# some rounding is necessary to enable matching\n",
    "df_whitten_stars[\"ra_round\"] = np.round(df_whitten_stars[\"ra\"],2)\n",
    "df_our_sdss_stars[\"ra_round\"] = np.round(df_our_sdss_stars[\"ra\"],2)\n",
    "df_whitten_stars[\"dec_round\"] = np.round(df_whitten_stars[\"dec\"],3)\n",
    "df_our_sdss_stars[\"dec_round\"] = np.round(df_our_sdss_stars[\"dec\"],3)"
   ]
  },
  {
   "cell_type": "code",
   "execution_count": 7,
   "id": "78767211",
   "metadata": {},
   "outputs": [],
   "source": [
    "# this merges tables based on RA, DEC, and leaves the Whitten FeH in the final table\n",
    "# (but our FeH is still missing)\n",
    "\n",
    "merged_df_whitten_feh = pd.merge(df_whitten_stars, df_our_sdss_stars, how=\"inner\", on=[\"ra_round\",\"dec_round\"])"
   ]
  },
  {
   "cell_type": "code",
   "execution_count": 8,
   "id": "c3530768",
   "metadata": {},
   "outputs": [],
   "source": [
    "# read in our retrieved Fe/H and splice stuff to enable matching\n",
    "\n",
    "df_our_data = pd.read_csv(stem + \"rrlfe_io_20221220_sdss_test/bin/retrieved_vals.csv\")"
   ]
  },
  {
   "cell_type": "code",
   "execution_count": 9,
   "id": "1696c6a2",
   "metadata": {},
   "outputs": [],
   "source": [
    "split_1 = df_our_data[\"orig_spec_file_name\"].str.split(\"-\", 3, expand=True)\n",
    "split_2 = split_1[3].str.split(\"_\", 1, expand=True)"
   ]
  },
  {
   "cell_type": "code",
   "execution_count": 10,
   "id": "78ce98b1",
   "metadata": {},
   "outputs": [],
   "source": [
    "df_our_data[\"plate\"] = split_1[1].astype(int)\n",
    "df_our_data[\"mjd\"] = split_1[2].astype(int)\n",
    "df_our_data[\"fiberid\"] = split_2[0].astype(int)"
   ]
  },
  {
   "cell_type": "code",
   "execution_count": 42,
   "id": "19cd9b28",
   "metadata": {},
   "outputs": [],
   "source": [
    "# our stars can have multiple FeHs, because of multiple epochs\n",
    "# (an 'inner' merge in this context means that repeats are allowed, but any rows with NaNs \n",
    "# left in either FeH column is removed)\n",
    "\n",
    "merged_df_whitten_and_our_feh = pd.merge(df_our_data, merged_df_whitten_feh, on=[\"plate\", \"mjd\", \"fiberid\"], \n",
    "                                         how=\"inner\")"
   ]
  },
  {
   "cell_type": "code",
   "execution_count": 45,
   "id": "dc3400e3",
   "metadata": {},
   "outputs": [],
   "source": [
    "plt.scatter(merged_df_whitten_and_our_feh[\"feh_retrieved\"],merged_df_whitten_and_our_feh[\"NET_FEH\"])\n",
    "plt.plot([-4.0,4.0],[-4.0,4.0], linestyle=\"--\")\n",
    "plt.xlabel(\"Our FeH\")\n",
    "plt.ylabel(\"Whitten+ FeH\")\n",
    "plt.show()"
   ]
  }
 ],
 "metadata": {
  "kernelspec": {
   "display_name": "Python 3",
   "language": "python",
   "name": "python3"
  },
  "language_info": {
   "codemirror_mode": {
    "name": "ipython",
    "version": 3
   },
   "file_extension": ".py",
   "mimetype": "text/x-python",
   "name": "python",
   "nbconvert_exporter": "python",
   "pygments_lexer": "ipython3",
   "version": "3.6.6"
  }
 },
 "nbformat": 4,
 "nbformat_minor": 5
}
