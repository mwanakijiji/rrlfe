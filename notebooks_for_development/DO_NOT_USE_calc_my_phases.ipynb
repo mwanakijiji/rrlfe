{
 "cells": [
  {
   "cell_type": "code",
   "execution_count": null,
   "metadata": {},
   "outputs": [],
   "source": [
    "# This reads in files of period info, epochs-of-max, and spectra BJDs to \n",
    "# find the phases as the time the spectra were taken \n",
    "\n",
    "# Created 2022 May 23 by E.S."
   ]
  },
  {
   "cell_type": "code",
   "execution_count": 1,
   "metadata": {},
   "outputs": [],
   "source": [
    "import pandas as pd\n",
    "import numpy as np"
   ]
  },
  {
   "cell_type": "code",
   "execution_count": 2,
   "metadata": {},
   "outputs": [],
   "source": [
    "df_spectra_epochs = pd.read_csv(\"./data/spec_bjds.csv\")\n",
    "df_stellar_periods = pd.read_csv(\"./data/output_periods_all_stars.csv\")\n",
    "df_epochs_of_max = pd.read_csv(\"./data/bjds_epochs_of_max.csv\")"
   ]
  },
  {
   "cell_type": "code",
   "execution_count": 3,
   "metadata": {},
   "outputs": [],
   "source": [
    "# make column in each dataframe that will be used to match by star\n",
    "\n",
    "df_spectra_epochs[\"star_match\"] = df_spectra_epochs[\"file\"]\n",
    "df_spectra_epochs[\"star_match\"] = df_spectra_epochs[\"star_match\"].str.replace(\"__\",\" \") # underscore of 2\n",
    "df_spectra_epochs[\"star_match\"] = df_spectra_epochs[\"star_match\"].str.replace(\"_\",\" \") # underscore of 1\n",
    "df_spectra_epochs[\"star_match\"] = df_spectra_epochs[\"star_match\"].apply(lambda row: row.rsplit(' ',1)[0])\n",
    "\n",
    "df_epochs_of_max[\"star_match\"] = df_epochs_of_max[\"star\"].str.replace(\"_\",\" \")\n",
    "\n",
    "df_stellar_periods[\"star_match\"] = df_stellar_periods[\"star\"]"
   ]
  },
  {
   "cell_type": "code",
   "execution_count": 4,
   "metadata": {},
   "outputs": [],
   "source": [
    "# remove some ambiguities\n",
    "\n",
    "df_epochs_of_max[\"photo_bjd\"] = df_epochs_of_max[\"bjd\"]\n",
    "df_spectra_epochs[\"spec_bjd\"] = df_spectra_epochs[\"bjd\"]"
   ]
  },
  {
   "cell_type": "code",
   "execution_count": 5,
   "metadata": {},
   "outputs": [],
   "source": [
    "# combine epochs-of-max and spectral epochs\n",
    "result = pd.merge(df_spectra_epochs,\n",
    "                 df_epochs_of_max[['star_match','photo_bjd']],\n",
    "                 on='star_match')\n",
    "\n",
    "# combine with periods\n",
    "result2 = pd.merge(result,\n",
    "                 df_stellar_periods[['star_match','T_final','err_tot']],\n",
    "                 on='star_match')"
   ]
  },
  {
   "cell_type": "code",
   "execution_count": 6,
   "metadata": {},
   "outputs": [
    {
     "name": "stderr",
     "output_type": "stream",
     "text": [
      "/Users/bandari/anaconda3/envs/rrl_env/lib/python3.6/site-packages/pandas/core/indexing.py:190: SettingWithCopyWarning: \n",
      "A value is trying to be set on a copy of a slice from a DataFrame\n",
      "\n",
      "See the caveats in the documentation: http://pandas.pydata.org/pandas-docs/stable/indexing.html#indexing-view-versus-copy\n",
      "  self._setitem_with_indexer(indexer, value)\n"
     ]
    }
   ],
   "source": [
    "# find phases\n",
    "\n",
    "result2[\"phasemod\"] = np.nan\n",
    "result2[\"baseline_time\"] = np.subtract(result2[\"spec_bjd\"],result2[\"photo_bjd\"])\n",
    "\n",
    "# for cases where spectra were taken after photometry\n",
    "idx_pos = (result2[\"baseline_time\"] > 0)\n",
    "result2[\"phasemod\"].loc[idx_pos] = np.mod(result2[\"baseline_time\"].where(idx_pos),result2[\"T_final\"].where(idx_pos))\n",
    "\n",
    "# vice versa\n",
    "idx_neg = (result2[\"baseline_time\"] < 0)\n",
    "result2[\"phasemod\"].loc[idx_neg] = np.subtract(1.,np.mod(result2[\"baseline_time\"].where(idx_neg),result2[\"T_final\"].where(idx_neg)))"
   ]
  },
  {
   "cell_type": "code",
   "execution_count": 7,
   "metadata": {},
   "outputs": [],
   "source": [
    "result3 = result2.sort_values(by=\"file\").reset_index(drop=True)"
   ]
  },
  {
   "cell_type": "code",
   "execution_count": 8,
   "metadata": {},
   "outputs": [
    {
     "data": {
      "text/plain": [
       "'\\n# fyi print\\nfor t in range(0,len(result3)):\\n    print(result3[\"file\"].loc[t])\\n    print(result3[\"spec_bjd\"].loc[t])\\n    print(\"----\")\\n'"
      ]
     },
     "execution_count": 8,
     "metadata": {},
     "output_type": "execute_result"
    }
   ],
   "source": [
    "'''\n",
    "# fyi print\n",
    "for t in range(0,len(result3)):\n",
    "    print(result3[\"file\"].loc[t])\n",
    "    print(result3[\"spec_bjd\"].loc[t])\n",
    "    print(\"----\")\n",
    "'''"
   ]
  },
  {
   "cell_type": "code",
   "execution_count": 9,
   "metadata": {},
   "outputs": [],
   "source": [
    "result3.to_csv(\"./data/junk.csv\", index=False)"
   ]
  },
  {
   "cell_type": "code",
   "execution_count": null,
   "metadata": {},
   "outputs": [],
   "source": []
  }
 ],
 "metadata": {
  "kernelspec": {
   "display_name": "Python 3",
   "language": "python",
   "name": "python3"
  },
  "language_info": {
   "codemirror_mode": {
    "name": "ipython",
    "version": 3
   },
   "file_extension": ".py",
   "mimetype": "text/x-python",
   "name": "python",
   "nbconvert_exporter": "python",
   "pygments_lexer": "ipython3",
   "version": "3.6.6"
  }
 },
 "nbformat": 4,
 "nbformat_minor": 4
}
