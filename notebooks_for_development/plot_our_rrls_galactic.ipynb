{
 "cells": [
  {
   "cell_type": "code",
   "execution_count": null,
   "metadata": {
    "collapsed": true
   },
   "outputs": [],
   "source": [
    "# This plots our RR Lyrae stars in galactic coordinates, so as to see where they are relative\n",
    "# to the SDSS Ca absorption footprint (Murga+ 2015 MNRAS 452, 511)\n",
    "\n",
    "# created 2018 July 8 by E.S."
   ]
  },
  {
   "cell_type": "code",
   "execution_count": 1,
   "metadata": {
    "collapsed": true
   },
   "outputs": [],
   "source": [
    "import numpy as np\n",
    "import pandas as pd\n",
    "import astropy.coordinates as coord\n",
    "import astropy.units as u\n",
    "import matplotlib.pyplot as plt\n",
    "from astropy.io import fits"
   ]
  },
  {
   "cell_type": "code",
   "execution_count": 2,
   "metadata": {
    "collapsed": true
   },
   "outputs": [],
   "source": [
    "# read data on our RRLs\n",
    "stars = pd.read_csv('rrl_gal_coords.csv')"
   ]
  },
  {
   "cell_type": "code",
   "execution_count": 3,
   "metadata": {
    "collapsed": false
   },
   "outputs": [],
   "source": [
    "# define read-in data as degrees\n",
    "gal_lon_l_all = coord.Angle(stars['gal_lon_l']*u.degree)         \n",
    "gal_lat_b_all = coord.Angle(stars['gal_lat_b']*u.degree) \n",
    "gal_lon_l_ab = coord.Angle(stars['gal_lon_l'].loc[stars['type']=='ab']*u.degree)         \n",
    "gal_lat_b_ab = coord.Angle(stars['gal_lat_b'].loc[stars['type']=='ab']*u.degree) \n",
    "gal_lon_l_c = coord.Angle(stars['gal_lon_l'].loc[stars['type']=='c']*u.degree)         \n",
    "gal_lat_b_c = coord.Angle(stars['gal_lat_b'].loc[stars['type']=='c']*u.degree) "
   ]
  },
  {
   "cell_type": "code",
   "execution_count": 4,
   "metadata": {
    "collapsed": false
   },
   "outputs": [],
   "source": [
    "# make coordinates\n",
    "stars_coords_all = coord.Galactic(l=gal_lon_l_all,b=gal_lat_b_all)\n",
    "stars_coords_ab = coord.Galactic(l=gal_lon_l_ab,b=gal_lat_b_ab)\n",
    "stars_coords_c = coord.Galactic(l=gal_lon_l_c,b=gal_lat_b_c)"
   ]
  },
  {
   "cell_type": "code",
   "execution_count": 5,
   "metadata": {
    "collapsed": false
   },
   "outputs": [],
   "source": [
    "# read in Ca data\n",
    "image, header = fits.getdata('maps_EW(CaNa)_20150318.fits',0,header=True)"
   ]
  },
  {
   "cell_type": "code",
   "execution_count": 6,
   "metadata": {
    "collapsed": false
   },
   "outputs": [],
   "source": [
    "# convert Ca absorption data into coordinates\n",
    "cak_lon_l = coord.Angle(image['longitude']*u.degree)\n",
    "cak_lat_b = coord.Angle(image['latitude']*u.degree)\n",
    "cak_ew = image['Ca_K_EW ']\n",
    "cak_coords = coord.Galactic(l=cak_lon_l,b=cak_lat_b)"
   ]
  },
  {
   "cell_type": "code",
   "execution_count": 7,
   "metadata": {
    "collapsed": false
   },
   "outputs": [],
   "source": [
    "# replace zeros with nans\n",
    "cak_ew[cak_ew == 0] = 'nan'"
   ]
  },
  {
   "cell_type": "code",
   "execution_count": 10,
   "metadata": {
    "collapsed": false
   },
   "outputs": [],
   "source": [
    "plt.clf()\n",
    "fig = plt.figure()\n",
    "ax = fig.add_subplot(111, projection=\"mollweide\")\n",
    "#plt.scatter(image['longitude']*np.pi/180., image['latitude']*np.pi/180., c=cak_ew, cmap=cm.Reds)\n",
    "plt.scatter(cak_coords.l.wrap_at(180*u.deg).rad, cak_coords.b.wrap_at(180*u.deg).rad, \n",
    "            c=cak_ew, vmin=0, vmax=0.5, edgecolors='none')\n",
    "plt.plot(stars_coords_ab.l.wrap_at(180*u.deg).rad, stars_coords_ab.b.wrap_at(180*u.deg).rad, 'o', color='k', markersize=10, markeredgewidth=4)\n",
    "plt.plot(stars_coords_c.l.wrap_at(180*u.deg).rad, stars_coords_c.b.wrap_at(180*u.deg).rad, 'x', color='red', markersize=10, markeredgewidth=4)\n",
    "\n",
    "for i, txt in enumerate(stars['name']):\n",
    "    ax.annotate(stars['name'][i], (stars_coords_all.l.wrap_at(180*u.deg).rad[i],stars_coords_all.b.wrap_at(180*u.deg).rad[i]))\n",
    "\n",
    "#plt.gca().invert_xaxis()\n",
    "ax.grid(True)\n",
    "plt.suptitle('CaK absorption coverage (Murga+ 2015, esp. Fig. 2); black dots = our RRabs; xs = our RRcs')\n",
    "plt.xlabel('galactic l')\n",
    "plt.ylabel('galactic b')\n",
    "plt.colorbar()\n",
    "plt.show()"
   ]
  },
  {
   "cell_type": "code",
   "execution_count": null,
   "metadata": {
    "collapsed": true
   },
   "outputs": [],
   "source": []
  }
 ],
 "metadata": {
  "kernelspec": {
   "display_name": "Python 2",
   "language": "python",
   "name": "python2"
  },
  "language_info": {
   "codemirror_mode": {
    "name": "ipython",
    "version": 2
   },
   "file_extension": ".py",
   "mimetype": "text/x-python",
   "name": "python",
   "nbconvert_exporter": "python",
   "pygments_lexer": "ipython2",
   "version": "2.7.11"
  }
 },
 "nbformat": 4,
 "nbformat_minor": 0
}
