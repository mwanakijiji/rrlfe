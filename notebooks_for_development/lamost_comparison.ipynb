{
 "cells": [
  {
   "cell_type": "code",
   "execution_count": 3,
   "id": "bae21df5",
   "metadata": {},
   "outputs": [],
   "source": [
    "# Takes LAMOST spectra compares retrievals between rrlfe and from the catalog in \n",
    "# Table 6 of Liu+ 2020 ApJSS 247:68 'Probing the Galactic Halo with RR Lyrae Stars. I. The Catalog'.\n",
    "\n",
    "# Created 2023 Jan. 5 by E.S."
   ]
  },
  {
   "cell_type": "code",
   "execution_count": 1,
   "id": "022d0413",
   "metadata": {},
   "outputs": [],
   "source": [
    "import pandas as pd\n",
    "import matplotlib.pyplot as plt\n",
    "import numpy as np\n",
    "import glob\n",
    "from astropy.io import fits\n",
    "import os\n",
    "\n",
    "%matplotlib qt"
   ]
  },
  {
   "cell_type": "code",
   "execution_count": 2,
   "id": "3dc1848c",
   "metadata": {},
   "outputs": [],
   "source": [
    "# catalog_liu_et_al.txt: Liu+ retrievals from LAMOST spectra\n",
    "# lamost_li_file_info.csv: names of LAMOST spectra as downloaded; [file_name,ra,dec,emp_snr]"
   ]
  },
  {
   "cell_type": "code",
   "execution_count": 3,
   "id": "593da468",
   "metadata": {},
   "outputs": [],
   "source": [
    "stem = \"/Users/bandari/Documents/git.repos/rrlfe/\""
   ]
  },
  {
   "cell_type": "code",
   "execution_count": 4,
   "id": "1de580d3",
   "metadata": {},
   "outputs": [],
   "source": [
    "# read in Liu+ catalog\n",
    "\n",
    "df_liu_stars = pd.read_csv(stem + \"notebooks_for_development/spec_sets_check/lamost/catalog_liu_et_al.txt\",\n",
    "                              skiprows=65, delim_whitespace=True, usecols=[0,1,2,11,12,13,14,31], \n",
    "                               names=[\"ID\",\"RAdeg\",\"DEdeg\",\"VType\",\"SNR\",\"FeH\",\"e_FeH\",\"Num\"])"
   ]
  },
  {
   "cell_type": "code",
   "execution_count": 5,
   "id": "e8d17ba9",
   "metadata": {},
   "outputs": [
    {
     "data": {
      "text/plain": [
       "'\\ndf_downloaded_lamost_spectra = pd.read_csv(stem + \"notebooks_for_development/spec_sets_check/lamost/lamost_target_query.txt\")\\n'"
      ]
     },
     "execution_count": 5,
     "metadata": {},
     "output_type": "execute_result"
    }
   ],
   "source": [
    "# read in RA, DEC info for the LAMOST spectra I downloaded, from the query I submitted\n",
    "# (there are ~34 duplicate rows)\n",
    "\n",
    "'''\n",
    "df_downloaded_lamost_spectra = pd.read_csv(stem + \"notebooks_for_development/spec_sets_check/lamost/lamost_target_query.txt\")\n",
    "'''"
   ]
  },
  {
   "cell_type": "code",
   "execution_count": 6,
   "id": "c3530768",
   "metadata": {},
   "outputs": [],
   "source": [
    "# read in our retrieved Fe/H for LAMOST spectra and splice stuff to enable matching\n",
    "\n",
    "df_our_data = pd.read_csv(stem + \"bin/20230120_all_spectra_retrieved_vals.csv\")"
   ]
  },
  {
   "cell_type": "code",
   "execution_count": 7,
   "id": "c19a41e1",
   "metadata": {
    "scrolled": true
   },
   "outputs": [
    {
     "data": {
      "text/plain": [
       "'\\nfits_dir = stem + \"notebooks_for_development/spec_sets_check/lamost/spectra/\"\\nfits_file_names = glob.glob(fits_dir + \"*fits\")\\ninit_array = np.zeros((len(fits_file_names),1), dtype=float)\\n\\n# initialize DataFrame\\ndf_lamost_specs_ra_dec = pd.DataFrame(fits_file_names, columns=[\"file_name\"])\\ndf_lamost_specs_ra_dec[\"ra\"] = init_array\\ndf_lamost_specs_ra_dec[\"dec\"] = init_array\\n\\nfor file_num in range(0, len(fits_file_names)):\\n    \\n    print(file_num)\\n    \\n    hdul = fits.open(fits_file_names[file_num])\\n    \\n    df_lamost_specs_ra_dec[\"file_name\"].loc[file_num] = os.path.basename(fits_file_names[file_num])\\n    df_lamost_specs_ra_dec[\"ra\"].loc[file_num] = hdul[0].header[\"RA\"]\\n    df_lamost_specs_ra_dec[\"dec\"].loc[file_num] = hdul[0].header[\"DEC\"]\\n    \\ndf_lamost_specs_ra_dec.to_csv(stem + \"notebooks_for_development/spec_sets_check/lamost/junk.csv\", index=False)\\n'"
      ]
     },
     "execution_count": 7,
     "metadata": {},
     "output_type": "execute_result"
    }
   ],
   "source": [
    "# standalone: make table of spectrum names and their RA, DEC from FITS headers\n",
    "\n",
    "'''\n",
    "fits_dir = stem + \"notebooks_for_development/spec_sets_check/lamost/spectra/\"\n",
    "fits_file_names = glob.glob(fits_dir + \"*fits\")\n",
    "init_array = np.zeros((len(fits_file_names),1), dtype=float)\n",
    "\n",
    "# initialize DataFrame\n",
    "df_lamost_specs_ra_dec = pd.DataFrame(fits_file_names, columns=[\"file_name\"])\n",
    "df_lamost_specs_ra_dec[\"ra\"] = init_array\n",
    "df_lamost_specs_ra_dec[\"dec\"] = init_array\n",
    "\n",
    "for file_num in range(0, len(fits_file_names)):\n",
    "    \n",
    "    print(file_num)\n",
    "    \n",
    "    hdul = fits.open(fits_file_names[file_num])\n",
    "    \n",
    "    df_lamost_specs_ra_dec[\"file_name\"].loc[file_num] = os.path.basename(fits_file_names[file_num])\n",
    "    df_lamost_specs_ra_dec[\"ra\"].loc[file_num] = hdul[0].header[\"RA\"]\n",
    "    df_lamost_specs_ra_dec[\"dec\"].loc[file_num] = hdul[0].header[\"DEC\"]\n",
    "    \n",
    "df_lamost_specs_ra_dec.to_csv(stem + \"notebooks_for_development/spec_sets_check/lamost/junk.csv\", index=False)\n",
    "'''"
   ]
  },
  {
   "cell_type": "code",
   "execution_count": 8,
   "id": "bf77568f",
   "metadata": {},
   "outputs": [],
   "source": [
    "# retrieve LAMOST RA, DEC\n",
    "\n",
    "df_lamost_specs_ra_dec = pd.read_csv(stem + \"notebooks_for_development/spec_sets_check/lamost/spectra_ra_dec.csv\")"
   ]
  },
  {
   "cell_type": "code",
   "execution_count": 9,
   "id": "0c758947",
   "metadata": {},
   "outputs": [],
   "source": [
    "# give some cols same name, so we can merge on them\n",
    "\n",
    "df_liu_stars[\"ra\"] = df_liu_stars[\"RAdeg\"]\n",
    "df_liu_stars[\"dec\"] = df_liu_stars[\"DEdeg\"]\n",
    "\n",
    "# some rounding is necessary to enable matching\n",
    "df_liu_stars[\"ra_round\"] = np.round(df_liu_stars[\"ra\"],3)\n",
    "df_lamost_specs_ra_dec[\"ra_round\"] = np.round(df_lamost_specs_ra_dec[\"ra\"],3)\n",
    "df_liu_stars[\"dec_round\"] = np.round(df_liu_stars[\"dec\"],3)\n",
    "df_lamost_specs_ra_dec[\"dec_round\"] = np.round(df_lamost_specs_ra_dec[\"dec\"],3)"
   ]
  },
  {
   "cell_type": "code",
   "execution_count": 10,
   "id": "78767211",
   "metadata": {},
   "outputs": [],
   "source": [
    "# this merges tables based on RA, DEC, and leaves the Liu FeH in the final table\n",
    "# (but our FeH is still missing)\n",
    "\n",
    "merged_df_liu_feh = pd.merge(df_liu_stars, df_lamost_specs_ra_dec, how=\"inner\", on=[\"ra_round\",\"dec_round\"])"
   ]
  },
  {
   "cell_type": "code",
   "execution_count": 11,
   "id": "f1de0c46",
   "metadata": {},
   "outputs": [],
   "source": [
    "# for clarity \n",
    "\n",
    "merged_df_liu_feh[\"feh_liu\"] = merged_df_liu_feh[\"FeH\"]"
   ]
  },
  {
   "cell_type": "code",
   "execution_count": 12,
   "id": "58e37627",
   "metadata": {},
   "outputs": [
    {
     "name": "stdout",
     "output_type": "stream",
     "text": [
      "Number of stars in Liu: 6268\n"
     ]
    }
   ],
   "source": [
    "print(\"Number of stars in Liu:\",len(df_liu_stars.drop_duplicates()))"
   ]
  },
  {
   "cell_type": "code",
   "execution_count": 13,
   "id": "fe4746dd",
   "metadata": {},
   "outputs": [
    {
     "name": "stdout",
     "output_type": "stream",
     "text": [
      "Number of LAMOST spectra: 6018\n"
     ]
    }
   ],
   "source": [
    "print(\"Number of LAMOST spectra:\",len(df_lamost_specs_ra_dec.drop_duplicates()))"
   ]
  },
  {
   "cell_type": "code",
   "execution_count": 14,
   "id": "457a1a0d",
   "metadata": {},
   "outputs": [
    {
     "name": "stdout",
     "output_type": "stream",
     "text": [
      "Number of Liu-LAMOST matches: 5839\n"
     ]
    }
   ],
   "source": [
    "print(\"Number of Liu-LAMOST matches:\",len(merged_df_liu_feh.drop_duplicates()))"
   ]
  },
  {
   "cell_type": "code",
   "execution_count": 15,
   "id": "d8c9eba9",
   "metadata": {},
   "outputs": [],
   "source": [
    "# now read in our own retrievals, and merge with the above by file name\n",
    "\n",
    "df_lamost_rrlfe_retrievals = pd.read_csv(stem + \"/bin/20230120_all_spectra_retrieved_vals.csv\")"
   ]
  },
  {
   "cell_type": "code",
   "execution_count": 16,
   "id": "746b23e1",
   "metadata": {},
   "outputs": [],
   "source": [
    "# for clarity \n",
    "\n",
    "df_lamost_rrlfe_retrievals[\"feh_rrlfe\"] = df_lamost_rrlfe_retrievals[\"feh_retrieved\"]"
   ]
  },
  {
   "cell_type": "code",
   "execution_count": 17,
   "id": "17f01fba",
   "metadata": {},
   "outputs": [],
   "source": [
    "# for matching \n",
    "merged_df_liu_feh[\"match_name\"] = merged_df_liu_feh[\"file_name\"].str.split(\".\",1).str[0]\n",
    "df_lamost_rrlfe_retrievals[\"match_name\"] = df_lamost_rrlfe_retrievals[\"orig_spec_file_name\"].str.split(\".\",1).str[0]"
   ]
  },
  {
   "cell_type": "code",
   "execution_count": 18,
   "id": "34a5a882",
   "metadata": {},
   "outputs": [],
   "source": [
    "# merge our retrievals onto Liu etc.\n",
    "\n",
    "merged_df_liu_rrlfe = pd.merge(merged_df_liu_feh, df_lamost_rrlfe_retrievals, how=\"inner\", on=[\"match_name\"])"
   ]
  },
  {
   "cell_type": "code",
   "execution_count": 19,
   "id": "a20acafa",
   "metadata": {},
   "outputs": [
    {
     "name": "stdout",
     "output_type": "stream",
     "text": [
      "Unphysical Liu values: 435\n",
      "Unphysical rrlfe values: 1\n"
     ]
    }
   ],
   "source": [
    "# drop rows with '-999' retrievals in Liu\n",
    "liu_bad = merged_df_liu_rrlfe[\"feh_liu\"] < -900\n",
    "print(\"Unphysical Liu values:\",np.sum(liu_bad))\n",
    "merged_df_liu_rrlfe_good_liu = merged_df_liu_rrlfe.drop(merged_df_liu_rrlfe.loc[merged_df_liu_rrlfe[\"feh_liu\"] < -900].index, inplace=False)\n",
    "\n",
    "# drop rows with '> 50' retrievals from rrlfe (there was only 1 when I did this)\n",
    "rrlfe_bad = merged_df_liu_rrlfe_good_liu[\"feh_rrlfe\"] > 50\n",
    "print(\"Unphysical rrlfe values:\",np.sum(rrlfe_bad))\n",
    "merged_df_liu_rrlfe_good_all = merged_df_liu_rrlfe_good_liu.drop(merged_df_liu_rrlfe_good_liu.loc[merged_df_liu_rrlfe_good_liu[\"feh_rrlfe\"] > 50].index, inplace=False)\n",
    "\n",
    "# drop any remaining NaN values\n",
    "merged_df_liu_rrlfe_good_all = merged_df_liu_rrlfe_good_all[merged_df_liu_rrlfe_good_all[\"feh_rrlfe\"].notna()]"
   ]
  },
  {
   "cell_type": "code",
   "execution_count": 21,
   "id": "d658af81",
   "metadata": {},
   "outputs": [],
   "source": [
    "# find best fit, using non-NaN values\n",
    "\n",
    "coeffs_poly = np.polyfit(merged_df_liu_rrlfe_good_all[\"feh_liu\"], merged_df_liu_rrlfe_good_all[\"feh_rrlfe\"], deg=1)"
   ]
  },
  {
   "cell_type": "code",
   "execution_count": 22,
   "id": "e6fab3b9",
   "metadata": {},
   "outputs": [
    {
     "name": "stdout",
     "output_type": "stream",
     "text": [
      "Coeffs of best fit: [ 0.50041744 -0.63913339]\n"
     ]
    }
   ],
   "source": [
    "print(\"Coeffs of best fit:\",coeffs_poly)"
   ]
  },
  {
   "cell_type": "code",
   "execution_count": 26,
   "id": "dc3400e3",
   "metadata": {},
   "outputs": [],
   "source": [
    "plt.scatter(merged_df_liu_rrlfe_good_all[\"feh_liu\"],merged_df_liu_rrlfe_good_all[\"feh_rrlfe\"], alpha=0.2)\n",
    "plt.plot([-4.0,4.0],np.add(np.multiply(coeffs_poly[0],[-4.0,4.0]),coeffs_poly[1]),color=\"k\", label=\"best fit\")\n",
    "plt.plot([-4.0,4.0],[-4.0,4.0], linestyle=\"--\", color=\"grey\", label=\"1-to-1\")\n",
    "plt.ylabel(\"[Fe/H], rrlfe\")\n",
    "plt.xlabel(\"[Fe/H], Liu+\")\n",
    "plt.legend()\n",
    "plt.show()"
   ]
  },
  {
   "cell_type": "code",
   "execution_count": 28,
   "id": "e4796534",
   "metadata": {},
   "outputs": [
    {
     "data": {
      "text/plain": [
       "44"
      ]
     },
     "execution_count": 28,
     "metadata": {},
     "output_type": "execute_result"
    }
   ],
   "source": [
    "'''\n",
    "# check to see if data points along vertical lines represent multiple single-epoch spectra \n",
    "# answer: no! they're different stars\n",
    "np.sum(merged_df_liu_rrlfe_good_all[\"feh_liu\"] == -2.2)\n",
    "df_liu_stars.where(df_liu_stars[\"FeH\"] == -2.2).dropna()\n",
    "'''"
   ]
  }
 ],
 "metadata": {
  "kernelspec": {
   "display_name": "Python 3",
   "language": "python",
   "name": "python3"
  },
  "language_info": {
   "codemirror_mode": {
    "name": "ipython",
    "version": 3
   },
   "file_extension": ".py",
   "mimetype": "text/x-python",
   "name": "python",
   "nbconvert_exporter": "python",
   "pygments_lexer": "ipython3",
   "version": "3.6.6"
  }
 },
 "nbformat": 4,
 "nbformat_minor": 5
}
