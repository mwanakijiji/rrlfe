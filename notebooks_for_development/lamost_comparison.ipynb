{
 "cells": [
  {
   "cell_type": "code",
   "execution_count": 3,
   "id": "bae21df5",
   "metadata": {},
   "outputs": [],
   "source": [
    "# Takes LAMOST spectra compares retrievals between rrlfe and from the catalog in \n",
    "# Table 6 of Liu+ 2020 ApJSS 247:68 'Probing the Galactic Halo with RR Lyrae Stars. I. The Catalog'.\n",
    "\n",
    "# Created 2023 Jan. 5 by E.S."
   ]
  },
  {
   "cell_type": "code",
   "execution_count": 4,
   "id": "022d0413",
   "metadata": {},
   "outputs": [],
   "source": [
    "import pandas as pd\n",
    "import matplotlib.pyplot as plt\n",
    "import numpy as np\n",
    "\n",
    "%matplotlib qt"
   ]
  },
  {
   "cell_type": "code",
   "execution_count": 5,
   "id": "593da468",
   "metadata": {},
   "outputs": [],
   "source": [
    "stem = \"/Users/bandari/Documents/git.repos/rrlfe/\""
   ]
  },
  {
   "cell_type": "code",
   "execution_count": 14,
   "id": "1de580d3",
   "metadata": {},
   "outputs": [],
   "source": [
    "# read in Liu+ catalog\n",
    "\n",
    "df_liu_stars = pd.read_csv(stem + \"notebooks_for_development/spec_sets_check/lamost/catalog_liu_et_al.txt\",\n",
    "                              skiprows=65, delim_whitespace=True, usecols=[0,1,2,11,12,13,14,31], \n",
    "                               names=[\"ID\",\"RAdeg\",\"DEdeg\",\"VType\",\"SNR\",\"FeH\",\"e_FeH\",\"Num\"])"
   ]
  },
  {
   "cell_type": "code",
   "execution_count": 17,
   "id": "e8d17ba9",
   "metadata": {},
   "outputs": [],
   "source": [
    "# read in RA, DEC info for the LAMOST stars\n",
    "\n",
    "df_our_sdss_stars = pd.read_csv(stem + \"notebooks_for_development/data/Skyserver_CrossID1_4_2023_5_21_47_AM.csv\")"
   ]
  },
  {
   "cell_type": "code",
   "execution_count": 19,
   "id": "0c758947",
   "metadata": {},
   "outputs": [],
   "source": [
    "# give some cols same name, so we can merge on them\n",
    "\n",
    "df_liu_stars[\"ra\"] = df_liu_stars[\"RAdeg\"]\n",
    "df_liu_stars[\"dec\"] = df_liu_stars[\"DEdeg\"]\n",
    "\n",
    "# some rounding is necessary to enable matching\n",
    "df_liu_stars[\"ra_round\"] = np.round(df_liu_stars[\"ra\"],2)\n",
    "df_our_sdss_stars[\"ra_round\"] = np.round(df_our_sdss_stars[\"ra\"],2)\n",
    "df_liu_stars[\"dec_round\"] = np.round(df_liu_stars[\"dec\"],3)\n",
    "df_our_sdss_stars[\"dec_round\"] = np.round(df_our_sdss_stars[\"dec\"],3)"
   ]
  },
  {
   "cell_type": "code",
   "execution_count": 20,
   "id": "78767211",
   "metadata": {},
   "outputs": [],
   "source": [
    "# this merges tables based on RA, DEC, and leaves the Liu FeH in the final table\n",
    "# (but our FeH is still missing)\n",
    "\n",
    "merged_df_liu_feh = pd.merge(df_liu_stars, df_our_sdss_stars, how=\"inner\", on=[\"ra_round\",\"dec_round\"])"
   ]
  },
  {
   "cell_type": "code",
   "execution_count": 21,
   "id": "c3530768",
   "metadata": {},
   "outputs": [],
   "source": [
    "# read in our retrieved Fe/H and splice stuff to enable matching\n",
    "\n",
    "df_our_data = pd.read_csv(stem + \" [ TABLE WITH RETRIEVED FE/H FROM LAMOST SPECTRA ]\")"
   ]
  },
  {
   "cell_type": "code",
   "execution_count": 9,
   "id": "1696c6a2",
   "metadata": {},
   "outputs": [],
   "source": [
    "# STUFF BELOW SPECIFIC TO SDSS, BUT MAY YET BE USEFUL\n",
    "split_1 = df_our_data[\"orig_spec_file_name\"].str.split(\"-\", 3, expand=True)\n",
    "split_2 = split_1[3].str.split(\"_\", 1, expand=True)"
   ]
  },
  {
   "cell_type": "code",
   "execution_count": 10,
   "id": "78ce98b1",
   "metadata": {},
   "outputs": [],
   "source": [
    "df_our_data[\"plate\"] = split_1[1].astype(int)\n",
    "df_our_data[\"mjd\"] = split_1[2].astype(int)\n",
    "df_our_data[\"fiberid\"] = split_2[0].astype(int)"
   ]
  },
  {
   "cell_type": "code",
   "execution_count": 42,
   "id": "19cd9b28",
   "metadata": {},
   "outputs": [],
   "source": [
    "# our stars can have multiple FeHs, because of multiple epochs\n",
    "# (an 'inner' merge in this context means that repeats are allowed, but any rows with NaNs \n",
    "# left in either FeH column is removed)\n",
    "\n",
    "merged_df_whitten_and_our_feh = pd.merge(df_our_data, merged_df_whitten_feh, on=[\"plate\", \"mjd\", \"fiberid\"], \n",
    "                                         how=\"inner\")"
   ]
  },
  {
   "cell_type": "code",
   "execution_count": 45,
   "id": "dc3400e3",
   "metadata": {},
   "outputs": [],
   "source": [
    "plt.scatter(merged_df_whitten_and_our_feh[\"feh_retrieved\"],merged_df_whitten_and_our_feh[\"NET_FEH\"])\n",
    "plt.plot([-4.0,4.0],[-4.0,4.0], linestyle=\"--\")\n",
    "plt.xlabel(\"Our FeH\")\n",
    "plt.ylabel(\"Whitten+ FeH\")\n",
    "plt.show()"
   ]
  }
 ],
 "metadata": {
  "kernelspec": {
   "display_name": "Python 3",
   "language": "python",
   "name": "python3"
  },
  "language_info": {
   "codemirror_mode": {
    "name": "ipython",
    "version": 3
   },
   "file_extension": ".py",
   "mimetype": "text/x-python",
   "name": "python",
   "nbconvert_exporter": "python",
   "pygments_lexer": "ipython3",
   "version": "3.6.6"
  }
 },
 "nbformat": 4,
 "nbformat_minor": 5
}
