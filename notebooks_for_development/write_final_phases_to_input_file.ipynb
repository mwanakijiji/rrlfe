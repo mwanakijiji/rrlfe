{
 "cells": [
  {
   "cell_type": "code",
   "execution_count": null,
   "id": "38f010a7",
   "metadata": {},
   "outputs": [],
   "source": [
    "# This populates a pipeline input file with the final phases of our McD spectra\n",
    "\n",
    "# Created 2022 Aug. 3 by E.S."
   ]
  },
  {
   "cell_type": "code",
   "execution_count": 13,
   "id": "07e40d3d",
   "metadata": {},
   "outputs": [],
   "source": [
    "import pandas as pd\n",
    "import numpy as np\n",
    "import matplotlib.pyplot as plt\n",
    "\n",
    "%matplotlib qt"
   ]
  },
  {
   "cell_type": "code",
   "execution_count": 2,
   "id": "ee4912db",
   "metadata": {},
   "outputs": [],
   "source": [
    "stem = \"/Users/bandari/Documents/git.repos/rrlfe/\""
   ]
  },
  {
   "cell_type": "code",
   "execution_count": 3,
   "id": "11e4224d",
   "metadata": {},
   "outputs": [],
   "source": [
    "# input file template (will not be overwritten)\n",
    "\n",
    "input_template = \"/src/mcd_beta_phases_ascii_files_all_v2.list\"\n",
    "table_final_phases = \"/notebooks_for_development/data/phases_all_master_no_repeat_fits.csv\""
   ]
  },
  {
   "cell_type": "code",
   "execution_count": 4,
   "id": "33503360",
   "metadata": {},
   "outputs": [],
   "source": [
    "df_input = pd.read_csv(stem + input_template)\n",
    "df_phases = pd.read_csv(stem + table_final_phases)"
   ]
  },
  {
   "cell_type": "code",
   "execution_count": 5,
   "id": "4e4fbac6",
   "metadata": {},
   "outputs": [],
   "source": [
    "# change 'fits' to 'dat' (necessary for matching)\n",
    "\n",
    "df_phases[\"orig_spec_file_name\"] = df_phases[\"file\"].str.replace(\"fits\",\"dat\")"
   ]
  },
  {
   "cell_type": "code",
   "execution_count": 6,
   "id": "b9266016",
   "metadata": {},
   "outputs": [],
   "source": [
    "df_merged = df_input.merge(df_phases, how=\"outer\", on=\"orig_spec_file_name\")"
   ]
  },
  {
   "cell_type": "code",
   "execution_count": 9,
   "id": "be66a80c",
   "metadata": {},
   "outputs": [],
   "source": [
    "cols_relevant = [\"orig_spec_file_name\",\"phase\",\"my_phase\",\"subtype\",\"feh\",\"err_feh\"]\n",
    "df_relevant = df_merged[cols_relevant]"
   ]
  },
  {
   "cell_type": "code",
   "execution_count": 15,
   "id": "d5630613",
   "metadata": {},
   "outputs": [
    {
     "data": {
      "text/plain": [
       "'\\n# to check\\n\\nplt.scatter(df_relevant[\"phase\"], df_relevant[\"my_phase\"])\\nplt.show()\\n'"
      ]
     },
     "execution_count": 15,
     "metadata": {},
     "output_type": "execute_result"
    }
   ],
   "source": [
    "'''\n",
    "# to check\n",
    "\n",
    "plt.scatter(df_relevant[\"phase\"], df_relevant[\"my_phase\"])\n",
    "plt.show()\n",
    "'''"
   ]
  },
  {
   "cell_type": "code",
   "execution_count": 16,
   "id": "ec330857",
   "metadata": {},
   "outputs": [
    {
     "name": "stderr",
     "output_type": "stream",
     "text": [
      "/Users/bandari/anaconda3/envs/rrl_env/lib/python3.6/site-packages/ipykernel_launcher.py:3: SettingWithCopyWarning: \n",
      "A value is trying to be set on a copy of a slice from a DataFrame.\n",
      "Try using .loc[row_indexer,col_indexer] = value instead\n",
      "\n",
      "See the caveats in the documentation: http://pandas.pydata.org/pandas-docs/stable/indexing.html#indexing-view-versus-copy\n",
      "  This is separate from the ipykernel package so we can avoid doing imports until\n"
     ]
    }
   ],
   "source": [
    "# rename\n",
    "\n",
    "df_relevant[\"phase\"] = df_relevant[\"my_phase\"]"
   ]
  },
  {
   "cell_type": "code",
   "execution_count": 21,
   "id": "dd4859f3",
   "metadata": {},
   "outputs": [],
   "source": [
    "cols_2_write = [\"orig_spec_file_name\",\"subtype\",\"phase\",\"feh\",\"err_feh\"]\n",
    "df_2_write = df_relevant[cols_2_write]\n",
    "\n",
    "df_2_write.to_csv(\"junk.csv\", index=False)"
   ]
  }
 ],
 "metadata": {
  "kernelspec": {
   "display_name": "Python 3",
   "language": "python",
   "name": "python3"
  },
  "language_info": {
   "codemirror_mode": {
    "name": "ipython",
    "version": 3
   },
   "file_extension": ".py",
   "mimetype": "text/x-python",
   "name": "python",
   "nbconvert_exporter": "python",
   "pygments_lexer": "ipython3",
   "version": "3.6.6"
  }
 },
 "nbformat": 4,
 "nbformat_minor": 5
}
