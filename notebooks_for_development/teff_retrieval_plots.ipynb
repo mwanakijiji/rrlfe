{
 "cells": [
  {
   "cell_type": "code",
   "execution_count": null,
   "id": "agricultural-somerset",
   "metadata": {},
   "outputs": [],
   "source": [
    "# This makes plots showing the effective temperature retrievals based on synthetic spectra \n",
    "# produced by R.W.\n",
    "\n",
    "# Created from parent restacking_scraped_data.ipynb 2021 March 17 by E.S."
   ]
  },
  {
   "cell_type": "code",
   "execution_count": 1,
   "id": "together-tribe",
   "metadata": {},
   "outputs": [],
   "source": [
    "import pandas as pd\n",
    "#from astropy.io import fits\n",
    "from astropy.io.fits import getdata\n",
    "import matplotlib\n",
    "import matplotlib.pyplot as plt\n",
    "import numpy as np\n",
    "\n",
    "%matplotlib qt"
   ]
  },
  {
   "cell_type": "code",
   "execution_count": 3,
   "id": "engaged-hawaiian",
   "metadata": {},
   "outputs": [],
   "source": [
    "# name of csv file with EWs as produced by pipeline\n",
    "ew_good_data_poststack_file_name = \"/Users/bandari/Documents/git.repos/rrlfe/ew_products/\" + \\\n",
    "                                    \"20210405_restacked_ew_info_good_only_no_fehm30.csv\"\n",
    "\n",
    "# read in\n",
    "df_poststack = pd.read_csv(ew_good_data_poststack_file_name)"
   ]
  },
  {
   "cell_type": "code",
   "execution_count": 4,
   "id": "ahead-theology",
   "metadata": {},
   "outputs": [],
   "source": [
    "def line_fit(x_data_pass, y_data_pass):\n",
    "\n",
    "    # remove the stuff outside of 6000-7250 K\n",
    "    #x_data_rrl = x_data_pass.where(np.logical_and(x_data_pass>=5900,x_data_pass<=7350))\n",
    "    #y_data_rrl = x_data_pass.where(np.logical_and(x_data_pass>=5900,x_data_pass<=7350))\n",
    "    x_data_rrl = x_data_pass[np.where(np.logical_and(y_data_pass>=5900,y_data_pass<=7350))]\n",
    "    y_data_rrl = y_data_pass[np.where(np.logical_and(y_data_pass>=5900,y_data_pass<=7350))]\n",
    "    \n",
    "    coeff, cov = np.polyfit(x_data_rrl, y_data_rrl, 1, full=False, cov=True)\n",
    "    m = coeff[0]\n",
    "    b = coeff[1]\n",
    "    err_m = np.sqrt(np.diag(cov))[0]\n",
    "    err_b = np.sqrt(np.diag(cov))[1]\n",
    "\n",
    "    print(\"---------\")\n",
    "    print(\"Note stuff outside of 6000-7350 K is not being considered\")\n",
    "    print(\"m:\")\n",
    "    print(m)\n",
    "    print(\"err_m:\")\n",
    "    print(err_m)\n",
    "    print(\"b:\")\n",
    "    print(b)\n",
    "    print(\"err_b:\")\n",
    "    print(err_b)\n",
    "    \n",
    "    return m, b"
   ]
  },
  {
   "cell_type": "code",
   "execution_count": 5,
   "id": "horizontal-craft",
   "metadata": {},
   "outputs": [
    {
     "data": {
      "text/plain": [
       "'\\nplt.clf()\\nplt.title(\"Scaling of lines with Hdelta\")\\nplt.scatter(df_poststack[\"Teff\"],df_poststack[\"EW_Hbeta\"], s=3, label=\"Hbeta\")\\nplt.scatter(df_poststack[\"Teff\"],np.add(df_poststack[\"EW_Hgamma\"],6), s=3, label=\"Hgamma+6\")\\nplt.scatter(df_poststack[\"Teff\"],np.add(df_poststack[\"EW_Hdelta\"],12), s=3, label=\"Hdel+12\")\\nplt.scatter(df_poststack[\"Teff\"],np.add(df_poststack[\"EW_Balmer\"],18), s=3, label=\"Net Balmer+18\")\\nplt.scatter(df_poststack[\"Teff\"],np.add(df_poststack[\"EW_Heps\"],24), s=3, label=\"Heps+24\")\\n#plt.ylim([0,70])\\nplt.xlabel(\"Teff (K)\")\\nplt.ylabel(\"EW (Angstr)\")\\nplt.title(\"Balmer EW trend with Teff\")\\nplt.legend(ncol=5)\\nplt.show()\\n#plt.savefig(\"junk_balmer_rescalings.pdf\")\\n'"
      ]
     },
     "execution_count": 5,
     "metadata": {},
     "output_type": "execute_result"
    }
   ],
   "source": [
    "# plot: how do Balmer lines scale with Teff?\n",
    "'''\n",
    "plt.clf()\n",
    "plt.title(\"Scaling of lines with Hdelta\")\n",
    "plt.scatter(df_poststack[\"Teff\"],df_poststack[\"EW_Hbeta\"], s=3, label=\"Hbeta\")\n",
    "plt.scatter(df_poststack[\"Teff\"],np.add(df_poststack[\"EW_Hgamma\"],6), s=3, label=\"Hgamma+6\")\n",
    "plt.scatter(df_poststack[\"Teff\"],np.add(df_poststack[\"EW_Hdelta\"],12), s=3, label=\"Hdel+12\")\n",
    "plt.scatter(df_poststack[\"Teff\"],np.add(df_poststack[\"EW_Balmer\"],18), s=3, label=\"Net Balmer+18\")\n",
    "plt.scatter(df_poststack[\"Teff\"],np.add(df_poststack[\"EW_Heps\"],24), s=3, label=\"Heps+24\")\n",
    "#plt.ylim([0,70])\n",
    "plt.xlabel(\"Teff (K)\")\n",
    "plt.ylabel(\"EW (Angstr)\")\n",
    "plt.title(\"Balmer EW trend with Teff\")\n",
    "plt.legend(ncol=5)\n",
    "plt.show()\n",
    "#plt.savefig(\"junk_balmer_rescalings.pdf\")\n",
    "'''"
   ]
  },
  {
   "cell_type": "code",
   "execution_count": 6,
   "id": "based-bristol",
   "metadata": {},
   "outputs": [
    {
     "ename": "TypeError",
     "evalue": "expected non-empty vector for x",
     "output_type": "error",
     "traceback": [
      "\u001b[0;31m---------------------------------------------------------------------------\u001b[0m",
      "\u001b[0;31mTypeError\u001b[0m                                 Traceback (most recent call last)",
      "\u001b[0;32m<ipython-input-6-bf55ffc5401d>\u001b[0m in \u001b[0;36m<module>\u001b[0;34m\u001b[0m\n\u001b[1;32m      5\u001b[0m \u001b[0;31m# fit a straight line: net Balmer\u001b[0m\u001b[0;34m\u001b[0m\u001b[0;34m\u001b[0m\u001b[0m\n\u001b[1;32m      6\u001b[0m \u001b[0mx_data_Balmer\u001b[0m \u001b[0;34m=\u001b[0m \u001b[0mdf_poststack\u001b[0m\u001b[0;34m[\u001b[0m\u001b[0;34m\"EW_Balmer\"\u001b[0m\u001b[0;34m]\u001b[0m\u001b[0;34m.\u001b[0m\u001b[0mvalues\u001b[0m\u001b[0;34m.\u001b[0m\u001b[0mastype\u001b[0m\u001b[0;34m(\u001b[0m\u001b[0mfloat\u001b[0m\u001b[0;34m)\u001b[0m\u001b[0;34m\u001b[0m\u001b[0m\n\u001b[0;32m----> 7\u001b[0;31m \u001b[0mm_Balmer\u001b[0m\u001b[0;34m,\u001b[0m \u001b[0mb_Balmer\u001b[0m \u001b[0;34m=\u001b[0m \u001b[0mline_fit\u001b[0m\u001b[0;34m(\u001b[0m\u001b[0mx_data_Balmer\u001b[0m\u001b[0;34m,\u001b[0m\u001b[0my_data\u001b[0m\u001b[0;34m)\u001b[0m\u001b[0;34m\u001b[0m\u001b[0m\n\u001b[0m\u001b[1;32m      8\u001b[0m \u001b[0;31m# same, except that [Fe/H] = -3 is neglected\u001b[0m\u001b[0;34m\u001b[0m\u001b[0;34m\u001b[0m\u001b[0m\n\u001b[1;32m      9\u001b[0m \u001b[0mx_data_Balmer_metalrich\u001b[0m \u001b[0;34m=\u001b[0m \u001b[0mdf_poststack\u001b[0m\u001b[0;34m[\u001b[0m\u001b[0;34m\"EW_Balmer\"\u001b[0m\u001b[0;34m]\u001b[0m\u001b[0;34m.\u001b[0m\u001b[0mwhere\u001b[0m\u001b[0;34m(\u001b[0m\u001b[0mdf_poststack\u001b[0m\u001b[0;34m[\u001b[0m\u001b[0;34m\"FeH\"\u001b[0m\u001b[0;34m]\u001b[0m \u001b[0;34m>\u001b[0m \u001b[0;34m-\u001b[0m\u001b[0;36m2.9\u001b[0m\u001b[0;34m)\u001b[0m\u001b[0;34m.\u001b[0m\u001b[0mdropna\u001b[0m\u001b[0;34m(\u001b[0m\u001b[0;34m)\u001b[0m\u001b[0;34m.\u001b[0m\u001b[0mvalues\u001b[0m\u001b[0;34m.\u001b[0m\u001b[0mastype\u001b[0m\u001b[0;34m(\u001b[0m\u001b[0mfloat\u001b[0m\u001b[0;34m)\u001b[0m\u001b[0;34m\u001b[0m\u001b[0m\n",
      "\u001b[0;32m<ipython-input-4-64ae2f78a3e0>\u001b[0m in \u001b[0;36mline_fit\u001b[0;34m(x_data_pass, y_data_pass)\u001b[0m\n\u001b[1;32m      7\u001b[0m     \u001b[0my_data_rrl\u001b[0m \u001b[0;34m=\u001b[0m \u001b[0my_data_pass\u001b[0m\u001b[0;34m[\u001b[0m\u001b[0mnp\u001b[0m\u001b[0;34m.\u001b[0m\u001b[0mwhere\u001b[0m\u001b[0;34m(\u001b[0m\u001b[0mnp\u001b[0m\u001b[0;34m.\u001b[0m\u001b[0mlogical_and\u001b[0m\u001b[0;34m(\u001b[0m\u001b[0my_data_pass\u001b[0m\u001b[0;34m>=\u001b[0m\u001b[0;36m5900\u001b[0m\u001b[0;34m,\u001b[0m\u001b[0my_data_pass\u001b[0m\u001b[0;34m<=\u001b[0m\u001b[0;36m7350\u001b[0m\u001b[0;34m)\u001b[0m\u001b[0;34m)\u001b[0m\u001b[0;34m]\u001b[0m\u001b[0;34m\u001b[0m\u001b[0m\n\u001b[1;32m      8\u001b[0m \u001b[0;34m\u001b[0m\u001b[0m\n\u001b[0;32m----> 9\u001b[0;31m     \u001b[0mcoeff\u001b[0m\u001b[0;34m,\u001b[0m \u001b[0mcov\u001b[0m \u001b[0;34m=\u001b[0m \u001b[0mnp\u001b[0m\u001b[0;34m.\u001b[0m\u001b[0mpolyfit\u001b[0m\u001b[0;34m(\u001b[0m\u001b[0mx_data_rrl\u001b[0m\u001b[0;34m,\u001b[0m \u001b[0my_data_rrl\u001b[0m\u001b[0;34m,\u001b[0m \u001b[0;36m1\u001b[0m\u001b[0;34m,\u001b[0m \u001b[0mfull\u001b[0m\u001b[0;34m=\u001b[0m\u001b[0;32mFalse\u001b[0m\u001b[0;34m,\u001b[0m \u001b[0mcov\u001b[0m\u001b[0;34m=\u001b[0m\u001b[0;32mTrue\u001b[0m\u001b[0;34m)\u001b[0m\u001b[0;34m\u001b[0m\u001b[0m\n\u001b[0m\u001b[1;32m     10\u001b[0m     \u001b[0mm\u001b[0m \u001b[0;34m=\u001b[0m \u001b[0mcoeff\u001b[0m\u001b[0;34m[\u001b[0m\u001b[0;36m0\u001b[0m\u001b[0;34m]\u001b[0m\u001b[0;34m\u001b[0m\u001b[0m\n\u001b[1;32m     11\u001b[0m     \u001b[0mb\u001b[0m \u001b[0;34m=\u001b[0m \u001b[0mcoeff\u001b[0m\u001b[0;34m[\u001b[0m\u001b[0;36m1\u001b[0m\u001b[0;34m]\u001b[0m\u001b[0;34m\u001b[0m\u001b[0m\n",
      "\u001b[0;32m<__array_function__ internals>\u001b[0m in \u001b[0;36mpolyfit\u001b[0;34m(*args, **kwargs)\u001b[0m\n",
      "\u001b[0;32m~/anaconda3/envs/rrl_env/lib/python3.6/site-packages/numpy/lib/polynomial.py\u001b[0m in \u001b[0;36mpolyfit\u001b[0;34m(x, y, deg, rcond, full, w, cov)\u001b[0m\n\u001b[1;32m    597\u001b[0m         \u001b[0;32mraise\u001b[0m \u001b[0mTypeError\u001b[0m\u001b[0;34m(\u001b[0m\u001b[0;34m\"expected 1D vector for x\"\u001b[0m\u001b[0;34m)\u001b[0m\u001b[0;34m\u001b[0m\u001b[0m\n\u001b[1;32m    598\u001b[0m     \u001b[0;32mif\u001b[0m \u001b[0mx\u001b[0m\u001b[0;34m.\u001b[0m\u001b[0msize\u001b[0m \u001b[0;34m==\u001b[0m \u001b[0;36m0\u001b[0m\u001b[0;34m:\u001b[0m\u001b[0;34m\u001b[0m\u001b[0m\n\u001b[0;32m--> 599\u001b[0;31m         \u001b[0;32mraise\u001b[0m \u001b[0mTypeError\u001b[0m\u001b[0;34m(\u001b[0m\u001b[0;34m\"expected non-empty vector for x\"\u001b[0m\u001b[0;34m)\u001b[0m\u001b[0;34m\u001b[0m\u001b[0m\n\u001b[0m\u001b[1;32m    600\u001b[0m     \u001b[0;32mif\u001b[0m \u001b[0my\u001b[0m\u001b[0;34m.\u001b[0m\u001b[0mndim\u001b[0m \u001b[0;34m<\u001b[0m \u001b[0;36m1\u001b[0m \u001b[0;32mor\u001b[0m \u001b[0my\u001b[0m\u001b[0;34m.\u001b[0m\u001b[0mndim\u001b[0m \u001b[0;34m>\u001b[0m \u001b[0;36m2\u001b[0m\u001b[0;34m:\u001b[0m\u001b[0;34m\u001b[0m\u001b[0m\n\u001b[1;32m    601\u001b[0m         \u001b[0;32mraise\u001b[0m \u001b[0mTypeError\u001b[0m\u001b[0;34m(\u001b[0m\u001b[0;34m\"expected 1D or 2D array for y\"\u001b[0m\u001b[0;34m)\u001b[0m\u001b[0;34m\u001b[0m\u001b[0m\n",
      "\u001b[0;31mTypeError\u001b[0m: expected non-empty vector for x"
     ]
    }
   ],
   "source": [
    "# find linear trends of {net Balmer, Hdelta, and Hgamma} EW with Teff, entire Teff range\n",
    "\n",
    "y_data = df_poststack[\"Teff\"].values.astype(float)\n",
    "\n",
    "# fit a straight line: net Balmer\n",
    "x_data_Balmer = df_poststack[\"EW_Balmer\"].values.astype(float)\n",
    "m_Balmer, b_Balmer = line_fit(x_data_Balmer,y_data)\n",
    "# same, except that [Fe/H] = -3 is neglected\n",
    "x_data_Balmer_metalrich = df_poststack[\"EW_Balmer\"].where(df_poststack[\"FeH\"] > -2.9).dropna().values.astype(float)\n",
    "y_data_metalrich = df_poststack[\"Teff\"].where(df_poststack[\"FeH\"] > -2.9).dropna().values.astype(float)\n",
    "m_Balmer_metalrich, b_Balmer_metalrich = line_fit(x_data_Balmer_metalrich,y_data_metalrich)\n",
    "\n",
    "# fit a straight line: Hdelta\n",
    "x_data_Hdelta = df_poststack[\"EW_Hdelta\"].values.astype(float)\n",
    "m_Hdelta, b_Hdelta = line_fit(x_data_Hdelta,y_data)\n",
    "\n",
    "# fit a straight line: Hgamma\n",
    "x_data_Hgamma = df_poststack[\"EW_Hgamma\"].values.astype(float)\n",
    "m_Hgamma, b_Hgamma = line_fit(x_data_Hgamma,y_data)"
   ]
  },
  {
   "cell_type": "code",
   "execution_count": 5,
   "id": "appropriate-astrology",
   "metadata": {},
   "outputs": [],
   "source": [
    "# calculate retrieved Teff and add new columns to DataFrame to make the plotting easier\n",
    "\n",
    "df_poststack[\"Teff_retrieved_Balmer\"] = np.add(np.multiply(df_poststack[\"EW_Balmer\"],m_Balmer),b_Balmer)\n",
    "df_poststack[\"Teff_retrieved_Hdelta\"] = np.add(np.multiply(df_poststack[\"EW_Hdelta\"],m_Hdelta),b_Hdelta)\n",
    "df_poststack[\"Teff_retrieved_Hgamma\"] = np.add(np.multiply(df_poststack[\"EW_Hgamma\"],m_Hgamma),b_Hgamma)\n",
    "df_poststack[\"Teff_retrieved_Balmer_metalrich\"] = np.add(np.multiply(df_poststack[\"EW_Balmer\"],m_Balmer_metalrich),b_Balmer_metalrich)"
   ]
  },
  {
   "cell_type": "code",
   "execution_count": 6,
   "id": "ancient-device",
   "metadata": {},
   "outputs": [],
   "source": [
    "# array of metallicities and logg\n",
    "\n",
    "feh_values = np.sort(df_poststack[\"FeH\"].drop_duplicates().values)\n",
    "logg_values = np.sort(df_poststack[\"logg\"].drop_duplicates().values)"
   ]
  },
  {
   "cell_type": "code",
   "execution_count": 7,
   "id": "musical-panama",
   "metadata": {},
   "outputs": [
    {
     "name": "stdout",
     "output_type": "stream",
     "text": [
      "-3.0\n",
      "-2.5\n",
      "-2.0\n",
      "-1.5\n",
      "-1.0\n",
      "-0.5\n",
      "0.0\n",
      "0.2\n"
     ]
    }
   ],
   "source": [
    "# retrieved Balmer values, points colored by Fe/H\n",
    "'''\n",
    "plt.clf()\n",
    "\n",
    "colormap=\"Reds\"\n",
    "norm = matplotlib.colors.Normalize(vmin=np.min(feh_values),vmax=np.max(feh_values))\n",
    "\n",
    "f, (a0, a1) = plt.subplots(nrows=2, ncols=1, gridspec_kw={'height_ratios': [2, 1]}, sharex=True)\n",
    "\n",
    "a0.axvspan(6000, 7250, color='y', alpha=0.5, lw=0,zorder=0) # RRLs in instability strip (Catelan 2015)\n",
    "a1.axvspan(6000, 7250, color='y', alpha=0.5, lw=0,zorder=0)\n",
    "a0.plot(df_poststack[\"Teff\"],df_poststack[\"Teff\"],zorder=1,linestyle=\"--\",color=\"k\")\n",
    "a1.plot([np.min(df_poststack[\"Teff\"]),np.max(df_poststack[\"Teff\"])],[0,0],zorder=1,linestyle=\"--\",color=\"k\")\n",
    "\n",
    "a0.scatter(df_poststack[\"Teff\"],\n",
    "            df_poststack[\"Teff_retrieved_Balmer\"],\n",
    "            c=df_poststack[\"FeH\"], \n",
    "            cmap=colormap, norm=norm, edgecolor=\"k\",zorder=2)\n",
    "\n",
    "a1.scatter(df_poststack[\"Teff\"],\n",
    "            np.subtract(df_poststack[\"Teff_retrieved_Balmer_metalrich\"],df_poststack[\"Teff\"]),\n",
    "            c=df_poststack[\"FeH\"], \n",
    "            cmap=colormap, norm=norm, edgecolor=\"k\",zorder=2)\n",
    "\n",
    "\n",
    "## annotation to check the color mapping\n",
    "#for t in range(0,len(df_poststack[\"FeH\"])):\n",
    "#    plt.annotate(str(df_poststack[\"FeH\"][t]), (df_poststack[\"Teff\"][t],df_poststack[\"Teff_retrieved_Balmer\"][t]))\n",
    "\n",
    "# kludge to add legend while mapping colors correctly\n",
    "for i in range(0,len(feh_values)):\n",
    "    # indices reversed to get the order descending in the legend\n",
    "    a0.scatter([0], [0], cmap=colormap, norm=norm, c=feh_values[-i-1],\n",
    "                edgecolor=\"k\", label=\"[Fe/H]=\"+str(feh_values[-i-1]))\n",
    "    print(feh_values[i])\n",
    "\n",
    "a0.set_ylabel(\"Retrieved T$_{eff}$\")\n",
    "a1.set_xlabel(\"Injected T$_{eff}$\")\n",
    "a1.set_ylabel(\"Retrieved T$_{eff}$ - Injected T$_{eff}$\\n(based on trend for [Fe/H] $\\geq$ -2.5)\")\n",
    "    \n",
    "f.canvas.draw() # need before legend to render\n",
    "\n",
    "a0.set_xlim([5500,8000])\n",
    "a0.set_ylim([5500,8500])\n",
    "\n",
    "a0.legend(loc=\"lower right\")\n",
    "\n",
    "plt.show()\n",
    "#plt.savefig(\"junk.pdf\")\n",
    "'''"
   ]
  },
  {
   "cell_type": "code",
   "execution_count": 7,
   "id": "korean-profile",
   "metadata": {},
   "outputs": [
    {
     "name": "stdout",
     "output_type": "stream",
     "text": [
      "-2.5\n",
      "-2.0\n",
      "-1.5\n",
      "-1.0\n",
      "-0.5\n",
      "0.0\n",
      "0.2\n"
     ]
    }
   ],
   "source": [
    "# retrieved Balmer values, points colored by Fe/H AND sized by logg\n",
    "\n",
    "plt.clf()\n",
    "\n",
    "# vector for introducing some scatter in x, to avoid overlapping of data points\n",
    "scatter_x = np.subtract(60*np.random.rand(len(df_poststack[\"Teff\"])),30)\n",
    "\n",
    "colormap=\"Reds\"\n",
    "norm = matplotlib.colors.Normalize(vmin=np.min(feh_values),vmax=np.max(feh_values))\n",
    "\n",
    "f, (a0, a1) = plt.subplots(nrows=2, ncols=1, gridspec_kw={'height_ratios': [1, 1]}, sharex=True)\n",
    "\n",
    "a0.axvspan(6000, 7250, color='y', alpha=0.5, lw=0,zorder=0) # RRLs in instability strip (Catelan 2015)\n",
    "a1.axvspan(6000, 7250, color='y', alpha=0.5, lw=0,zorder=0)\n",
    "a0.plot(df_poststack[\"Teff\"],df_poststack[\"Teff\"],zorder=1,linestyle=\"--\",color=\"k\")\n",
    "a1.plot([np.min(df_poststack[\"Teff\"]),np.max(df_poststack[\"Teff\"])],[0,0],zorder=1,linestyle=\"--\",color=\"k\")\n",
    "\n",
    "a0.scatter(np.add(scatter_x,df_poststack[\"Teff\"]),\n",
    "            df_poststack[\"Teff_retrieved_Balmer\"],\n",
    "            c=df_poststack[\"FeH\"], \n",
    "            s=np.power(np.divide(df_poststack[\"logg\"],0.7),3),\n",
    "            cmap=colormap, norm=norm, edgecolor=\"k\",zorder=2)\n",
    "\n",
    "a1.scatter(np.add(scatter_x,df_poststack[\"Teff\"]),\n",
    "            np.subtract(df_poststack[\"Teff_retrieved_Balmer_metalrich\"],df_poststack[\"Teff\"]),\n",
    "            c=df_poststack[\"FeH\"], \n",
    "           s=np.power(np.divide(df_poststack[\"logg\"],0.7),3),\n",
    "            cmap=colormap, norm=norm, edgecolor=\"k\",zorder=2)\n",
    "\n",
    "'''\n",
    "# annotation to check the color mapping\n",
    "for t in range(0,len(df_poststack[\"FeH\"])):\n",
    "    plt.annotate(str(df_poststack[\"FeH\"][t]), (df_poststack[\"Teff\"][t],df_poststack[\"Teff_retrieved_Balmer\"][t]))\n",
    "'''\n",
    "\n",
    "# kludge to add legend while mapping colors correctly\n",
    "for i in range(0,len(feh_values)):\n",
    "    # indices reversed to get the order descending in the legend\n",
    "    a0.scatter([0], [0], cmap=colormap, norm=norm, c=feh_values[-i-1],\n",
    "                edgecolor=\"k\", label=\"[Fe/H]=\"+str(feh_values[-i-1]))\n",
    "    print(feh_values[i])\n",
    "\n",
    "# logg plot; another kludge\n",
    "# note indices reversed (-i-1) to get the order descending in the legend\n",
    "l1 = a0.scatter([0], [0], c=\"w\", norm=norm,\n",
    "               s=np.power(np.divide(logg_values[-0-1],0.7),3),\n",
    "                edgecolor=\"k\")\n",
    "l2 = a0.scatter([0], [0], c=\"w\", norm=norm,\n",
    "               s=np.power(np.divide(logg_values[-1-1],0.7),3),\n",
    "                edgecolor=\"k\")\n",
    "l3 = a0.scatter([0], [0], c=\"w\", norm=norm,\n",
    "               s=np.power(np.divide(logg_values[-2-1],0.7),3),\n",
    "                edgecolor=\"k\")\n",
    "loggpts = []\n",
    "loggpts.append([l1,l2,l3])\n",
    "    \n",
    "f.canvas.draw() # need before legend to render\n",
    "\n",
    "leg1 = a0.legend(loc='upper left')\n",
    "# Add second legend for the maxes and mins.\n",
    "# leg1 will be removed from figure\n",
    "leg2 = a0.legend(loggpts[0],['log(g)=3.0','log(g)=2.5','log(g)=2.0'], loc='lower right')\n",
    "# Manually add the first legend back\n",
    "a0.add_artist(leg1)\n",
    "    \n",
    "a0.set_ylabel(\"Retrieved T$_{eff}$\")\n",
    "a1.set_xlabel(\"Injected T$_{eff}$\")\n",
    "a1.set_ylabel(\"Retrieved T$_{eff}$ - Injected T$_{eff}$\\n(based on trend within IS for [Fe/H] $\\geq$ -2.5)\")\n",
    "\n",
    "a0.set_xlim([5500,8000])\n",
    "a0.set_ylim([5500,8500])\n",
    "\n",
    "plt.show()\n",
    "#plt.savefig(\"junk.pdf\")"
   ]
  },
  {
   "cell_type": "code",
   "execution_count": 7,
   "id": "expanded-chaos",
   "metadata": {},
   "outputs": [
    {
     "data": {
      "text/plain": [
       "Index(['Unnamed: 0', 'realization_spec_file_name', 'original_spec_file_name',\n",
       "       'FeH', 'err_FeH', 'logg', 'alpha', 'Teff', 'EW_Hbeta', 'err_EW_Hbeta',\n",
       "       'EW_Hdelta', 'err_EW_Hdelta', 'EW_Hgamma', 'err_EW_Hgamma', 'EW_Heps',\n",
       "       'err_EW_Heps', 'EW_CaIIK', 'err_EW_CaIIK', 'EW_Balmer', 'err_EW_Balmer',\n",
       "       'Teff_retrieved_Balmer', 'Teff_retrieved_Hdelta',\n",
       "       'Teff_retrieved_Hgamma', 'Teff_retrieved_Balmer_metalrich'],\n",
       "      dtype='object')"
      ]
     },
     "execution_count": 7,
     "metadata": {},
     "output_type": "execute_result"
    }
   ],
   "source": [
    "df_poststack.keys()"
   ]
  },
  {
   "cell_type": "code",
   "execution_count": 25,
   "id": "efficient-classic",
   "metadata": {},
   "outputs": [
    {
     "name": "stdout",
     "output_type": "stream",
     "text": [
      "-3.0\n",
      "-2.5\n",
      "-2.0\n",
      "-1.5\n",
      "-1.0\n",
      "-0.5\n",
      "0.0\n",
      "0.2\n"
     ]
    }
   ],
   "source": [
    "# make KH plots, with points colored by Fe/H AND sized by logg\n",
    "\n",
    "plt.clf()\n",
    "\n",
    "# vector for introducing some scatter in x, to avoid overlapping of data points\n",
    "#scatter_x = np.subtract(60*np.random.rand(len(df_poststack[\"Teff\"])),30)\n",
    "\n",
    "colormap=\"Reds\"\n",
    "norm = matplotlib.colors.Normalize(vmin=np.min(feh_values),vmax=np.max(feh_values))\n",
    "\n",
    "f, a0 = plt.subplots(nrows=1, ncols=1)\n",
    "\n",
    "#a0.axvspan(6000, 7250, color='y', alpha=0.5, lw=0,zorder=0) # RRLs in instability strip (Catelan 2015)\n",
    "#a1.axvspan(6000, 7250, color='y', alpha=0.5, lw=0,zorder=0)\n",
    "#a0.plot(df_poststack[\"EW_Balmer\"],df_poststack[\"EW_CaIIK\"],zorder=1,linestyle=\"--\",color=\"k\")\n",
    "#a1.plot([np.min(df_poststack[\"Teff\"]),np.max(df_poststack[\"Teff\"])],[0,0],zorder=1,linestyle=\"--\",color=\"k\")\n",
    "\n",
    "a0.scatter(df_poststack[\"EW_Balmer\"],\n",
    "            df_poststack[\"EW_CaIIK\"],\n",
    "            c=df_poststack[\"FeH\"], \n",
    "            s=np.power(np.divide(df_poststack[\"logg\"],0.7),3),\n",
    "            cmap=colormap, norm=norm, edgecolor=\"k\",zorder=2)\n",
    "\n",
    "'''\n",
    "# annotation to check the color mapping\n",
    "for t in range(0,len(df_poststack[\"FeH\"])):\n",
    "    plt.annotate(str(df_poststack[\"FeH\"][t]), (df_poststack[\"Teff\"][t],df_poststack[\"Teff_retrieved_Balmer\"][t]))\n",
    "'''\n",
    "\n",
    "# kludge to add legend while mapping colors correctly\n",
    "for i in range(0,len(feh_values)):\n",
    "    # indices reversed to get the order descending in the legend\n",
    "    a0.scatter([0], [0], cmap=colormap, norm=norm, c=feh_values[-i-1], \n",
    "                edgecolor=\"k\", label=\"[Fe/H]=\"+str(feh_values[-i-1]))\n",
    "    print(feh_values[i])\n",
    "\n",
    "# logg plot; another kludge\n",
    "# note indices reversed (-i-1) to get the order descending in the legend\n",
    "l1 = a0.scatter([0], [0], c=\"w\", norm=norm,\n",
    "               s=np.power(np.divide(logg_values[-0-1],0.7),3),\n",
    "                edgecolor=\"k\")\n",
    "l2 = a0.scatter([0], [0], c=\"w\", norm=norm,\n",
    "               s=np.power(np.divide(logg_values[-1-1],0.7),3),\n",
    "                edgecolor=\"k\")\n",
    "l3 = a0.scatter([0], [0], c=\"w\", norm=norm,\n",
    "               s=np.power(np.divide(logg_values[-2-1],0.7),3),\n",
    "                edgecolor=\"k\")\n",
    "loggpts = []\n",
    "loggpts.append([l1,l2,l3])\n",
    "    \n",
    "f.canvas.draw() # need before legend to render\n",
    "\n",
    "leg1 = a0.legend(loc='upper right')\n",
    "# Add second legend for the maxes and mins.\n",
    "# leg1 will be removed from figure\n",
    "leg2 = a0.legend(loggpts[0],['log(g)=3.0','log(g)=2.5','log(g)=2.0'], loc='upper center')\n",
    "# Manually add the first legend back\n",
    "a0.add_artist(leg1)\n",
    "    \n",
    "a0.set_ylabel(\"CaIIK EW ($\\AA$)\")\n",
    "a0.set_xlabel(\"Balmer EW ($\\AA$)\")\n",
    "#a1.set_ylabel(\"CaIIK EW ($\\AA$)\")\n",
    "\n",
    "a0.set_xlim([0.2,14])\n",
    "#a0.set_ylim([5500,8500])\n",
    "\n",
    "plt.show()\n",
    "#plt.savefig(\"junk.pdf\")"
   ]
  },
  {
   "cell_type": "code",
   "execution_count": 10,
   "id": "contemporary-replica",
   "metadata": {},
   "outputs": [
    {
     "name": "stdout",
     "output_type": "stream",
     "text": [
      "2.0\n",
      "2.5\n",
      "3.0\n"
     ]
    }
   ],
   "source": [
    "# retrieved Balmer values, points colored by logg\n",
    "\n",
    "plt.clf()\n",
    "\n",
    "colormap=\"Reds\"\n",
    "norm = matplotlib.colors.Normalize(vmin=np.min(logg_values),vmax=np.max(logg_values))\n",
    "\n",
    "f, (a0, a1) = plt.subplots(nrows=2, ncols=1, gridspec_kw={'height_ratios': [2, 1]}, sharex=True)\n",
    "\n",
    "a0.axvspan(6000, 7250, color='y', alpha=0.5, lw=0,zorder=0) # RRLs in instability strip (Catelan 2015)\n",
    "a1.axvspan(6000, 7250, color='y', alpha=0.5, lw=0,zorder=0)\n",
    "a0.plot(df_poststack[\"Teff\"],df_poststack[\"Teff\"],zorder=1,linestyle=\"--\",color=\"k\")\n",
    "a1.plot([np.min(df_poststack[\"Teff\"]),np.max(df_poststack[\"Teff\"])],[0,0],zorder=1,linestyle=\"--\",color=\"k\")\n",
    "\n",
    "a0.scatter(df_poststack[\"Teff\"],\n",
    "            df_poststack[\"Teff_retrieved_Balmer\"],\n",
    "            c=df_poststack[\"logg\"], \n",
    "            cmap=colormap, norm=norm, edgecolor=\"k\",zorder=2)\n",
    "\n",
    "a1.scatter(df_poststack[\"Teff\"],\n",
    "            np.subtract(df_poststack[\"Teff_retrieved_Balmer_metalrich\"],df_poststack[\"Teff\"]),\n",
    "            c=df_poststack[\"logg\"], \n",
    "            cmap=colormap, norm=norm, edgecolor=\"k\",zorder=2)\n",
    "\n",
    "'''\n",
    "# annotation to check the color mapping\n",
    "for t in range(0,len(df_poststack[\"FeH\"])):\n",
    "    plt.annotate(str(df_poststack[\"FeH\"][t]), (df_poststack[\"Teff\"][t],df_poststack[\"Teff_retrieved_Balmer\"][t]))\n",
    "'''\n",
    "# kludge to add legend while mapping colors correctly\n",
    "for i in range(0,len(logg_values)):\n",
    "    # indices reversed to get the order descending in the legend\n",
    "    a0.scatter([0], [0], cmap=colormap, norm=norm, c=logg_values[-i-1],\n",
    "                edgecolor=\"k\", label=\"logg=\"+str(logg_values[-i-1]))\n",
    "    print(logg_values[i])\n",
    "\n",
    "a0.set_ylabel(\"Retrieved T$_{eff}$\")\n",
    "a1.set_xlabel(\"Injected T$_{eff}$\")\n",
    "a1.set_ylabel(\"Retrieved T$_{eff}$ - Injected T$_{eff}$\\n(based on trend for [Fe/H] $\\geq$ -2.5)\")\n",
    "    \n",
    "f.canvas.draw() # need before legend to render\n",
    "\n",
    "a0.set_xlim([5500,8000])\n",
    "a0.set_ylim([5500,8500])\n",
    "\n",
    "a0.legend(loc=\"lower right\")\n",
    "\n",
    "plt.show()\n",
    "#plt.savefig(\"junk.pdf\")"
   ]
  },
  {
   "cell_type": "code",
   "execution_count": null,
   "id": "everyday-occurrence",
   "metadata": {},
   "outputs": [],
   "source": [
    "# calculate BIC to find best model"
   ]
  },
  {
   "cell_type": "code",
   "execution_count": null,
   "id": "stainless-strike",
   "metadata": {},
   "outputs": [],
   "source": [
    "def pred_teff(EW_pass,m_pass,b_pass):\n",
    "    \n",
    "    teff_pass = np.add(np.multiply(EW_pass,m_pass),b_pass)\n",
    "    \n",
    "    return teff_pass"
   ]
  },
  {
   "cell_type": "code",
   "execution_count": null,
   "id": "rubber-shooting",
   "metadata": {},
   "outputs": [],
   "source": [
    "Teff_model = pred_teff(df_poststack[\"EW_Balmer\"])"
   ]
  }
 ],
 "metadata": {
  "kernelspec": {
   "display_name": "Python 3",
   "language": "python",
   "name": "python3"
  },
  "language_info": {
   "codemirror_mode": {
    "name": "ipython",
    "version": 3
   },
   "file_extension": ".py",
   "mimetype": "text/x-python",
   "name": "python",
   "nbconvert_exporter": "python",
   "pygments_lexer": "ipython3",
   "version": "3.6.6"
  }
 },
 "nbformat": 4,
 "nbformat_minor": 5
}
