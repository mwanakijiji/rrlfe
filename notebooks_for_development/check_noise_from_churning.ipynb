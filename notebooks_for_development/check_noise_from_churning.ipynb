{
 "cells": [
  {
   "cell_type": "code",
   "execution_count": null,
   "id": "mediterranean-deployment",
   "metadata": {},
   "outputs": [],
   "source": [
    "# This reads in a csv with scraped data and calculated errors, and allows displays to check\n",
    "\n",
    "# Created 2021 Oct. 31 by E.S."
   ]
  },
  {
   "cell_type": "code",
   "execution_count": 7,
   "id": "architectural-basement",
   "metadata": {},
   "outputs": [],
   "source": [
    "import pandas as pd\n",
    "import matplotlib.pyplot as plt\n",
    "import numpy as np\n",
    "\n",
    "%matplotlib inline\n",
    "#%matplotlib qt"
   ]
  },
  {
   "cell_type": "code",
   "execution_count": 2,
   "id": "silent-armor",
   "metadata": {},
   "outputs": [],
   "source": [
    "#df = pd.read_csv(\"./data/balmer_errors_noise_churning_test_20211210.csv\")\n",
    "df = pd.read_csv(\"./data/ew_errors_noise_churning_test_20211216.csv\")"
   ]
  },
  {
   "cell_type": "code",
   "execution_count": 3,
   "id": "practical-championship",
   "metadata": {},
   "outputs": [
    {
     "data": {
      "text/html": [
       "<div>\n",
       "<style scoped>\n",
       "    .dataframe tbody tr th:only-of-type {\n",
       "        vertical-align: middle;\n",
       "    }\n",
       "\n",
       "    .dataframe tbody tr th {\n",
       "        vertical-align: top;\n",
       "    }\n",
       "\n",
       "    .dataframe thead th {\n",
       "        text-align: right;\n",
       "    }\n",
       "</style>\n",
       "<table border=\"1\" class=\"dataframe\">\n",
       "  <thead>\n",
       "    <tr style=\"text-align: right;\">\n",
       "      <th></th>\n",
       "      <th>realization_spec_file_name</th>\n",
       "      <th>orig_spec_file_name</th>\n",
       "      <th>EW_Hbeta</th>\n",
       "      <th>err_EW_Hbeta_from_robo</th>\n",
       "      <th>EW_Hdelta</th>\n",
       "      <th>err_EW_Hdelta_from_robo</th>\n",
       "      <th>EW_Hgamma</th>\n",
       "      <th>err_EW_Hgamma_from_robo</th>\n",
       "      <th>EW_Heps</th>\n",
       "      <th>err_EW_Heps_from_robo</th>\n",
       "      <th>EW_CaIIK</th>\n",
       "      <th>err_EW_CaIIK_from_robo</th>\n",
       "      <th>EW_Balmer</th>\n",
       "      <th>err_EW_Balmer_based_Robo</th>\n",
       "      <th>err_EW_Balmer_based_noise_churning</th>\n",
       "      <th>err_EW_Hbeta_based_noise_churning</th>\n",
       "      <th>err_EW_Hdelta_based_noise_churning</th>\n",
       "      <th>err_EW_Hgamma_based_noise_churning</th>\n",
       "      <th>err_EW_Heps_based_noise_churning</th>\n",
       "    </tr>\n",
       "  </thead>\n",
       "  <tbody>\n",
       "    <tr>\n",
       "      <th>0</th>\n",
       "      <td>spec-0266-51630-0197g001_noise_ver_008.dat</td>\n",
       "      <td>spec-0266-51630-0197g001.dat</td>\n",
       "      <td>7.113780</td>\n",
       "      <td>2.383654</td>\n",
       "      <td>7.249116</td>\n",
       "      <td>2.236434</td>\n",
       "      <td>7.699350</td>\n",
       "      <td>2.649468</td>\n",
       "      <td>8.773330</td>\n",
       "      <td>1.627073</td>\n",
       "      <td>3.453424</td>\n",
       "      <td>1.011014e+00</td>\n",
       "      <td>8.100967</td>\n",
       "      <td>3.719876</td>\n",
       "      <td>1.057275</td>\n",
       "      <td>0.579596</td>\n",
       "      <td>0.240378</td>\n",
       "      <td>0.718371</td>\n",
       "      <td>0.096395</td>\n",
       "    </tr>\n",
       "    <tr>\n",
       "      <th>1</th>\n",
       "      <td>NaN</td>\n",
       "      <td>NaN</td>\n",
       "      <td>NaN</td>\n",
       "      <td>NaN</td>\n",
       "      <td>NaN</td>\n",
       "      <td>NaN</td>\n",
       "      <td>NaN</td>\n",
       "      <td>NaN</td>\n",
       "      <td>NaN</td>\n",
       "      <td>NaN</td>\n",
       "      <td>NaN</td>\n",
       "      <td>NaN</td>\n",
       "      <td>NaN</td>\n",
       "      <td>NaN</td>\n",
       "      <td>NaN</td>\n",
       "      <td>NaN</td>\n",
       "      <td>NaN</td>\n",
       "      <td>NaN</td>\n",
       "      <td>NaN</td>\n",
       "    </tr>\n",
       "    <tr>\n",
       "      <th>2</th>\n",
       "      <td>spec-0266-51630-0197g001_noise_ver_011.dat</td>\n",
       "      <td>spec-0266-51630-0197g001.dat</td>\n",
       "      <td>7.665168</td>\n",
       "      <td>2.307326</td>\n",
       "      <td>7.175116</td>\n",
       "      <td>2.559667</td>\n",
       "      <td>7.796728</td>\n",
       "      <td>2.145441</td>\n",
       "      <td>8.795192</td>\n",
       "      <td>2.249490</td>\n",
       "      <td>0.019495</td>\n",
       "      <td>7.444651e+06</td>\n",
       "      <td>8.244285</td>\n",
       "      <td>3.003385</td>\n",
       "      <td>1.057275</td>\n",
       "      <td>0.579596</td>\n",
       "      <td>0.240378</td>\n",
       "      <td>0.718371</td>\n",
       "      <td>0.096395</td>\n",
       "    </tr>\n",
       "    <tr>\n",
       "      <th>3</th>\n",
       "      <td>spec-0266-51630-0197g001_noise_ver_015.dat</td>\n",
       "      <td>spec-0266-51630-0197g001.dat</td>\n",
       "      <td>8.522466</td>\n",
       "      <td>2.710306</td>\n",
       "      <td>6.706241</td>\n",
       "      <td>1.931004</td>\n",
       "      <td>6.226479</td>\n",
       "      <td>2.574908</td>\n",
       "      <td>8.987868</td>\n",
       "      <td>2.503539</td>\n",
       "      <td>3.723747</td>\n",
       "      <td>1.434954e+00</td>\n",
       "      <td>5.933243</td>\n",
       "      <td>3.989292</td>\n",
       "      <td>1.057275</td>\n",
       "      <td>0.579596</td>\n",
       "      <td>0.240378</td>\n",
       "      <td>0.718371</td>\n",
       "      <td>0.096395</td>\n",
       "    </tr>\n",
       "    <tr>\n",
       "      <th>4</th>\n",
       "      <td>spec-0270-51909-0403g001_noise_ver_001.dat</td>\n",
       "      <td>spec-0270-51909-0403g001.dat</td>\n",
       "      <td>15.148913</td>\n",
       "      <td>3.961778</td>\n",
       "      <td>14.281237</td>\n",
       "      <td>2.551729</td>\n",
       "      <td>12.020381</td>\n",
       "      <td>2.078292</td>\n",
       "      <td>12.890079</td>\n",
       "      <td>2.537679</td>\n",
       "      <td>2.056943</td>\n",
       "      <td>1.945764e+00</td>\n",
       "      <td>14.460521</td>\n",
       "      <td>2.573339</td>\n",
       "      <td>0.816700</td>\n",
       "      <td>0.430839</td>\n",
       "      <td>1.186861</td>\n",
       "      <td>0.554911</td>\n",
       "      <td>0.549069</td>\n",
       "    </tr>\n",
       "    <tr>\n",
       "      <th>...</th>\n",
       "      <td>...</td>\n",
       "      <td>...</td>\n",
       "      <td>...</td>\n",
       "      <td>...</td>\n",
       "      <td>...</td>\n",
       "      <td>...</td>\n",
       "      <td>...</td>\n",
       "      <td>...</td>\n",
       "      <td>...</td>\n",
       "      <td>...</td>\n",
       "      <td>...</td>\n",
       "      <td>...</td>\n",
       "      <td>...</td>\n",
       "      <td>...</td>\n",
       "      <td>...</td>\n",
       "      <td>...</td>\n",
       "      <td>...</td>\n",
       "      <td>...</td>\n",
       "      <td>...</td>\n",
       "    </tr>\n",
       "    <tr>\n",
       "      <th>1131</th>\n",
       "      <td>spec-0326-52375-0102g001_noise_ver_010.dat</td>\n",
       "      <td>spec-0326-52375-0102g001.dat</td>\n",
       "      <td>7.769812</td>\n",
       "      <td>3.403518</td>\n",
       "      <td>10.102039</td>\n",
       "      <td>2.705501</td>\n",
       "      <td>8.830273</td>\n",
       "      <td>3.550855</td>\n",
       "      <td>11.574626</td>\n",
       "      <td>3.600709</td>\n",
       "      <td>2.469456</td>\n",
       "      <td>1.268096e+00</td>\n",
       "      <td>9.765423</td>\n",
       "      <td>4.737422</td>\n",
       "      <td>1.245886</td>\n",
       "      <td>0.875444</td>\n",
       "      <td>0.906809</td>\n",
       "      <td>0.846524</td>\n",
       "      <td>1.014783</td>\n",
       "    </tr>\n",
       "    <tr>\n",
       "      <th>1132</th>\n",
       "      <td>spec-0326-52375-0102g001_noise_ver_011.dat</td>\n",
       "      <td>spec-0326-52375-0102g001.dat</td>\n",
       "      <td>9.076056</td>\n",
       "      <td>2.828404</td>\n",
       "      <td>10.935422</td>\n",
       "      <td>2.324322</td>\n",
       "      <td>10.297014</td>\n",
       "      <td>2.705748</td>\n",
       "      <td>9.926982</td>\n",
       "      <td>3.714537</td>\n",
       "      <td>2.250809</td>\n",
       "      <td>1.470543e+00</td>\n",
       "      <td>11.924125</td>\n",
       "      <td>3.457679</td>\n",
       "      <td>1.245886</td>\n",
       "      <td>0.875444</td>\n",
       "      <td>0.906809</td>\n",
       "      <td>0.846524</td>\n",
       "      <td>1.014783</td>\n",
       "    </tr>\n",
       "    <tr>\n",
       "      <th>1133</th>\n",
       "      <td>spec-0326-52375-0102g001_noise_ver_012.dat</td>\n",
       "      <td>spec-0326-52375-0102g001.dat</td>\n",
       "      <td>8.046836</td>\n",
       "      <td>2.718655</td>\n",
       "      <td>10.609657</td>\n",
       "      <td>2.661190</td>\n",
       "      <td>9.926631</td>\n",
       "      <td>3.197415</td>\n",
       "      <td>10.177064</td>\n",
       "      <td>3.642385</td>\n",
       "      <td>2.155263</td>\n",
       "      <td>1.078018e+00</td>\n",
       "      <td>11.379007</td>\n",
       "      <td>4.120403</td>\n",
       "      <td>1.245886</td>\n",
       "      <td>0.875444</td>\n",
       "      <td>0.906809</td>\n",
       "      <td>0.846524</td>\n",
       "      <td>1.014783</td>\n",
       "    </tr>\n",
       "    <tr>\n",
       "      <th>1134</th>\n",
       "      <td>spec-0326-52375-0102g001_noise_ver_016.dat</td>\n",
       "      <td>spec-0326-52375-0102g001.dat</td>\n",
       "      <td>7.908736</td>\n",
       "      <td>3.578134</td>\n",
       "      <td>9.155380</td>\n",
       "      <td>5.816482</td>\n",
       "      <td>11.702397</td>\n",
       "      <td>3.934653</td>\n",
       "      <td>12.654157</td>\n",
       "      <td>3.245930</td>\n",
       "      <td>2.821300</td>\n",
       "      <td>1.302055e+00</td>\n",
       "      <td>13.992523</td>\n",
       "      <td>4.858750</td>\n",
       "      <td>1.245886</td>\n",
       "      <td>0.875444</td>\n",
       "      <td>0.906809</td>\n",
       "      <td>0.846524</td>\n",
       "      <td>1.014783</td>\n",
       "    </tr>\n",
       "    <tr>\n",
       "      <th>1135</th>\n",
       "      <td>spec-0326-52375-0102g001_noise_ver_019.dat</td>\n",
       "      <td>spec-0326-52375-0102g001.dat</td>\n",
       "      <td>9.751020</td>\n",
       "      <td>4.097526</td>\n",
       "      <td>8.798994</td>\n",
       "      <td>3.919197</td>\n",
       "      <td>9.606180</td>\n",
       "      <td>3.053321</td>\n",
       "      <td>10.659333</td>\n",
       "      <td>4.517183</td>\n",
       "      <td>2.367335</td>\n",
       "      <td>1.689236e+00</td>\n",
       "      <td>10.907378</td>\n",
       "      <td>3.972932</td>\n",
       "      <td>1.245886</td>\n",
       "      <td>0.875444</td>\n",
       "      <td>0.906809</td>\n",
       "      <td>0.846524</td>\n",
       "      <td>1.014783</td>\n",
       "    </tr>\n",
       "  </tbody>\n",
       "</table>\n",
       "<p>1136 rows × 19 columns</p>\n",
       "</div>"
      ],
      "text/plain": [
       "                      realization_spec_file_name  \\\n",
       "0     spec-0266-51630-0197g001_noise_ver_008.dat   \n",
       "1                                            NaN   \n",
       "2     spec-0266-51630-0197g001_noise_ver_011.dat   \n",
       "3     spec-0266-51630-0197g001_noise_ver_015.dat   \n",
       "4     spec-0270-51909-0403g001_noise_ver_001.dat   \n",
       "...                                          ...   \n",
       "1131  spec-0326-52375-0102g001_noise_ver_010.dat   \n",
       "1132  spec-0326-52375-0102g001_noise_ver_011.dat   \n",
       "1133  spec-0326-52375-0102g001_noise_ver_012.dat   \n",
       "1134  spec-0326-52375-0102g001_noise_ver_016.dat   \n",
       "1135  spec-0326-52375-0102g001_noise_ver_019.dat   \n",
       "\n",
       "               orig_spec_file_name   EW_Hbeta  err_EW_Hbeta_from_robo  \\\n",
       "0     spec-0266-51630-0197g001.dat   7.113780                2.383654   \n",
       "1                              NaN        NaN                     NaN   \n",
       "2     spec-0266-51630-0197g001.dat   7.665168                2.307326   \n",
       "3     spec-0266-51630-0197g001.dat   8.522466                2.710306   \n",
       "4     spec-0270-51909-0403g001.dat  15.148913                3.961778   \n",
       "...                            ...        ...                     ...   \n",
       "1131  spec-0326-52375-0102g001.dat   7.769812                3.403518   \n",
       "1132  spec-0326-52375-0102g001.dat   9.076056                2.828404   \n",
       "1133  spec-0326-52375-0102g001.dat   8.046836                2.718655   \n",
       "1134  spec-0326-52375-0102g001.dat   7.908736                3.578134   \n",
       "1135  spec-0326-52375-0102g001.dat   9.751020                4.097526   \n",
       "\n",
       "      EW_Hdelta  err_EW_Hdelta_from_robo  EW_Hgamma  err_EW_Hgamma_from_robo  \\\n",
       "0      7.249116                 2.236434   7.699350                 2.649468   \n",
       "1           NaN                      NaN        NaN                      NaN   \n",
       "2      7.175116                 2.559667   7.796728                 2.145441   \n",
       "3      6.706241                 1.931004   6.226479                 2.574908   \n",
       "4     14.281237                 2.551729  12.020381                 2.078292   \n",
       "...         ...                      ...        ...                      ...   \n",
       "1131  10.102039                 2.705501   8.830273                 3.550855   \n",
       "1132  10.935422                 2.324322  10.297014                 2.705748   \n",
       "1133  10.609657                 2.661190   9.926631                 3.197415   \n",
       "1134   9.155380                 5.816482  11.702397                 3.934653   \n",
       "1135   8.798994                 3.919197   9.606180                 3.053321   \n",
       "\n",
       "        EW_Heps  err_EW_Heps_from_robo  EW_CaIIK  err_EW_CaIIK_from_robo  \\\n",
       "0      8.773330               1.627073  3.453424            1.011014e+00   \n",
       "1           NaN                    NaN       NaN                     NaN   \n",
       "2      8.795192               2.249490  0.019495            7.444651e+06   \n",
       "3      8.987868               2.503539  3.723747            1.434954e+00   \n",
       "4     12.890079               2.537679  2.056943            1.945764e+00   \n",
       "...         ...                    ...       ...                     ...   \n",
       "1131  11.574626               3.600709  2.469456            1.268096e+00   \n",
       "1132   9.926982               3.714537  2.250809            1.470543e+00   \n",
       "1133  10.177064               3.642385  2.155263            1.078018e+00   \n",
       "1134  12.654157               3.245930  2.821300            1.302055e+00   \n",
       "1135  10.659333               4.517183  2.367335            1.689236e+00   \n",
       "\n",
       "      EW_Balmer  err_EW_Balmer_based_Robo  err_EW_Balmer_based_noise_churning  \\\n",
       "0      8.100967                  3.719876                            1.057275   \n",
       "1           NaN                       NaN                                 NaN   \n",
       "2      8.244285                  3.003385                            1.057275   \n",
       "3      5.933243                  3.989292                            1.057275   \n",
       "4     14.460521                  2.573339                            0.816700   \n",
       "...         ...                       ...                                 ...   \n",
       "1131   9.765423                  4.737422                            1.245886   \n",
       "1132  11.924125                  3.457679                            1.245886   \n",
       "1133  11.379007                  4.120403                            1.245886   \n",
       "1134  13.992523                  4.858750                            1.245886   \n",
       "1135  10.907378                  3.972932                            1.245886   \n",
       "\n",
       "      err_EW_Hbeta_based_noise_churning  err_EW_Hdelta_based_noise_churning  \\\n",
       "0                              0.579596                            0.240378   \n",
       "1                                   NaN                                 NaN   \n",
       "2                              0.579596                            0.240378   \n",
       "3                              0.579596                            0.240378   \n",
       "4                              0.430839                            1.186861   \n",
       "...                                 ...                                 ...   \n",
       "1131                           0.875444                            0.906809   \n",
       "1132                           0.875444                            0.906809   \n",
       "1133                           0.875444                            0.906809   \n",
       "1134                           0.875444                            0.906809   \n",
       "1135                           0.875444                            0.906809   \n",
       "\n",
       "      err_EW_Hgamma_based_noise_churning  err_EW_Heps_based_noise_churning  \n",
       "0                               0.718371                          0.096395  \n",
       "1                                    NaN                               NaN  \n",
       "2                               0.718371                          0.096395  \n",
       "3                               0.718371                          0.096395  \n",
       "4                               0.554911                          0.549069  \n",
       "...                                  ...                               ...  \n",
       "1131                            0.846524                          1.014783  \n",
       "1132                            0.846524                          1.014783  \n",
       "1133                            0.846524                          1.014783  \n",
       "1134                            0.846524                          1.014783  \n",
       "1135                            0.846524                          1.014783  \n",
       "\n",
       "[1136 rows x 19 columns]"
      ]
     },
     "execution_count": 3,
     "metadata": {},
     "output_type": "execute_result"
    }
   ],
   "source": [
    "df"
   ]
  },
  {
   "cell_type": "code",
   "execution_count": 4,
   "id": "hearing-process",
   "metadata": {},
   "outputs": [
    {
     "data": {
      "text/html": [
       "<div>\n",
       "<style scoped>\n",
       "    .dataframe tbody tr th:only-of-type {\n",
       "        vertical-align: middle;\n",
       "    }\n",
       "\n",
       "    .dataframe tbody tr th {\n",
       "        vertical-align: top;\n",
       "    }\n",
       "\n",
       "    .dataframe thead th {\n",
       "        text-align: right;\n",
       "    }\n",
       "</style>\n",
       "<table border=\"1\" class=\"dataframe\">\n",
       "  <thead>\n",
       "    <tr style=\"text-align: right;\">\n",
       "      <th></th>\n",
       "      <th>realization_spec_file_name</th>\n",
       "      <th>orig_spec_file_name</th>\n",
       "      <th>EW_Hbeta</th>\n",
       "      <th>err_EW_Hbeta_from_robo</th>\n",
       "      <th>EW_Hdelta</th>\n",
       "      <th>err_EW_Hdelta_from_robo</th>\n",
       "      <th>EW_Hgamma</th>\n",
       "      <th>err_EW_Hgamma_from_robo</th>\n",
       "      <th>EW_Heps</th>\n",
       "      <th>err_EW_Heps_from_robo</th>\n",
       "      <th>EW_CaIIK</th>\n",
       "      <th>err_EW_CaIIK_from_robo</th>\n",
       "      <th>EW_Balmer</th>\n",
       "      <th>err_EW_Balmer_based_Robo</th>\n",
       "      <th>err_EW_Balmer_based_noise_churning</th>\n",
       "      <th>err_EW_Hbeta_based_noise_churning</th>\n",
       "      <th>err_EW_Hdelta_based_noise_churning</th>\n",
       "      <th>err_EW_Hgamma_based_noise_churning</th>\n",
       "      <th>err_EW_Heps_based_noise_churning</th>\n",
       "    </tr>\n",
       "  </thead>\n",
       "  <tbody>\n",
       "  </tbody>\n",
       "</table>\n",
       "</div>"
      ],
      "text/plain": [
       "Empty DataFrame\n",
       "Columns: [realization_spec_file_name, orig_spec_file_name, EW_Hbeta, err_EW_Hbeta_from_robo, EW_Hdelta, err_EW_Hdelta_from_robo, EW_Hgamma, err_EW_Hgamma_from_robo, EW_Heps, err_EW_Heps_from_robo, EW_CaIIK, err_EW_CaIIK_from_robo, EW_Balmer, err_EW_Balmer_based_Robo, err_EW_Balmer_based_noise_churning, err_EW_Hbeta_based_noise_churning, err_EW_Hdelta_based_noise_churning, err_EW_Hgamma_based_noise_churning, err_EW_Heps_based_noise_churning]\n",
       "Index: []"
      ]
     },
     "execution_count": 4,
     "metadata": {},
     "output_type": "execute_result"
    }
   ],
   "source": [
    "df.where(df[\"orig_spec_file_name\"] == \"775030p02.smo\").dropna()"
   ]
  },
  {
   "cell_type": "code",
   "execution_count": 5,
   "id": "balanced-inclusion",
   "metadata": {},
   "outputs": [
    {
     "ename": "KeyError",
     "evalue": "'err_EW_Hdelta_based_Robo'",
     "output_type": "error",
     "traceback": [
      "\u001b[0;31m---------------------------------------------------------------------------\u001b[0m",
      "\u001b[0;31mKeyError\u001b[0m                                  Traceback (most recent call last)",
      "\u001b[0;32m~/anaconda3/envs/rrl_env/lib/python3.6/site-packages/pandas/core/indexes/base.py\u001b[0m in \u001b[0;36mget_loc\u001b[0;34m(self, key, method, tolerance)\u001b[0m\n\u001b[1;32m   2894\u001b[0m             \u001b[0;32mtry\u001b[0m\u001b[0;34m:\u001b[0m\u001b[0;34m\u001b[0m\u001b[0m\n\u001b[0;32m-> 2895\u001b[0;31m                 \u001b[0;32mreturn\u001b[0m \u001b[0mself\u001b[0m\u001b[0;34m.\u001b[0m\u001b[0m_engine\u001b[0m\u001b[0;34m.\u001b[0m\u001b[0mget_loc\u001b[0m\u001b[0;34m(\u001b[0m\u001b[0mcasted_key\u001b[0m\u001b[0;34m)\u001b[0m\u001b[0;34m\u001b[0m\u001b[0m\n\u001b[0m\u001b[1;32m   2896\u001b[0m             \u001b[0;32mexcept\u001b[0m \u001b[0mKeyError\u001b[0m \u001b[0;32mas\u001b[0m \u001b[0merr\u001b[0m\u001b[0;34m:\u001b[0m\u001b[0;34m\u001b[0m\u001b[0m\n",
      "\u001b[0;32mpandas/_libs/index.pyx\u001b[0m in \u001b[0;36mpandas._libs.index.IndexEngine.get_loc\u001b[0;34m()\u001b[0m\n",
      "\u001b[0;32mpandas/_libs/index.pyx\u001b[0m in \u001b[0;36mpandas._libs.index.IndexEngine.get_loc\u001b[0;34m()\u001b[0m\n",
      "\u001b[0;32mpandas/_libs/hashtable_class_helper.pxi\u001b[0m in \u001b[0;36mpandas._libs.hashtable.PyObjectHashTable.get_item\u001b[0;34m()\u001b[0m\n",
      "\u001b[0;32mpandas/_libs/hashtable_class_helper.pxi\u001b[0m in \u001b[0;36mpandas._libs.hashtable.PyObjectHashTable.get_item\u001b[0;34m()\u001b[0m\n",
      "\u001b[0;31mKeyError\u001b[0m: 'err_EW_Hdelta_based_Robo'",
      "\nThe above exception was the direct cause of the following exception:\n",
      "\u001b[0;31mKeyError\u001b[0m                                  Traceback (most recent call last)",
      "\u001b[0;32m<ipython-input-5-da96ef6614e8>\u001b[0m in \u001b[0;36m<module>\u001b[0;34m\u001b[0m\n\u001b[1;32m      1\u001b[0m \u001b[0mbins_choice\u001b[0m \u001b[0;34m=\u001b[0m \u001b[0mnp\u001b[0m\u001b[0;34m.\u001b[0m\u001b[0mlinspace\u001b[0m\u001b[0;34m(\u001b[0m\u001b[0;36m0\u001b[0m\u001b[0;34m,\u001b[0m \u001b[0;36m4\u001b[0m\u001b[0;34m,\u001b[0m \u001b[0;36m100\u001b[0m\u001b[0;34m)\u001b[0m\u001b[0;34m\u001b[0m\u001b[0m\n\u001b[1;32m      2\u001b[0m \u001b[0;34m\u001b[0m\u001b[0m\n\u001b[0;32m----> 3\u001b[0;31m \u001b[0mplt\u001b[0m\u001b[0;34m.\u001b[0m\u001b[0mhist\u001b[0m\u001b[0;34m(\u001b[0m\u001b[0mdf\u001b[0m\u001b[0;34m[\u001b[0m\u001b[0;34m\"err_EW_Hdelta_based_Robo\"\u001b[0m\u001b[0;34m]\u001b[0m\u001b[0;34m,\u001b[0m \u001b[0mbins\u001b[0m\u001b[0;34m=\u001b[0m\u001b[0mbins_choice\u001b[0m\u001b[0;34m,\u001b[0m \u001b[0malpha\u001b[0m\u001b[0;34m=\u001b[0m\u001b[0;36m0.5\u001b[0m\u001b[0;34m,\u001b[0m \u001b[0mdensity\u001b[0m\u001b[0;34m=\u001b[0m\u001b[0;32mTrue\u001b[0m\u001b[0;34m,\u001b[0m \u001b[0mlabel\u001b[0m\u001b[0;34m=\u001b[0m\u001b[0;34m'Robo'\u001b[0m\u001b[0;34m)\u001b[0m\u001b[0;34m\u001b[0m\u001b[0m\n\u001b[0m\u001b[1;32m      4\u001b[0m \u001b[0mplt\u001b[0m\u001b[0;34m.\u001b[0m\u001b[0mhist\u001b[0m\u001b[0;34m(\u001b[0m\u001b[0mdf\u001b[0m\u001b[0;34m[\u001b[0m\u001b[0;34m\"err_EW_Hdelta_based_noise_churning\"\u001b[0m\u001b[0;34m]\u001b[0m\u001b[0;34m,\u001b[0m \u001b[0mbins\u001b[0m\u001b[0;34m=\u001b[0m\u001b[0mbins_choice\u001b[0m\u001b[0;34m,\u001b[0m \u001b[0malpha\u001b[0m\u001b[0;34m=\u001b[0m\u001b[0;36m0.5\u001b[0m\u001b[0;34m,\u001b[0m \u001b[0mdensity\u001b[0m\u001b[0;34m=\u001b[0m\u001b[0;32mTrue\u001b[0m\u001b[0;34m,\u001b[0m \u001b[0mlabel\u001b[0m\u001b[0;34m=\u001b[0m\u001b[0;34m'noise churning'\u001b[0m\u001b[0;34m)\u001b[0m\u001b[0;34m\u001b[0m\u001b[0m\n\u001b[1;32m      5\u001b[0m \u001b[0mplt\u001b[0m\u001b[0;34m.\u001b[0m\u001b[0mxlim\u001b[0m\u001b[0;34m(\u001b[0m\u001b[0;34m[\u001b[0m\u001b[0;36m0\u001b[0m\u001b[0;34m,\u001b[0m\u001b[0;36m10\u001b[0m\u001b[0;34m]\u001b[0m\u001b[0;34m)\u001b[0m\u001b[0;34m\u001b[0m\u001b[0m\n",
      "\u001b[0;32m~/anaconda3/envs/rrl_env/lib/python3.6/site-packages/pandas/core/frame.py\u001b[0m in \u001b[0;36m__getitem__\u001b[0;34m(self, key)\u001b[0m\n\u001b[1;32m   2900\u001b[0m             \u001b[0;32mif\u001b[0m \u001b[0mself\u001b[0m\u001b[0;34m.\u001b[0m\u001b[0mcolumns\u001b[0m\u001b[0;34m.\u001b[0m\u001b[0mnlevels\u001b[0m \u001b[0;34m>\u001b[0m \u001b[0;36m1\u001b[0m\u001b[0;34m:\u001b[0m\u001b[0;34m\u001b[0m\u001b[0m\n\u001b[1;32m   2901\u001b[0m                 \u001b[0;32mreturn\u001b[0m \u001b[0mself\u001b[0m\u001b[0;34m.\u001b[0m\u001b[0m_getitem_multilevel\u001b[0m\u001b[0;34m(\u001b[0m\u001b[0mkey\u001b[0m\u001b[0;34m)\u001b[0m\u001b[0;34m\u001b[0m\u001b[0m\n\u001b[0;32m-> 2902\u001b[0;31m             \u001b[0mindexer\u001b[0m \u001b[0;34m=\u001b[0m \u001b[0mself\u001b[0m\u001b[0;34m.\u001b[0m\u001b[0mcolumns\u001b[0m\u001b[0;34m.\u001b[0m\u001b[0mget_loc\u001b[0m\u001b[0;34m(\u001b[0m\u001b[0mkey\u001b[0m\u001b[0;34m)\u001b[0m\u001b[0;34m\u001b[0m\u001b[0m\n\u001b[0m\u001b[1;32m   2903\u001b[0m             \u001b[0;32mif\u001b[0m \u001b[0mis_integer\u001b[0m\u001b[0;34m(\u001b[0m\u001b[0mindexer\u001b[0m\u001b[0;34m)\u001b[0m\u001b[0;34m:\u001b[0m\u001b[0;34m\u001b[0m\u001b[0m\n\u001b[1;32m   2904\u001b[0m                 \u001b[0mindexer\u001b[0m \u001b[0;34m=\u001b[0m \u001b[0;34m[\u001b[0m\u001b[0mindexer\u001b[0m\u001b[0;34m]\u001b[0m\u001b[0;34m\u001b[0m\u001b[0m\n",
      "\u001b[0;32m~/anaconda3/envs/rrl_env/lib/python3.6/site-packages/pandas/core/indexes/base.py\u001b[0m in \u001b[0;36mget_loc\u001b[0;34m(self, key, method, tolerance)\u001b[0m\n\u001b[1;32m   2895\u001b[0m                 \u001b[0;32mreturn\u001b[0m \u001b[0mself\u001b[0m\u001b[0;34m.\u001b[0m\u001b[0m_engine\u001b[0m\u001b[0;34m.\u001b[0m\u001b[0mget_loc\u001b[0m\u001b[0;34m(\u001b[0m\u001b[0mcasted_key\u001b[0m\u001b[0;34m)\u001b[0m\u001b[0;34m\u001b[0m\u001b[0m\n\u001b[1;32m   2896\u001b[0m             \u001b[0;32mexcept\u001b[0m \u001b[0mKeyError\u001b[0m \u001b[0;32mas\u001b[0m \u001b[0merr\u001b[0m\u001b[0;34m:\u001b[0m\u001b[0;34m\u001b[0m\u001b[0m\n\u001b[0;32m-> 2897\u001b[0;31m                 \u001b[0;32mraise\u001b[0m \u001b[0mKeyError\u001b[0m\u001b[0;34m(\u001b[0m\u001b[0mkey\u001b[0m\u001b[0;34m)\u001b[0m \u001b[0;32mfrom\u001b[0m \u001b[0merr\u001b[0m\u001b[0;34m\u001b[0m\u001b[0m\n\u001b[0m\u001b[1;32m   2898\u001b[0m \u001b[0;34m\u001b[0m\u001b[0m\n\u001b[1;32m   2899\u001b[0m         \u001b[0;32mif\u001b[0m \u001b[0mtolerance\u001b[0m \u001b[0;32mis\u001b[0m \u001b[0;32mnot\u001b[0m \u001b[0;32mNone\u001b[0m\u001b[0;34m:\u001b[0m\u001b[0;34m\u001b[0m\u001b[0m\n",
      "\u001b[0;31mKeyError\u001b[0m: 'err_EW_Hdelta_based_Robo'"
     ]
    }
   ],
   "source": [
    "bins_choice = np.linspace(0, 4, 100)\n",
    "\n",
    "plt.hist(df[\"err_EW_Hdelta_based_Robo\"], bins=bins_choice, alpha=0.5, density=True, label='Robo')\n",
    "plt.hist(df[\"err_EW_Hdelta_based_noise_churning\"], bins=bins_choice, alpha=0.5, density=True, label='noise churning')\n",
    "plt.xlim([0,10])\n",
    "plt.title(\"EW error magnitudes\")\n",
    "plt.legend()\n",
    "plt.xlabel(\"EW of H-delta line (angstr)\")\n",
    "plt.savefig(\"junk_net_delta_robo_error.pdf\")"
   ]
  },
  {
   "cell_type": "code",
   "execution_count": 8,
   "id": "dietary-studio",
   "metadata": {},
   "outputs": [
    {
     "data": {
      "image/png": "[encoded data removed]",
      "text/plain": [
       "<Figure size 432x288 with 1 Axes>"
      ]
     },
     "metadata": {
      "needs_background": "light"
     },
     "output_type": "display_data"
    }
   ],
   "source": [
    "bins_choice = np.linspace(0, 4, 100)\n",
    "\n",
    "plt.hist(df[\"err_EW_Balmer_based_Robo\"], bins=bins_choice, alpha=0.5, density=True, label='Robo')\n",
    "plt.hist(df[\"err_EW_Balmer_based_noise_churning\"], bins=bins_choice, alpha=0.5, density=True, label='noise churning')\n",
    "plt.xlim([0,10])\n",
    "plt.title(\"EW error magnitudes (absolote)\")\n",
    "plt.legend()\n",
    "plt.xlabel(\"EW of net Balmer line (angstr)\")\n",
    "plt.savefig(\"junk_net_balmer_robo_error.pdf\")"
   ]
  },
  {
   "cell_type": "code",
   "execution_count": 9,
   "id": "angry-doubt",
   "metadata": {},
   "outputs": [
    {
     "data": {
      "image/png": "[encoded data removed]",
      "text/plain": [
       "<Figure size 432x288 with 1 Axes>"
      ]
     },
     "metadata": {
      "needs_background": "light"
     },
     "output_type": "display_data"
    }
   ],
   "source": [
    "# net Balmer\n",
    "\n",
    "bins_choice = np.linspace(0, 4, 100)\n",
    "\n",
    "plt.hist(np.divide(df[\"err_EW_Balmer_based_Robo\"],df[\"EW_Balmer\"]), bins=bins_choice, alpha=0.5, density=True, label='Robo')\n",
    "plt.hist(np.divide(df[\"err_EW_Balmer_based_noise_churning\"],df[\"EW_Balmer\"]), bins=bins_choice, alpha=0.5, density=True, label='noise churning')\n",
    "plt.xlim([0,1])\n",
    "plt.axvline(x=[0.07])\n",
    "plt.title(\"EW error magnitudes (relative: noise/magnitude)\")\n",
    "plt.legend()\n",
    "plt.xlabel(\"sigma_EW/EW\")\n",
    "#plt.savefig(\"junk_net_balmer_robo_error.pdf\")\n",
    "plt.show()"
   ]
  },
  {
   "cell_type": "code",
   "execution_count": 10,
   "id": "primary-superior",
   "metadata": {},
   "outputs": [
    {
     "data": {
      "image/png": "[encoded data removed]",
      "text/plain": [
       "<Figure size 432x288 with 1 Axes>"
      ]
     },
     "metadata": {
      "needs_background": "light"
     },
     "output_type": "display_data"
    }
   ],
   "source": [
    "# Hbeta\n",
    "\n",
    "bins_choice = np.linspace(0, 4, 100)\n",
    "\n",
    "plt.hist(np.divide(df[\"err_EW_Hbeta_from_robo\"],df[\"EW_Hbeta\"]), bins=bins_choice, alpha=0.5, density=True, label='Robo')\n",
    "plt.hist(np.divide(df[\"err_EW_Hbeta_based_noise_churning\"],df[\"EW_Hbeta\"]), bins=bins_choice, alpha=0.5, density=True, label='noise churning')\n",
    "plt.xlim([0,1])\n",
    "plt.axvline(x=[0.07])\n",
    "plt.title(\"EW error magnitudes (relative: noise/magnitude)\")\n",
    "plt.legend()\n",
    "plt.xlabel(\"sigma_EW/EW\")\n",
    "#plt.savefig(\"junk_net_balmer_robo_error.pdf\")\n",
    "plt.show()"
   ]
  },
  {
   "cell_type": "code",
   "execution_count": 11,
   "id": "unexpected-executive",
   "metadata": {},
   "outputs": [
    {
     "data": {
      "image/png": "[encoded data removed]",
      "text/plain": [
       "<Figure size 432x288 with 1 Axes>"
      ]
     },
     "metadata": {
      "needs_background": "light"
     },
     "output_type": "display_data"
    }
   ],
   "source": [
    "# Hgamma\n",
    "\n",
    "bins_choice = np.linspace(0, 4, 100)\n",
    "\n",
    "plt.hist(np.divide(df[\"err_EW_Hgamma_from_robo\"],df[\"EW_Hgamma\"]), bins=bins_choice, alpha=0.5, density=True, label='Robo')\n",
    "plt.hist(np.divide(df[\"err_EW_Hgamma_based_noise_churning\"],df[\"EW_Hgamma\"]), bins=bins_choice, alpha=0.5, density=True, label='noise churning')\n",
    "plt.xlim([0,1])\n",
    "plt.axvline(x=[0.07])\n",
    "plt.title(\"EW error magnitudes (relative: noise/magnitude)\")\n",
    "plt.legend()\n",
    "plt.xlabel(\"sigma_EW/EW\")\n",
    "#plt.savefig(\"junk_net_balmer_robo_error.pdf\")\n",
    "plt.show()"
   ]
  },
  {
   "cell_type": "code",
   "execution_count": 12,
   "id": "informational-placement",
   "metadata": {},
   "outputs": [
    {
     "data": {
      "image/png": "[encoded data removed]",
      "text/plain": [
       "<Figure size 432x288 with 1 Axes>"
      ]
     },
     "metadata": {
      "needs_background": "light"
     },
     "output_type": "display_data"
    }
   ],
   "source": [
    "# Hdelta\n",
    "\n",
    "bins_choice = np.linspace(0, 4, 100)\n",
    "\n",
    "plt.hist(np.divide(df[\"err_EW_Hdelta_from_robo\"],df[\"EW_Hdelta\"]), bins=bins_choice, alpha=0.5, density=True, label='Robo')\n",
    "plt.hist(np.divide(df[\"err_EW_Hdelta_based_noise_churning\"],df[\"EW_Hdelta\"]), bins=bins_choice, alpha=0.5, density=True, label='noise churning')\n",
    "plt.xlim([0,1])\n",
    "plt.axvline(x=[0.07])\n",
    "plt.title(\"EW error magnitudes (relative: noise/magnitude)\")\n",
    "plt.legend()\n",
    "plt.xlabel(\"sigma_EW/EW\")\n",
    "#plt.savefig(\"junk_net_balmer_robo_error.pdf\")\n",
    "plt.show()"
   ]
  },
  {
   "cell_type": "code",
   "execution_count": 20,
   "id": "exempt-bridge",
   "metadata": {},
   "outputs": [
    {
     "data": {
      "image/png": "[encoded data removed]",
      "text/plain": [
       "<Figure size 432x288 with 1 Axes>"
      ]
     },
     "metadata": {
      "needs_background": "light"
     },
     "output_type": "display_data"
    }
   ],
   "source": [
    "plt.scatter(np.divide(df[\"err_EW_Hdelta_from_robo\"],df[\"EW_Hdelta\"]),\n",
    "            np.divide(df[\"err_EW_Hdelta_based_noise_churning\"],df[\"EW_Hdelta\"]))\n",
    "plt.xlim([0,1])\n",
    "plt.ylim([0,0.75])\n",
    "plt.show()"
   ]
  },
  {
   "cell_type": "code",
   "execution_count": 25,
   "id": "directed-bulgarian",
   "metadata": {},
   "outputs": [
    {
     "data": {
      "image/png": "[encoded data removed]",
      "text/plain": [
       "<Figure size 432x288 with 1 Axes>"
      ]
     },
     "metadata": {
      "needs_background": "light"
     },
     "output_type": "display_data"
    }
   ],
   "source": [
    "plt.scatter(np.divide(df[\"err_EW_Hgamma_from_robo\"],df[\"EW_Hgamma\"]),\n",
    "            np.divide(df[\"err_EW_Hgamma_based_noise_churning\"],df[\"EW_Hgamma\"]), alpha=0.4)\n",
    "plt.xlim([0,1])\n",
    "plt.ylim([0,1])\n",
    "plt.show()"
   ]
  },
  {
   "cell_type": "code",
   "execution_count": 13,
   "id": "tough-florida",
   "metadata": {},
   "outputs": [
    {
     "data": {
      "image/png": "[encoded data removed]",
      "text/plain": [
       "<Figure size 432x288 with 1 Axes>"
      ]
     },
     "metadata": {
      "needs_background": "light"
     },
     "output_type": "display_data"
    }
   ],
   "source": [
    "# Heps\n",
    "\n",
    "bins_choice = np.linspace(0, 4, 100)\n",
    "\n",
    "plt.hist(np.divide(df[\"err_EW_Heps_from_robo\"],df[\"EW_Heps\"]), bins=bins_choice, alpha=0.5, density=True, label='Robo')\n",
    "plt.hist(np.divide(df[\"err_EW_Heps_based_noise_churning\"],df[\"EW_Heps\"]), bins=bins_choice, alpha=0.5, density=True, label='noise churning')\n",
    "plt.xlim([0,1])\n",
    "plt.axvline(x=[0.07])\n",
    "plt.title(\"EW error magnitudes (relative: noise/magnitude)\")\n",
    "plt.legend()\n",
    "plt.xlabel(\"sigma_EW/EW\")\n",
    "#plt.savefig(\"junk_net_balmer_robo_error.pdf\")\n",
    "plt.show()"
   ]
  },
  {
   "cell_type": "code",
   "execution_count": null,
   "id": "featured-travel",
   "metadata": {},
   "outputs": [],
   "source": []
  }
 ],
 "metadata": {
  "kernelspec": {
   "display_name": "Python 3",
   "language": "python",
   "name": "python3"
  },
  "language_info": {
   "codemirror_mode": {
    "name": "ipython",
    "version": 3
   },
   "file_extension": ".py",
   "mimetype": "text/x-python",
   "name": "python",
   "nbconvert_exporter": "python",
   "pygments_lexer": "ipython3",
   "version": "3.6.6"
  }
 },
 "nbformat": 4,
 "nbformat_minor": 5
}
