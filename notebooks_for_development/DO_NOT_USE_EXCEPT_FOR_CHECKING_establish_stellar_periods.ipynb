{
 "cells": [
  {
   "cell_type": "code",
   "execution_count": null,
   "id": "downtown-mount",
   "metadata": {},
   "outputs": [],
   "source": [
    "# This takes periods as found by RW, NDL and combines them to find an established period\n",
    "\n",
    "# Created 2022 May 22 by E.S."
   ]
  },
  {
   "cell_type": "code",
   "execution_count": 1,
   "id": "provincial-details",
   "metadata": {},
   "outputs": [],
   "source": [
    "import pandas as pd\n",
    "import numpy as np\n",
    "import matplotlib.pyplot as plt"
   ]
  },
  {
   "cell_type": "code",
   "execution_count": 2,
   "id": "gross-jones",
   "metadata": {},
   "outputs": [],
   "source": [
    "file_name = \"/Users/bandari/Documents/git.repos/rrlfe/notebooks_for_development/data/input_periods_all_stars.csv\""
   ]
  },
  {
   "cell_type": "code",
   "execution_count": 3,
   "id": "civilian-invitation",
   "metadata": {},
   "outputs": [],
   "source": [
    "df = pd.read_csv(file_name)"
   ]
  },
  {
   "cell_type": "code",
   "execution_count": 4,
   "id": "severe-religion",
   "metadata": {},
   "outputs": [],
   "source": [
    "# initialize\n",
    "\n",
    "df[\"err_diff\"] = np.nan\n",
    "df[\"err_tot\"] = np.nan"
   ]
  },
  {
   "cell_type": "code",
   "execution_count": 5,
   "id": "outdoor-national",
   "metadata": {},
   "outputs": [],
   "source": [
    "# find final periods: simple average across values\n",
    "\n",
    "cols = ['T_KELT', 'T_TESS', 'T_other']\n",
    "\n",
    "df[\"T_final\"] = df[cols].mean(axis=1)"
   ]
  },
  {
   "cell_type": "code",
   "execution_count": 6,
   "id": "maritime-influence",
   "metadata": {},
   "outputs": [
    {
     "data": {
      "text/plain": [
       "'\\n1. case where both KELT-based and TESS-based periods are available:\\n\\n\\terr_diff = abs(T_NDL - T_RW)\\n\\n\\terr_tot**2 = err_RW**2  + err_diff**2\\n\\n\\n2. case where only TESS-based period available:\\n\\n\\terr_diff_avg = avg[  err_diff  ]\\n\\n\\terr_tot**2 = err_RW**2  + err_diff_avg**2\\n\\n\\n3. case where only KELT-based period available:\\n\\n\\terr_diff_avg = avg[  err_diff  ]\\n\\terr_RW_avg = avg[  err_RW ]\\n\\n\\terr_tot**2 = err_RW_avg**2  + err_diff_avg**2\\n    \\n4. case where neither TESS nor KELT periods are available:\\n\\n    just take average of the others\\n'"
      ]
     },
     "execution_count": 6,
     "metadata": {},
     "output_type": "execute_result"
    }
   ],
   "source": [
    "'''\n",
    "1. case where both KELT-based and TESS-based periods are available:\n",
    "\n",
    "\terr_diff = abs(T_NDL - T_RW)\n",
    "\n",
    "\terr_tot**2 = err_RW**2  + err_diff**2\n",
    "\n",
    "\n",
    "2. case where only TESS-based period available:\n",
    "\n",
    "\terr_diff_avg = avg[  err_diff  ]\n",
    "\n",
    "\terr_tot**2 = err_RW**2  + err_diff_avg**2\n",
    "\n",
    "\n",
    "3. case where only KELT-based period available:\n",
    "\n",
    "\terr_diff_avg = avg[  err_diff  ]\n",
    "\terr_RW_avg = avg[  err_RW ]\n",
    "\n",
    "\terr_tot**2 = err_RW_avg**2  + err_diff_avg**2\n",
    "    \n",
    "4. case where neither TESS nor KELT periods are available:\n",
    "\n",
    "    just take average of the others\n",
    "'''"
   ]
  },
  {
   "cell_type": "code",
   "execution_count": 7,
   "id": "intermediate-donna",
   "metadata": {},
   "outputs": [
    {
     "name": "stderr",
     "output_type": "stream",
     "text": [
      "/Users/bandari/anaconda3/envs/rrl_env/lib/python3.6/site-packages/pandas/core/indexing.py:190: SettingWithCopyWarning: \n",
      "A value is trying to be set on a copy of a slice from a DataFrame\n",
      "\n",
      "See the caveats in the documentation: http://pandas.pydata.org/pandas-docs/stable/indexing.html#indexing-view-versus-copy\n",
      "  self._setitem_with_indexer(indexer, value)\n"
     ]
    },
    {
     "name": "stdout",
     "output_type": "stream",
     "text": [
      "------\n",
      "star RR Leo\n",
      "err_diff 7.922999999965263e-07\n",
      "err_T_TESS 6.79821337e-07\n",
      "err_tot 1.0439810056868674e-06\n",
      "------\n",
      "star TT Lyn\n",
      "err_diff 2.157499999988488e-06\n",
      "err_T_TESS 1.7812966e-06\n",
      "err_tot 2.7978248385347296e-06\n",
      "------\n",
      "star TV Lyn\n",
      "err_diff 3.3486000000082505e-06\n",
      "err_T_TESS 3.7242012023e-07\n",
      "err_tot 3.369246014467834e-06\n",
      "------\n",
      "star TW Lyn\n",
      "err_diff 1.0119999999669282e-06\n",
      "err_T_TESS 1.7750202e-06\n",
      "err_tot 2.0432426949193046e-06\n",
      "------\n",
      "star RR Lyr\n",
      "err_diff 1.239990000001523e-05\n",
      "err_T_TESS 4.41447566e-06\n",
      "err_tot 1.3162261027768372e-05\n",
      "------\n",
      "star TU UMa\n",
      "err_diff 1.467389999998403e-05\n",
      "err_T_TESS 2.58581005e-06\n",
      "err_tot 1.4899991772622304e-05\n"
     ]
    }
   ],
   "source": [
    "# 1. case where both KELT-based and TESS-based periods are available:\n",
    "for i in range(0,len(df)):\n",
    "    #print(i)\n",
    "    # check if there are periods from both KELT and TESS (but TESS has no error)\n",
    "    T_TESS = df[\"T_TESS\"].iloc[i]\n",
    "    T_KELT = df[\"T_KELT\"].iloc[i]\n",
    "    err_T_TESS = df[\"err_T_TESS\"].iloc[i]\n",
    "    #print(T_TESS, T_KELT)\n",
    "\n",
    "    if ~np.isnan(T_TESS) and ~np.isnan(T_KELT):\n",
    "        #print('i')\n",
    "        err_diff = np.abs(np.subtract(T_TESS,T_KELT))\n",
    "        df[\"err_diff\"].loc[i] = err_diff\n",
    "        \n",
    "        # propagating error for an average gives 0.5*sqrt(err_1**2 + err_2**2), but here \n",
    "        # we don't have the error from KELT; so coefficient of 1 (instead of 0.5) here may be overestimate\n",
    "        df[\"err_tot\"].loc[i] = np.sqrt(np.add(np.power(err_T_TESS,2.),np.power(err_diff,2.)))\n",
    "        \n",
    "        # for checking\n",
    "        print(\"------\")\n",
    "        print(\"star\", df[\"star\"].iloc[i])\n",
    "        print(\"err_diff\", err_diff)\n",
    "        print(\"err_T_TESS\", err_T_TESS)\n",
    "        print(\"err_tot\", df[\"err_tot\"].loc[i])"
   ]
  },
  {
   "cell_type": "code",
   "execution_count": 8,
   "id": "individual-share",
   "metadata": {},
   "outputs": [
    {
     "name": "stdout",
     "output_type": "stream",
     "text": [
      "------\n",
      "star RW Ari\n",
      "err_diff_avg 5.730699999993242e-06\n",
      "err_T_TESS 1.491772962e-05\n",
      "err_tot 1.5980600098411446e-05\n",
      "------\n",
      "star X Ari\n",
      "err_diff_avg 5.730699999993242e-06\n",
      "err_T_TESS 7.549117669999999e-06\n",
      "err_tot 9.47787423874303e-06\n",
      "------\n",
      "star UY Cam\n",
      "err_diff_avg 5.730699999993242e-06\n",
      "err_T_TESS 4.3600000000000004e-07\n",
      "err_tot 5.747261825419349e-06\n",
      "------\n",
      "star RR Cet\n",
      "err_diff_avg 5.730699999993242e-06\n",
      "err_T_TESS 3.3428131400000002e-06\n",
      "err_tot 6.634404432869556e-06\n",
      "------\n",
      "star SV Eri\n",
      "err_diff_avg 5.730699999993242e-06\n",
      "err_T_TESS 1.74047143e-06\n",
      "err_tot 5.98917050087646e-06\n",
      "------\n",
      "star V535 Mon\n",
      "err_diff_avg 5.730699999993242e-06\n",
      "err_T_TESS 1.5029437e-07\n",
      "err_tot 5.73267048482435e-06\n",
      "------\n",
      "star V445 Oph\n",
      "err_diff_avg 5.730699999993242e-06\n",
      "err_TESS_avg 3.0788197074792306e-06\n",
      "err_tot 6.505386482068921e-06\n",
      "------\n",
      "star AV Peg\n",
      "err_diff_avg 5.730699999993242e-06\n",
      "err_TESS_avg 3.0788197074792306e-06\n",
      "err_tot 6.505386482068921e-06\n",
      "------\n",
      "star AR Per\n",
      "err_diff_avg 5.730699999993242e-06\n",
      "err_TESS_avg 3.0788197074792306e-06\n",
      "err_tot 6.505386482068921e-06\n",
      "------\n",
      "star T Sex\n",
      "err_diff_avg 5.730699999993242e-06\n",
      "err_T_TESS 2.79386e-07\n",
      "err_tot 5.7375063422116185e-06\n"
     ]
    }
   ],
   "source": [
    "for i in range(0,len(df)):\n",
    "    # check if there are errors from both KELT and TESS\n",
    "    T_TESS = df[\"T_TESS\"].iloc[i]\n",
    "    T_KELT = df[\"T_KELT\"].iloc[i]\n",
    "    err_T_TESS = df[\"err_T_TESS\"].iloc[i]\n",
    "\n",
    "    # 2. case where only TESS-based period available:\n",
    "    if ~np.isnan(T_TESS) and np.isnan(T_KELT):\n",
    "        err_diff_avg = np.nanmean(df[\"err_diff\"])\n",
    "        df[\"err_tot\"].loc[i] = np.sqrt(np.add(np.power(err_T_TESS,2.),np.power(err_diff_avg,2.)))\n",
    "        \n",
    "        # for checking\n",
    "        print(\"------\")\n",
    "        print(\"star\", df[\"star\"].iloc[i])\n",
    "        print(\"err_diff_avg\", err_diff_avg)\n",
    "        print(\"err_T_TESS\", err_T_TESS)\n",
    "        print(\"err_tot\", df[\"err_tot\"].loc[i])\n",
    "        \n",
    "    # 3. case where only KELT-based period available:\n",
    "    elif np.isnan(T_TESS) and ~np.isnan(T_KELT):\n",
    "        err_TESS_avg = np.nanmean(df[\"err_T_TESS\"])\n",
    "        df[\"err_tot\"].loc[i] = np.sqrt(np.add(np.power(err_TESS_avg,2.),np.power(err_diff_avg,2.)))\n",
    "        \n",
    "        # for checking\n",
    "        print(\"------\")\n",
    "        print(\"star\", df[\"star\"].iloc[i])\n",
    "        print(\"err_diff_avg\", err_diff_avg)\n",
    "        print(\"err_TESS_avg\", err_TESS_avg)\n",
    "        print(\"err_tot\", df[\"err_tot\"].loc[i])\n",
    "\n",
    "\n",
    "# average total error so far\n",
    "avg_err_tot_empirical = np.nanmean(df[\"err_tot\"])\n",
    "\n",
    "for i in range(0,len(df)):\n",
    "    # 4. case where neither TESS nor KELT periods are available:\n",
    "    T_TESS = df[\"T_TESS\"].iloc[i]\n",
    "    T_KELT = df[\"T_KELT\"].iloc[i]\n",
    "    if np.isnan(T_TESS) and np.isnan(T_KELT):\n",
    "        df[\"err_tot\"].loc[i] = avg_err_tot_empirical"
   ]
  },
  {
   "cell_type": "code",
   "execution_count": 19,
   "id": "sexual-medium",
   "metadata": {},
   "outputs": [
    {
     "name": "stdout",
     "output_type": "stream",
     "text": [
      "Wrote  junk.csv\n"
     ]
    }
   ],
   "source": [
    "output_file_name = \"junk.csv\"\n",
    "df.reset_index(drop=True, inplace=True)\n",
    "df.to_csv(output_file_name, index=False)\n",
    "print(\"Wrote \",output_file_name)"
   ]
  },
  {
   "cell_type": "code",
   "execution_count": null,
   "id": "second-mobility",
   "metadata": {},
   "outputs": [],
   "source": []
  }
 ],
 "metadata": {
  "kernelspec": {
   "display_name": "Python 3",
   "language": "python",
   "name": "python3"
  },
  "language_info": {
   "codemirror_mode": {
    "name": "ipython",
    "version": 3
   },
   "file_extension": ".py",
   "mimetype": "text/x-python",
   "name": "python",
   "nbconvert_exporter": "python",
   "pygments_lexer": "ipython3",
   "version": "3.6.6"
  }
 },
 "nbformat": 4,
 "nbformat_minor": 5
}
