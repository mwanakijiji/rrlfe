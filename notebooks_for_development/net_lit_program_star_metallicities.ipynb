{
 "cells": [
  {
   "cell_type": "code",
   "execution_count": null,
   "id": "033dd36f",
   "metadata": {},
   "outputs": [],
   "source": [
    "# This takes metallicities from Layden 94 and converts them into a \"net\" high-res \n",
    "# literature value, based on our mapping in the style of Chadid+ 2017\n",
    "# (Note this is not the [Fe/H] retrieval with our calibration; it's just the next \n",
    "# high-res value)\n",
    "\n",
    "# Created 2022 Aug 2 by E.S."
   ]
  },
  {
   "cell_type": "code",
   "execution_count": 13,
   "id": "51699d7b",
   "metadata": {},
   "outputs": [],
   "source": [
    "import numpy as np\n",
    "import pandas as pd\n",
    "import matplotlib.pyplot as plt"
   ]
  },
  {
   "cell_type": "code",
   "execution_count": 2,
   "id": "90c46a8a",
   "metadata": {},
   "outputs": [],
   "source": [
    "# set linear relation values, based on >200 data points, offsets, and best-fitting \n",
    "# using error in x and y in Matlab\n",
    "\n",
    "m_matlab = 1.1215\n",
    "b_matlab = 0.029461\n",
    "sigma_m_matlab = 0.0254\n",
    "sigma_b_matlab = 0.0367"
   ]
  },
  {
   "cell_type": "code",
   "execution_count": 3,
   "id": "caa11810",
   "metadata": {},
   "outputs": [],
   "source": [
    "file_name = \"/Users/bandari/Documents/git.repos/rrlfe/src/high_res_feh/layden_1994_abundances.dat\"\n",
    "df_layden = pd.read_csv(file_name)"
   ]
  },
  {
   "cell_type": "code",
   "execution_count": 12,
   "id": "897ac330",
   "metadata": {},
   "outputs": [
    {
     "data": {
      "text/plain": [
       "Index(['name_match', 'feh', 'err_feh', 'err_mapped', 'feh_mapped',\n",
       "       'err_feh_mapped'],\n",
       "      dtype='object')"
      ]
     },
     "execution_count": 12,
     "metadata": {},
     "output_type": "execute_result"
    }
   ],
   "source": [
    "df_layden.keys()"
   ]
  },
  {
   "cell_type": "code",
   "execution_count": 5,
   "id": "3f41c511",
   "metadata": {},
   "outputs": [],
   "source": [
    "def prop_err_feh(feh_lay, err_feh_lay, m, err_m, err_b):\n",
    "    '''\n",
    "    Finds error on mapped [Fe/H], given uncertainties in\n",
    "    1. Layden 94 value\n",
    "    2. slope of previously-established fit\n",
    "    3. y-intercept of \" \"\n",
    "    \n",
    "    INPUTS:\n",
    "    feh_lay: Layden 94 [Fe/H] value\n",
    "    err_feh_lay: error in \"\n",
    "    m: slope\n",
    "    err_m: error in \"\n",
    "    b: y-intercept\n",
    "    err_b: error in \"\n",
    "    '''\n",
    "    \n",
    "    sig_feh = np.sqrt(\n",
    "                    np.add(\n",
    "                        np.add(\n",
    "                            np.multiply(np.power(feh_lay,2.),np.power(err_m,2.)),\n",
    "                            np.multiply(np.power(m,2.),np.power(err_feh_lay,2.))\n",
    "                        ),\n",
    "                        np.power(err_b,2.)\n",
    "                    )\n",
    "                )\n",
    "\n",
    "    return sig_feh"
   ]
  },
  {
   "cell_type": "code",
   "execution_count": 10,
   "id": "b60273de",
   "metadata": {},
   "outputs": [],
   "source": [
    "df_layden[\"feh_mapped\"] = np.add(np.multiply(m_matlab,df_layden[\"feh\"]),b_matlab)"
   ]
  },
  {
   "cell_type": "code",
   "execution_count": 11,
   "id": "57aac560",
   "metadata": {},
   "outputs": [],
   "source": [
    "df_layden[\"err_feh_mapped\"] = prop_err_feh(feh_lay=df_layden[\"feh\"], \n",
    "                             err_feh_lay=df_layden[\"err_feh\"], \n",
    "                             m=m_matlab, \n",
    "                             err_m=sigma_m_matlab, \n",
    "                             err_b=sigma_b_matlab)"
   ]
  },
  {
   "cell_type": "code",
   "execution_count": 18,
   "id": "f7d0ac53",
   "metadata": {},
   "outputs": [
    {
     "data": {
      "image/png": "[encoded data removed]",
      "text/plain": [
       "<Figure size 432x288 with 1 Axes>"
      ]
     },
     "metadata": {
      "needs_background": "light"
     },
     "output_type": "display_data"
    }
   ],
   "source": [
    "'''\n",
    "plt.errorbar(df_layden[\"feh\"], df_layden[\"feh_mapped\"], \n",
    "             yerr=df_layden[\"err_feh\"], xerr=df_layden[\"err_feh_mapped\"], \n",
    "             linestyle=\"\")\n",
    "plt.show()\n",
    "'''"
   ]
  },
  {
   "cell_type": "code",
   "execution_count": null,
   "id": "9f8405a6",
   "metadata": {},
   "outputs": [],
   "source": [
    "file_write = \"junk_mapped_program_fehs.csv\"\n",
    "df_layden.to_csv(file_write)\n",
    "print(\"Wrote \" + file_write)"
   ]
  }
 ],
 "metadata": {
  "kernelspec": {
   "display_name": "Python 3",
   "language": "python",
   "name": "python3"
  },
  "language_info": {
   "codemirror_mode": {
    "name": "ipython",
    "version": 3
   },
   "file_extension": ".py",
   "mimetype": "text/x-python",
   "name": "python",
   "nbconvert_exporter": "python",
   "pygments_lexer": "ipython3",
   "version": "3.6.6"
  }
 },
 "nbformat": 4,
 "nbformat_minor": 5
}
