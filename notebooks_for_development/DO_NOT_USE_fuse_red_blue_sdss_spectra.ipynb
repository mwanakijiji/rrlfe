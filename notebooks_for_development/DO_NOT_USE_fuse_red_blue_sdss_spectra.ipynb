{
 "cells": [
  {
   "cell_type": "code",
   "execution_count": null,
   "id": "7175c052",
   "metadata": {},
   "outputs": [],
   "source": [
    "# Takes blue and red ends of single-epoch spectra from SDSS, fuses them\n",
    "# together by averaging the overlap region, and writes out the result\n",
    "\n",
    "# Created 2022 Dec 12 by E.S."
   ]
  },
  {
   "cell_type": "code",
   "execution_count": 28,
   "id": "49fd558b",
   "metadata": {},
   "outputs": [],
   "source": [
    "import pandas as pd\n",
    "import numpy as np\n",
    "import glob\n",
    "import os\n",
    "import matplotlib.pyplot as plt\n",
    "\n",
    "%matplotlib qt"
   ]
  },
  {
   "cell_type": "code",
   "execution_count": 7,
   "id": "f6404338",
   "metadata": {},
   "outputs": [],
   "source": [
    "stem_read = \"/Users/bandari/Documents/git.repos/rrlfe/notebooks_for_development/\"+\\\n",
    "                \"sdss_processing/02b_morethan1spec_post_cosmic_ray_removal/\"\n",
    "stem_write = \"/Users/bandari/Documents/git.repos/rrlfe/notebooks_for_development/\"+\\\n",
    "                \"sdss_processing/03_red_blue_fused/\""
   ]
  },
  {
   "cell_type": "code",
   "execution_count": 8,
   "id": "bfda4bf5",
   "metadata": {},
   "outputs": [],
   "source": [
    "file_list = glob.glob(stem_read + \"*csv\")"
   ]
  },
  {
   "cell_type": "code",
   "execution_count": 9,
   "id": "4a55b462",
   "metadata": {},
   "outputs": [],
   "source": [
    "# make list of all blue and red spectra that survived the cosmic ray removal process\n",
    "# (note that some have red and blue counterparts, and others have only red or blue,\n",
    "# if the other color did not make it through the cosmic ray removal)\n",
    "parent_single_epoch_stems_duplicates = [i.split(\"_color_\", 1)[0] for i in file_list]\n",
    "\n",
    "# remove duplicate names\n",
    "parent_single_epoch_stems = [*set(parent_single_epoch_stems_duplicates)]"
   ]
  },
  {
   "cell_type": "code",
   "execution_count": 36,
   "id": "b37604db",
   "metadata": {},
   "outputs": [
    {
     "name": "stdout",
     "output_type": "stream",
     "text": [
      "/Users/bandari/Documents/git.repos/rrlfe/notebooks_for_development/sdss_processing/02b_morethan1spec_post_cosmic_ray_removal/spec-1196-52733-0136_g002_color_blue.csv\n",
      "/Users/bandari/Documents/git.repos/rrlfe/notebooks_for_development/sdss_processing/02b_morethan1spec_post_cosmic_ray_removal/spec-1196-52733-0136_g002_color_red.csv\n",
      "Wrote /Users/bandari/Documents/git.repos/rrlfe/notebooks_for_development/sdss_processing/03_red_blue_fused/spec-1196-52733-0136_g002_net.csv\n"
     ]
    },
    {
     "name": "stderr",
     "output_type": "stream",
     "text": [
      "/Users/bandari/anaconda3/envs/rrl_env/lib/python3.6/site-packages/ipykernel_launcher.py:36: RuntimeWarning: Mean of empty slice\n"
     ]
    },
    {
     "name": "stdout",
     "output_type": "stream",
     "text": [
      "Wrote /Users/bandari/Documents/git.repos/rrlfe/notebooks_for_development/sdss_processing/03_red_blue_fused/plots/spec-1196-52733-0136_g002.png\n",
      "---\n",
      "/Users/bandari/Documents/git.repos/rrlfe/notebooks_for_development/sdss_processing/02b_morethan1spec_post_cosmic_ray_removal/spec-0980-52431-0480_g000_color_blue.csv\n",
      "/Users/bandari/Documents/git.repos/rrlfe/notebooks_for_development/sdss_processing/02b_morethan1spec_post_cosmic_ray_removal/spec-0980-52431-0480_g000_color_red.csv\n",
      "Wrote /Users/bandari/Documents/git.repos/rrlfe/notebooks_for_development/sdss_processing/03_red_blue_fused/spec-0980-52431-0480_g000_net.csv\n"
     ]
    },
    {
     "name": "stderr",
     "output_type": "stream",
     "text": [
      "/Users/bandari/anaconda3/envs/rrl_env/lib/python3.6/site-packages/ipykernel_launcher.py:36: RuntimeWarning: Mean of empty slice\n"
     ]
    },
    {
     "name": "stdout",
     "output_type": "stream",
     "text": [
      "Wrote /Users/bandari/Documents/git.repos/rrlfe/notebooks_for_development/sdss_processing/03_red_blue_fused/plots/spec-0980-52431-0480_g000.png\n",
      "---\n",
      "/Users/bandari/Documents/git.repos/rrlfe/notebooks_for_development/sdss_processing/02b_morethan1spec_post_cosmic_ray_removal/spec-3250-54883-0371_g001_color_blue.csv\n",
      "/Users/bandari/Documents/git.repos/rrlfe/notebooks_for_development/sdss_processing/02b_morethan1spec_post_cosmic_ray_removal/spec-3250-54883-0371_g001_color_red.csv\n",
      "Wrote /Users/bandari/Documents/git.repos/rrlfe/notebooks_for_development/sdss_processing/03_red_blue_fused/spec-3250-54883-0371_g001_net.csv\n"
     ]
    },
    {
     "name": "stderr",
     "output_type": "stream",
     "text": [
      "/Users/bandari/anaconda3/envs/rrl_env/lib/python3.6/site-packages/ipykernel_launcher.py:36: RuntimeWarning: Mean of empty slice\n"
     ]
    },
    {
     "name": "stdout",
     "output_type": "stream",
     "text": [
      "Wrote /Users/bandari/Documents/git.repos/rrlfe/notebooks_for_development/sdss_processing/03_red_blue_fused/plots/spec-3250-54883-0371_g001.png\n",
      "---\n",
      "/Users/bandari/Documents/git.repos/rrlfe/notebooks_for_development/sdss_processing/02b_morethan1spec_post_cosmic_ray_removal/spec-2356-53786-0023_g001_color_blue.csv\n",
      "/Users/bandari/Documents/git.repos/rrlfe/notebooks_for_development/sdss_processing/02b_morethan1spec_post_cosmic_ray_removal/spec-2356-53786-0023_g001_color_red.csv\n",
      "Wrote /Users/bandari/Documents/git.repos/rrlfe/notebooks_for_development/sdss_processing/03_red_blue_fused/spec-2356-53786-0023_g001_net.csv\n"
     ]
    },
    {
     "name": "stderr",
     "output_type": "stream",
     "text": [
      "/Users/bandari/anaconda3/envs/rrl_env/lib/python3.6/site-packages/ipykernel_launcher.py:36: RuntimeWarning: Mean of empty slice\n"
     ]
    },
    {
     "name": "stdout",
     "output_type": "stream",
     "text": [
      "Wrote /Users/bandari/Documents/git.repos/rrlfe/notebooks_for_development/sdss_processing/03_red_blue_fused/plots/spec-2356-53786-0023_g001.png\n",
      "---\n",
      "/Users/bandari/Documents/git.repos/rrlfe/notebooks_for_development/sdss_processing/02b_morethan1spec_post_cosmic_ray_removal/spec-3222-54862-0059_g002_color_blue.csv\n",
      "/Users/bandari/Documents/git.repos/rrlfe/notebooks_for_development/sdss_processing/02b_morethan1spec_post_cosmic_ray_removal/spec-3222-54862-0059_g002_color_red.csv\n",
      "Wrote /Users/bandari/Documents/git.repos/rrlfe/notebooks_for_development/sdss_processing/03_red_blue_fused/spec-3222-54862-0059_g002_net.csv\n"
     ]
    },
    {
     "name": "stderr",
     "output_type": "stream",
     "text": [
      "/Users/bandari/anaconda3/envs/rrl_env/lib/python3.6/site-packages/ipykernel_launcher.py:36: RuntimeWarning: Mean of empty slice\n"
     ]
    },
    {
     "name": "stdout",
     "output_type": "stream",
     "text": [
      "Wrote /Users/bandari/Documents/git.repos/rrlfe/notebooks_for_development/sdss_processing/03_red_blue_fused/plots/spec-3222-54862-0059_g002.png\n",
      "---\n",
      "/Users/bandari/Documents/git.repos/rrlfe/notebooks_for_development/sdss_processing/02b_morethan1spec_post_cosmic_ray_removal/spec-2970-54589-0581_g002_color_blue.csv\n",
      "/Users/bandari/Documents/git.repos/rrlfe/notebooks_for_development/sdss_processing/02b_morethan1spec_post_cosmic_ray_removal/spec-2970-54589-0581_g002_color_red.csv\n",
      "Wrote /Users/bandari/Documents/git.repos/rrlfe/notebooks_for_development/sdss_processing/03_red_blue_fused/spec-2970-54589-0581_g002_net.csv\n"
     ]
    },
    {
     "name": "stderr",
     "output_type": "stream",
     "text": [
      "/Users/bandari/anaconda3/envs/rrl_env/lib/python3.6/site-packages/ipykernel_launcher.py:36: RuntimeWarning: Mean of empty slice\n"
     ]
    },
    {
     "name": "stdout",
     "output_type": "stream",
     "text": [
      "Wrote /Users/bandari/Documents/git.repos/rrlfe/notebooks_for_development/sdss_processing/03_red_blue_fused/plots/spec-2970-54589-0581_g002.png\n",
      "---\n",
      "/Users/bandari/Documents/git.repos/rrlfe/notebooks_for_development/sdss_processing/02b_morethan1spec_post_cosmic_ray_removal/spec-2420-54086-0190_g001_color_blue.csv\n",
      "/Users/bandari/Documents/git.repos/rrlfe/notebooks_for_development/sdss_processing/02b_morethan1spec_post_cosmic_ray_removal/spec-2420-54086-0190_g001_color_red.csv\n",
      "Wrote /Users/bandari/Documents/git.repos/rrlfe/notebooks_for_development/sdss_processing/03_red_blue_fused/spec-2420-54086-0190_g001_net.csv\n"
     ]
    },
    {
     "name": "stderr",
     "output_type": "stream",
     "text": [
      "/Users/bandari/anaconda3/envs/rrl_env/lib/python3.6/site-packages/ipykernel_launcher.py:36: RuntimeWarning: Mean of empty slice\n"
     ]
    },
    {
     "name": "stdout",
     "output_type": "stream",
     "text": [
      "Wrote /Users/bandari/Documents/git.repos/rrlfe/notebooks_for_development/sdss_processing/03_red_blue_fused/plots/spec-2420-54086-0190_g001.png\n",
      "---\n",
      "/Users/bandari/Documents/git.repos/rrlfe/notebooks_for_development/sdss_processing/02b_morethan1spec_post_cosmic_ray_removal/spec-2815-54414-0373_g004_color_blue.csv\n",
      "/Users/bandari/Documents/git.repos/rrlfe/notebooks_for_development/sdss_processing/02b_morethan1spec_post_cosmic_ray_removal/spec-2815-54414-0373_g004_color_red.csv\n",
      "Wrote /Users/bandari/Documents/git.repos/rrlfe/notebooks_for_development/sdss_processing/03_red_blue_fused/spec-2815-54414-0373_g004_net.csv\n"
     ]
    },
    {
     "name": "stderr",
     "output_type": "stream",
     "text": [
      "/Users/bandari/anaconda3/envs/rrl_env/lib/python3.6/site-packages/ipykernel_launcher.py:36: RuntimeWarning: Mean of empty slice\n"
     ]
    },
    {
     "name": "stdout",
     "output_type": "stream",
     "text": [
      "Wrote /Users/bandari/Documents/git.repos/rrlfe/notebooks_for_development/sdss_processing/03_red_blue_fused/plots/spec-2815-54414-0373_g004.png\n",
      "---\n",
      "/Users/bandari/Documents/git.repos/rrlfe/notebooks_for_development/sdss_processing/02b_morethan1spec_post_cosmic_ray_removal/spec-2230-53799-0288_g001_color_blue.csv\n",
      "/Users/bandari/Documents/git.repos/rrlfe/notebooks_for_development/sdss_processing/02b_morethan1spec_post_cosmic_ray_removal/spec-2230-53799-0288_g001_color_red.csv\n",
      "Wrote /Users/bandari/Documents/git.repos/rrlfe/notebooks_for_development/sdss_processing/03_red_blue_fused/spec-2230-53799-0288_g001_net.csv\n"
     ]
    },
    {
     "name": "stderr",
     "output_type": "stream",
     "text": [
      "/Users/bandari/anaconda3/envs/rrl_env/lib/python3.6/site-packages/ipykernel_launcher.py:36: RuntimeWarning: Mean of empty slice\n"
     ]
    },
    {
     "name": "stdout",
     "output_type": "stream",
     "text": [
      "Wrote /Users/bandari/Documents/git.repos/rrlfe/notebooks_for_development/sdss_processing/03_red_blue_fused/plots/spec-2230-53799-0288_g001.png\n",
      "---\n",
      "/Users/bandari/Documents/git.repos/rrlfe/notebooks_for_development/sdss_processing/02b_morethan1spec_post_cosmic_ray_removal/spec-0787-52320-0029_g002_color_blue.csv\n",
      "/Users/bandari/Documents/git.repos/rrlfe/notebooks_for_development/sdss_processing/02b_morethan1spec_post_cosmic_ray_removal/spec-0787-52320-0029_g002_color_red.csv\n",
      "Wrote /Users/bandari/Documents/git.repos/rrlfe/notebooks_for_development/sdss_processing/03_red_blue_fused/spec-0787-52320-0029_g002_net.csv\n"
     ]
    },
    {
     "name": "stderr",
     "output_type": "stream",
     "text": [
      "/Users/bandari/anaconda3/envs/rrl_env/lib/python3.6/site-packages/ipykernel_launcher.py:36: RuntimeWarning: Mean of empty slice\n"
     ]
    },
    {
     "name": "stdout",
     "output_type": "stream",
     "text": [
      "Wrote /Users/bandari/Documents/git.repos/rrlfe/notebooks_for_development/sdss_processing/03_red_blue_fused/plots/spec-0787-52320-0029_g002.png\n",
      "---\n",
      "/Users/bandari/Documents/git.repos/rrlfe/notebooks_for_development/sdss_processing/02b_morethan1spec_post_cosmic_ray_removal/spec-1729-53858-0058_g003_color_blue.csv\n",
      "/Users/bandari/Documents/git.repos/rrlfe/notebooks_for_development/sdss_processing/02b_morethan1spec_post_cosmic_ray_removal/spec-1729-53858-0058_g003_color_red.csv\n",
      "Wrote /Users/bandari/Documents/git.repos/rrlfe/notebooks_for_development/sdss_processing/03_red_blue_fused/spec-1729-53858-0058_g003_net.csv\n"
     ]
    },
    {
     "name": "stderr",
     "output_type": "stream",
     "text": [
      "/Users/bandari/anaconda3/envs/rrl_env/lib/python3.6/site-packages/ipykernel_launcher.py:36: RuntimeWarning: Mean of empty slice\n"
     ]
    },
    {
     "name": "stdout",
     "output_type": "stream",
     "text": [
      "Wrote /Users/bandari/Documents/git.repos/rrlfe/notebooks_for_development/sdss_processing/03_red_blue_fused/plots/spec-1729-53858-0058_g003.png\n",
      "---\n",
      "/Users/bandari/Documents/git.repos/rrlfe/notebooks_for_development/sdss_processing/02b_morethan1spec_post_cosmic_ray_removal/spec-0394-51913-0159_g014_color_blue.csv\n",
      "/Users/bandari/Documents/git.repos/rrlfe/notebooks_for_development/sdss_processing/02b_morethan1spec_post_cosmic_ray_removal/spec-0394-51913-0159_g014_color_red.csv\n",
      "Wrote /Users/bandari/Documents/git.repos/rrlfe/notebooks_for_development/sdss_processing/03_red_blue_fused/spec-0394-51913-0159_g014_net.csv\n"
     ]
    },
    {
     "name": "stderr",
     "output_type": "stream",
     "text": [
      "/Users/bandari/anaconda3/envs/rrl_env/lib/python3.6/site-packages/ipykernel_launcher.py:36: RuntimeWarning: Mean of empty slice\n"
     ]
    },
    {
     "name": "stdout",
     "output_type": "stream",
     "text": [
      "Wrote /Users/bandari/Documents/git.repos/rrlfe/notebooks_for_development/sdss_processing/03_red_blue_fused/plots/spec-0394-51913-0159_g014.png\n",
      "---\n",
      "/Users/bandari/Documents/git.repos/rrlfe/notebooks_for_development/sdss_processing/02b_morethan1spec_post_cosmic_ray_removal/spec-1343-52790-0551_g002_color_blue.csv\n",
      "/Users/bandari/Documents/git.repos/rrlfe/notebooks_for_development/sdss_processing/02b_morethan1spec_post_cosmic_ray_removal/spec-1343-52790-0551_g002_color_red.csv\n",
      "Wrote /Users/bandari/Documents/git.repos/rrlfe/notebooks_for_development/sdss_processing/03_red_blue_fused/spec-1343-52790-0551_g002_net.csv\n"
     ]
    },
    {
     "name": "stderr",
     "output_type": "stream",
     "text": [
      "/Users/bandari/anaconda3/envs/rrl_env/lib/python3.6/site-packages/ipykernel_launcher.py:36: RuntimeWarning: Mean of empty slice\n"
     ]
    },
    {
     "name": "stdout",
     "output_type": "stream",
     "text": [
      "Wrote /Users/bandari/Documents/git.repos/rrlfe/notebooks_for_development/sdss_processing/03_red_blue_fused/plots/spec-1343-52790-0551_g002.png\n",
      "---\n",
      "/Users/bandari/Documents/git.repos/rrlfe/notebooks_for_development/sdss_processing/02b_morethan1spec_post_cosmic_ray_removal/spec-2185-53532-0335_g007_color_blue.csv\n",
      "/Users/bandari/Documents/git.repos/rrlfe/notebooks_for_development/sdss_processing/02b_morethan1spec_post_cosmic_ray_removal/spec-2185-53532-0335_g007_color_red.csv\n",
      "Wrote /Users/bandari/Documents/git.repos/rrlfe/notebooks_for_development/sdss_processing/03_red_blue_fused/spec-2185-53532-0335_g007_net.csv\n"
     ]
    },
    {
     "name": "stderr",
     "output_type": "stream",
     "text": [
      "/Users/bandari/anaconda3/envs/rrl_env/lib/python3.6/site-packages/ipykernel_launcher.py:36: RuntimeWarning: Mean of empty slice\n"
     ]
    },
    {
     "name": "stdout",
     "output_type": "stream",
     "text": [
      "Wrote /Users/bandari/Documents/git.repos/rrlfe/notebooks_for_development/sdss_processing/03_red_blue_fused/plots/spec-2185-53532-0335_g007.png\n",
      "---\n",
      "/Users/bandari/Documents/git.repos/rrlfe/notebooks_for_development/sdss_processing/02b_morethan1spec_post_cosmic_ray_removal/spec-1799-53556-0625_g000_color_blue.csv\n",
      "/Users/bandari/Documents/git.repos/rrlfe/notebooks_for_development/sdss_processing/02b_morethan1spec_post_cosmic_ray_removal/spec-1799-53556-0625_g000_color_red.csv\n",
      "Wrote /Users/bandari/Documents/git.repos/rrlfe/notebooks_for_development/sdss_processing/03_red_blue_fused/spec-1799-53556-0625_g000_net.csv\n"
     ]
    },
    {
     "name": "stderr",
     "output_type": "stream",
     "text": [
      "/Users/bandari/anaconda3/envs/rrl_env/lib/python3.6/site-packages/ipykernel_launcher.py:36: RuntimeWarning: Mean of empty slice\n"
     ]
    },
    {
     "name": "stdout",
     "output_type": "stream",
     "text": [
      "Wrote /Users/bandari/Documents/git.repos/rrlfe/notebooks_for_development/sdss_processing/03_red_blue_fused/plots/spec-1799-53556-0625_g000.png\n",
      "---\n",
      "/Users/bandari/Documents/git.repos/rrlfe/notebooks_for_development/sdss_processing/02b_morethan1spec_post_cosmic_ray_removal/spec-2920-54562-0608_g001_color_blue.csv\n",
      "/Users/bandari/Documents/git.repos/rrlfe/notebooks_for_development/sdss_processing/02b_morethan1spec_post_cosmic_ray_removal/spec-2920-54562-0608_g001_color_red.csv\n",
      "Wrote /Users/bandari/Documents/git.repos/rrlfe/notebooks_for_development/sdss_processing/03_red_blue_fused/spec-2920-54562-0608_g001_net.csv\n"
     ]
    },
    {
     "name": "stderr",
     "output_type": "stream",
     "text": [
      "/Users/bandari/anaconda3/envs/rrl_env/lib/python3.6/site-packages/ipykernel_launcher.py:36: RuntimeWarning: Mean of empty slice\n"
     ]
    },
    {
     "name": "stdout",
     "output_type": "stream",
     "text": [
      "Wrote /Users/bandari/Documents/git.repos/rrlfe/notebooks_for_development/sdss_processing/03_red_blue_fused/plots/spec-2920-54562-0608_g001.png\n",
      "---\n"
     ]
    }
   ],
   "source": [
    "# loop over each stem, check that red and blue are both there\n",
    "\n",
    "for i in range(0,20):#len(parent_single_epoch_stems)):\n",
    "    \n",
    "    files_available = glob.glob(parent_single_epoch_stems[i] + \"*csv\")\n",
    "    \n",
    "    # if just red or blue is available, skip it\n",
    "    if (len(files_available) == 1):\n",
    "        \n",
    "        continue\n",
    "        \n",
    "    # if both red and blue are available, fuse them\n",
    "    elif (len(files_available) == 2):\n",
    "        \n",
    "        blue_name = glob.glob(parent_single_epoch_stems[i] + \"*blue*csv\")[0]\n",
    "        print(blue_name)\n",
    "        df_blue = pd.read_csv(blue_name)\n",
    "        \n",
    "        red_name = glob.glob(parent_single_epoch_stems[i] + \"*red*csv\")[0]\n",
    "        print(red_name)\n",
    "        df_red = pd.read_csv(red_name)\n",
    "        \n",
    "        '''\n",
    "        df_fused[\"wavel_blue\"] = df_blue[\"wavel\"]\n",
    "        df_fused[\"flux_blue\"] = df_blue[\"flux\"]\n",
    "        df_fused[\"noise_flux_blue\"] = df_blue[\"noise\"]\n",
    "        \n",
    "        df_fused[\"wavel_red\"] = df_red[\"wavel\"]\n",
    "        df_fused[\"flux_red\"] = df_red[\"flux\"]\n",
    "        df_fused[\"noise_flux_red\"] = df_red[\"noise\"]\n",
    "        '''\n",
    "        \n",
    "        df_fused = df_blue.merge(df_red, how=\"outer\", on=\"wavel\", suffixes=(\"_blue\", \"_red\"))\n",
    "        \n",
    "        df_fused[\"flux_net\"] = np.nanmean([df_fused[\"flux_blue\"], df_fused[\"flux_red\"]], \n",
    "                                         axis=0)\n",
    "        ## ## CONTINUE HERE; GET THE NOISE TO WORK RIGHT\n",
    "        df_fused[\"noise_blue\"].fillna(0)\n",
    "        df_fused[\"noise_red\"].fillna(0)\n",
    "        df_fused[\"noise_net\"] = 0.5*np.sqrt(np.add(np.power(df_fused[\"noise_blue\"].values,2.), \n",
    "                                         np.power(df_fused[\"noise_red\"].values,2.)))\n",
    "        \n",
    "        # write csv\n",
    "        csv_write_name = stem_write + os.path.basename(parent_single_epoch_stems[i]) + \"_net.csv\"\n",
    "        df_fused.to_csv(csv_write_name, columns=[\"wavel\",\"flux_net\",\"noise_net\"], index=False)\n",
    "        print(\"Wrote \" + csv_write_name)\n",
    "        \n",
    "        plt.clf()\n",
    "        plt.plot(df_fused[\"wavel\"],df_fused[\"flux_net\"], label=\"net\")\n",
    "        plt.plot(df_fused[\"wavel\"],np.add(df_fused[\"flux_red\"],30), label=\"red\")\n",
    "        plt.plot(df_fused[\"wavel\"],np.add(df_fused[\"flux_blue\"],30), label=\"blue\")\n",
    "        plt.plot(df_fused[\"wavel\"],df_fused[\"noise_net\"], label=\"noise\")\n",
    "        plt.legend()\n",
    "        plt.title(os.path.basename(parent_single_epoch_stems[i]))\n",
    "        plot_write_name = stem_write + \"plots/\" + os.path.basename(parent_single_epoch_stems[i]) + \".png\"\n",
    "        plt.savefig(plot_write_name)\n",
    "        print(\"Wrote \" + plot_write_name)\n",
    "        \n",
    "        print(\"---\")\n",
    "        \n",
    "        "
   ]
  }
 ],
 "metadata": {
  "kernelspec": {
   "display_name": "Python 3",
   "language": "python",
   "name": "python3"
  },
  "language_info": {
   "codemirror_mode": {
    "name": "ipython",
    "version": 3
   },
   "file_extension": ".py",
   "mimetype": "text/x-python",
   "name": "python",
   "nbconvert_exporter": "python",
   "pygments_lexer": "ipython3",
   "version": "3.6.6"
  }
 },
 "nbformat": 4,
 "nbformat_minor": 5
}
