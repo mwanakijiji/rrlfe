{
 "cells": [
  {
   "cell_type": "code",
   "execution_count": 1,
   "id": "entire-nelson",
   "metadata": {},
   "outputs": [],
   "source": [
    "# This compares [Fe/H] as retrieved by our pipeline, and as found by nSSPP\n",
    "\n",
    "# Created 2021 Dec. 5 by E.S."
   ]
  },
  {
   "cell_type": "code",
   "execution_count": 27,
   "id": "sealed-click",
   "metadata": {},
   "outputs": [],
   "source": [
    "import matplotlib.pyplot as plt\n",
    "import pandas as pd\n",
    "import seaborn as sns\n",
    "import numpy as np\n",
    "\n",
    "%matplotlib qt"
   ]
  },
  {
   "cell_type": "code",
   "execution_count": 2,
   "id": "satisfied-accordance",
   "metadata": {},
   "outputs": [],
   "source": [
    "stem = \"/Users/bandari/Documents/git.repos/rrlyrae_metallicity/\"\n",
    "\n",
    "rrlfe_results_file = \"bin/retrieved_vals_test_20211203.csv\"\n",
    "nsspp_results_file = \"notebooks_for_development/data/nSSPP82.out\"\n",
    "stacy_results_file = \"notebooks_for_development/data/tloggfeoh2.dat\"\n",
    "phase_82_file = \"notebooks_for_development/data/phase82.dat\""
   ]
  },
  {
   "cell_type": "code",
   "execution_count": 4,
   "id": "tutorial-doubt",
   "metadata": {},
   "outputs": [],
   "source": [
    "df_rrlfe = pd.read_csv(stem + rrlfe_results_file)\n",
    "df_nsspp = pd.read_csv(stem + nsspp_results_file, delim_whitespace=True, \n",
    "                       names=[\"name\",\"teff\",\"logg\",\"feh_nsspp\",\"feh_beers\"])\n",
    "df_stacy = pd.read_csv(stem + stacy_results_file, delim_whitespace=True)\n",
    "df_phase_82 = pd.read_csv(stem + phase_82_file, delim_whitespace=True, \n",
    "                          names = [\"SDSSname\", \"hjd\", \"Sesar phase\", \"Sesar_cycles\", \"period\", \"g ephemeris\", \n",
    "                                   \"g amplitude\", \"Sesar type\", \"Drake phase\", \"Drake cycles\", \"Drake period\", \n",
    "                                   \"Drake V ephemeris\", \"Drake V amp\", \"Drake type\", \n",
    "                                   \"Drake2013b chart period\", \n",
    "                                   \"Drake2013b chart amp\", \n",
    "                                   \"Drake2013b chart type\", \n",
    "                                   \"Abbas2014 period\", \n",
    "                                   \"Abbas2014 amp\", \n",
    "                                   \"Abbas2014 type\", \n",
    "                                   \"Catalina DR2 chart period\", \n",
    "                                   \"Catalina DR2 chart amp\", \n",
    "                                   \"Catalina DR2 chart type\", \n",
    "                                   \"Drake MLS chart period\", \n",
    "                                   \"Drake MLS chart amp\", \n",
    "                                   \"Drake MLS chart type\"])"
   ]
  },
  {
   "cell_type": "code",
   "execution_count": 5,
   "id": "aging-logistics",
   "metadata": {},
   "outputs": [],
   "source": [
    "# modify the right strings to compare among DataFrames\n",
    "\n",
    "df_rrlfe[\"match_name\"] = df_rrlfe[\"orig_spec_file_name\"].str.split(\".\", expand = True, n=1)[0]\n",
    "df_phase_82[\"82_match_name\"] =  df_phase_82[\"SDSSname\"].str.split(\".\", expand = True, n=1)[0]\n",
    "df_rrlfe[\"match_name\"] = df_rrlfe[\"match_name\"].str.replace(\"g\", \"h\")\n",
    "df_phase_82[\"82_match_name\"] = df_phase_82[\"82_match_name\"].str.replace(\"G\", \"h\")"
   ]
  },
  {
   "cell_type": "code",
   "execution_count": 6,
   "id": "wound-passport",
   "metadata": {},
   "outputs": [],
   "source": [
    "df_rrlfe = df_rrlfe.rename(columns={\"feh_retrieved\": \"rrlfe_feh_retrieved\", \n",
    "                         \"err_feh_retrieved\": \"rrlfe_err_feh_retrieved\",\n",
    "                         \"teff_retrieved\": \"rrlfe_teff_retrieved\"})\n",
    "df_nsspp = df_nsspp.rename(columns={\"teff\": \"nsspp_teff\", \"logg\": \"nsspp_logg\"})"
   ]
  },
  {
   "cell_type": "code",
   "execution_count": 7,
   "id": "chemical-enemy",
   "metadata": {},
   "outputs": [],
   "source": [
    "# merge them\n",
    "\n",
    "df_merged = df_rrlfe.merge(df_nsspp, left_on=\"match_name\", right_on=\"name\")\n",
    "#df_merged_w82 = df_merged.merge(df_phase_82, left_on=\"match_name\", right_on=\"82_match_name\")"
   ]
  },
  {
   "cell_type": "code",
   "execution_count": 8,
   "id": "treated-counter",
   "metadata": {},
   "outputs": [
    {
     "data": {
      "text/plain": [
       "Index(['realization_spec_file_name', 'orig_spec_file_name', 'EW_Hbeta',\n",
       "       'err_EW_Hbeta_from_robo', 'EW_Hdelta', 'err_EW_Hdelta_from_robo',\n",
       "       'EW_Hgamma', 'err_EW_Hgamma_from_robo', 'EW_Heps',\n",
       "       'err_EW_Heps_from_robo', 'EW_CaIIK', 'err_EW_CaIIK_from_robo',\n",
       "       'EW_Balmer', 'err_EW_Balmer_based_Robo',\n",
       "       'err_EW_Balmer_based_noise_churning', 'rrlfe_feh_retrieved',\n",
       "       'rrlfe_err_feh_retrieved', 'rrlfe_teff_retrieved', 'match_name', 'name',\n",
       "       'nsspp_teff', 'nsspp_logg', 'feh_nsspp', 'feh_beers'],\n",
       "      dtype='object')"
      ]
     },
     "execution_count": 8,
     "metadata": {},
     "output_type": "execute_result"
    }
   ],
   "source": [
    "df_merged.keys()"
   ]
  },
  {
   "cell_type": "code",
   "execution_count": 9,
   "id": "supposed-effectiveness",
   "metadata": {},
   "outputs": [
    {
     "data": {
      "text/plain": [
       "<Figure size 432x288 with 0 Axes>"
      ]
     },
     "metadata": {},
     "output_type": "display_data"
    },
    {
     "data": {
      "image/png": "[encoded data removed]",
      "text/plain": [
       "<Figure size 724.784x595.44 with 1 Axes>"
      ]
     },
     "metadata": {},
     "output_type": "display_data"
    }
   ],
   "source": [
    "# color-code with [our] Fe/H, logg\n",
    "\n",
    "plt.clf()\n",
    "\n",
    "sns.set_theme(style=\"whitegrid\")\n",
    "\n",
    "# nsspp_teff\n",
    "# rrlfe_teff_retrieved\n",
    "\n",
    "cmap = sns.cubehelix_palette(rot=-.2, as_cmap=True)\n",
    "g = sns.relplot(\n",
    "    data=df_merged,\n",
    "    x=\"EW_Balmer\", y=\"rrlfe_teff_retrieved\",\n",
    "    hue=\"nsspp_logg\", hue_norm=(1.,5.), size=\"nsspp_logg\",\n",
    "    palette=cmap, sizes=(10, 200),\n",
    "    height=8.27, aspect=1.1\n",
    ")\n",
    "#plt.plot([6000,8000], [6000,8000], linestyle = \"--\", color=\"k\",zorder=0)\n",
    "\n",
    "g.ax.xaxis.grid(True, \"minor\", linewidth=.25)\n",
    "g.ax.yaxis.grid(True, \"minor\", linewidth=.25)\n",
    "g.ax.set_xlabel(\"EW Balmer (angstr)\")\n",
    "g.ax.set_ylabel(\"Teff, rrlfe (our pipeline)\")\n",
    "#g.ax.set_ylabel(\"Teff, nSSPP\")\n",
    "g.despine(left=True, bottom=True)\n",
    "g.ax.set_title(\"SDSS data\")\n",
    "g.despine(left=True, bottom=True)\n",
    "\n",
    "plt.savefig(\"junk_teff_retrieved.pdf\")"
   ]
  },
  {
   "cell_type": "code",
   "execution_count": 25,
   "id": "bright-backup",
   "metadata": {},
   "outputs": [],
   "source": [
    "plt.clf()\n",
    "\n",
    "plt.scatter(df_rrlfe[\"rrlfe_teff_retrieved\"],df_rrlfe[\"err_EW_CaIIK_from_robo\"], label=\"CaIIK\",s=20)\n",
    "plt.scatter(df_rrlfe[\"rrlfe_teff_retrieved\"],df_rrlfe[\"err_EW_Balmer_based_Robo\"], label=\"Balmer\",s=20)\n",
    "plt.scatter(df_rrlfe[\"rrlfe_teff_retrieved\"],df_rrlfe[\"err_EW_Hgamma_from_robo\"], label=\"Hgamma\",s=20)\n",
    "plt.scatter(df_rrlfe[\"rrlfe_teff_retrieved\"],df_rrlfe[\"err_EW_Hdelta_from_robo\"], label=\"Hdelta\",s=20)\n",
    "plt.xlabel(\"Teff retrieved by rrlfe\")\n",
    "plt.ylabel(\"EW absolute error from Robospect\")\n",
    "plt.ylim([0,10])\n",
    "plt.legend()\n",
    "plt.show()\n"
   ]
  },
  {
   "cell_type": "code",
   "execution_count": 31,
   "id": "south-treasure",
   "metadata": {},
   "outputs": [],
   "source": [
    "plt.clf()\n",
    "\n",
    "plt.scatter(df_rrlfe[\"rrlfe_teff_retrieved\"],np.divide(df_rrlfe[\"err_EW_CaIIK_from_robo\"],df_rrlfe[\"EW_CaIIK\"]), label=\"CaIIK\",s=20)\n",
    "plt.scatter(df_rrlfe[\"rrlfe_teff_retrieved\"],np.divide(df_rrlfe[\"err_EW_Balmer_based_Robo\"],df_rrlfe[\"EW_Balmer\"]), label=\"Balmer\",s=20)\n",
    "plt.scatter(df_rrlfe[\"rrlfe_teff_retrieved\"],np.divide(df_rrlfe[\"err_EW_Hgamma_from_robo\"],df_rrlfe[\"EW_Hgamma\"]), label=\"Hgamma\",s=20)\n",
    "plt.scatter(df_rrlfe[\"rrlfe_teff_retrieved\"],np.divide(df_rrlfe[\"err_EW_Hdelta_from_robo\"],df_rrlfe[\"EW_Hdelta\"]), label=\"Hdelta\",s=20)\n",
    "plt.xlabel(\"Teff retrieved by rrlfe\")\n",
    "plt.ylabel(\"EW relative error from Robospect\")\n",
    "plt.ylim([0,4])\n",
    "plt.legend()\n",
    "plt.show()\n"
   ]
  },
  {
   "cell_type": "code",
   "execution_count": 22,
   "id": "separate-copyright",
   "metadata": {},
   "outputs": [
    {
     "data": {
      "text/plain": [
       "Index(['realization_spec_file_name', 'orig_spec_file_name', 'EW_Hbeta',\n",
       "       'err_EW_Hbeta_from_robo', 'EW_Hdelta', 'err_EW_Hdelta_from_robo',\n",
       "       'EW_Hgamma', 'err_EW_Hgamma_from_robo', 'EW_Heps',\n",
       "       'err_EW_Heps_from_robo', 'EW_CaIIK', 'err_EW_CaIIK_from_robo',\n",
       "       'EW_Balmer', 'err_EW_Balmer_based_Robo',\n",
       "       'err_EW_Balmer_based_noise_churning', 'rrlfe_feh_retrieved',\n",
       "       'rrlfe_err_feh_retrieved', 'rrlfe_teff_retrieved', 'match_name'],\n",
       "      dtype='object')"
      ]
     },
     "execution_count": 22,
     "metadata": {},
     "output_type": "execute_result"
    }
   ],
   "source": [
    "df_rrlfe.keys()"
   ]
  },
  {
   "cell_type": "code",
   "execution_count": 13,
   "id": "american-depth",
   "metadata": {},
   "outputs": [
    {
     "name": "stdout",
     "output_type": "stream",
     "text": [
      "2679\n",
      "218\n",
      "94\n"
     ]
    }
   ],
   "source": [
    "# check: how many rows are in each DataFrame?\n",
    "\n",
    "print(len(df_rrlfe))\n",
    "print(len(df_nsspp))\n",
    "print(len(df_master))"
   ]
  },
  {
   "cell_type": "code",
   "execution_count": 15,
   "id": "peripheral-andorra",
   "metadata": {},
   "outputs": [
    {
     "name": "stdout",
     "output_type": "stream",
     "text": [
      "2679\n",
      "218\n",
      "2803\n",
      "94\n"
     ]
    }
   ],
   "source": [
    "print(len(df_merged_left)) # all the \n",
    "print(len(df_merged_right))\n",
    "print(len(df_merged_outer)) # stripe 82 stars + \n",
    "print(len(df_merged_inner))"
   ]
  }
 ],
 "metadata": {
  "kernelspec": {
   "display_name": "Python 3",
   "language": "python",
   "name": "python3"
  },
  "language_info": {
   "codemirror_mode": {
    "name": "ipython",
    "version": 3
   },
   "file_extension": ".py",
   "mimetype": "text/x-python",
   "name": "python",
   "nbconvert_exporter": "python",
   "pygments_lexer": "ipython3",
   "version": "3.6.6"
  }
 },
 "nbformat": 4,
 "nbformat_minor": 5
}
