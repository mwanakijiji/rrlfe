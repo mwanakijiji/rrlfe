{
 "cells": [
  {
   "cell_type": "code",
   "execution_count": null,
   "metadata": {},
   "outputs": [],
   "source": [
    "# This reads in my and NDL's phase analysis outputs and compares them\n",
    "\n",
    "# Create 2022 May 28 by E.S."
   ]
  },
  {
   "cell_type": "code",
   "execution_count": 46,
   "metadata": {},
   "outputs": [],
   "source": [
    "import pandas as pd\n",
    "import numpy as np\n",
    "import matplotlib.pyplot as plt\n",
    "\n",
    "%matplotlib qt"
   ]
  },
  {
   "cell_type": "code",
   "execution_count": 47,
   "metadata": {},
   "outputs": [],
   "source": [
    "# read in NDL\n",
    "df_ndl_epochs = pd.read_csv(\"./data/spectra_epochs_lc.csv\")\n",
    "df_ndl_phases = pd.read_csv(\"./data/phases_ndl.csv\")\n",
    "\n",
    "# read in mine\n",
    "df_mine = pd.read_csv(\"./data/spectra_my_bjds.csv\")"
   ]
  },
  {
   "cell_type": "code",
   "execution_count": 48,
   "metadata": {},
   "outputs": [],
   "source": [
    "# make specific\n",
    "df_mine[\"my_spec_bjd\"] = np.subtract(df_mine[\"bjd\"],2400000) # subtract to compare with NDL\n",
    "df_mine[\"my_phase\"] = df_mine[\"phasemod\"]\n",
    "df_mine[\"spec_file\"] = df_mine[\"file\"] # the original spectrum file name\n",
    "df_ndl_epochs[\"spec_file\"] = df_ndl_epochs[\"filenames\"] # the original spectrum file name (no change by NDL)\n",
    "df_ndl_epochs[\"ndl_spec_bjd\"] = df_ndl_epochs[\"bjd\"]\n",
    "df_ndl_phases[\"ndl_phase\"] = df_ndl_phases[\"Phases\"]"
   ]
  },
  {
   "cell_type": "code",
   "execution_count": 49,
   "metadata": {},
   "outputs": [],
   "source": [
    "# extract the \"cur\" number (note that \"filenames\" here refers to NDL's files, not my spectra numbers)\n",
    "##df_ndl_epochs[\"number_cur\"] = df_ndl_epochs[\"filenames\"].str.split(\".fits\").str[-2].str[-2:]#extract('(\\d+)')\n",
    "# remove redundant rows with \"c.fits\" in filenames col\n",
    "df_ndl_epochs = df_ndl_epochs.loc[df_ndl_epochs[\"filenames\"].str.contains(\".c.fits\")==False]\n",
    "# convert to ints\n",
    "df_ndl_epochs[\"number_cur\"] = df_ndl_epochs[\"#\"].astype(int)\n",
    "\n",
    "# extract the \"cur\" number from NDL's other table\n",
    "df_ndl_phases[\"number_cur\"] = df_ndl_phases[\"#Name\"].str.split(\"_\").str[-1]\n",
    "#df_ndl_phases[\"number_cur\"] = df_ndl_phases[\"#Name\"].str.extract('(\\d+)')\n",
    "df_ndl_phases[\"number_cur\"] = df_ndl_phases[\"number_cur\"].astype(int)"
   ]
  },
  {
   "cell_type": "code",
   "execution_count": 50,
   "metadata": {},
   "outputs": [],
   "source": [
    "# extract the star name\n",
    "df_ndl_epochs[\"star_name\"] = df_ndl_epochs[\"filenames\"].str[:6]\n",
    "df_ndl_phases[\"star_name\"] = df_ndl_phases[\"#Name\"].str[:6]"
   ]
  },
  {
   "cell_type": "code",
   "execution_count": 51,
   "metadata": {},
   "outputs": [],
   "source": [
    "# merge NDL's tables with each other based on star name and cur number\n",
    "\n",
    "df_ndl_merged = df_ndl_epochs.merge(df_ndl_phases, on=[\"star_name\",\"number_cur\"], suffixes=(None,\"_y\"))"
   ]
  },
  {
   "cell_type": "code",
   "execution_count": 52,
   "metadata": {},
   "outputs": [],
   "source": [
    "# match NDL net table to my results by spectrum number (#)\n",
    "df_all_merged = df_mine.merge(df_ndl_merged, how='inner', on=[\"spec_file\"])"
   ]
  },
  {
   "cell_type": "code",
   "execution_count": 53,
   "metadata": {},
   "outputs": [],
   "source": [
    "# find NDL time baselines, for checking only\n",
    "\n",
    "df_all_merged[\"ndl_time_baselines\"] = np.subtract(df_all_merged[\"Epoch_Max\"],df_all_merged[\"ndl_spec_bjd\"])\n",
    "df_all_merged[\"ndl_baseline_div_period\"] = np.divide(df_all_merged[\"ndl_time_baselines\"],df_all_merged[\"period\"])"
   ]
  },
  {
   "cell_type": "code",
   "execution_count": 54,
   "metadata": {},
   "outputs": [],
   "source": [
    "# for fyi, find error in phases: multiply error in period by number of cycles in the time baseline\n",
    "df_all_merged[\"error_my_phase\"] = np.multiply(np.abs(df_all_merged[\"baseline_div_period\"]),df_all_merged[\"err_tot\"])"
   ]
  },
  {
   "cell_type": "code",
   "execution_count": 55,
   "metadata": {},
   "outputs": [
    {
     "data": {
      "text/plain": [
       "'\\n# for checking\\nplt.clf()\\nplt.hist(df_all_merged[\"error_my_phase\"], bins=100)\\nplt.show()\\n'"
      ]
     },
     "execution_count": 55,
     "metadata": {},
     "output_type": "execute_result"
    }
   ],
   "source": [
    "'''\n",
    "# for checking\n",
    "plt.clf()\n",
    "plt.hist(df_all_merged[\"error_my_phase\"], bins=100)\n",
    "plt.show()\n",
    "'''"
   ]
  },
  {
   "cell_type": "code",
   "execution_count": 56,
   "metadata": {},
   "outputs": [
    {
     "data": {
      "text/plain": [
       "'\\n# for checking\\nplt.scatter(df_all_merged[\"my_spec_bjd\"],df_all_merged[\"ndl_spec_bjd\"])\\nplt.plot([56200,56500],[56200,56500], linestyle=\":\", color=\"gray\")\\nplt.show()\\n'"
      ]
     },
     "execution_count": 56,
     "metadata": {},
     "output_type": "execute_result"
    }
   ],
   "source": [
    "'''\n",
    "# for checking\n",
    "plt.scatter(df_all_merged[\"my_spec_bjd\"],df_all_merged[\"ndl_spec_bjd\"])\n",
    "plt.plot([56200,56500],[56200,56500], linestyle=\":\", color=\"gray\")\n",
    "plt.show()\n",
    "'''"
   ]
  },
  {
   "cell_type": "code",
   "execution_count": 57,
   "metadata": {},
   "outputs": [
    {
     "data": {
      "text/plain": [
       "'\\n# for checking\\nplt.scatter(df_all_merged[\"Period\"],df_all_merged[\"T_final\"])\\nplt.plot([0,1],[0,1], linestyle=\":\", color=\"gray\")\\nplt.show()\\n'"
      ]
     },
     "execution_count": 57,
     "metadata": {},
     "output_type": "execute_result"
    }
   ],
   "source": [
    "'''\n",
    "# for checking\n",
    "plt.scatter(df_all_merged[\"Period\"],df_all_merged[\"T_final\"])\n",
    "plt.plot([0,1],[0,1], linestyle=\":\", color=\"gray\")\n",
    "plt.show()\n",
    "'''"
   ]
  },
  {
   "cell_type": "code",
   "execution_count": 59,
   "metadata": {},
   "outputs": [],
   "source": [
    "# for comparing NDL and my phases, and troubleshooting disagreement\n",
    "'''\n",
    "plt.clf()\n",
    "plt.scatter(df_all_merged[\"my_phase\"],df_all_merged[\"ndl_phase\"])\n",
    "\n",
    "for i in range(0,len(df_all_merged)):\n",
    "\n",
    "    plt.annotate(df_all_merged[\"spec_file\"].loc[i],\n",
    "                 xy=(df_all_merged[\"my_phase\"].loc[i],df_all_merged[\"ndl_phase\"].loc[i]))\n",
    "\n",
    "    plt.annotate(np.round(df_all_merged[\"ndl_baseline_div_period\"].loc[i],2),\n",
    "                 xy=(df_all_merged[\"my_phase\"].loc[i],df_all_merged[\"ndl_phase\"].loc[i]))\n",
    "\n",
    "#plt.scatter(np.subtract(1.,df_all_merged[\"my_phase\"]),df_all_merged[\"ndl_phase\"])\n",
    "plt.plot([0,1],[0,1], linestyle=\":\", color=\"gray\")\n",
    "plt.show()\n",
    "'''"
   ]
  },
  {
   "cell_type": "code",
   "execution_count": 60,
   "metadata": {},
   "outputs": [],
   "source": [
    "df_all_merged.to_csv(\"./data/junk.csv\")"
   ]
  },
  {
   "cell_type": "code",
   "execution_count": null,
   "metadata": {},
   "outputs": [],
   "source": []
  }
 ],
 "metadata": {
  "kernelspec": {
   "display_name": "Python 3",
   "language": "python",
   "name": "python3"
  },
  "language_info": {
   "codemirror_mode": {
    "name": "ipython",
    "version": 3
   },
   "file_extension": ".py",
   "mimetype": "text/x-python",
   "name": "python",
   "nbconvert_exporter": "python",
   "pygments_lexer": "ipython3",
   "version": "3.8.3"
  }
 },
 "nbformat": 4,
 "nbformat_minor": 5
}
