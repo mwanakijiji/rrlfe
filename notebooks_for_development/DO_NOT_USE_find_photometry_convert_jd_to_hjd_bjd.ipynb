{
 "cells": [
  {
   "cell_type": "code",
   "execution_count": 1,
   "metadata": {
    "collapsed": true
   },
   "outputs": [],
   "source": [
    "# This calculates MJDs and BJDs of light curve maxima, as observed at MacAdam, U Louisville, and Mt. Kent in Australia\n",
    "\n",
    "# created 2018 Jan 02 by E.S."
   ]
  },
  {
   "cell_type": "code",
   "execution_count": 1,
   "metadata": {},
   "outputs": [],
   "source": [
    "import astropy\n",
    "from astropy.io import fits\n",
    "import matplotlib.pyplot as plt\n",
    "import numpy as np\n",
    "import pandas as pd\n",
    "import os\n",
    "from os import listdir\n",
    "from os.path import isfile, join\n",
    "from datetime import datetime\n",
    "from astropy import time, coordinates as coord, units as u\n",
    "from astropy.time import Time\n",
    "from dateutil.parser import parse\n",
    "import glob"
   ]
  },
  {
   "cell_type": "code",
   "execution_count": 2,
   "metadata": {},
   "outputs": [],
   "source": [
    "# read in list of epochs-of-max in JD, and add columns of HJD and BJD\n",
    "\n",
    "file_path = \"/Users/bandari/Documents/git.repos/rrlfe/notebooks_for_development/photometry_max_epochs_jd.csv\""
   ]
  },
  {
   "cell_type": "code",
   "execution_count": 3,
   "metadata": {},
   "outputs": [],
   "source": [
    "photometry_jd = pd.read_csv(file_path)"
   ]
  },
  {
   "cell_type": "code",
   "execution_count": 4,
   "metadata": {},
   "outputs": [],
   "source": [
    "########################################\n",
    "## FIND HJDs, BJDs\n",
    "########################################"
   ]
  },
  {
   "cell_type": "code",
   "execution_count": 5,
   "metadata": {},
   "outputs": [],
   "source": [
    "# set observatory coordinates \n",
    "\n",
    "loc_mcdonald = coord.EarthLocation.from_geodetic(lon=-104.022438,lat=30.671626,height=2076,ellipsoid='WGS84')\n",
    "loc_macadam = coord.EarthLocation.from_geodetic(lon=-84.503758,lat=38.033949,height=298,ellipsoid='WGS84')\n",
    "loc_mtKent = coord.EarthLocation.from_geodetic(lon=151.855484,lat=-27.797708,height=682,ellipsoid='WGS84')\n",
    "loc_ulmo = coord.EarthLocation.from_geodetic(lon=-85.528756,lat=38.344543,height=142,ellipsoid='WGS84')"
   ]
  },
  {
   "cell_type": "code",
   "execution_count": 6,
   "metadata": {},
   "outputs": [],
   "source": [
    "# make time objects\n",
    "\n",
    "photometry_times = Time(photometry_jd['jd'], format='jd')"
   ]
  },
  {
   "cell_type": "code",
   "execution_count": 8,
   "metadata": {},
   "outputs": [],
   "source": [
    "# fcn to convert MJD to BJD times\n",
    "\n",
    "def convert_mjd_to_bjd(mjdTimes,observatoryLoc,skyCoordObj):\n",
    "\n",
    "    timesObj = time.Time(mjdTimes, format='mjd', scale='utc', location=observatoryLoc)\n",
    "    ltt_bary = timesObj.light_travel_time(skyCoordObj)\n",
    "    \n",
    "    time_barycentre = timesObj.tdb + ltt_bary \n",
    "        \n",
    "    return time_barycentre.mjd"
   ]
  },
  {
   "cell_type": "code",
   "execution_count": 9,
   "metadata": {},
   "outputs": [],
   "source": [
    "# fcn to convert JD to BJD times\n",
    "\n",
    "'''\n",
    "THIS WAS BEING TESTED...\n",
    "def convert_jd_to_bjd(jdTimes,observatoryLoc,skyCoordObj):\n",
    "\n",
    "    timesObj = time.Time(jdTimes, format='jd', scale='utc', location=observatoryLoc)\n",
    "    ltt_bary = timesObj.light_travel_time(skyCoordObj)\n",
    "    \n",
    "    time_barycentre = timesObj.tdb + ltt_bary \n",
    "        \n",
    "    return time_barycentre.mjd\n",
    "'''"
   ]
  },
  {
   "cell_type": "code",
   "execution_count": 10,
   "metadata": {},
   "outputs": [],
   "source": [
    "# fcn to convert MJD to HJD times\n",
    "\n",
    "def convert_mjd_to_hjd(mjdTimes,observatoryLoc,skyCoordObj):\n",
    "\n",
    "    timesObj = time.Time(mjdTimes, format='mjd', scale='utc', location=observatoryLoc)\n",
    "    ltt_helio = timesObj.light_travel_time(skyCoordObj, 'heliocentric')\n",
    "    \n",
    "    times_heliocentre = timesObj.utc + ltt_helio \n",
    "        \n",
    "    return times_heliocentre.mjd"
   ]
  },
  {
   "cell_type": "code",
   "execution_count": 17,
   "metadata": {},
   "outputs": [],
   "source": [
    "# read in star name, return file names and BJDs of epochs-of-max\n",
    "\n",
    "def return_star_epochs_photometry(starNames,jdTimes,observatoryLocs):\n",
    "    # returns cols of MJD, HJD, and BJD\n",
    "    \n",
    "    if len(starNames) != len(jdTimes): # something must be wrong!\n",
    "        return\n",
    "    \n",
    "    # initialize a pandas dataframe\n",
    "    df = pd.DataFrame()\n",
    "    \n",
    "    # convert jds to mjds\n",
    "    mjdTimes = jdTimes.mjd\n",
    "    \n",
    "    thisStar = []\n",
    "    observatoryThisStar = []\n",
    "    jdThisStar = []\n",
    "    mjdThisStar = []\n",
    "    hjdThisStar = []\n",
    "    bjdThisStar = []\n",
    "    \n",
    "    # go through each row in file\n",
    "    for t in range(0,len(jdTimes)): \n",
    "        \n",
    "        # make a star coordinate object\n",
    "        coord_thisStar = coord.SkyCoord.from_name(starNames[t])\n",
    "        print(\"==========\")\n",
    "        print(starNames[t])\n",
    "        print(\"coords star: \", coord_thisStar)\n",
    "        \n",
    "        # determine observatory location\n",
    "        if (observatoryLocs[t] == 'MSO'): observ_thisStar = loc_macadam \n",
    "        if (observatoryLocs[t] == 'MtKent'): observ_thisStar = loc_mtKent \n",
    "        if (observatoryLocs[t] == 'ULMO'): observ_thisStar = loc_ulmo \n",
    "        \n",
    "        thisStar.append(starNames[t])\n",
    "        observatoryThisStar.append(observatoryLocs[t])\n",
    "        jdThisStar.append(jdTimes[t].jd)\n",
    "        mjdThisStar.append(mjdTimes[t])\n",
    "        hjdThisStar.append(convert_mjd_to_hjd(mjdTimes[t],observ_thisStar,coord_thisStar))\n",
    "        bjdThisStar.append(convert_mjd_to_bjd(mjdTimes[t],observ_thisStar,coord_thisStar)) \n",
    "        print(\"BJD from JD:\", convert_jd_to_bjd(jdTimes.jd[t],observ_thisStar,coord_thisStar))\n",
    "        print(\"BJD from MJD:\", convert_mjd_to_bjd(jdTimes.mjd[t],observ_thisStar,coord_thisStar))\n",
    "                \n",
    "    df['star'] = thisStar\n",
    "    df['observatory'] = observatoryThisStar\n",
    "    df['jd'] = jdThisStar\n",
    "    df['mjd'] = mjdThisStar\n",
    "    df['hjd'] = hjdThisStar\n",
    "    df['bjd'] = bjdThisStar\n",
    "    \n",
    "    return df"
   ]
  },
  {
   "cell_type": "code",
   "execution_count": 18,
   "metadata": {},
   "outputs": [
    {
     "name": "stdout",
     "output_type": "stream",
     "text": [
      "==========\n",
      "AR_Per\n",
      "coords star:  <SkyCoord (ICRS): (ra, dec) in deg\n",
      "    (64.32165701, 47.40017656)>\n",
      "BJD from JD: 56574.24991517952\n",
      "BJD from MJD: 56574.24991517952\n",
      "==========\n",
      "AV_Peg\n",
      "coords star:  <SkyCoord (ICRS): (ra, dec) in deg\n",
      "    (328.01164386, 22.5748269)>\n",
      "BJD from JD: 56593.0890477299\n",
      "BJD from MJD: 56593.0890477299\n",
      "==========\n",
      "BH_Peg\n",
      "coords star:  <SkyCoord (ICRS): (ra, dec) in deg\n",
      "    (343.2543208, 15.78794711)>\n",
      "BJD from JD: 56563.13163110402\n",
      "BJD from MJD: 56563.13163110402\n",
      "==========\n",
      "RR_Cet\n",
      "coords star:  <SkyCoord (ICRS): (ra, dec) in deg\n",
      "    (23.03405475, 1.34173058)>\n",
      "BJD from JD: 56576.17200203593\n",
      "BJD from MJD: 56576.17200203593\n",
      "==========\n",
      "RR_Leo\n",
      "coords star:  <SkyCoord (ICRS): (ra, dec) in deg\n",
      "    (151.93108553, 23.99175523)>\n",
      "BJD from JD: 56604.445375506046\n",
      "BJD from MJD: 56604.445375506046\n",
      "==========\n",
      "RR_Lyr\n",
      "coords star:  <SkyCoord (ICRS): (ra, dec) in deg\n",
      "    (291.366304, 42.78435924)>\n",
      "BJD from JD: 56465.12431266538\n",
      "BJD from MJD: 56465.12431266538\n",
      "==========\n",
      "RU_Psc\n",
      "coords star:  <SkyCoord (ICRS): (ra, dec) in deg\n",
      "    (18.60848825, 24.41565764)>\n",
      "BJD from JD: 56602.220428745175\n",
      "BJD from MJD: 56602.220428745175\n",
      "==========\n",
      "RW_Ari\n",
      "coords star:  <SkyCoord (ICRS): (ra, dec) in deg\n",
      "    (34.01548142, 17.5330267)>\n",
      "BJD from JD: 56313.05539369793\n",
      "BJD from MJD: 56313.05539369793\n",
      "==========\n",
      "SV_Eri\n",
      "coords star:  <SkyCoord (ICRS): (ra, dec) in deg\n",
      "    (47.96711419, -11.35390762)>\n",
      "BJD from JD: 56579.538161602584\n",
      "BJD from MJD: 56579.538161602584\n",
      "==========\n",
      "T_Sex\n",
      "coords star:  <SkyCoord (ICRS): (ra, dec) in deg\n",
      "    (148.36833332, 2.05731839)>\n",
      "BJD from JD: 56275.32301923439\n",
      "BJD from MJD: 56275.32301923439\n",
      "==========\n",
      "TT_Lyn\n",
      "coords star:  <SkyCoord (ICRS): (ra, dec) in deg\n",
      "    (135.78244362, 44.58558878)>\n",
      "BJD from JD: 56606.2687475973\n",
      "BJD from MJD: 56606.2687475973\n",
      "==========\n",
      "TV_Lyn\n",
      "coords star:  <SkyCoord (ICRS): (ra, dec) in deg\n",
      "    (113.38223298, 47.80273092)>\n",
      "BJD from JD: 56624.30421336485\n",
      "BJD from MJD: 56624.30421336485\n",
      "==========\n",
      "TW_Lyn\n",
      "coords star:  <SkyCoord (ICRS): (ra, dec) in deg\n",
      "    (116.27625511, 43.11154925)>\n",
      "BJD from JD: 56606.37575427074\n",
      "BJD from MJD: 56606.37575427074\n",
      "==========\n",
      "V445_Oph\n",
      "coords star:  <SkyCoord (ICRS): (ra, dec) in deg\n",
      "    (246.1717317, -6.54164682)>\n",
      "BJD from JD: 56485.20780172412\n",
      "BJD from MJD: 56485.20780172412\n",
      "==========\n",
      "VX_Her\n",
      "coords star:  <SkyCoord (ICRS): (ra, dec) in deg\n",
      "    (247.67001126, 18.36682585)>\n",
      "BJD from JD: 56575.05187518106\n",
      "BJD from MJD: 56575.05187518106\n",
      "==========\n",
      "X_Ari\n",
      "coords star:  <SkyCoord (ICRS): (ra, dec) in deg\n",
      "    (47.12868602, 10.44589409)>\n",
      "BJD from JD: 56600.07824746536\n",
      "BJD from MJD: 56600.07824746536\n",
      "==========\n",
      "TU_UMa\n",
      "coords star:  <SkyCoord (ICRS): (ra, dec) in deg\n",
      "    (172.45203912, 30.06732762)>\n",
      "BJD from JD: 56679.23255808419\n",
      "BJD from MJD: 56679.23255808419\n",
      "==========\n",
      "TV_Lyn\n",
      "coords star:  <SkyCoord (ICRS): (ra, dec) in deg\n",
      "    (113.38223298, 47.80273092)>\n",
      "BJD from JD: 56311.173919395\n",
      "BJD from MJD: 56311.173919395\n",
      "==========\n",
      "UY_Cam\n",
      "coords star:  <SkyCoord (ICRS): (ra, dec) in deg\n",
      "    (119.74534378, 72.78761191)>\n",
      "BJD from JD: 56575.27609996129\n",
      "BJD from MJD: 56575.27609996129\n",
      "==========\n",
      "V535_Mon\n",
      "coords star:  <SkyCoord (ICRS): (ra, dec) in deg\n",
      "    (107.70347117, 1.28223472)>\n",
      "BJD from JD: 56610.34788480149\n",
      "BJD from MJD: 56610.34788480149\n"
     ]
    }
   ],
   "source": [
    "# find \n",
    "\n",
    "photometryEpochs = return_star_epochs_photometry(photometry_jd['star'],photometry_times,photometry_jd['observatory'])"
   ]
  },
  {
   "cell_type": "code",
   "execution_count": 20,
   "metadata": {},
   "outputs": [
    {
     "name": "stdout",
     "output_type": "stream",
     "text": [
      "Wrote  junk.csv\n"
     ]
    }
   ],
   "source": [
    "# write out csv\n",
    "\n",
    "file_name_out = 'junk.csv'\n",
    "photometryEpochs.to_csv(file_name_out)\n",
    "print(\"Wrote \", file_name_out)"
   ]
  },
  {
   "cell_type": "code",
   "execution_count": null,
   "metadata": {},
   "outputs": [],
   "source": []
  }
 ],
 "metadata": {
  "kernelspec": {
   "display_name": "Python 3",
   "language": "python",
   "name": "python3"
  },
  "language_info": {
   "codemirror_mode": {
    "name": "ipython",
    "version": 3
   },
   "file_extension": ".py",
   "mimetype": "text/x-python",
   "name": "python",
   "nbconvert_exporter": "python",
   "pygments_lexer": "ipython3",
   "version": "3.6.6"
  }
 },
 "nbformat": 4,
 "nbformat_minor": 1
}
