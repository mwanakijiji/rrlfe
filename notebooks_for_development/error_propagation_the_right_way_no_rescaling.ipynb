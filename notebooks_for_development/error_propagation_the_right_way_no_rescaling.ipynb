{
 "cells": [
  {
   "cell_type": "code",
   "execution_count": 1,
   "id": "positive-omega",
   "metadata": {},
   "outputs": [],
   "source": [
    "import numpy as np\n",
    "import pandas as pd\n",
    "import matplotlib.pyplot as plt"
   ]
  },
  {
   "cell_type": "code",
   "execution_count": 2,
   "id": "resident-student",
   "metadata": {},
   "outputs": [],
   "source": [
    "stem = \"/Users/bandari/Documents/git.repos/rrlfe/\""
   ]
  },
  {
   "cell_type": "code",
   "execution_count": 3,
   "id": "central-garbage",
   "metadata": {},
   "outputs": [],
   "source": [
    "# read in data\n",
    "\n",
    "file_name = stem + \"ew_products/all_sdss_spectra_20211118_restacked_ew_info_good_only_w_net_balmer_errors.csv\""
   ]
  },
  {
   "cell_type": "code",
   "execution_count": 4,
   "id": "pointed-klein",
   "metadata": {},
   "outputs": [],
   "source": [
    "df = pd.read_csv(file_name)"
   ]
  },
  {
   "cell_type": "code",
   "execution_count": 5,
   "id": "joint-integer",
   "metadata": {},
   "outputs": [
    {
     "data": {
      "text/plain": [
       "Index(['realization_spec_file_name', 'orig_spec_file_name', 'EW_Hbeta',\n",
       "       'err_EW_Hbeta_from_robo', 'EW_Hdelta', 'err_EW_Hdelta_from_robo',\n",
       "       'EW_Hgamma', 'err_EW_Hgamma_from_robo', 'EW_Heps',\n",
       "       'err_EW_Heps_from_robo', 'EW_CaIIK', 'err_EW_CaIIK_from_robo',\n",
       "       'EW_Balmer', 'err_EW_Balmer_based_Robo',\n",
       "       'err_EW_Balmer_based_noise_churning'],\n",
       "      dtype='object')"
      ]
     },
     "execution_count": 5,
     "metadata": {},
     "output_type": "execute_result"
    }
   ],
   "source": [
    "df.keys()"
   ]
  },
  {
   "cell_type": "code",
   "execution_count": 6,
   "id": "fallen-strain",
   "metadata": {},
   "outputs": [
    {
     "data": {
      "image/png": "[encoded data removed]",
      "text/plain": [
       "<Figure size 432x288 with 1 Axes>"
      ]
     },
     "metadata": {
      "needs_background": "light"
     },
     "output_type": "display_data"
    }
   ],
   "source": [
    "plt.scatter(df[\"EW_Hdelta\"], df[\"EW_Hgamma\"], s=4)\n",
    "plt.xlim([0,20])\n",
    "plt.ylim([0,20])\n",
    "plt.show()"
   ]
  },
  {
   "cell_type": "code",
   "execution_count": 7,
   "id": "governing-power",
   "metadata": {},
   "outputs": [],
   "source": [
    "# np.logical_and(df[\"EW_Hdelta\"] > 0.5, df[\"EW_Hdelta\"] < 20.)\n",
    "# np.logical_and(df[\"EW_Hgamma\"] > 0.5, df[\"EW_Hgamma\"] < 20.)"
   ]
  },
  {
   "cell_type": "code",
   "execution_count": 18,
   "id": "productive-wyoming",
   "metadata": {},
   "outputs": [],
   "source": [
    "# get rid of really bad points\n",
    "\n",
    "idx_cond = np.logical_and(\n",
    "                        np.logical_and(df[\"EW_Hdelta\"] > 0.5, df[\"EW_Hdelta\"] < 20.),\n",
    "                        np.logical_and(df[\"EW_Hgamma\"] > 0.5, df[\"EW_Hgamma\"] < 20.)\n",
    "                        )"
   ]
  },
  {
   "cell_type": "code",
   "execution_count": 19,
   "id": "mediterranean-possession",
   "metadata": {},
   "outputs": [],
   "source": [
    "W_gamma = df[\"EW_Hgamma\"].where(idx_cond).dropna()\n",
    "W_delta = df[\"EW_Hdelta\"].where(idx_cond).dropna()\n",
    "err_W_gamma = df[\"err_EW_Hgamma_from_robo\"].where(idx_cond).dropna()\n",
    "err_W_delta = df[\"err_EW_Hdelta_from_robo\"].where(idx_cond).dropna()"
   ]
  },
  {
   "cell_type": "code",
   "execution_count": 20,
   "id": "centered-nigeria",
   "metadata": {},
   "outputs": [],
   "source": [
    "coeff, cov = np.polyfit(W_delta, W_gamma, deg=1, full=False, cov=True)\n",
    "m = coeff[0]\n",
    "b = coeff[1]\n",
    "err_m = np.sqrt(np.diag(cov))[0]\n",
    "err_b = np.sqrt(np.diag(cov))[1]"
   ]
  },
  {
   "cell_type": "code",
   "execution_count": 23,
   "id": "respiratory-preparation",
   "metadata": {},
   "outputs": [
    {
     "data": {
      "text/plain": [
       "-1.0710303377647705"
      ]
     },
     "execution_count": 23,
     "metadata": {},
     "output_type": "execute_result"
    }
   ],
   "source": [
    "cov[0,1]*len(err_W_gamma)"
   ]
  },
  {
   "cell_type": "code",
   "execution_count": 13,
   "id": "perceived-parking",
   "metadata": {},
   "outputs": [
    {
     "data": {
      "image/png": "[encoded data removed]",
      "text/plain": [
       "<Figure size 432x288 with 1 Axes>"
      ]
     },
     "metadata": {
      "needs_background": "light"
     },
     "output_type": "display_data"
    }
   ],
   "source": [
    "plt.hist(err_W_gamma, bins=200)\n",
    "plt.show()"
   ]
  },
  {
   "cell_type": "code",
   "execution_count": 15,
   "id": "interpreted-trace",
   "metadata": {},
   "outputs": [
    {
     "data": {
      "text/plain": [
       "2568"
      ]
     },
     "execution_count": 15,
     "metadata": {},
     "output_type": "execute_result"
    }
   ],
   "source": [
    "len(err_W_gamma)*np.median()"
   ]
  },
  {
   "cell_type": "code",
   "execution_count": 24,
   "id": "amazing-belarus",
   "metadata": {},
   "outputs": [
    {
     "data": {
      "text/plain": [
       "array([[ 5.20144066e-05, -4.17067889e-04],\n",
       "       [-4.17067889e-04,  3.76094547e-03]])"
      ]
     },
     "execution_count": 24,
     "metadata": {},
     "output_type": "execute_result"
    }
   ],
   "source": [
    "cov"
   ]
  },
  {
   "cell_type": "code",
   "execution_count": 28,
   "id": "diverse-architecture",
   "metadata": {},
   "outputs": [
    {
     "data": {
      "text/plain": [
       "array([[0.00312134, 0.00267308],\n",
       "       [0.00267308, 0.0027058 ]])"
      ]
     },
     "execution_count": 28,
     "metadata": {},
     "output_type": "execute_result"
    }
   ],
   "source": [
    "np.divide(np.cov(W_delta,W_gamma),len(W_gamma))"
   ]
  },
  {
   "cell_type": "code",
   "execution_count": 27,
   "id": "confidential-snapshot",
   "metadata": {},
   "outputs": [
    {
     "data": {
      "image/png": "[encoded data removed]",
      "text/plain": [
       "<Figure size 432x288 with 1 Axes>"
      ]
     },
     "metadata": {
      "needs_background": "light"
     },
     "output_type": "display_data"
    }
   ],
   "source": [
    "plt.hist(W_delta, bins=200)\n",
    "plt.show()"
   ]
  },
  {
   "cell_type": "code",
   "execution_count": 37,
   "id": "hybrid-extra",
   "metadata": {},
   "outputs": [],
   "source": [
    "x_test = np.ones(1000)*np.random.normal(size=1000)\n",
    "y_test = np.add(4.3*x_test,np.random.normal(size=1000))"
   ]
  },
  {
   "cell_type": "code",
   "execution_count": 38,
   "id": "amino-cambridge",
   "metadata": {},
   "outputs": [
    {
     "data": {
      "image/png": "[encoded data removed]",
      "text/plain": [
       "<Figure size 432x288 with 1 Axes>"
      ]
     },
     "metadata": {
      "needs_background": "light"
     },
     "output_type": "display_data"
    }
   ],
   "source": [
    "plt.scatter(x_test,y_test)\n",
    "plt.show()"
   ]
  },
  {
   "cell_type": "code",
   "execution_count": 39,
   "id": "departmental-morning",
   "metadata": {},
   "outputs": [],
   "source": [
    "coeff, cov = np.polyfit(x_test, y_test, deg=1, full=False, cov=True)"
   ]
  },
  {
   "cell_type": "code",
   "execution_count": 40,
   "id": "finished-plymouth",
   "metadata": {},
   "outputs": [
    {
     "data": {
      "text/plain": [
       "array([4.3317161 , 0.01900331])"
      ]
     },
     "execution_count": 40,
     "metadata": {},
     "output_type": "execute_result"
    }
   ],
   "source": [
    "coeff"
   ]
  },
  {
   "cell_type": "code",
   "execution_count": 41,
   "id": "adjacent-colorado",
   "metadata": {},
   "outputs": [
    {
     "data": {
      "text/plain": [
       "array([[9.44673621e-04, 5.41226235e-05],\n",
       "       [5.41226235e-05, 9.90098424e-04]])"
      ]
     },
     "execution_count": 41,
     "metadata": {},
     "output_type": "execute_result"
    }
   ],
   "source": [
    "cov"
   ]
  },
  {
   "cell_type": "code",
   "execution_count": 46,
   "id": "reduced-broadcasting",
   "metadata": {},
   "outputs": [],
   "source": [
    "coeff2, cov2 = np.polyfit(W_delta, W_gamma, deg=1, full=False, cov=True)"
   ]
  },
  {
   "cell_type": "code",
   "execution_count": 47,
   "id": "informed-isaac",
   "metadata": {},
   "outputs": [
    {
     "data": {
      "image/png": "[encoded data removed]",
      "text/plain": [
       "<Figure size 432x288 with 1 Axes>"
      ]
     },
     "metadata": {
      "needs_background": "light"
     },
     "output_type": "display_data"
    }
   ],
   "source": [
    "plt.scatter(W_delta, W_gamma)\n",
    "plt.show()"
   ]
  },
  {
   "cell_type": "code",
   "execution_count": 72,
   "id": "inclusive-growth",
   "metadata": {},
   "outputs": [
    {
     "data": {
      "image/png": "[encoded data removed]",
      "text/plain": [
       "<Figure size 432x288 with 1 Axes>"
      ]
     },
     "metadata": {
      "needs_background": "light"
     },
     "output_type": "display_data"
    }
   ],
   "source": [
    "plt.scatter(err_W_delta, err_W_gamma, s=3)\n",
    "plt.show()"
   ]
  },
  {
   "cell_type": "code",
   "execution_count": 73,
   "id": "republican-delight",
   "metadata": {},
   "outputs": [
    {
     "data": {
      "text/plain": [
       "array([[2.67884462, 0.22860484],\n",
       "       [0.22860484, 0.73623591]])"
      ]
     },
     "execution_count": 73,
     "metadata": {},
     "output_type": "execute_result"
    }
   ],
   "source": [
    "np.cov(err_W_delta, err_W_gamma)"
   ]
  },
  {
   "cell_type": "code",
   "execution_count": null,
   "id": "inappropriate-problem",
   "metadata": {},
   "outputs": [],
   "source": [
    "coeff, cov = np.polyfit(x_test, y_test, deg=1, full=False, cov=True)err_W_gamma"
   ]
  },
  {
   "cell_type": "code",
   "execution_count": 45,
   "id": "virgin-wrist",
   "metadata": {},
   "outputs": [
    {
     "data": {
      "text/plain": [
       "array([[ 6.92170118e-05, -5.36144161e-04],\n",
       "       [-5.36144161e-04,  4.63365589e-03]])"
      ]
     },
     "execution_count": 45,
     "metadata": {},
     "output_type": "execute_result"
    }
   ],
   "source": [
    "cov2"
   ]
  },
  {
   "cell_type": "code",
   "execution_count": 51,
   "id": "original-mentor",
   "metadata": {},
   "outputs": [
    {
     "data": {
      "text/plain": [
       "(2, 1000)"
      ]
     },
     "execution_count": 51,
     "metadata": {},
     "output_type": "execute_result"
    }
   ],
   "source": [
    "np.shape([x_test,y_test]) # each row is a variable; each col is an observation"
   ]
  },
  {
   "cell_type": "code",
   "execution_count": 54,
   "id": "adjacent-grave",
   "metadata": {},
   "outputs": [],
   "source": [
    "test_matrix = np.cov([x_test,y_test])"
   ]
  },
  {
   "cell_type": "code",
   "execution_count": 67,
   "id": "composed-webmaster",
   "metadata": {},
   "outputs": [],
   "source": [
    "test_matrix_line = np.cov([W_delta,W_gamma])\n",
    "test_matrix_error = np.cov([err_W_delta,err_W_gamma])"
   ]
  },
  {
   "cell_type": "code",
   "execution_count": 68,
   "id": "daily-bosnia",
   "metadata": {},
   "outputs": [],
   "source": [
    "# Jacobian\n",
    "\n",
    "F_matrix = 0.5*np.matrix([[1,1]])"
   ]
  },
  {
   "cell_type": "code",
   "execution_count": 69,
   "id": "framed-radiation",
   "metadata": {},
   "outputs": [],
   "source": [
    "C_matrix = np.copy(test_matrix_line)\n",
    "C_matrix[0,1] = \n",
    "C_matrix[1,0] = \n",
    "var_B = np.matmul(F_matrix,np.matmul(,F_matrix.T))"
   ]
  },
  {
   "cell_type": "code",
   "execution_count": 70,
   "id": "failing-classification",
   "metadata": {},
   "outputs": [
    {
     "name": "stdout",
     "output_type": "stream",
     "text": [
      "[[7.17325787]]\n"
     ]
    }
   ],
   "source": [
    "print(var_B)"
   ]
  },
  {
   "cell_type": "code",
   "execution_count": 66,
   "id": "knowing-competition",
   "metadata": {},
   "outputs": [
    {
     "name": "stdout",
     "output_type": "stream",
     "text": [
      "[[8.01559039 6.86447169]\n",
      " [6.86447169 6.94849769]]\n",
      "[[2.67884462 0.22860484]\n",
      " [0.22860484 0.73623591]]\n"
     ]
    }
   ],
   "source": [
    "print(test_matrix_line)\n",
    "print(test_matrix_error)"
   ]
  },
  {
   "cell_type": "code",
   "execution_count": 57,
   "id": "overall-assurance",
   "metadata": {},
   "outputs": [
    {
     "name": "stdout",
     "output_type": "stream",
     "text": [
      "1.0226673998910085\n",
      "1.0221559382936816\n"
     ]
    }
   ],
   "source": [
    "print(np.sqrt(test_matrix[0,0]))\n",
    "print(np.std(x_test))"
   ]
  },
  {
   "cell_type": "code",
   "execution_count": 58,
   "id": "comic-pizza",
   "metadata": {},
   "outputs": [
    {
     "name": "stdout",
     "output_type": "stream",
     "text": [
      "4.539831107290182\n",
      "4.537560623973732\n"
     ]
    }
   ],
   "source": [
    "print(np.sqrt(test_matrix[1,1]))\n",
    "print(np.std(y_test))"
   ]
  },
  {
   "cell_type": "code",
   "execution_count": 60,
   "id": "velvet-flower",
   "metadata": {},
   "outputs": [
    {
     "name": "stdout",
     "output_type": "stream",
     "text": [
      "4.530319260822795\n",
      "0.004530319260822795\n"
     ]
    }
   ],
   "source": [
    "print(test_matrix[0,1])\n",
    "print(np.divide(test_matrix[0,1],len(x_test)))"
   ]
  },
  {
   "cell_type": "code",
   "execution_count": 56,
   "id": "limited-truck",
   "metadata": {},
   "outputs": [
    {
     "data": {
      "text/plain": [
       "1.0221559382936816"
      ]
     },
     "execution_count": 56,
     "metadata": {},
     "output_type": "execute_result"
    }
   ],
   "source": [
    "np.std(x_test)"
   ]
  },
  {
   "cell_type": "code",
   "execution_count": 52,
   "id": "measured-bicycle",
   "metadata": {},
   "outputs": [],
   "source": [
    "x = np.array([[0, 2], [1, 1], [2, 0]]).T"
   ]
  },
  {
   "cell_type": "code",
   "execution_count": 53,
   "id": "ordinary-registrar",
   "metadata": {},
   "outputs": [
    {
     "data": {
      "text/plain": [
       "array([[ 1., -1.],\n",
       "       [-1.,  1.]])"
      ]
     },
     "execution_count": 53,
     "metadata": {},
     "output_type": "execute_result"
    }
   ],
   "source": [
    "np.cov(x)"
   ]
  },
  {
   "cell_type": "code",
   "execution_count": 18,
   "id": "olive-boundary",
   "metadata": {},
   "outputs": [],
   "source": [
    "# Propagate the error in the equation\n",
    "#\n",
    "# W_B = (1/2)*(W_delta + W_gamma_prime)\n",
    "#\n",
    "# as\n",
    "#\n",
    "# var_B = sigma_B^2 = F_matrix * C_matrix * (F_matrix^T)\n",
    "#\n",
    "# where F_matrix is the Jacobian matrix and C_matrix is the variance-covariance matrix"
   ]
  },
  {
   "cell_type": "code",
   "execution_count": 19,
   "id": "sublime-xerox",
   "metadata": {},
   "outputs": [],
   "source": [
    "# Jacobian\n",
    "\n",
    "F_matrix = 0.5*np.matrix([[1,1]])"
   ]
  },
  {
   "cell_type": "code",
   "execution_count": 20,
   "id": "conditional-corps",
   "metadata": {},
   "outputs": [],
   "source": [
    "# variance-covariance matrix\n",
    "\n",
    "C_matrix = np.copy(cov_scaled)"
   ]
  },
  {
   "cell_type": "code",
   "execution_count": 21,
   "id": "hollow-county",
   "metadata": {},
   "outputs": [],
   "source": [
    "# find variance of net balmer line\n",
    "\n",
    "var_B = np.matmul(F_matrix,np.matmul(C_matrix,F_matrix.T))"
   ]
  },
  {
   "cell_type": "code",
   "execution_count": 22,
   "id": "cleared-little",
   "metadata": {},
   "outputs": [
    {
     "data": {
      "text/plain": [
       "matrix([[0.00101541]])"
      ]
     },
     "execution_count": 22,
     "metadata": {},
     "output_type": "execute_result"
    }
   ],
   "source": [
    "var_B"
   ]
  },
  {
   "cell_type": "code",
   "execution_count": 26,
   "id": "amended-evening",
   "metadata": {},
   "outputs": [],
   "source": [
    "sigma_B = np.sqrt(var_B[0,0])"
   ]
  },
  {
   "cell_type": "code",
   "execution_count": 27,
   "id": "peaceful-pharmacy",
   "metadata": {},
   "outputs": [
    {
     "data": {
      "text/plain": [
       "0.03186550687604238"
      ]
     },
     "execution_count": 27,
     "metadata": {},
     "output_type": "execute_result"
    }
   ],
   "source": [
    "sigma_B"
   ]
  },
  {
   "cell_type": "code",
   "execution_count": 25,
   "id": "moved-teacher",
   "metadata": {},
   "outputs": [
    {
     "data": {
      "text/plain": [
       "(1, 1)"
      ]
     },
     "execution_count": 25,
     "metadata": {},
     "output_type": "execute_result"
    }
   ],
   "source": [
    "np.sqrt(var_B).shape"
   ]
  },
  {
   "cell_type": "code",
   "execution_count": 28,
   "id": "searching-profit",
   "metadata": {},
   "outputs": [
    {
     "data": {
      "text/plain": [
       "0.008421514907883813"
      ]
     },
     "execution_count": 28,
     "metadata": {},
     "output_type": "execute_result"
    }
   ],
   "source": [
    "np.sqrt(C_matrix[0,0])"
   ]
  },
  {
   "cell_type": "code",
   "execution_count": 29,
   "id": "dangerous-sunrise",
   "metadata": {},
   "outputs": [
    {
     "data": {
      "text/plain": [
       "0.0716105345726555"
      ]
     },
     "execution_count": 29,
     "metadata": {},
     "output_type": "execute_result"
    }
   ],
   "source": [
    "np.sqrt(C_matrix[1,1])"
   ]
  },
  {
   "cell_type": "code",
   "execution_count": 30,
   "id": "regulated-pipeline",
   "metadata": {},
   "outputs": [],
   "source": [
    "# check the answer manually\n",
    "\n",
    "var_B_manual = 0.25*(C_matrix[0,0] + C_matrix[1,1]) + 0.5*C_matrix[0,1]"
   ]
  },
  {
   "cell_type": "code",
   "execution_count": 31,
   "id": "played-guyana",
   "metadata": {},
   "outputs": [
    {
     "data": {
      "text/plain": [
       "0.001015410528467104"
      ]
     },
     "execution_count": 31,
     "metadata": {},
     "output_type": "execute_result"
    }
   ],
   "source": [
    "var_B_manual"
   ]
  },
  {
   "cell_type": "code",
   "execution_count": 32,
   "id": "stuffed-webcam",
   "metadata": {},
   "outputs": [
    {
     "data": {
      "text/plain": [
       "0.03186550687604238"
      ]
     },
     "execution_count": 32,
     "metadata": {},
     "output_type": "execute_result"
    }
   ],
   "source": [
    "np.sqrt(var_B_manual)"
   ]
  },
  {
   "cell_type": "code",
   "execution_count": null,
   "id": "resistant-budapest",
   "metadata": {},
   "outputs": [],
   "source": [
    "# ... but note that this just yields one net variance, var_B, for all the data points.\n",
    "# We want an error for *each* data point, so when we find the net variance of the \n",
    "# Balmer line, use error values from a single line for var_delta and var_gamma_prime\n",
    "\n",
    "\n",
    "for line_num in range(0,len(err_W_gamma)):\n",
    "    C_matrix_1 = np.copy(cov_scaled) # '_1' for 'one line'; here we just want to keep the covariance terms\n",
    "    C_matrix_1[0,0] = np.power(W_gamma_prime,2.)\n",
    "    C_matrix_1[0,0] = np.power(err_W_delta_prime,2.)\n",
    "    var_B_each_pt = np.matmul(F_matrix,np.matmul(C_matrix,F_matrix.T))\n"
   ]
  },
  {
   "cell_type": "code",
   "execution_count": 42,
   "id": "adequate-accounting",
   "metadata": {},
   "outputs": [
    {
     "data": {
      "image/png": "[encoded data removed]",
      "text/plain": [
       "<Figure size 432x288 with 1 Axes>"
      ]
     },
     "metadata": {
      "needs_background": "light"
     },
     "output_type": "display_data"
    }
   ],
   "source": [
    "plt.clf()\n",
    "plt.hist(df[\"EW_Hgamma\"], bins=200)\n",
    "plt.xlim([0,30])\n",
    "plt.show()"
   ]
  },
  {
   "cell_type": "code",
   "execution_count": 41,
   "id": "pregnant-windsor",
   "metadata": {},
   "outputs": [
    {
     "data": {
      "image/png": "[encoded data removed]",
      "text/plain": [
       "<Figure size 432x288 with 1 Axes>"
      ]
     },
     "metadata": {
      "needs_background": "light"
     },
     "output_type": "display_data"
    }
   ],
   "source": [
    "plt.clf()\n",
    "plt.hist(df[\"EW_Hdelta\"], bins=200)\n",
    "plt.xlim([0,30])\n",
    "plt.show()"
   ]
  },
  {
   "cell_type": "code",
   "execution_count": 43,
   "id": "laden-jordan",
   "metadata": {},
   "outputs": [
    {
     "data": {
      "text/plain": [
       "0.8563900293407558"
      ]
     },
     "execution_count": 43,
     "metadata": {},
     "output_type": "execute_result"
    }
   ],
   "source": [
    "m"
   ]
  },
  {
   "cell_type": "code",
   "execution_count": null,
   "id": "ready-budapest",
   "metadata": {},
   "outputs": [],
   "source": [
    "df[\"EW_Hgamma\"]"
   ]
  }
 ],
 "metadata": {
  "kernelspec": {
   "display_name": "Python 3",
   "language": "python",
   "name": "python3"
  },
  "language_info": {
   "codemirror_mode": {
    "name": "ipython",
    "version": 3
   },
   "file_extension": ".py",
   "mimetype": "text/x-python",
   "name": "python",
   "nbconvert_exporter": "python",
   "pygments_lexer": "ipython3",
   "version": "3.6.6"
  }
 },
 "nbformat": 4,
 "nbformat_minor": 5
}
