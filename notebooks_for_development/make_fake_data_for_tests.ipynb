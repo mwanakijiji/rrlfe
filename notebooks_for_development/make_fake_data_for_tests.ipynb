{
 "cells": [
  {
   "cell_type": "code",
   "execution_count": null,
   "id": "prerequisite-baseball",
   "metadata": {},
   "outputs": [],
   "source": [
    "# This makes some fake data for a test of a linear fit to Teff and Balmer line data\n",
    "\n",
    "# Created 2021 Oct 15 by E.S."
   ]
  },
  {
   "cell_type": "code",
   "execution_count": 1,
   "id": "instructional-witch",
   "metadata": {},
   "outputs": [],
   "source": [
    "import pandas as pd\n",
    "import numpy as np\n",
    "import matplotlib.pyplot as plt"
   ]
  },
  {
   "cell_type": "code",
   "execution_count": 2,
   "id": "configured-africa",
   "metadata": {},
   "outputs": [],
   "source": [
    "# read in file\n",
    "\n",
    "file_name = \"__../modules/test_src/test_restacked_ew_w_metadata_20211015.csv__\"\n",
    "df = pd.read_csv(file_name)"
   ]
  },
  {
   "cell_type": "code",
   "execution_count": 3,
   "id": "joint-glance",
   "metadata": {},
   "outputs": [
    {
     "data": {
      "text/plain": [
       "Index(['realization_spec_file_name', 'orig_spec_file_name', 'EW_Hbeta',\n",
       "       'err_EW_Hbeta_from_robo', 'EW_Hdelta', 'err_EW_Hdelta_from_robo',\n",
       "       'EW_Hgamma', 'err_EW_Hgamma_from_robo', 'EW_Heps',\n",
       "       'err_EW_Heps_from_robo', 'EW_CaIIK', 'err_EW_CaIIK_from_robo',\n",
       "       'EW_Balmer', 'err_EW_Balmer_based_Robo', 'subtype', 'phase', 'feh',\n",
       "       'err_feh', 'teff', 'logg', 'alpha'],\n",
       "      dtype='object')"
      ]
     },
     "execution_count": 3,
     "metadata": {},
     "output_type": "execute_result"
    }
   ],
   "source": [
    "df.keys()"
   ]
  },
  {
   "cell_type": "code",
   "execution_count": 23,
   "id": "successful-second",
   "metadata": {},
   "outputs": [],
   "source": [
    "# make fake params corresponding to a certain line\n",
    "\n",
    "m_fake = 3530.672\n",
    "b_fake = 12.341\n",
    "\n",
    "noise_fake = np.random.normal(loc=0.0, scale=0.001, size=len(df))\n",
    "\n",
    "# replace Teff data in the file and write file back out\n",
    "\n",
    "fake_data = np.add(np.add(np.multiply(m_fake,df[\"EW_Balmer\"]),b_fake),noise_fake)\n",
    "\n",
    "df[\"teff\"] = fake_data"
   ]
  },
  {
   "cell_type": "code",
   "execution_count": 24,
   "id": "monthly-ticket",
   "metadata": {},
   "outputs": [],
   "source": [
    "df.to_csv(file_name, index=False)"
   ]
  },
  {
   "cell_type": "code",
   "execution_count": 25,
   "id": "civil-concord",
   "metadata": {},
   "outputs": [
    {
     "data": {
      "image/png": "[encoded data removed]",
      "text/plain": [
       "<Figure size 432x288 with 1 Axes>"
      ]
     },
     "metadata": {
      "needs_background": "light"
     },
     "output_type": "display_data"
    }
   ],
   "source": [
    "plt.scatter(df[\"EW_Balmer\"],fake_data)\n",
    "plt.show()"
   ]
  },
  {
   "cell_type": "code",
   "execution_count": null,
   "id": "animal-deployment",
   "metadata": {},
   "outputs": [],
   "source": []
  }
 ],
 "metadata": {
  "kernelspec": {
   "display_name": "Python 3",
   "language": "python",
   "name": "python3"
  },
  "language_info": {
   "codemirror_mode": {
    "name": "ipython",
    "version": 3
   },
   "file_extension": ".py",
   "mimetype": "text/x-python",
   "name": "python",
   "nbconvert_exporter": "python",
   "pygments_lexer": "ipython3",
   "version": "3.6.6"
  }
 },
 "nbformat": 4,
 "nbformat_minor": 5
}
