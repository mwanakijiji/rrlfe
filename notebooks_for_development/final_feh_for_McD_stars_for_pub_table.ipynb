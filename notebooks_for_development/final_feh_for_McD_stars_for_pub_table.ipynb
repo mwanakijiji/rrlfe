{
 "cells": [
  {
   "cell_type": "code",
   "execution_count": null,
   "id": "80f8ca7e",
   "metadata": {},
   "outputs": [],
   "source": [
    "# This reads in a rrlfe output file from an application of the calibration,\n",
    "# and calculates a net error for a star given the scatter of "
   ]
  },
  {
   "cell_type": "code",
   "execution_count": 1,
   "id": "09c32adf",
   "metadata": {},
   "outputs": [],
   "source": [
    "import matplotlib.pyplot as plt\n",
    "import pandas as pd\n",
    "import numpy as np"
   ]
  },
  {
   "cell_type": "code",
   "execution_count": 2,
   "id": "8bdad5a0",
   "metadata": {},
   "outputs": [],
   "source": [
    "filename = \"../rrlfe_io_20220803_01/bin/retrieved_vals_20220803.csv\""
   ]
  },
  {
   "cell_type": "code",
   "execution_count": 3,
   "id": "2993056d",
   "metadata": {},
   "outputs": [],
   "source": [
    "df = pd.read_csv(filename)"
   ]
  },
  {
   "cell_type": "code",
   "execution_count": 4,
   "id": "52bf7fd1",
   "metadata": {},
   "outputs": [],
   "source": [
    "df[\"star_id\"] = df[\"realization_spec_file_name\"].str[:6]"
   ]
  },
  {
   "cell_type": "code",
   "execution_count": 5,
   "id": "b43017a0",
   "metadata": {},
   "outputs": [],
   "source": [
    "df_mean = df.groupby(\"star_id\", as_index=False).mean()\n",
    "df_mean[\"err_feh_retrieved_single\"] = df_mean[\"err_feh_retrieved\"]"
   ]
  },
  {
   "cell_type": "code",
   "execution_count": 6,
   "id": "e9fdf7b4",
   "metadata": {},
   "outputs": [],
   "source": [
    "df_stdev = df.groupby(\"star_id\").std()[\"feh_retrieved\"]"
   ]
  },
  {
   "cell_type": "code",
   "execution_count": 10,
   "id": "bdd54da3",
   "metadata": {},
   "outputs": [
    {
     "name": "stderr",
     "output_type": "stream",
     "text": [
      "/Users/bandari/anaconda3/envs/rrl_env/lib/python3.6/site-packages/ipykernel_launcher.py:5: SettingWithCopyWarning: \n",
      "A value is trying to be set on a copy of a slice from a DataFrame.\n",
      "Try using .loc[row_indexer,col_indexer] = value instead\n",
      "\n",
      "See the caveats in the documentation: http://pandas.pydata.org/pandas-docs/stable/indexing.html#indexing-view-versus-copy\n",
      "  \"\"\"\n"
     ]
    }
   ],
   "source": [
    "cols_relevant = [\"star_id\", \"feh_retrieved\", \"err_feh_retrieved_single\"]\n",
    "\n",
    "df_aggregate = df_mean[cols_relevant]\n",
    "\n",
    "df_aggregate[\"err_feh_retrieved_stdev\"] = df_stdev.values"
   ]
  },
  {
   "cell_type": "code",
   "execution_count": null,
   "id": "5a5ef3ad",
   "metadata": {},
   "outputs": [],
   "source": [
    "pd.set_option('display.max_rows', 1000)"
   ]
  },
  {
   "cell_type": "code",
   "execution_count": 17,
   "id": "447ae81d",
   "metadata": {},
   "outputs": [
    {
     "name": "stdout",
     "output_type": "stream",
     "text": [
      "feh_retrieved: average Fe/H across all spectra for that star\n",
      "err_feh_retrieved_single: average error in Fe/H across all spectra for that star\n",
      "err_feh_retrieved_stdev: error term from scatter in Fe/H between spectra of the same star (i.e., accounts for systematic differences between spectra\n",
      "---------\n",
      "   star_id  feh_retrieved  err_feh_retrieved_single  err_feh_retrieved_stdev\n",
      "0   AR_Per      -0.899964                  0.014952                 0.177989\n",
      "1   AV_Peg      -0.578641                  0.017479                 0.141212\n",
      "2   BH_Peg      -1.466465                  0.013469                 0.048454\n",
      "3   RR_Cet      -1.596393                  0.015475                 0.129299\n",
      "4   RR_Leo      -1.595931                  0.013389                 0.141246\n",
      "5   RR_Lyr      -1.446866                  0.012827                 0.010519\n",
      "6   RU_Psc      -1.777738                  0.015320                 0.059560\n",
      "7   RW_Ari      -1.462670                  0.013712                 0.034663\n",
      "8   SV_Eri      -1.943428                  0.013398                 0.144864\n",
      "9   TT_Lyn      -1.679174                  0.014138                 0.115958\n",
      "10  TU_UMa      -1.576035                  0.014970                 0.132234\n",
      "11  TV_Lyn      -1.006581                  0.015990                 0.038909\n",
      "12  TW_Lyn      -1.152542                  0.013556                 0.093949\n",
      "13  T_Sex_      -1.241132                  0.017935                 0.054120\n",
      "14  UY_Cam      -1.194057                  0.015745                 0.062629\n",
      "15  V445_O      -0.200488                  0.020166                 0.132659\n",
      "16  VX_Her      -1.509906                  0.015051                 0.218441\n",
      "17  V_535_      -1.474214                  0.015605                 0.122377\n",
      "18  X_Ari_      -2.407314                  0.013328                 0.100335\n"
     ]
    }
   ],
   "source": [
    "print(\"feh_retrieved: average Fe/H across all spectra for that star\")\n",
    "print(\"err_feh_retrieved_single: average error in Fe/H across all spectra for that star\")\n",
    "print(\"err_feh_retrieved_stdev: error term from scatter in Fe/H between spectra of the same star (i.e., accounts for systematic differences between spectra\")\n",
    "print(\"---------\")\n",
    "print(df_aggregate)"
   ]
  },
  {
   "cell_type": "code",
   "execution_count": null,
   "id": "dde4f16e",
   "metadata": {},
   "outputs": [],
   "source": []
  }
 ],
 "metadata": {
  "kernelspec": {
   "display_name": "Python 3",
   "language": "python",
   "name": "python3"
  },
  "language_info": {
   "codemirror_mode": {
    "name": "ipython",
    "version": 3
   },
   "file_extension": ".py",
   "mimetype": "text/x-python",
   "name": "python",
   "nbconvert_exporter": "python",
   "pygments_lexer": "ipython3",
   "version": "3.6.6"
  }
 },
 "nbformat": 4,
 "nbformat_minor": 5
}
